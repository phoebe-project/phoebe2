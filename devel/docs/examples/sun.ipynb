{
 "cells": [
  {
   "cell_type": "markdown",
   "metadata": {},
   "source": [
    "[IPython Notebook](sun.ipynb) |  [Python Script](sun.py)"
   ]
  },
  {
   "cell_type": "markdown",
   "metadata": {},
   "source": [
    "Sun (single rotating star)\n",
    "============================\n",
    "\n",
    "**NOTE: single stars are not officially supported yet and may be broken**\n",
    "\n",
    "Setup\n",
    "-----------------------------"
   ]
  },
  {
   "cell_type": "markdown",
   "metadata": {
    "collapsed": true
   },
   "source": [
    "As always, let's do imports and initialize a logger and a new bundle.  See [Building a System](../tutorials/building_a_system.html) for more details."
   ]
  },
  {
   "cell_type": "code",
   "execution_count": 1,
   "metadata": {
    "collapsed": true
   },
   "outputs": [],
   "source": [
    "%matplotlib inline"
   ]
  },
  {
   "cell_type": "code",
   "execution_count": 2,
   "metadata": {
    "collapsed": false
   },
   "outputs": [
    {
     "name": "stderr",
     "output_type": "stream",
     "text": [
      "/usr/local/lib/python2.7/dist-packages/IPython/kernel/__init__.py:13: ShimWarning: The `IPython.kernel` package has been deprecated. You should import from ipykernel or jupyter_client instead.\n",
      "  \"You should import from ipykernel or jupyter_client instead.\", ShimWarning)\n",
      "WARNING: Constant u'Gravitational constant' is already has a definition in the u'si' system [astropy.constants.constant]\n",
      "WARNING:astropy:Constant u'Gravitational constant' is already has a definition in the u'si' system\n",
      "WARNING: Constant u'Solar mass' is already has a definition in the u'si' system [astropy.constants.constant]\n",
      "WARNING:astropy:Constant u'Solar mass' is already has a definition in the u'si' system\n",
      "WARNING: Constant u'Solar radius' is already has a definition in the u'si' system [astropy.constants.constant]\n",
      "WARNING:astropy:Constant u'Solar radius' is already has a definition in the u'si' system\n",
      "WARNING: Constant u'Solar luminosity' is already has a definition in the u'si' system [astropy.constants.constant]\n",
      "WARNING:astropy:Constant u'Solar luminosity' is already has a definition in the u'si' system\n"
     ]
    },
    {
     "name": "stdout",
     "output_type": "stream",
     "text": [
      "*** rotstar.rotfreq_to_omega 7.27220486111e-05 695700000.0 False 0.0184358609695\n",
      "*** rotstar.rpole2potential 695700000.0 7.27220486111e-05 False 0.0184358609695\n",
      "*** rotstar.rotfreq_to_omega 7.27220486111e-05 695700000.0 False 0.0184358609695\n",
      "*** rotstar.rpole2potential 695700000.0 7.27220486111e-05 False 0.0184358609695\n"
     ]
    },
    {
     "name": "stderr",
     "output_type": "stream",
     "text": [
      "/usr/local/lib/python2.7/dist-packages/astropy/units/quantity.py:732: FutureWarning: comparison to `None` will result in an elementwise object comparison in the future.\n",
      "  return super(Quantity, self).__eq__(other)\n"
     ]
    }
   ],
   "source": [
    "import phoebe\n",
    "from phoebe import u # units\n",
    "import numpy as np\n",
    "import matplotlib.pyplot as plt\n",
    "\n",
    "logger = phoebe.logger(clevel='INFO')\n",
    "\n",
    "b = phoebe.Bundle.default_star(starA='sun')"
   ]
  },
  {
   "cell_type": "markdown",
   "metadata": {
    "collapsed": true
   },
   "source": [
    "Setting Parameters\n",
    "-----------------------"
   ]
  },
  {
   "cell_type": "markdown",
   "metadata": {},
   "source": [
    "Let's set all the values of the sun based on the nominal solar values provided in the units package."
   ]
  },
  {
   "cell_type": "code",
   "execution_count": 3,
   "metadata": {
    "collapsed": false
   },
   "outputs": [
    {
     "name": "stdout",
     "output_type": "stream",
     "text": [
      "*** rotstar.rotfreq_to_omega 7.27220486111e-05 695700000.0 False 0.0184358609695\n",
      "*** rotstar.rpole2potential 695700000.0 7.27220486111e-05 False 0.0184358609695\n",
      "*** rotstar.rotfreq_to_omega 2.97188592608e-06 695700000.0 False 0.000753406659971\n",
      "*** rotstar.rpole2potential 695700000.0 2.97188592608e-06 False 0.000753406659971\n"
     ]
    }
   ],
   "source": [
    "b.set_value('teff', 1.0*u.solTeff)\n",
    "b.set_value('rpole', 1.0*u.solRad)\n",
    "b.set_value('mass', 1.0*u.solMass)\n",
    "b.set_value('period', 24.47*u.d)\n",
    "b.set_value('incl', 23.5*u.deg)"
   ]
  },
  {
   "cell_type": "markdown",
   "metadata": {},
   "source": [
    "And so that we can compare with measured/expected values, we'll observe the sun from the earth - at a distance of 1 AU."
   ]
  },
  {
   "cell_type": "code",
   "execution_count": 4,
   "metadata": {
    "collapsed": true
   },
   "outputs": [],
   "source": [
    "b.set_value('distance', 1.0*u.AU)"
   ]
  },
  {
   "cell_type": "markdown",
   "metadata": {},
   "source": [
    "Checking on the set values, we can see the values were converted correctly to PHOEBE's internal units."
   ]
  },
  {
   "cell_type": "code",
   "execution_count": 5,
   "metadata": {
    "collapsed": false
   },
   "outputs": [
    {
     "name": "stdout",
     "output_type": "stream",
     "text": [
      "5772.0 K\n",
      "1.0 solRad\n",
      "1.0 solMass\n",
      "24.47 d\n",
      "23.5 deg\n",
      "1.495978707e+11 m\n"
     ]
    }
   ],
   "source": [
    "print b.get_quantity('teff')\n",
    "print b.get_quantity('rpole')\n",
    "print b.get_quantity('mass')\n",
    "print b.get_quantity('period')\n",
    "print b.get_quantity('incl')\n",
    "print b.get_quantity('distance')"
   ]
  },
  {
   "cell_type": "markdown",
   "metadata": {},
   "source": [
    "Running Compute\n",
    "--------------------"
   ]
  },
  {
   "cell_type": "markdown",
   "metadata": {},
   "source": [
    "Let's add a light curve so that we can compute the flux at a single time and compare it to the expected value.  We'll set the passband luminosity to be the nominal value for the sun."
   ]
  },
  {
   "cell_type": "code",
   "execution_count": 6,
   "metadata": {
    "collapsed": false
   },
   "outputs": [
    {
     "name": "stdout",
     "output_type": "stream",
     "text": [
      "*** rotstar.rotfreq_to_omega 2.97188592608e-06 695700000.0 False 0.000753406659971\n",
      "*** rotstar.rpole2potential 695700000.0 2.97188592608e-06 False 0.000753406659971\n",
      "*** rotstar.rotfreq_to_omega 2.97188592608e-06 695700000.0 False 0.000753406659971\n",
      "*** rotstar.rpole2potential 695700000.0 2.97188592608e-06 False 0.000753406659971\n"
     ]
    },
    {
     "data": {
      "text/plain": [
       "<ParameterSet: 14 parameters | methods: LC, LC_dep>"
      ]
     },
     "execution_count": 6,
     "metadata": {},
     "output_type": "execute_result"
    }
   ],
   "source": [
    "b.add_dataset('LC', pblum=1*u.solLum)"
   ]
  },
  {
   "cell_type": "markdown",
   "metadata": {},
   "source": [
    "Now we run our model and store the mesh so that we can plot the temperature distributions and test the size of the sun verse known values."
   ]
  },
  {
   "cell_type": "code",
   "execution_count": 7,
   "metadata": {
    "collapsed": false
   },
   "outputs": [
    {
     "name": "stdout",
     "output_type": "stream",
     "text": [
      "*** rotstar.rotfreq_to_omega 0.256770944013 1.0 True 0.000753406659971\n",
      "*** rotstar.rotfreq_to_omega 0.256770944013 1.0 True 0.000753406659971\n",
      "*** rotstar.potential2rpole 1.43740117867e-09 0.256770944013 True 0.000753406659971\n",
      "*** rotstar_marching_mesh (0.00075340665997062706, 1.4374011786689664e-09) 0.256770944013 1.43740117867e-09 4.8399849e+17 4.8399849e+16\n"
     ]
    },
    {
     "data": {
      "text/plain": [
       "<ParameterSet: 47 parameters | methods: MESH, LC>"
      ]
     },
     "execution_count": 7,
     "metadata": {},
     "output_type": "execute_result"
    }
   ],
   "source": [
    "b.run_compute(store_mesh=True, distortion_method='rotstar')"
   ]
  },
  {
   "cell_type": "markdown",
   "metadata": {},
   "source": [
    "Comparing to Expected Values\n",
    "--------------------------------"
   ]
  },
  {
   "cell_type": "code",
   "execution_count": 8,
   "metadata": {
    "collapsed": false
   },
   "outputs": [
    {
     "name": "stderr",
     "output_type": "stream",
     "text": [
      "/usr/local/lib/python2.7/dist-packages/matplotlib/collections.py:590: FutureWarning: elementwise comparison failed; returning scalar instead, but in the future will perform elementwise comparison\n",
      "  if self._edgecolors == str('face'):\n"
     ]
    },
    {
     "data": {
      "image/png": "[encoded data removed]",
      "text/plain": [
       "<matplotlib.figure.Figure at 0x7ff09dc4cf90>"
      ]
     },
     "metadata": {},
     "output_type": "display_data"
    }
   ],
   "source": [
    "axs, artists = b['protomesh'].plot(facecolor='teff')"
   ]
  },
  {
   "cell_type": "code",
   "execution_count": 9,
   "metadata": {
    "collapsed": false
   },
   "outputs": [
    {
     "data": {
      "image/png": "[encoded data removed]",
      "text/plain": [
       "<matplotlib.figure.Figure at 0x7ff09dbe4690>"
      ]
     },
     "metadata": {},
     "output_type": "display_data"
    }
   ],
   "source": [
    "axs, artists = b['automesh'].plot(facecolor='teff')"
   ]
  },
  {
   "cell_type": "code",
   "execution_count": 10,
   "metadata": {
    "collapsed": false
   },
   "outputs": [
    {
     "name": "stdout",
     "output_type": "stream",
     "text": [
      "teff: 5229.06444379 (5772.0)\n"
     ]
    }
   ],
   "source": [
    "print \"teff: {} ({})\".format(b.get_value('teff', dataset='automesh').mean(), \n",
    "                             b.get_value('teff', context='component'))"
   ]
  },
  {
   "cell_type": "code",
   "execution_count": 11,
   "metadata": {
    "collapsed": false
   },
   "outputs": [
    {
     "name": "stdout",
     "output_type": "stream",
     "text": [
      "rpole: 1.0 (1.0)\n"
     ]
    }
   ],
   "source": [
    "print \"rpole: {} ({})\".format(b.get_value('rpole', dataset='automesh'), \n",
    "                              b.get_value('rpole', context='component'))"
   ]
  },
  {
   "cell_type": "markdown",
   "metadata": {},
   "source": [
    "For a rotating sphere, the minimum radius should occur at the pole and the maximum should occur at the equator."
   ]
  },
  {
   "cell_type": "code",
   "execution_count": 12,
   "metadata": {
    "collapsed": false
   },
   "outputs": [
    {
     "name": "stdout",
     "output_type": "stream",
     "text": [
      "rmin (pole): 1.0 (1.0)\n"
     ]
    }
   ],
   "source": [
    "print \"rmin (pole): {} ({})\".format(b.get_value('r', dataset='automesh').min(), \n",
    "                             b.get_value('rpole', context='component'))"
   ]
  },
  {
   "cell_type": "code",
   "execution_count": 13,
   "metadata": {
    "collapsed": false
   },
   "outputs": [
    {
     "name": "stdout",
     "output_type": "stream",
     "text": [
      "rmax (equator): 1.00000000001 (>1.0)\n"
     ]
    }
   ],
   "source": [
    "print \"rmax (equator): {} (>{})\".format(b.get_value('r', dataset='automesh').max(), \n",
    "                              b.get_value('rpole', context='component'))"
   ]
  },
  {
   "cell_type": "code",
   "execution_count": 14,
   "metadata": {
    "collapsed": false
   },
   "outputs": [
    {
     "name": "stdout",
     "output_type": "stream",
     "text": [
      "logg: -8.25223296098\n"
     ]
    }
   ],
   "source": [
    "print \"logg: {}\".format(b.get_value('logg', dataset='automesh').mean())"
   ]
  },
  {
   "cell_type": "code",
   "execution_count": 15,
   "metadata": {
    "collapsed": false
   },
   "outputs": [
    {
     "name": "stdout",
     "output_type": "stream",
     "text": [
      "flux: 630.759709928 W / m2\n"
     ]
    }
   ],
   "source": [
    "print \"flux: {}\".format(b.get_quantity('flux@model')[0])"
   ]
  },
  {
   "cell_type": "code",
   "execution_count": null,
   "metadata": {
    "collapsed": true
   },
   "outputs": [],
   "source": []
  }
 ],
 "metadata": {
  "kernelspec": {
   "display_name": "Python 2",
   "language": "python",
   "name": "python2"
  },
  "language_info": {
   "codemirror_mode": {
    "name": "ipython",
    "version": 2
   },
   "file_extension": ".py",
   "mimetype": "text/x-python",
   "name": "python",
   "nbconvert_exporter": "python",
   "pygments_lexer": "ipython2",
   "version": "2.7.11+"
  }
 },
 "nbformat": 4,
 "nbformat_minor": 0
}
