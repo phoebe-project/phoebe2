{
 "cells": [
  {
   "cell_type": "markdown",
   "metadata": {},
   "source": [
    "[IPython Notebook](legacy.ipynb) |  [Python Script](legacy.py)"
   ]
  },
  {
   "cell_type": "markdown",
   "metadata": {},
   "source": [
    "Comparing PHOEBE 2.0 vs PHOEBE Legacy\n",
    "============================\n",
    "\n",
    "**NOTE**: PHOEBE 1.0 legacy is an alternate backend and is not installed with PHOEBE 2.0.  In order to run this backend, you'll need to have [PHOEBE 1.0](https://phoebe-project.org/1.0) installed.\n",
    "\n",
    "Setup\n",
    "-----------------------------"
   ]
  },
  {
   "cell_type": "markdown",
   "metadata": {
    "collapsed": true
   },
   "source": [
    "As always, let's do imports and initialize a logger and a new bundle.  See [Building a System](../tutorials/building_a_system.html) for more details."
   ]
  },
  {
   "cell_type": "code",
   "execution_count": 70,
   "metadata": {
    "collapsed": true
   },
   "outputs": [],
   "source": [
    "%matplotlib inline"
   ]
  },
  {
   "cell_type": "code",
   "execution_count": 71,
   "metadata": {
    "collapsed": false
   },
   "outputs": [],
   "source": [
    "import phoebe\n",
    "from phoebe import u\n",
    "import numpy as np\n",
    "import matplotlib.pyplot as plt\n",
    "\n",
    "logger = phoebe.logger(clevel='INFO')\n",
    "\n",
    "b = phoebe.Bundle.default_binary()\n",
    "b['q'] = 0.7"
   ]
  },
  {
   "cell_type": "markdown",
   "metadata": {
    "collapsed": true
   },
   "source": [
    "Adding Datasets and Compute Options\n",
    "--------------------"
   ]
  },
  {
   "cell_type": "code",
   "execution_count": 72,
   "metadata": {
    "collapsed": false
   },
   "outputs": [
    {
     "data": {
      "text/plain": [
       "<ParameterSet: 24 parameters | methods: RV, RV_dep>"
      ]
     },
     "execution_count": 72,
     "metadata": {},
     "output_type": "execute_result"
    }
   ],
   "source": [
    "b.add_dataset('lc', time=np.linspace(0,3,101), dataset='lc01')\n",
    "b.add_dataset('rv', time=np.linspace(0,3,101), dataset='rvdyn')\n",
    "b.add_dataset('rv', time=np.linspace(0,3,101), dataset='rvnum')"
   ]
  },
  {
   "cell_type": "code",
   "execution_count": 73,
   "metadata": {
    "collapsed": false
   },
   "outputs": [
    {
     "data": {
      "text/plain": [
       "<ParameterSet: 19 parameters | qualifiers: dynamics_method, eclipse_alg, gridsize, stepsize, lc_method, atm, enabled, ltte, rv_grav, orbiterror, rv_method, etv_method, maxpoints, delta, etv_tol, store_mesh, distortion_method, subdiv_num, mesh_method>"
      ]
     },
     "execution_count": 73,
     "metadata": {},
     "output_type": "execute_result"
    }
   ],
   "source": [
    "b.add_compute(compute='phoebe')"
   ]
  },
  {
   "cell_type": "markdown",
   "metadata": {},
   "source": [
    "Now we add compute options for the 'legacy' backend."
   ]
  },
  {
   "cell_type": "code",
   "execution_count": 74,
   "metadata": {
    "collapsed": false
   },
   "outputs": [
    {
     "data": {
      "text/plain": [
       "<ParameterSet: 11 parameters | qualifiers: atm, refl_num, cindex, store_mesh, enabled, heating, rv_method, gridsize, morphology, mult_refl, ie>"
      ]
     },
     "execution_count": 74,
     "metadata": {},
     "output_type": "execute_result"
    }
   ],
   "source": [
    "b.add_compute('legacy', compute='phoebe1')"
   ]
  },
  {
   "cell_type": "markdown",
   "metadata": {},
   "source": [
    "And set the two RV datasets to use the correct methods (for both compute options)"
   ]
  },
  {
   "cell_type": "code",
   "execution_count": 75,
   "metadata": {
    "collapsed": true
   },
   "outputs": [],
   "source": [
    "b.set_value_all('rv_method', dataset='rvdyn', value='dynamical')"
   ]
  },
  {
   "cell_type": "code",
   "execution_count": 76,
   "metadata": {
    "collapsed": true
   },
   "outputs": [],
   "source": [
    "b.set_value_all('rv_method', dataset='rvnum', value='flux-weighted')"
   ]
  },
  {
   "cell_type": "markdown",
   "metadata": {},
   "source": [
    "The 'blackbody' atmospheres from phoebe1 are comperable to the 'extern_planckint' atmospheres in phoebe."
   ]
  },
  {
   "cell_type": "code",
   "execution_count": 77,
   "metadata": {
    "collapsed": false
   },
   "outputs": [],
   "source": [
    "b.set_value_all('atm@phoebe', 'extern_planckint')\n",
    "b.set_value_all('atm@phoebe1', 'blackbody')"
   ]
  },
  {
   "cell_type": "markdown",
   "metadata": {},
   "source": [
    "To have as fair of a comparison as possible, let's use the WD-style meshing in phoebe and use the same number of elements for both phoebe1 and phoebe.\n",
    "\n",
    "***NOTE:*** the resulting residuals between phoebe1 and phoebe depend greatly on the gridsize parameter.  This is a consequence of phoebe handling placing the triangles on the potential slightly differently than Wilson-Devinney, which with small values of gridsize can have a significant affect on the limb of the star."
   ]
  },
  {
   "cell_type": "code",
   "execution_count": 78,
   "metadata": {
    "collapsed": true
   },
   "outputs": [],
   "source": [
    "b.set_value_all('mesh_method@phoebe', 'wd')\n",
    "b.set_value_all('eclipse_alg', 'graham')  # TODO: for now this is required for wd-meshing, remove if/once possible\n",
    "#b.set_value_all('gridsize', 30)"
   ]
  },
  {
   "cell_type": "code",
   "execution_count": 80,
   "metadata": {
    "collapsed": true
   },
   "outputs": [],
   "source": [
    "b.set_value_all('subdiv_num', 0)"
   ]
  },
  {
   "cell_type": "markdown",
   "metadata": {},
   "source": [
    "Let's also disable other special effect such as heating, gravity, and light-time effects."
   ]
  },
  {
   "cell_type": "code",
   "execution_count": 81,
   "metadata": {
    "collapsed": false
   },
   "outputs": [],
   "source": [
    "b.set_value_all('ld_coeffs', [0.,0.])\n",
    "# TODO: remove this once tested to work correctly with limbdarkening"
   ]
  },
  {
   "cell_type": "code",
   "execution_count": 82,
   "metadata": {
    "collapsed": true
   },
   "outputs": [],
   "source": [
    "b.set_value_all('heating', False)\n",
    "#b.set_value_all('refl', False)\n",
    "# TODO: remove these?"
   ]
  },
  {
   "cell_type": "code",
   "execution_count": 83,
   "metadata": {
    "collapsed": false
   },
   "outputs": [],
   "source": [
    "b.set_value_all('rv_grav', False)\n",
    "# TODO: phoebe1???\n",
    "# TODO: remove these?"
   ]
  },
  {
   "cell_type": "code",
   "execution_count": 84,
   "metadata": {
    "collapsed": false
   },
   "outputs": [],
   "source": [
    "b.set_value('ltte', False)"
   ]
  },
  {
   "cell_type": "markdown",
   "metadata": {},
   "source": [
    "Finally, let's compute both of our models"
   ]
  },
  {
   "cell_type": "code",
   "execution_count": 85,
   "metadata": {
    "collapsed": false
   },
   "outputs": [
    {
     "name": "stderr",
     "output_type": "stream",
     "text": [
      "/home/kyle/.local/lib/python2.7/site-packages/phoebe/backend/eclipse.py:12: DeprecationWarning: PyArray_FromDims: use PyArray_SimpleNew.\n",
      "  hull, inside = ceclipse.graham_scan_inside_hull(front[sa], back)\n",
      "/home/kyle/.local/lib/python2.7/site-packages/phoebe/backend/eclipse.py:12: DeprecationWarning: PyArray_FromDimsAndDataAndDescr: use PyArray_NewFromDescr.\n",
      "  hull, inside = ceclipse.graham_scan_inside_hull(front[sa], back)\n",
      "/home/kyle/.local/lib/python2.7/site-packages/phoebe/backend/eclipse.py:12: DeprecationWarning: PyArray_FromDims: use PyArray_SimpleNew.\n",
      "  hull, inside = ceclipse.graham_scan_inside_hull(front[sa], back)\n",
      "/home/kyle/.local/lib/python2.7/site-packages/phoebe/backend/eclipse.py:12: DeprecationWarning: PyArray_FromDimsAndDataAndDescr: use PyArray_NewFromDescr.\n",
      "  hull, inside = ceclipse.graham_scan_inside_hull(front[sa], back)\n",
      "/home/kyle/.local/lib/python2.7/site-packages/phoebe/backend/eclipse.py:12: DeprecationWarning: PyArray_FromDims: use PyArray_SimpleNew.\n",
      "  hull, inside = ceclipse.graham_scan_inside_hull(front[sa], back)\n",
      "/home/kyle/.local/lib/python2.7/site-packages/phoebe/backend/eclipse.py:12: DeprecationWarning: PyArray_FromDimsAndDataAndDescr: use PyArray_NewFromDescr.\n",
      "  hull, inside = ceclipse.graham_scan_inside_hull(front[sa], back)\n",
      "/home/kyle/.local/lib/python2.7/site-packages/phoebe/backend/eclipse.py:12: DeprecationWarning: PyArray_FromDims: use PyArray_SimpleNew.\n",
      "  hull, inside = ceclipse.graham_scan_inside_hull(front[sa], back)\n",
      "/home/kyle/.local/lib/python2.7/site-packages/phoebe/backend/eclipse.py:12: DeprecationWarning: PyArray_FromDimsAndDataAndDescr: use PyArray_NewFromDescr.\n",
      "  hull, inside = ceclipse.graham_scan_inside_hull(front[sa], back)\n",
      "/home/kyle/.local/lib/python2.7/site-packages/phoebe/backend/eclipse.py:12: DeprecationWarning: PyArray_FromDims: use PyArray_SimpleNew.\n",
      "  hull, inside = ceclipse.graham_scan_inside_hull(front[sa], back)\n",
      "/home/kyle/.local/lib/python2.7/site-packages/phoebe/backend/eclipse.py:12: DeprecationWarning: PyArray_FromDimsAndDataAndDescr: use PyArray_NewFromDescr.\n",
      "  hull, inside = ceclipse.graham_scan_inside_hull(front[sa], back)\n",
      "/home/kyle/.local/lib/python2.7/site-packages/phoebe/backend/eclipse.py:12: DeprecationWarning: PyArray_FromDims: use PyArray_SimpleNew.\n",
      "  hull, inside = ceclipse.graham_scan_inside_hull(front[sa], back)\n",
      "/home/kyle/.local/lib/python2.7/site-packages/phoebe/backend/eclipse.py:12: DeprecationWarning: PyArray_FromDimsAndDataAndDescr: use PyArray_NewFromDescr.\n",
      "  hull, inside = ceclipse.graham_scan_inside_hull(front[sa], back)\n",
      "/home/kyle/.local/lib/python2.7/site-packages/phoebe/backend/eclipse.py:12: DeprecationWarning: PyArray_FromDims: use PyArray_SimpleNew.\n",
      "  hull, inside = ceclipse.graham_scan_inside_hull(front[sa], back)\n",
      "/home/kyle/.local/lib/python2.7/site-packages/phoebe/backend/eclipse.py:12: DeprecationWarning: PyArray_FromDimsAndDataAndDescr: use PyArray_NewFromDescr.\n",
      "  hull, inside = ceclipse.graham_scan_inside_hull(front[sa], back)\n",
      "/home/kyle/.local/lib/python2.7/site-packages/phoebe/backend/eclipse.py:12: DeprecationWarning: PyArray_FromDims: use PyArray_SimpleNew.\n",
      "  hull, inside = ceclipse.graham_scan_inside_hull(front[sa], back)\n",
      "/home/kyle/.local/lib/python2.7/site-packages/phoebe/backend/eclipse.py:12: DeprecationWarning: PyArray_FromDimsAndDataAndDescr: use PyArray_NewFromDescr.\n",
      "  hull, inside = ceclipse.graham_scan_inside_hull(front[sa], back)\n",
      "/home/kyle/.local/lib/python2.7/site-packages/phoebe/backend/eclipse.py:12: DeprecationWarning: PyArray_FromDims: use PyArray_SimpleNew.\n",
      "  hull, inside = ceclipse.graham_scan_inside_hull(front[sa], back)\n",
      "/home/kyle/.local/lib/python2.7/site-packages/phoebe/backend/eclipse.py:12: DeprecationWarning: PyArray_FromDimsAndDataAndDescr: use PyArray_NewFromDescr.\n",
      "  hull, inside = ceclipse.graham_scan_inside_hull(front[sa], back)\n",
      "/home/kyle/.local/lib/python2.7/site-packages/phoebe/backend/eclipse.py:12: DeprecationWarning: PyArray_FromDims: use PyArray_SimpleNew.\n",
      "  hull, inside = ceclipse.graham_scan_inside_hull(front[sa], back)\n",
      "/home/kyle/.local/lib/python2.7/site-packages/phoebe/backend/eclipse.py:12: DeprecationWarning: PyArray_FromDimsAndDataAndDescr: use PyArray_NewFromDescr.\n",
      "  hull, inside = ceclipse.graham_scan_inside_hull(front[sa], back)\n",
      "/home/kyle/.local/lib/python2.7/site-packages/phoebe/backend/eclipse.py:12: DeprecationWarning: PyArray_FromDims: use PyArray_SimpleNew.\n",
      "  hull, inside = ceclipse.graham_scan_inside_hull(front[sa], back)\n",
      "/home/kyle/.local/lib/python2.7/site-packages/phoebe/backend/eclipse.py:12: DeprecationWarning: PyArray_FromDimsAndDataAndDescr: use PyArray_NewFromDescr.\n",
      "  hull, inside = ceclipse.graham_scan_inside_hull(front[sa], back)\n",
      "/home/kyle/.local/lib/python2.7/site-packages/phoebe/backend/eclipse.py:12: DeprecationWarning: PyArray_FromDims: use PyArray_SimpleNew.\n",
      "  hull, inside = ceclipse.graham_scan_inside_hull(front[sa], back)\n",
      "/home/kyle/.local/lib/python2.7/site-packages/phoebe/backend/eclipse.py:12: DeprecationWarning: PyArray_FromDimsAndDataAndDescr: use PyArray_NewFromDescr.\n",
      "  hull, inside = ceclipse.graham_scan_inside_hull(front[sa], back)\n",
      "/home/kyle/.local/lib/python2.7/site-packages/phoebe/backend/eclipse.py:12: DeprecationWarning: PyArray_FromDims: use PyArray_SimpleNew.\n",
      "  hull, inside = ceclipse.graham_scan_inside_hull(front[sa], back)\n",
      "/home/kyle/.local/lib/python2.7/site-packages/phoebe/backend/eclipse.py:12: DeprecationWarning: PyArray_FromDimsAndDataAndDescr: use PyArray_NewFromDescr.\n",
      "  hull, inside = ceclipse.graham_scan_inside_hull(front[sa], back)\n",
      "/home/kyle/.local/lib/python2.7/site-packages/phoebe/backend/eclipse.py:12: DeprecationWarning: PyArray_FromDims: use PyArray_SimpleNew.\n",
      "  hull, inside = ceclipse.graham_scan_inside_hull(front[sa], back)\n",
      "/home/kyle/.local/lib/python2.7/site-packages/phoebe/backend/eclipse.py:12: DeprecationWarning: PyArray_FromDimsAndDataAndDescr: use PyArray_NewFromDescr.\n",
      "  hull, inside = ceclipse.graham_scan_inside_hull(front[sa], back)\n",
      "/home/kyle/.local/lib/python2.7/site-packages/phoebe/backend/eclipse.py:12: DeprecationWarning: PyArray_FromDims: use PyArray_SimpleNew.\n",
      "  hull, inside = ceclipse.graham_scan_inside_hull(front[sa], back)\n",
      "/home/kyle/.local/lib/python2.7/site-packages/phoebe/backend/eclipse.py:12: DeprecationWarning: PyArray_FromDimsAndDataAndDescr: use PyArray_NewFromDescr.\n",
      "  hull, inside = ceclipse.graham_scan_inside_hull(front[sa], back)\n",
      "/home/kyle/.local/lib/python2.7/site-packages/phoebe/backend/eclipse.py:12: DeprecationWarning: PyArray_FromDims: use PyArray_SimpleNew.\n",
      "  hull, inside = ceclipse.graham_scan_inside_hull(front[sa], back)\n",
      "/home/kyle/.local/lib/python2.7/site-packages/phoebe/backend/eclipse.py:12: DeprecationWarning: PyArray_FromDimsAndDataAndDescr: use PyArray_NewFromDescr.\n",
      "  hull, inside = ceclipse.graham_scan_inside_hull(front[sa], back)\n",
      "/home/kyle/.local/lib/python2.7/site-packages/phoebe/backend/eclipse.py:12: DeprecationWarning: PyArray_FromDims: use PyArray_SimpleNew.\n",
      "  hull, inside = ceclipse.graham_scan_inside_hull(front[sa], back)\n",
      "/home/kyle/.local/lib/python2.7/site-packages/phoebe/backend/eclipse.py:12: DeprecationWarning: PyArray_FromDimsAndDataAndDescr: use PyArray_NewFromDescr.\n",
      "  hull, inside = ceclipse.graham_scan_inside_hull(front[sa], back)\n",
      "/home/kyle/.local/lib/python2.7/site-packages/phoebe/backend/eclipse.py:12: DeprecationWarning: PyArray_FromDims: use PyArray_SimpleNew.\n",
      "  hull, inside = ceclipse.graham_scan_inside_hull(front[sa], back)\n",
      "/home/kyle/.local/lib/python2.7/site-packages/phoebe/backend/eclipse.py:12: DeprecationWarning: PyArray_FromDimsAndDataAndDescr: use PyArray_NewFromDescr.\n",
      "  hull, inside = ceclipse.graham_scan_inside_hull(front[sa], back)\n",
      "/home/kyle/.local/lib/python2.7/site-packages/phoebe/backend/eclipse.py:12: DeprecationWarning: PyArray_FromDims: use PyArray_SimpleNew.\n",
      "  hull, inside = ceclipse.graham_scan_inside_hull(front[sa], back)\n",
      "/home/kyle/.local/lib/python2.7/site-packages/phoebe/backend/eclipse.py:12: DeprecationWarning: PyArray_FromDimsAndDataAndDescr: use PyArray_NewFromDescr.\n",
      "  hull, inside = ceclipse.graham_scan_inside_hull(front[sa], back)\n",
      "/home/kyle/.local/lib/python2.7/site-packages/phoebe/backend/eclipse.py:12: DeprecationWarning: PyArray_FromDims: use PyArray_SimpleNew.\n",
      "  hull, inside = ceclipse.graham_scan_inside_hull(front[sa], back)\n",
      "/home/kyle/.local/lib/python2.7/site-packages/phoebe/backend/eclipse.py:12: DeprecationWarning: PyArray_FromDimsAndDataAndDescr: use PyArray_NewFromDescr.\n",
      "  hull, inside = ceclipse.graham_scan_inside_hull(front[sa], back)\n",
      "/home/kyle/.local/lib/python2.7/site-packages/phoebe/backend/eclipse.py:12: DeprecationWarning: PyArray_FromDims: use PyArray_SimpleNew.\n",
      "  hull, inside = ceclipse.graham_scan_inside_hull(front[sa], back)\n",
      "/home/kyle/.local/lib/python2.7/site-packages/phoebe/backend/eclipse.py:12: DeprecationWarning: PyArray_FromDimsAndDataAndDescr: use PyArray_NewFromDescr.\n",
      "  hull, inside = ceclipse.graham_scan_inside_hull(front[sa], back)\n",
      "/home/kyle/.local/lib/python2.7/site-packages/phoebe/backend/eclipse.py:12: DeprecationWarning: PyArray_FromDims: use PyArray_SimpleNew.\n",
      "  hull, inside = ceclipse.graham_scan_inside_hull(front[sa], back)\n",
      "/home/kyle/.local/lib/python2.7/site-packages/phoebe/backend/eclipse.py:12: DeprecationWarning: PyArray_FromDimsAndDataAndDescr: use PyArray_NewFromDescr.\n",
      "  hull, inside = ceclipse.graham_scan_inside_hull(front[sa], back)\n",
      "/home/kyle/.local/lib/python2.7/site-packages/phoebe/backend/eclipse.py:12: DeprecationWarning: PyArray_FromDims: use PyArray_SimpleNew.\n",
      "  hull, inside = ceclipse.graham_scan_inside_hull(front[sa], back)\n",
      "/home/kyle/.local/lib/python2.7/site-packages/phoebe/backend/eclipse.py:12: DeprecationWarning: PyArray_FromDimsAndDataAndDescr: use PyArray_NewFromDescr.\n",
      "  hull, inside = ceclipse.graham_scan_inside_hull(front[sa], back)\n",
      "/home/kyle/.local/lib/python2.7/site-packages/phoebe/backend/eclipse.py:12: DeprecationWarning: PyArray_FromDims: use PyArray_SimpleNew.\n",
      "  hull, inside = ceclipse.graham_scan_inside_hull(front[sa], back)\n",
      "/home/kyle/.local/lib/python2.7/site-packages/phoebe/backend/eclipse.py:12: DeprecationWarning: PyArray_FromDimsAndDataAndDescr: use PyArray_NewFromDescr.\n",
      "  hull, inside = ceclipse.graham_scan_inside_hull(front[sa], back)\n",
      "/home/kyle/.local/lib/python2.7/site-packages/phoebe/backend/eclipse.py:12: DeprecationWarning: PyArray_FromDims: use PyArray_SimpleNew.\n",
      "  hull, inside = ceclipse.graham_scan_inside_hull(front[sa], back)\n",
      "/home/kyle/.local/lib/python2.7/site-packages/phoebe/backend/eclipse.py:12: DeprecationWarning: PyArray_FromDimsAndDataAndDescr: use PyArray_NewFromDescr.\n",
      "  hull, inside = ceclipse.graham_scan_inside_hull(front[sa], back)\n",
      "/home/kyle/.local/lib/python2.7/site-packages/phoebe/backend/eclipse.py:12: DeprecationWarning: PyArray_FromDims: use PyArray_SimpleNew.\n",
      "  hull, inside = ceclipse.graham_scan_inside_hull(front[sa], back)\n",
      "/home/kyle/.local/lib/python2.7/site-packages/phoebe/backend/eclipse.py:12: DeprecationWarning: PyArray_FromDimsAndDataAndDescr: use PyArray_NewFromDescr.\n",
      "  hull, inside = ceclipse.graham_scan_inside_hull(front[sa], back)\n",
      "/home/kyle/.local/lib/python2.7/site-packages/phoebe/backend/eclipse.py:12: DeprecationWarning: PyArray_FromDims: use PyArray_SimpleNew.\n",
      "  hull, inside = ceclipse.graham_scan_inside_hull(front[sa], back)\n",
      "/home/kyle/.local/lib/python2.7/site-packages/phoebe/backend/eclipse.py:12: DeprecationWarning: PyArray_FromDimsAndDataAndDescr: use PyArray_NewFromDescr.\n",
      "  hull, inside = ceclipse.graham_scan_inside_hull(front[sa], back)\n",
      "/home/kyle/.local/lib/python2.7/site-packages/phoebe/backend/eclipse.py:12: DeprecationWarning: PyArray_FromDims: use PyArray_SimpleNew.\n",
      "  hull, inside = ceclipse.graham_scan_inside_hull(front[sa], back)\n",
      "/home/kyle/.local/lib/python2.7/site-packages/phoebe/backend/eclipse.py:12: DeprecationWarning: PyArray_FromDimsAndDataAndDescr: use PyArray_NewFromDescr.\n",
      "  hull, inside = ceclipse.graham_scan_inside_hull(front[sa], back)\n",
      "/home/kyle/.local/lib/python2.7/site-packages/phoebe/backend/eclipse.py:12: DeprecationWarning: PyArray_FromDims: use PyArray_SimpleNew.\n",
      "  hull, inside = ceclipse.graham_scan_inside_hull(front[sa], back)\n",
      "/home/kyle/.local/lib/python2.7/site-packages/phoebe/backend/eclipse.py:12: DeprecationWarning: PyArray_FromDimsAndDataAndDescr: use PyArray_NewFromDescr.\n",
      "  hull, inside = ceclipse.graham_scan_inside_hull(front[sa], back)\n",
      "/home/kyle/.local/lib/python2.7/site-packages/phoebe/backend/eclipse.py:12: DeprecationWarning: PyArray_FromDims: use PyArray_SimpleNew.\n",
      "  hull, inside = ceclipse.graham_scan_inside_hull(front[sa], back)\n",
      "/home/kyle/.local/lib/python2.7/site-packages/phoebe/backend/eclipse.py:12: DeprecationWarning: PyArray_FromDimsAndDataAndDescr: use PyArray_NewFromDescr.\n",
      "  hull, inside = ceclipse.graham_scan_inside_hull(front[sa], back)\n",
      "/home/kyle/.local/lib/python2.7/site-packages/phoebe/backend/eclipse.py:12: DeprecationWarning: PyArray_FromDims: use PyArray_SimpleNew.\n",
      "  hull, inside = ceclipse.graham_scan_inside_hull(front[sa], back)\n",
      "/home/kyle/.local/lib/python2.7/site-packages/phoebe/backend/eclipse.py:12: DeprecationWarning: PyArray_FromDimsAndDataAndDescr: use PyArray_NewFromDescr.\n",
      "  hull, inside = ceclipse.graham_scan_inside_hull(front[sa], back)\n",
      "/home/kyle/.local/lib/python2.7/site-packages/phoebe/backend/eclipse.py:12: DeprecationWarning: PyArray_FromDims: use PyArray_SimpleNew.\n",
      "  hull, inside = ceclipse.graham_scan_inside_hull(front[sa], back)\n",
      "/home/kyle/.local/lib/python2.7/site-packages/phoebe/backend/eclipse.py:12: DeprecationWarning: PyArray_FromDimsAndDataAndDescr: use PyArray_NewFromDescr.\n",
      "  hull, inside = ceclipse.graham_scan_inside_hull(front[sa], back)\n",
      "/home/kyle/.local/lib/python2.7/site-packages/phoebe/backend/eclipse.py:12: DeprecationWarning: PyArray_FromDims: use PyArray_SimpleNew.\n",
      "  hull, inside = ceclipse.graham_scan_inside_hull(front[sa], back)\n",
      "/home/kyle/.local/lib/python2.7/site-packages/phoebe/backend/eclipse.py:12: DeprecationWarning: PyArray_FromDimsAndDataAndDescr: use PyArray_NewFromDescr.\n",
      "  hull, inside = ceclipse.graham_scan_inside_hull(front[sa], back)\n",
      "/home/kyle/.local/lib/python2.7/site-packages/phoebe/backend/eclipse.py:12: DeprecationWarning: PyArray_FromDims: use PyArray_SimpleNew.\n",
      "  hull, inside = ceclipse.graham_scan_inside_hull(front[sa], back)\n",
      "/home/kyle/.local/lib/python2.7/site-packages/phoebe/backend/eclipse.py:12: DeprecationWarning: PyArray_FromDimsAndDataAndDescr: use PyArray_NewFromDescr.\n",
      "  hull, inside = ceclipse.graham_scan_inside_hull(front[sa], back)\n",
      "/home/kyle/.local/lib/python2.7/site-packages/phoebe/backend/eclipse.py:12: DeprecationWarning: PyArray_FromDims: use PyArray_SimpleNew.\n",
      "  hull, inside = ceclipse.graham_scan_inside_hull(front[sa], back)\n",
      "/home/kyle/.local/lib/python2.7/site-packages/phoebe/backend/eclipse.py:12: DeprecationWarning: PyArray_FromDimsAndDataAndDescr: use PyArray_NewFromDescr.\n",
      "  hull, inside = ceclipse.graham_scan_inside_hull(front[sa], back)\n",
      "/home/kyle/.local/lib/python2.7/site-packages/phoebe/backend/eclipse.py:12: DeprecationWarning: PyArray_FromDims: use PyArray_SimpleNew.\n",
      "  hull, inside = ceclipse.graham_scan_inside_hull(front[sa], back)\n",
      "/home/kyle/.local/lib/python2.7/site-packages/phoebe/backend/eclipse.py:12: DeprecationWarning: PyArray_FromDimsAndDataAndDescr: use PyArray_NewFromDescr.\n",
      "  hull, inside = ceclipse.graham_scan_inside_hull(front[sa], back)\n",
      "/home/kyle/.local/lib/python2.7/site-packages/phoebe/backend/eclipse.py:12: DeprecationWarning: PyArray_FromDims: use PyArray_SimpleNew.\n",
      "  hull, inside = ceclipse.graham_scan_inside_hull(front[sa], back)\n",
      "/home/kyle/.local/lib/python2.7/site-packages/phoebe/backend/eclipse.py:12: DeprecationWarning: PyArray_FromDimsAndDataAndDescr: use PyArray_NewFromDescr.\n",
      "  hull, inside = ceclipse.graham_scan_inside_hull(front[sa], back)\n",
      "/home/kyle/.local/lib/python2.7/site-packages/phoebe/backend/eclipse.py:12: DeprecationWarning: PyArray_FromDims: use PyArray_SimpleNew.\n",
      "  hull, inside = ceclipse.graham_scan_inside_hull(front[sa], back)\n",
      "/home/kyle/.local/lib/python2.7/site-packages/phoebe/backend/eclipse.py:12: DeprecationWarning: PyArray_FromDimsAndDataAndDescr: use PyArray_NewFromDescr.\n",
      "  hull, inside = ceclipse.graham_scan_inside_hull(front[sa], back)\n"
     ]
    },
    {
     "data": {
      "text/plain": [
       "<ParameterSet: 10 parameters | methods: RV, LC>"
      ]
     },
     "execution_count": 85,
     "metadata": {},
     "output_type": "execute_result"
    }
   ],
   "source": [
    "b.run_compute(compute='phoebe', model='phoebemodel')"
   ]
  },
  {
   "cell_type": "code",
   "execution_count": 86,
   "metadata": {
    "collapsed": false
   },
   "outputs": [
    {
     "name": "stderr",
     "output_type": "stream",
     "text": [
      "WARNING:BUNDLE:rpole has no phoebe 1 corollary\n",
      "WARNING:BUNDLE:freq has no phoebe 1 corollary\n",
      "WARNING:BUNDLE:gravblaw has no phoebe 1 corollary\n",
      "WARNING:BUNDLE:ld_func_bol has no phoebe 1 corollary\n",
      "WARNING:BUNDLE:mass has no phoebe 1 corollary\n",
      "WARNING:BUNDLE:rpole has no phoebe 1 corollary\n",
      "WARNING:BUNDLE:freq has no phoebe 1 corollary\n",
      "WARNING:BUNDLE:gravblaw has no phoebe 1 corollary\n",
      "WARNING:BUNDLE:ld_func_bol has no phoebe 1 corollary\n",
      "WARNING:BUNDLE:mass has no phoebe 1 corollary\n",
      "WARNING:BUNDLE:time has no phoebe 1 corollary\n",
      "WARNING:BUNDLE:flux has no phoebe 1 corollary\n",
      "WARNING:BUNDLE:sigma has no phoebe 1 corollary\n",
      "WARNING:BUNDLE:pbscale has no phoebe 1 corollary\n",
      "WARNING:BUNDLE:alb has no phoebe 1 corollary\n",
      "WARNING:BUNDLE:pbscale has no phoebe 1 corollary\n",
      "WARNING:BUNDLE:pbscale has no phoebe 1 corollary\n",
      "WARNING:BUNDLE:alb has no phoebe 1 corollary\n",
      "WARNING:BUNDLE:alb has no phoebe 1 corollary\n",
      "WARNING:BUNDLE:time has no phoebe 1 corollary\n",
      "WARNING:BUNDLE:rv has no phoebe 1 corollary\n",
      "WARNING:BUNDLE:sigma has no phoebe 1 corollary\n",
      "WARNING:BUNDLE:time has no phoebe 1 corollary\n",
      "WARNING:BUNDLE:time has no phoebe 1 corollary\n",
      "WARNING:BUNDLE:rv has no phoebe 1 corollary\n",
      "WARNING:BUNDLE:rv has no phoebe 1 corollary\n",
      "WARNING:BUNDLE:sigma has no phoebe 1 corollary\n",
      "WARNING:BUNDLE:sigma has no phoebe 1 corollary\n",
      "WARNING:BUNDLE:pbscale has no phoebe 1 corollary\n",
      "WARNING:BUNDLE:alb has no phoebe 1 corollary\n",
      "WARNING:BUNDLE:pbscale has no phoebe 1 corollary\n",
      "WARNING:BUNDLE:pbscale has no phoebe 1 corollary\n",
      "WARNING:BUNDLE:alb has no phoebe 1 corollary\n",
      "WARNING:BUNDLE:alb has no phoebe 1 corollary\n",
      "WARNING:BUNDLE:time has no phoebe 1 corollary\n",
      "WARNING:BUNDLE:rv has no phoebe 1 corollary\n",
      "WARNING:BUNDLE:sigma has no phoebe 1 corollary\n",
      "WARNING:BUNDLE:time has no phoebe 1 corollary\n",
      "WARNING:BUNDLE:time has no phoebe 1 corollary\n",
      "WARNING:BUNDLE:rv has no phoebe 1 corollary\n",
      "WARNING:BUNDLE:rv has no phoebe 1 corollary\n",
      "WARNING:BUNDLE:sigma has no phoebe 1 corollary\n",
      "WARNING:BUNDLE:sigma has no phoebe 1 corollary\n",
      "WARNING:BUNDLE:pbscale has no phoebe 1 corollary\n",
      "WARNING:BUNDLE:alb has no phoebe 1 corollary\n",
      "WARNING:BUNDLE:pbscale has no phoebe 1 corollary\n",
      "WARNING:BUNDLE:pbscale has no phoebe 1 corollary\n",
      "WARNING:BUNDLE:alb has no phoebe 1 corollary\n",
      "WARNING:BUNDLE:alb has no phoebe 1 corollary\n",
      "WARNING:BUNDLE:time has no phoebe 1 corollary\n",
      "WARNING:BUNDLE:rv has no phoebe 1 corollary\n",
      "WARNING:BUNDLE:sigma has no phoebe 1 corollary\n",
      "WARNING:BUNDLE:time has no phoebe 1 corollary\n",
      "WARNING:BUNDLE:time has no phoebe 1 corollary\n",
      "WARNING:BUNDLE:rv has no phoebe 1 corollary\n",
      "WARNING:BUNDLE:rv has no phoebe 1 corollary\n",
      "WARNING:BUNDLE:sigma has no phoebe 1 corollary\n",
      "WARNING:BUNDLE:sigma has no phoebe 1 corollary\n",
      "WARNING:BUNDLE:pbscale has no phoebe 1 corollary\n",
      "WARNING:BUNDLE:alb has no phoebe 1 corollary\n",
      "WARNING:BUNDLE:pbscale has no phoebe 1 corollary\n",
      "WARNING:BUNDLE:pbscale has no phoebe 1 corollary\n",
      "WARNING:BUNDLE:alb has no phoebe 1 corollary\n",
      "WARNING:BUNDLE:alb has no phoebe 1 corollary\n",
      "WARNING:BUNDLE:time has no phoebe 1 corollary\n",
      "WARNING:BUNDLE:rv has no phoebe 1 corollary\n",
      "WARNING:BUNDLE:sigma has no phoebe 1 corollary\n",
      "WARNING:BUNDLE:time has no phoebe 1 corollary\n",
      "WARNING:BUNDLE:time has no phoebe 1 corollary\n",
      "WARNING:BUNDLE:rv has no phoebe 1 corollary\n",
      "WARNING:BUNDLE:rv has no phoebe 1 corollary\n",
      "WARNING:BUNDLE:sigma has no phoebe 1 corollary\n",
      "WARNING:BUNDLE:sigma has no phoebe 1 corollary\n",
      "WARNING:BUNDLE:pbscale has no phoebe 1 corollary\n",
      "WARNING:BUNDLE:alb has no phoebe 1 corollary\n",
      "WARNING:BUNDLE:pbscale has no phoebe 1 corollary\n",
      "WARNING:BUNDLE:pbscale has no phoebe 1 corollary\n",
      "WARNING:BUNDLE:alb has no phoebe 1 corollary\n",
      "WARNING:BUNDLE:alb has no phoebe 1 corollary\n",
      "WARNING:BUNDLE:freq has no phoebe 1 corollary\n",
      "WARNING:BUNDLE:deccdt has no phoebe 1 corollary\n",
      "WARNING:BUNDLE:t0_perpass has no phoebe 1 corollary\n",
      "WARNING:BUNDLE:long_an has no phoebe 1 corollary\n",
      "WARNING:BUNDLE:asini has no phoebe 1 corollary\n",
      "WARNING:BUNDLE:ecosw has no phoebe 1 corollary\n",
      "WARNING:BUNDLE:esinw has no phoebe 1 corollary\n",
      "WARNING:BUNDLE:store_mesh has no phoebe 1 corollary\n",
      "WARNING:BUNDLE:cindex has no phoebe 1 corollary\n",
      "WARNING:BUNDLE:heating has no phoebe 1 corollary\n",
      "WARNING:BUNDLE:rv_method has no phoebe 1 corollary\n",
      "WARNING:BUNDLE:rv_method has no phoebe 1 corollary\n",
      "WARNING:BUNDLE:rv_method has no phoebe 1 corollary\n",
      "WARNING:BUNDLE:rv_method has no phoebe 1 corollary\n",
      "WARNING:BUNDLE:t0 has no phoebe 1 corollary\n",
      "WARNING:BUNDLE:ra has no phoebe 1 corollary\n",
      "WARNING:BUNDLE:dec has no phoebe 1 corollary\n",
      "WARNING:BUNDLE:epoch has no phoebe 1 corollary\n",
      "WARNING:BUNDLE:distance has no phoebe 1 corollary\n",
      "WARNING:BUNDLE:hierarchy has no phoebe 1 corollary\n"
     ]
    },
    {
     "data": {
      "text/plain": [
       "<ParameterSet: 10 parameters | methods: RV, LC>"
      ]
     },
     "execution_count": 86,
     "metadata": {},
     "output_type": "execute_result"
    }
   ],
   "source": [
    "b.run_compute(compute='phoebe1', model='phoebe1model')"
   ]
  },
  {
   "cell_type": "markdown",
   "metadata": {},
   "source": [
    "Plotting\n",
    "-------------------------"
   ]
  },
  {
   "cell_type": "markdown",
   "metadata": {},
   "source": [
    "### Light Curve"
   ]
  },
  {
   "cell_type": "code",
   "execution_count": 87,
   "metadata": {
    "collapsed": false
   },
   "outputs": [
    {
     "data": {
      "image/png": "[encoded data removed]",
      "text/plain": [
       "<matplotlib.figure.Figure at 0x7efcb1d9fbd0>"
      ]
     },
     "metadata": {},
     "output_type": "display_data"
    }
   ],
   "source": [
    "axs, artists = b['lc01@phoebemodel'].plot()\n",
    "axs, artists = b['lc01@phoebe1model'].plot()\n",
    "leg = plt.legend(loc=4)"
   ]
  },
  {
   "cell_type": "markdown",
   "metadata": {},
   "source": [
    "Now let's plot the residuals between these two models"
   ]
  },
  {
   "cell_type": "code",
   "execution_count": 88,
   "metadata": {
    "collapsed": false
   },
   "outputs": [
    {
     "data": {
      "image/png": "[encoded data removed]",
      "text/plain": [
       "<matplotlib.figure.Figure at 0x7efcb1e64090>"
      ]
     },
     "metadata": {},
     "output_type": "display_data"
    }
   ],
   "source": [
    "artist, = plt.plot(b.get_value('flux@lc01@phoebemodel') - b.get_value('flux@lc01@phoebe1model'))\n",
    "artist = plt.axhline(0.0, linestyle='dashed', color='k')"
   ]
  },
  {
   "cell_type": "markdown",
   "metadata": {},
   "source": [
    "### Dynamical RVs"
   ]
  },
  {
   "cell_type": "code",
   "execution_count": 89,
   "metadata": {
    "collapsed": false,
    "scrolled": true
   },
   "outputs": [
    {
     "data": {
      "image/png": "[encoded data removed]",
      "text/plain": [
       "<matplotlib.figure.Figure at 0x7efcb21e2bd0>"
      ]
     },
     "metadata": {},
     "output_type": "display_data"
    }
   ],
   "source": [
    "axs, artists = b['rvdyn@phoebemodel'].plot()\n",
    "axs, artists = b['rvdyn@phoebe1model'].plot()"
   ]
  },
  {
   "cell_type": "markdown",
   "metadata": {},
   "source": [
    "And also plot the residuals of both the primary and secondary RVs (notice the scale on the y-axis)"
   ]
  },
  {
   "cell_type": "code",
   "execution_count": 90,
   "metadata": {
    "collapsed": false
   },
   "outputs": [
    {
     "data": {
      "text/plain": [
       "(-1e-12, 1e-12)"
      ]
     },
     "execution_count": 90,
     "metadata": {},
     "output_type": "execute_result"
    },
    {
     "data": {
      "image/png": "[encoded data removed]",
      "text/plain": [
       "<matplotlib.figure.Figure at 0x7efcb25f7d50>"
      ]
     },
     "metadata": {},
     "output_type": "display_data"
    }
   ],
   "source": [
    "artist, = plt.plot(b.get_value('rv@rvdyn@primary@phoebemodel', ) - b.get_value('rv@rvdyn@primary@phoebe1model'), color='b')\n",
    "artist, = plt.plot(b.get_value('rv@rvdyn@secondary@phoebemodel') - b.get_value('rv@rvdyn@secondary@phoebe1model'), color='r')\n",
    "artist = plt.axhline(0.0, linestyle='dashed', color='k')\n",
    "plt.ylim(-1e-12, 1e-12)"
   ]
  },
  {
   "cell_type": "markdown",
   "metadata": {},
   "source": [
    "### Numerical (flux-weighted) RVs"
   ]
  },
  {
   "cell_type": "code",
   "execution_count": 91,
   "metadata": {
    "collapsed": false
   },
   "outputs": [
    {
     "data": {
      "image/png": "[encoded data removed]",
      "text/plain": [
       "<matplotlib.figure.Figure at 0x7efcb25c0690>"
      ]
     },
     "metadata": {},
     "output_type": "display_data"
    }
   ],
   "source": [
    "axs, artists = b['rvnum@phoebemodel'].plot()\n",
    "axs, artists = b['rvnum@phoebe1model'].plot()"
   ]
  },
  {
   "cell_type": "code",
   "execution_count": 92,
   "metadata": {
    "collapsed": false
   },
   "outputs": [
    {
     "data": {
      "text/plain": [
       "(-0.01, 0.01)"
      ]
     },
     "execution_count": 92,
     "metadata": {},
     "output_type": "execute_result"
    },
    {
     "data": {
      "image/png": "[encoded data removed]",
      "text/plain": [
       "<matplotlib.figure.Figure at 0x7efcb25a2890>"
      ]
     },
     "metadata": {},
     "output_type": "display_data"
    }
   ],
   "source": [
    "artist, = plt.plot(b.get_value('rv@rvnum@primary@phoebemodel', ) - b.get_value('rv@rvnum@primary@phoebe1model'), color='b')\n",
    "artist, = plt.plot(b.get_value('rv@rvnum@secondary@phoebemodel') - b.get_value('rv@rvnum@secondary@phoebe1model'), color='r')\n",
    "artist = plt.axhline(0.0, linestyle='dashed', color='k')\n",
    "plt.ylim(-1e-2, 1e-2)"
   ]
  },
  {
   "cell_type": "code",
   "execution_count": null,
   "metadata": {
    "collapsed": true
   },
   "outputs": [],
   "source": []
  }
 ],
 "metadata": {
  "kernelspec": {
   "display_name": "Python 2",
   "language": "python",
   "name": "python2"
  },
  "language_info": {
   "codemirror_mode": {
    "name": "ipython",
    "version": 2
   },
   "file_extension": ".py",
   "mimetype": "text/x-python",
   "name": "python",
   "nbconvert_exporter": "python",
   "pygments_lexer": "ipython2",
   "version": "2.7.11+"
  }
 },
 "nbformat": 4,
 "nbformat_minor": 0
}
