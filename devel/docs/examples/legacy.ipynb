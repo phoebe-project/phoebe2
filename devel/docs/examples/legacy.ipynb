{
 "cells": [
  {
   "cell_type": "markdown",
   "metadata": {},
   "source": [
    "[IPython Notebook](legacy.ipynb) |  [Python Script](legacy.py)"
   ]
  },
  {
   "cell_type": "markdown",
   "metadata": {},
   "source": [
    "Comparing PHOEBE 2.0 vs PHOEBE Legacy\n",
    "============================\n",
    "\n",
    "**NOTE**: PHOEBE 1.0 legacy is an alternate backend and is not installed with PHOEBE 2.0.  In order to run this backend, you'll need to have [PHOEBE 1.0](https://phoebe-project.org/1.0) installed.\n",
    "\n",
    "Setup\n",
    "-----------------------------"
   ]
  },
  {
   "cell_type": "markdown",
   "metadata": {
    "collapsed": true
   },
   "source": [
    "As always, let's do imports and initialize a logger and a new bundle.  See [Building a System](../tutorials/building_a_system.html) for more details."
   ]
  },
  {
   "cell_type": "code",
   "execution_count": 1,
   "metadata": {
    "collapsed": true
   },
   "outputs": [],
   "source": [
    "%matplotlib inline"
   ]
  },
  {
   "cell_type": "code",
   "execution_count": 2,
   "metadata": {
    "collapsed": false
   },
   "outputs": [
    {
     "name": "stderr",
     "output_type": "stream",
     "text": [
      "/usr/local/lib/python2.7/dist-packages/IPython/kernel/__init__.py:13: ShimWarning: The `IPython.kernel` package has been deprecated. You should import from ipykernel or jupyter_client instead.\n",
      "  \"You should import from ipykernel or jupyter_client instead.\", ShimWarning)\n",
      "WARNING: Constant u'Gravitational constant' is already has a definition in the u'si' system [astropy.constants.constant]\n",
      "WARNING:astropy:Constant u'Gravitational constant' is already has a definition in the u'si' system\n",
      "WARNING: Constant u'Solar mass' is already has a definition in the u'si' system [astropy.constants.constant]\n",
      "WARNING:astropy:Constant u'Solar mass' is already has a definition in the u'si' system\n",
      "WARNING: Constant u'Solar radius' is already has a definition in the u'si' system [astropy.constants.constant]\n",
      "WARNING:astropy:Constant u'Solar radius' is already has a definition in the u'si' system\n",
      "WARNING: Constant u'Solar luminosity' is already has a definition in the u'si' system [astropy.constants.constant]\n",
      "WARNING:astropy:Constant u'Solar luminosity' is already has a definition in the u'si' system\n",
      "/usr/local/lib/python2.7/dist-packages/astropy/units/quantity.py:732: FutureWarning: comparison to `None` will result in an elementwise object comparison in the future.\n",
      "  return super(Quantity, self).__eq__(other)\n"
     ]
    }
   ],
   "source": [
    "import phoebe\n",
    "from phoebe import u\n",
    "import numpy as np\n",
    "import matplotlib.pyplot as plt\n",
    "\n",
    "logger = phoebe.utils.get_basic_logger(clevel='INFO')\n",
    "\n",
    "b = phoebe.Bundle.default_binary()\n",
    "b['q'] = 0.7"
   ]
  },
  {
   "cell_type": "markdown",
   "metadata": {
    "collapsed": true
   },
   "source": [
    "Adding Datasets and Compute Options\n",
    "--------------------"
   ]
  },
  {
   "cell_type": "code",
   "execution_count": 3,
   "metadata": {
    "collapsed": false
   },
   "outputs": [
    {
     "data": {
      "text/plain": [
       "<ParameterSet: 24 parameters | methods: RV, RV_dep>"
      ]
     },
     "execution_count": 3,
     "metadata": {},
     "output_type": "execute_result"
    }
   ],
   "source": [
    "b.add_dataset('lc', time=np.linspace(0,3,101), dataset='lc01')\n",
    "b.add_dataset('rv', time=np.linspace(0,3,101), dataset='rvdyn')\n",
    "b.add_dataset('rv', time=np.linspace(0,3,101), dataset='rvnum')"
   ]
  },
  {
   "cell_type": "code",
   "execution_count": 4,
   "metadata": {
    "collapsed": false
   },
   "outputs": [
    {
     "data": {
      "text/plain": [
       "<ParameterSet: 19 parameters | qualifiers: dynamics_method, eclipse_alg, gridsize, stepsize, lc_method, atm, enabled, ltte, rv_grav, orbiterror, rv_method, etv_method, maxpoints, delta, etv_tol, store_mesh, distortion_method, subdiv_num, mesh_method>"
      ]
     },
     "execution_count": 4,
     "metadata": {},
     "output_type": "execute_result"
    }
   ],
   "source": [
    "b.add_compute(compute='phoebe')"
   ]
  },
  {
   "cell_type": "markdown",
   "metadata": {},
   "source": [
    "Now we add compute options for the 'legacy' backend."
   ]
  },
  {
   "cell_type": "code",
   "execution_count": 5,
   "metadata": {
    "collapsed": false
   },
   "outputs": [
    {
     "data": {
      "text/plain": [
       "<ParameterSet: 11 parameters | qualifiers: atm, refl_num, cindex, store_mesh, enabled, heating, rv_method, gridsize, morphology, mult_refl, ie>"
      ]
     },
     "execution_count": 5,
     "metadata": {},
     "output_type": "execute_result"
    }
   ],
   "source": [
    "b.add_compute('legacy', compute='phoebe1')"
   ]
  },
  {
   "cell_type": "markdown",
   "metadata": {},
   "source": [
    "And set the two RV datasets to use the correct methods (for both compute options)"
   ]
  },
  {
   "cell_type": "code",
   "execution_count": 6,
   "metadata": {
    "collapsed": true
   },
   "outputs": [],
   "source": [
    "b.set_value_all('rv_method', dataset='rvdyn', value='dynamical')"
   ]
  },
  {
   "cell_type": "code",
   "execution_count": 7,
   "metadata": {
    "collapsed": true
   },
   "outputs": [],
   "source": [
    "b.set_value_all('rv_method', dataset='rvnum', value='flux-weighted')"
   ]
  },
  {
   "cell_type": "markdown",
   "metadata": {},
   "source": [
    "The 'blackbody' atmospheres from phoebe1 are comperable to the 'extern_planckint' atmospheres in phoebe."
   ]
  },
  {
   "cell_type": "code",
   "execution_count": 8,
   "metadata": {
    "collapsed": false
   },
   "outputs": [],
   "source": [
    "b.set_value_all('atm@phoebe', 'extern_planckint')\n",
    "b.set_value_all('atm@phoebe1', 'blackbody')"
   ]
  },
  {
   "cell_type": "markdown",
   "metadata": {},
   "source": [
    "To have as fair of a comparison as possible, let's use the WD-style meshing in phoebe and use the same number of elements for both phoebe1 and phoebe.\n",
    "\n",
    "***NOTE:*** the resulting residuals between phoebe1 and phoebe depend greatly on the gridsize parameter.  This is a consequence of phoebe handling placing the triangles on the potential slightly differently than Wilson-Devinney, which with small values of gridsize can have a significant affect on the limb of the star."
   ]
  },
  {
   "cell_type": "code",
   "execution_count": 9,
   "metadata": {
    "collapsed": true
   },
   "outputs": [],
   "source": [
    "b.set_value_all('mesh_method@phoebe', 'wd')"
   ]
  },
  {
   "cell_type": "code",
   "execution_count": 10,
   "metadata": {
    "collapsed": true
   },
   "outputs": [],
   "source": [
    "b.set_value_all('gridsize', 60)"
   ]
  },
  {
   "cell_type": "markdown",
   "metadata": {},
   "source": [
    "Let's also disable other special effect such as heating, gravity, and light-time effects."
   ]
  },
  {
   "cell_type": "code",
   "execution_count": 11,
   "metadata": {
    "collapsed": false
   },
   "outputs": [],
   "source": [
    "b.set_value_all('ld_coeffs', [0.,0.])\n",
    "# TODO: remove this once tested to work correctly with limbdarkening"
   ]
  },
  {
   "cell_type": "code",
   "execution_count": 12,
   "metadata": {
    "collapsed": true
   },
   "outputs": [],
   "source": [
    "b.set_value_all('heating', False)\n",
    "#b.set_value_all('refl', False)\n",
    "# TODO: remove these?"
   ]
  },
  {
   "cell_type": "code",
   "execution_count": 13,
   "metadata": {
    "collapsed": false
   },
   "outputs": [],
   "source": [
    "b.set_value_all('rv_grav', False)\n",
    "# TODO: phoebe1???\n",
    "# TODO: remove these?"
   ]
  },
  {
   "cell_type": "code",
   "execution_count": 14,
   "metadata": {
    "collapsed": false
   },
   "outputs": [],
   "source": [
    "b.set_value('ltte', False)"
   ]
  },
  {
   "cell_type": "markdown",
   "metadata": {},
   "source": [
    "Finally, let's compute both of our models"
   ]
  },
  {
   "cell_type": "code",
   "execution_count": 15,
   "metadata": {
    "collapsed": false
   },
   "outputs": [
    {
     "name": "stderr",
     "output_type": "stream",
     "text": [
      "/home/kyle/.local/lib/python2.7/site-packages/phoebe/backend/eclipse.py:10: DeprecationWarning: PyArray_FromDims: use PyArray_SimpleNew.\n",
      "  hull, inside = ceclipse.graham_scan_inside_hull(front[sa], back)\n",
      "/home/kyle/.local/lib/python2.7/site-packages/phoebe/backend/eclipse.py:10: DeprecationWarning: PyArray_FromDimsAndDataAndDescr: use PyArray_NewFromDescr.\n",
      "  hull, inside = ceclipse.graham_scan_inside_hull(front[sa], back)\n",
      "/home/kyle/.local/lib/python2.7/site-packages/phoebe/backend/eclipse.py:10: DeprecationWarning: PyArray_FromDims: use PyArray_SimpleNew.\n",
      "  hull, inside = ceclipse.graham_scan_inside_hull(front[sa], back)\n",
      "/home/kyle/.local/lib/python2.7/site-packages/phoebe/backend/eclipse.py:10: DeprecationWarning: PyArray_FromDimsAndDataAndDescr: use PyArray_NewFromDescr.\n",
      "  hull, inside = ceclipse.graham_scan_inside_hull(front[sa], back)\n",
      "/home/kyle/.local/lib/python2.7/site-packages/phoebe/backend/eclipse.py:10: DeprecationWarning: PyArray_FromDims: use PyArray_SimpleNew.\n",
      "  hull, inside = ceclipse.graham_scan_inside_hull(front[sa], back)\n",
      "/home/kyle/.local/lib/python2.7/site-packages/phoebe/backend/eclipse.py:10: DeprecationWarning: PyArray_FromDimsAndDataAndDescr: use PyArray_NewFromDescr.\n",
      "  hull, inside = ceclipse.graham_scan_inside_hull(front[sa], back)\n",
      "/home/kyle/.local/lib/python2.7/site-packages/phoebe/backend/eclipse.py:10: DeprecationWarning: PyArray_FromDims: use PyArray_SimpleNew.\n",
      "  hull, inside = ceclipse.graham_scan_inside_hull(front[sa], back)\n",
      "/home/kyle/.local/lib/python2.7/site-packages/phoebe/backend/eclipse.py:10: DeprecationWarning: PyArray_FromDimsAndDataAndDescr: use PyArray_NewFromDescr.\n",
      "  hull, inside = ceclipse.graham_scan_inside_hull(front[sa], back)\n",
      "/home/kyle/.local/lib/python2.7/site-packages/phoebe/backend/eclipse.py:10: DeprecationWarning: PyArray_FromDims: use PyArray_SimpleNew.\n",
      "  hull, inside = ceclipse.graham_scan_inside_hull(front[sa], back)\n",
      "/home/kyle/.local/lib/python2.7/site-packages/phoebe/backend/eclipse.py:10: DeprecationWarning: PyArray_FromDimsAndDataAndDescr: use PyArray_NewFromDescr.\n",
      "  hull, inside = ceclipse.graham_scan_inside_hull(front[sa], back)\n",
      "/home/kyle/.local/lib/python2.7/site-packages/phoebe/backend/eclipse.py:10: DeprecationWarning: PyArray_FromDims: use PyArray_SimpleNew.\n",
      "  hull, inside = ceclipse.graham_scan_inside_hull(front[sa], back)\n",
      "/home/kyle/.local/lib/python2.7/site-packages/phoebe/backend/eclipse.py:10: DeprecationWarning: PyArray_FromDimsAndDataAndDescr: use PyArray_NewFromDescr.\n",
      "  hull, inside = ceclipse.graham_scan_inside_hull(front[sa], back)\n",
      "/home/kyle/.local/lib/python2.7/site-packages/phoebe/backend/eclipse.py:10: DeprecationWarning: PyArray_FromDims: use PyArray_SimpleNew.\n",
      "  hull, inside = ceclipse.graham_scan_inside_hull(front[sa], back)\n",
      "/home/kyle/.local/lib/python2.7/site-packages/phoebe/backend/eclipse.py:10: DeprecationWarning: PyArray_FromDimsAndDataAndDescr: use PyArray_NewFromDescr.\n",
      "  hull, inside = ceclipse.graham_scan_inside_hull(front[sa], back)\n",
      "/home/kyle/.local/lib/python2.7/site-packages/phoebe/backend/eclipse.py:10: DeprecationWarning: PyArray_FromDims: use PyArray_SimpleNew.\n",
      "  hull, inside = ceclipse.graham_scan_inside_hull(front[sa], back)\n",
      "/home/kyle/.local/lib/python2.7/site-packages/phoebe/backend/eclipse.py:10: DeprecationWarning: PyArray_FromDimsAndDataAndDescr: use PyArray_NewFromDescr.\n",
      "  hull, inside = ceclipse.graham_scan_inside_hull(front[sa], back)\n",
      "/home/kyle/.local/lib/python2.7/site-packages/phoebe/backend/eclipse.py:10: DeprecationWarning: PyArray_FromDims: use PyArray_SimpleNew.\n",
      "  hull, inside = ceclipse.graham_scan_inside_hull(front[sa], back)\n",
      "/home/kyle/.local/lib/python2.7/site-packages/phoebe/backend/eclipse.py:10: DeprecationWarning: PyArray_FromDimsAndDataAndDescr: use PyArray_NewFromDescr.\n",
      "  hull, inside = ceclipse.graham_scan_inside_hull(front[sa], back)\n",
      "/home/kyle/.local/lib/python2.7/site-packages/phoebe/backend/eclipse.py:10: DeprecationWarning: PyArray_FromDims: use PyArray_SimpleNew.\n",
      "  hull, inside = ceclipse.graham_scan_inside_hull(front[sa], back)\n",
      "/home/kyle/.local/lib/python2.7/site-packages/phoebe/backend/eclipse.py:10: DeprecationWarning: PyArray_FromDimsAndDataAndDescr: use PyArray_NewFromDescr.\n",
      "  hull, inside = ceclipse.graham_scan_inside_hull(front[sa], back)\n",
      "/home/kyle/.local/lib/python2.7/site-packages/phoebe/backend/eclipse.py:10: DeprecationWarning: PyArray_FromDims: use PyArray_SimpleNew.\n",
      "  hull, inside = ceclipse.graham_scan_inside_hull(front[sa], back)\n",
      "/home/kyle/.local/lib/python2.7/site-packages/phoebe/backend/eclipse.py:10: DeprecationWarning: PyArray_FromDimsAndDataAndDescr: use PyArray_NewFromDescr.\n",
      "  hull, inside = ceclipse.graham_scan_inside_hull(front[sa], back)\n",
      "/home/kyle/.local/lib/python2.7/site-packages/phoebe/backend/eclipse.py:10: DeprecationWarning: PyArray_FromDims: use PyArray_SimpleNew.\n",
      "  hull, inside = ceclipse.graham_scan_inside_hull(front[sa], back)\n",
      "/home/kyle/.local/lib/python2.7/site-packages/phoebe/backend/eclipse.py:10: DeprecationWarning: PyArray_FromDimsAndDataAndDescr: use PyArray_NewFromDescr.\n",
      "  hull, inside = ceclipse.graham_scan_inside_hull(front[sa], back)\n",
      "/home/kyle/.local/lib/python2.7/site-packages/phoebe/backend/eclipse.py:10: DeprecationWarning: PyArray_FromDims: use PyArray_SimpleNew.\n",
      "  hull, inside = ceclipse.graham_scan_inside_hull(front[sa], back)\n",
      "/home/kyle/.local/lib/python2.7/site-packages/phoebe/backend/eclipse.py:10: DeprecationWarning: PyArray_FromDimsAndDataAndDescr: use PyArray_NewFromDescr.\n",
      "  hull, inside = ceclipse.graham_scan_inside_hull(front[sa], back)\n",
      "/home/kyle/.local/lib/python2.7/site-packages/phoebe/backend/eclipse.py:10: DeprecationWarning: PyArray_FromDims: use PyArray_SimpleNew.\n",
      "  hull, inside = ceclipse.graham_scan_inside_hull(front[sa], back)\n",
      "/home/kyle/.local/lib/python2.7/site-packages/phoebe/backend/eclipse.py:10: DeprecationWarning: PyArray_FromDimsAndDataAndDescr: use PyArray_NewFromDescr.\n",
      "  hull, inside = ceclipse.graham_scan_inside_hull(front[sa], back)\n",
      "/home/kyle/.local/lib/python2.7/site-packages/phoebe/backend/eclipse.py:10: DeprecationWarning: PyArray_FromDims: use PyArray_SimpleNew.\n",
      "  hull, inside = ceclipse.graham_scan_inside_hull(front[sa], back)\n",
      "/home/kyle/.local/lib/python2.7/site-packages/phoebe/backend/eclipse.py:10: DeprecationWarning: PyArray_FromDimsAndDataAndDescr: use PyArray_NewFromDescr.\n",
      "  hull, inside = ceclipse.graham_scan_inside_hull(front[sa], back)\n",
      "/home/kyle/.local/lib/python2.7/site-packages/phoebe/backend/eclipse.py:10: DeprecationWarning: PyArray_FromDims: use PyArray_SimpleNew.\n",
      "  hull, inside = ceclipse.graham_scan_inside_hull(front[sa], back)\n",
      "/home/kyle/.local/lib/python2.7/site-packages/phoebe/backend/eclipse.py:10: DeprecationWarning: PyArray_FromDimsAndDataAndDescr: use PyArray_NewFromDescr.\n",
      "  hull, inside = ceclipse.graham_scan_inside_hull(front[sa], back)\n",
      "/home/kyle/.local/lib/python2.7/site-packages/phoebe/backend/eclipse.py:10: DeprecationWarning: PyArray_FromDims: use PyArray_SimpleNew.\n",
      "  hull, inside = ceclipse.graham_scan_inside_hull(front[sa], back)\n",
      "/home/kyle/.local/lib/python2.7/site-packages/phoebe/backend/eclipse.py:10: DeprecationWarning: PyArray_FromDimsAndDataAndDescr: use PyArray_NewFromDescr.\n",
      "  hull, inside = ceclipse.graham_scan_inside_hull(front[sa], back)\n",
      "/home/kyle/.local/lib/python2.7/site-packages/phoebe/backend/eclipse.py:10: DeprecationWarning: PyArray_FromDims: use PyArray_SimpleNew.\n",
      "  hull, inside = ceclipse.graham_scan_inside_hull(front[sa], back)\n",
      "/home/kyle/.local/lib/python2.7/site-packages/phoebe/backend/eclipse.py:10: DeprecationWarning: PyArray_FromDimsAndDataAndDescr: use PyArray_NewFromDescr.\n",
      "  hull, inside = ceclipse.graham_scan_inside_hull(front[sa], back)\n",
      "/home/kyle/.local/lib/python2.7/site-packages/phoebe/backend/eclipse.py:10: DeprecationWarning: PyArray_FromDims: use PyArray_SimpleNew.\n",
      "  hull, inside = ceclipse.graham_scan_inside_hull(front[sa], back)\n",
      "/home/kyle/.local/lib/python2.7/site-packages/phoebe/backend/eclipse.py:10: DeprecationWarning: PyArray_FromDimsAndDataAndDescr: use PyArray_NewFromDescr.\n",
      "  hull, inside = ceclipse.graham_scan_inside_hull(front[sa], back)\n",
      "/home/kyle/.local/lib/python2.7/site-packages/phoebe/backend/eclipse.py:10: DeprecationWarning: PyArray_FromDims: use PyArray_SimpleNew.\n",
      "  hull, inside = ceclipse.graham_scan_inside_hull(front[sa], back)\n",
      "/home/kyle/.local/lib/python2.7/site-packages/phoebe/backend/eclipse.py:10: DeprecationWarning: PyArray_FromDimsAndDataAndDescr: use PyArray_NewFromDescr.\n",
      "  hull, inside = ceclipse.graham_scan_inside_hull(front[sa], back)\n",
      "/home/kyle/.local/lib/python2.7/site-packages/phoebe/backend/eclipse.py:10: DeprecationWarning: PyArray_FromDims: use PyArray_SimpleNew.\n",
      "  hull, inside = ceclipse.graham_scan_inside_hull(front[sa], back)\n",
      "/home/kyle/.local/lib/python2.7/site-packages/phoebe/backend/eclipse.py:10: DeprecationWarning: PyArray_FromDimsAndDataAndDescr: use PyArray_NewFromDescr.\n",
      "  hull, inside = ceclipse.graham_scan_inside_hull(front[sa], back)\n",
      "/home/kyle/.local/lib/python2.7/site-packages/phoebe/backend/eclipse.py:10: DeprecationWarning: PyArray_FromDims: use PyArray_SimpleNew.\n",
      "  hull, inside = ceclipse.graham_scan_inside_hull(front[sa], back)\n",
      "/home/kyle/.local/lib/python2.7/site-packages/phoebe/backend/eclipse.py:10: DeprecationWarning: PyArray_FromDimsAndDataAndDescr: use PyArray_NewFromDescr.\n",
      "  hull, inside = ceclipse.graham_scan_inside_hull(front[sa], back)\n",
      "/home/kyle/.local/lib/python2.7/site-packages/phoebe/backend/eclipse.py:10: DeprecationWarning: PyArray_FromDims: use PyArray_SimpleNew.\n",
      "  hull, inside = ceclipse.graham_scan_inside_hull(front[sa], back)\n",
      "/home/kyle/.local/lib/python2.7/site-packages/phoebe/backend/eclipse.py:10: DeprecationWarning: PyArray_FromDimsAndDataAndDescr: use PyArray_NewFromDescr.\n",
      "  hull, inside = ceclipse.graham_scan_inside_hull(front[sa], back)\n",
      "/home/kyle/.local/lib/python2.7/site-packages/phoebe/backend/eclipse.py:10: DeprecationWarning: PyArray_FromDims: use PyArray_SimpleNew.\n",
      "  hull, inside = ceclipse.graham_scan_inside_hull(front[sa], back)\n",
      "/home/kyle/.local/lib/python2.7/site-packages/phoebe/backend/eclipse.py:10: DeprecationWarning: PyArray_FromDimsAndDataAndDescr: use PyArray_NewFromDescr.\n",
      "  hull, inside = ceclipse.graham_scan_inside_hull(front[sa], back)\n",
      "/home/kyle/.local/lib/python2.7/site-packages/phoebe/backend/eclipse.py:10: DeprecationWarning: PyArray_FromDims: use PyArray_SimpleNew.\n",
      "  hull, inside = ceclipse.graham_scan_inside_hull(front[sa], back)\n",
      "/home/kyle/.local/lib/python2.7/site-packages/phoebe/backend/eclipse.py:10: DeprecationWarning: PyArray_FromDimsAndDataAndDescr: use PyArray_NewFromDescr.\n",
      "  hull, inside = ceclipse.graham_scan_inside_hull(front[sa], back)\n",
      "/home/kyle/.local/lib/python2.7/site-packages/phoebe/backend/eclipse.py:10: DeprecationWarning: PyArray_FromDims: use PyArray_SimpleNew.\n",
      "  hull, inside = ceclipse.graham_scan_inside_hull(front[sa], back)\n",
      "/home/kyle/.local/lib/python2.7/site-packages/phoebe/backend/eclipse.py:10: DeprecationWarning: PyArray_FromDimsAndDataAndDescr: use PyArray_NewFromDescr.\n",
      "  hull, inside = ceclipse.graham_scan_inside_hull(front[sa], back)\n",
      "/home/kyle/.local/lib/python2.7/site-packages/phoebe/backend/eclipse.py:10: DeprecationWarning: PyArray_FromDims: use PyArray_SimpleNew.\n",
      "  hull, inside = ceclipse.graham_scan_inside_hull(front[sa], back)\n",
      "/home/kyle/.local/lib/python2.7/site-packages/phoebe/backend/eclipse.py:10: DeprecationWarning: PyArray_FromDimsAndDataAndDescr: use PyArray_NewFromDescr.\n",
      "  hull, inside = ceclipse.graham_scan_inside_hull(front[sa], back)\n",
      "/home/kyle/.local/lib/python2.7/site-packages/phoebe/backend/eclipse.py:10: DeprecationWarning: PyArray_FromDims: use PyArray_SimpleNew.\n",
      "  hull, inside = ceclipse.graham_scan_inside_hull(front[sa], back)\n",
      "/home/kyle/.local/lib/python2.7/site-packages/phoebe/backend/eclipse.py:10: DeprecationWarning: PyArray_FromDimsAndDataAndDescr: use PyArray_NewFromDescr.\n",
      "  hull, inside = ceclipse.graham_scan_inside_hull(front[sa], back)\n",
      "/home/kyle/.local/lib/python2.7/site-packages/phoebe/backend/eclipse.py:10: DeprecationWarning: PyArray_FromDims: use PyArray_SimpleNew.\n",
      "  hull, inside = ceclipse.graham_scan_inside_hull(front[sa], back)\n",
      "/home/kyle/.local/lib/python2.7/site-packages/phoebe/backend/eclipse.py:10: DeprecationWarning: PyArray_FromDimsAndDataAndDescr: use PyArray_NewFromDescr.\n",
      "  hull, inside = ceclipse.graham_scan_inside_hull(front[sa], back)\n",
      "/home/kyle/.local/lib/python2.7/site-packages/phoebe/backend/eclipse.py:10: DeprecationWarning: PyArray_FromDims: use PyArray_SimpleNew.\n",
      "  hull, inside = ceclipse.graham_scan_inside_hull(front[sa], back)\n",
      "/home/kyle/.local/lib/python2.7/site-packages/phoebe/backend/eclipse.py:10: DeprecationWarning: PyArray_FromDimsAndDataAndDescr: use PyArray_NewFromDescr.\n",
      "  hull, inside = ceclipse.graham_scan_inside_hull(front[sa], back)\n",
      "/home/kyle/.local/lib/python2.7/site-packages/phoebe/backend/eclipse.py:10: DeprecationWarning: PyArray_FromDims: use PyArray_SimpleNew.\n",
      "  hull, inside = ceclipse.graham_scan_inside_hull(front[sa], back)\n",
      "/home/kyle/.local/lib/python2.7/site-packages/phoebe/backend/eclipse.py:10: DeprecationWarning: PyArray_FromDimsAndDataAndDescr: use PyArray_NewFromDescr.\n",
      "  hull, inside = ceclipse.graham_scan_inside_hull(front[sa], back)\n",
      "/home/kyle/.local/lib/python2.7/site-packages/phoebe/backend/eclipse.py:10: DeprecationWarning: PyArray_FromDims: use PyArray_SimpleNew.\n",
      "  hull, inside = ceclipse.graham_scan_inside_hull(front[sa], back)\n",
      "/home/kyle/.local/lib/python2.7/site-packages/phoebe/backend/eclipse.py:10: DeprecationWarning: PyArray_FromDimsAndDataAndDescr: use PyArray_NewFromDescr.\n",
      "  hull, inside = ceclipse.graham_scan_inside_hull(front[sa], back)\n",
      "/home/kyle/.local/lib/python2.7/site-packages/phoebe/backend/eclipse.py:10: DeprecationWarning: PyArray_FromDims: use PyArray_SimpleNew.\n",
      "  hull, inside = ceclipse.graham_scan_inside_hull(front[sa], back)\n",
      "/home/kyle/.local/lib/python2.7/site-packages/phoebe/backend/eclipse.py:10: DeprecationWarning: PyArray_FromDimsAndDataAndDescr: use PyArray_NewFromDescr.\n",
      "  hull, inside = ceclipse.graham_scan_inside_hull(front[sa], back)\n",
      "/home/kyle/.local/lib/python2.7/site-packages/phoebe/backend/eclipse.py:10: DeprecationWarning: PyArray_FromDims: use PyArray_SimpleNew.\n",
      "  hull, inside = ceclipse.graham_scan_inside_hull(front[sa], back)\n",
      "/home/kyle/.local/lib/python2.7/site-packages/phoebe/backend/eclipse.py:10: DeprecationWarning: PyArray_FromDimsAndDataAndDescr: use PyArray_NewFromDescr.\n",
      "  hull, inside = ceclipse.graham_scan_inside_hull(front[sa], back)\n",
      "/home/kyle/.local/lib/python2.7/site-packages/phoebe/backend/eclipse.py:10: DeprecationWarning: PyArray_FromDims: use PyArray_SimpleNew.\n",
      "  hull, inside = ceclipse.graham_scan_inside_hull(front[sa], back)\n",
      "/home/kyle/.local/lib/python2.7/site-packages/phoebe/backend/eclipse.py:10: DeprecationWarning: PyArray_FromDimsAndDataAndDescr: use PyArray_NewFromDescr.\n",
      "  hull, inside = ceclipse.graham_scan_inside_hull(front[sa], back)\n",
      "/home/kyle/.local/lib/python2.7/site-packages/phoebe/backend/eclipse.py:10: DeprecationWarning: PyArray_FromDims: use PyArray_SimpleNew.\n",
      "  hull, inside = ceclipse.graham_scan_inside_hull(front[sa], back)\n",
      "/home/kyle/.local/lib/python2.7/site-packages/phoebe/backend/eclipse.py:10: DeprecationWarning: PyArray_FromDimsAndDataAndDescr: use PyArray_NewFromDescr.\n",
      "  hull, inside = ceclipse.graham_scan_inside_hull(front[sa], back)\n",
      "/home/kyle/.local/lib/python2.7/site-packages/phoebe/backend/eclipse.py:10: DeprecationWarning: PyArray_FromDims: use PyArray_SimpleNew.\n",
      "  hull, inside = ceclipse.graham_scan_inside_hull(front[sa], back)\n",
      "/home/kyle/.local/lib/python2.7/site-packages/phoebe/backend/eclipse.py:10: DeprecationWarning: PyArray_FromDimsAndDataAndDescr: use PyArray_NewFromDescr.\n",
      "  hull, inside = ceclipse.graham_scan_inside_hull(front[sa], back)\n",
      "/home/kyle/.local/lib/python2.7/site-packages/phoebe/backend/eclipse.py:10: DeprecationWarning: PyArray_FromDims: use PyArray_SimpleNew.\n",
      "  hull, inside = ceclipse.graham_scan_inside_hull(front[sa], back)\n",
      "/home/kyle/.local/lib/python2.7/site-packages/phoebe/backend/eclipse.py:10: DeprecationWarning: PyArray_FromDimsAndDataAndDescr: use PyArray_NewFromDescr.\n",
      "  hull, inside = ceclipse.graham_scan_inside_hull(front[sa], back)\n",
      "/home/kyle/.local/lib/python2.7/site-packages/phoebe/backend/eclipse.py:10: DeprecationWarning: PyArray_FromDims: use PyArray_SimpleNew.\n",
      "  hull, inside = ceclipse.graham_scan_inside_hull(front[sa], back)\n",
      "/home/kyle/.local/lib/python2.7/site-packages/phoebe/backend/eclipse.py:10: DeprecationWarning: PyArray_FromDimsAndDataAndDescr: use PyArray_NewFromDescr.\n",
      "  hull, inside = ceclipse.graham_scan_inside_hull(front[sa], back)\n",
      "/home/kyle/.local/lib/python2.7/site-packages/phoebe/backend/eclipse.py:10: DeprecationWarning: PyArray_FromDims: use PyArray_SimpleNew.\n",
      "  hull, inside = ceclipse.graham_scan_inside_hull(front[sa], back)\n",
      "/home/kyle/.local/lib/python2.7/site-packages/phoebe/backend/eclipse.py:10: DeprecationWarning: PyArray_FromDimsAndDataAndDescr: use PyArray_NewFromDescr.\n",
      "  hull, inside = ceclipse.graham_scan_inside_hull(front[sa], back)\n",
      "/home/kyle/.local/lib/python2.7/site-packages/phoebe/backend/eclipse.py:10: DeprecationWarning: PyArray_FromDims: use PyArray_SimpleNew.\n",
      "  hull, inside = ceclipse.graham_scan_inside_hull(front[sa], back)\n",
      "/home/kyle/.local/lib/python2.7/site-packages/phoebe/backend/eclipse.py:10: DeprecationWarning: PyArray_FromDimsAndDataAndDescr: use PyArray_NewFromDescr.\n",
      "  hull, inside = ceclipse.graham_scan_inside_hull(front[sa], back)\n",
      "/home/kyle/.local/lib/python2.7/site-packages/phoebe/backend/eclipse.py:10: DeprecationWarning: PyArray_FromDims: use PyArray_SimpleNew.\n",
      "  hull, inside = ceclipse.graham_scan_inside_hull(front[sa], back)\n",
      "/home/kyle/.local/lib/python2.7/site-packages/phoebe/backend/eclipse.py:10: DeprecationWarning: PyArray_FromDimsAndDataAndDescr: use PyArray_NewFromDescr.\n",
      "  hull, inside = ceclipse.graham_scan_inside_hull(front[sa], back)\n",
      "/home/kyle/.local/lib/python2.7/site-packages/phoebe/backend/eclipse.py:10: DeprecationWarning: PyArray_FromDims: use PyArray_SimpleNew.\n",
      "  hull, inside = ceclipse.graham_scan_inside_hull(front[sa], back)\n",
      "/home/kyle/.local/lib/python2.7/site-packages/phoebe/backend/eclipse.py:10: DeprecationWarning: PyArray_FromDimsAndDataAndDescr: use PyArray_NewFromDescr.\n",
      "  hull, inside = ceclipse.graham_scan_inside_hull(front[sa], back)\n",
      "/home/kyle/.local/lib/python2.7/site-packages/phoebe/backend/eclipse.py:10: DeprecationWarning: PyArray_FromDims: use PyArray_SimpleNew.\n",
      "  hull, inside = ceclipse.graham_scan_inside_hull(front[sa], back)\n",
      "/home/kyle/.local/lib/python2.7/site-packages/phoebe/backend/eclipse.py:10: DeprecationWarning: PyArray_FromDimsAndDataAndDescr: use PyArray_NewFromDescr.\n",
      "  hull, inside = ceclipse.graham_scan_inside_hull(front[sa], back)\n",
      "/home/kyle/.local/lib/python2.7/site-packages/phoebe/backend/eclipse.py:10: DeprecationWarning: PyArray_FromDims: use PyArray_SimpleNew.\n",
      "  hull, inside = ceclipse.graham_scan_inside_hull(front[sa], back)\n",
      "/home/kyle/.local/lib/python2.7/site-packages/phoebe/backend/eclipse.py:10: DeprecationWarning: PyArray_FromDimsAndDataAndDescr: use PyArray_NewFromDescr.\n",
      "  hull, inside = ceclipse.graham_scan_inside_hull(front[sa], back)\n",
      "/home/kyle/.local/lib/python2.7/site-packages/phoebe/backend/eclipse.py:10: DeprecationWarning: PyArray_FromDims: use PyArray_SimpleNew.\n",
      "  hull, inside = ceclipse.graham_scan_inside_hull(front[sa], back)\n",
      "/home/kyle/.local/lib/python2.7/site-packages/phoebe/backend/eclipse.py:10: DeprecationWarning: PyArray_FromDimsAndDataAndDescr: use PyArray_NewFromDescr.\n",
      "  hull, inside = ceclipse.graham_scan_inside_hull(front[sa], back)\n",
      "/home/kyle/.local/lib/python2.7/site-packages/phoebe/backend/eclipse.py:10: DeprecationWarning: PyArray_FromDims: use PyArray_SimpleNew.\n",
      "  hull, inside = ceclipse.graham_scan_inside_hull(front[sa], back)\n",
      "/home/kyle/.local/lib/python2.7/site-packages/phoebe/backend/eclipse.py:10: DeprecationWarning: PyArray_FromDimsAndDataAndDescr: use PyArray_NewFromDescr.\n",
      "  hull, inside = ceclipse.graham_scan_inside_hull(front[sa], back)\n",
      "/home/kyle/.local/lib/python2.7/site-packages/phoebe/backend/eclipse.py:10: DeprecationWarning: PyArray_FromDims: use PyArray_SimpleNew.\n",
      "  hull, inside = ceclipse.graham_scan_inside_hull(front[sa], back)\n",
      "/home/kyle/.local/lib/python2.7/site-packages/phoebe/backend/eclipse.py:10: DeprecationWarning: PyArray_FromDimsAndDataAndDescr: use PyArray_NewFromDescr.\n",
      "  hull, inside = ceclipse.graham_scan_inside_hull(front[sa], back)\n",
      "/home/kyle/.local/lib/python2.7/site-packages/phoebe/backend/eclipse.py:10: DeprecationWarning: PyArray_FromDims: use PyArray_SimpleNew.\n",
      "  hull, inside = ceclipse.graham_scan_inside_hull(front[sa], back)\n",
      "/home/kyle/.local/lib/python2.7/site-packages/phoebe/backend/eclipse.py:10: DeprecationWarning: PyArray_FromDimsAndDataAndDescr: use PyArray_NewFromDescr.\n",
      "  hull, inside = ceclipse.graham_scan_inside_hull(front[sa], back)\n",
      "/home/kyle/.local/lib/python2.7/site-packages/phoebe/backend/eclipse.py:10: DeprecationWarning: PyArray_FromDims: use PyArray_SimpleNew.\n",
      "  hull, inside = ceclipse.graham_scan_inside_hull(front[sa], back)\n",
      "/home/kyle/.local/lib/python2.7/site-packages/phoebe/backend/eclipse.py:10: DeprecationWarning: PyArray_FromDimsAndDataAndDescr: use PyArray_NewFromDescr.\n",
      "  hull, inside = ceclipse.graham_scan_inside_hull(front[sa], back)\n",
      "/home/kyle/.local/lib/python2.7/site-packages/phoebe/backend/eclipse.py:10: DeprecationWarning: PyArray_FromDims: use PyArray_SimpleNew.\n",
      "  hull, inside = ceclipse.graham_scan_inside_hull(front[sa], back)\n",
      "/home/kyle/.local/lib/python2.7/site-packages/phoebe/backend/eclipse.py:10: DeprecationWarning: PyArray_FromDimsAndDataAndDescr: use PyArray_NewFromDescr.\n",
      "  hull, inside = ceclipse.graham_scan_inside_hull(front[sa], back)\n",
      "/home/kyle/.local/lib/python2.7/site-packages/phoebe/backend/eclipse.py:10: DeprecationWarning: PyArray_FromDims: use PyArray_SimpleNew.\n",
      "  hull, inside = ceclipse.graham_scan_inside_hull(front[sa], back)\n",
      "/home/kyle/.local/lib/python2.7/site-packages/phoebe/backend/eclipse.py:10: DeprecationWarning: PyArray_FromDimsAndDataAndDescr: use PyArray_NewFromDescr.\n",
      "  hull, inside = ceclipse.graham_scan_inside_hull(front[sa], back)\n",
      "/home/kyle/.local/lib/python2.7/site-packages/phoebe/backend/eclipse.py:10: DeprecationWarning: PyArray_FromDims: use PyArray_SimpleNew.\n",
      "  hull, inside = ceclipse.graham_scan_inside_hull(front[sa], back)\n",
      "/home/kyle/.local/lib/python2.7/site-packages/phoebe/backend/eclipse.py:10: DeprecationWarning: PyArray_FromDimsAndDataAndDescr: use PyArray_NewFromDescr.\n",
      "  hull, inside = ceclipse.graham_scan_inside_hull(front[sa], back)\n",
      "/home/kyle/.local/lib/python2.7/site-packages/phoebe/backend/eclipse.py:10: DeprecationWarning: PyArray_FromDims: use PyArray_SimpleNew.\n",
      "  hull, inside = ceclipse.graham_scan_inside_hull(front[sa], back)\n",
      "/home/kyle/.local/lib/python2.7/site-packages/phoebe/backend/eclipse.py:10: DeprecationWarning: PyArray_FromDimsAndDataAndDescr: use PyArray_NewFromDescr.\n",
      "  hull, inside = ceclipse.graham_scan_inside_hull(front[sa], back)\n",
      "/home/kyle/.local/lib/python2.7/site-packages/phoebe/backend/eclipse.py:10: DeprecationWarning: PyArray_FromDims: use PyArray_SimpleNew.\n",
      "  hull, inside = ceclipse.graham_scan_inside_hull(front[sa], back)\n",
      "/home/kyle/.local/lib/python2.7/site-packages/phoebe/backend/eclipse.py:10: DeprecationWarning: PyArray_FromDimsAndDataAndDescr: use PyArray_NewFromDescr.\n",
      "  hull, inside = ceclipse.graham_scan_inside_hull(front[sa], back)\n",
      "/home/kyle/.local/lib/python2.7/site-packages/phoebe/backend/eclipse.py:10: DeprecationWarning: PyArray_FromDims: use PyArray_SimpleNew.\n",
      "  hull, inside = ceclipse.graham_scan_inside_hull(front[sa], back)\n",
      "/home/kyle/.local/lib/python2.7/site-packages/phoebe/backend/eclipse.py:10: DeprecationWarning: PyArray_FromDimsAndDataAndDescr: use PyArray_NewFromDescr.\n",
      "  hull, inside = ceclipse.graham_scan_inside_hull(front[sa], back)\n",
      "/home/kyle/.local/lib/python2.7/site-packages/phoebe/backend/eclipse.py:10: DeprecationWarning: PyArray_FromDims: use PyArray_SimpleNew.\n",
      "  hull, inside = ceclipse.graham_scan_inside_hull(front[sa], back)\n",
      "/home/kyle/.local/lib/python2.7/site-packages/phoebe/backend/eclipse.py:10: DeprecationWarning: PyArray_FromDimsAndDataAndDescr: use PyArray_NewFromDescr.\n",
      "  hull, inside = ceclipse.graham_scan_inside_hull(front[sa], back)\n",
      "/home/kyle/.local/lib/python2.7/site-packages/phoebe/backend/eclipse.py:10: DeprecationWarning: PyArray_FromDims: use PyArray_SimpleNew.\n",
      "  hull, inside = ceclipse.graham_scan_inside_hull(front[sa], back)\n",
      "/home/kyle/.local/lib/python2.7/site-packages/phoebe/backend/eclipse.py:10: DeprecationWarning: PyArray_FromDimsAndDataAndDescr: use PyArray_NewFromDescr.\n",
      "  hull, inside = ceclipse.graham_scan_inside_hull(front[sa], back)\n",
      "/home/kyle/.local/lib/python2.7/site-packages/phoebe/backend/eclipse.py:10: DeprecationWarning: PyArray_FromDims: use PyArray_SimpleNew.\n",
      "  hull, inside = ceclipse.graham_scan_inside_hull(front[sa], back)\n",
      "/home/kyle/.local/lib/python2.7/site-packages/phoebe/backend/eclipse.py:10: DeprecationWarning: PyArray_FromDimsAndDataAndDescr: use PyArray_NewFromDescr.\n",
      "  hull, inside = ceclipse.graham_scan_inside_hull(front[sa], back)\n",
      "/home/kyle/.local/lib/python2.7/site-packages/phoebe/backend/eclipse.py:10: DeprecationWarning: PyArray_FromDims: use PyArray_SimpleNew.\n",
      "  hull, inside = ceclipse.graham_scan_inside_hull(front[sa], back)\n",
      "/home/kyle/.local/lib/python2.7/site-packages/phoebe/backend/eclipse.py:10: DeprecationWarning: PyArray_FromDimsAndDataAndDescr: use PyArray_NewFromDescr.\n",
      "  hull, inside = ceclipse.graham_scan_inside_hull(front[sa], back)\n",
      "/home/kyle/.local/lib/python2.7/site-packages/phoebe/backend/eclipse.py:10: DeprecationWarning: PyArray_FromDims: use PyArray_SimpleNew.\n",
      "  hull, inside = ceclipse.graham_scan_inside_hull(front[sa], back)\n",
      "/home/kyle/.local/lib/python2.7/site-packages/phoebe/backend/eclipse.py:10: DeprecationWarning: PyArray_FromDimsAndDataAndDescr: use PyArray_NewFromDescr.\n",
      "  hull, inside = ceclipse.graham_scan_inside_hull(front[sa], back)\n",
      "/home/kyle/.local/lib/python2.7/site-packages/phoebe/backend/eclipse.py:10: DeprecationWarning: PyArray_FromDims: use PyArray_SimpleNew.\n",
      "  hull, inside = ceclipse.graham_scan_inside_hull(front[sa], back)\n",
      "/home/kyle/.local/lib/python2.7/site-packages/phoebe/backend/eclipse.py:10: DeprecationWarning: PyArray_FromDimsAndDataAndDescr: use PyArray_NewFromDescr.\n",
      "  hull, inside = ceclipse.graham_scan_inside_hull(front[sa], back)\n",
      "/home/kyle/.local/lib/python2.7/site-packages/phoebe/backend/eclipse.py:10: DeprecationWarning: PyArray_FromDims: use PyArray_SimpleNew.\n",
      "  hull, inside = ceclipse.graham_scan_inside_hull(front[sa], back)\n",
      "/home/kyle/.local/lib/python2.7/site-packages/phoebe/backend/eclipse.py:10: DeprecationWarning: PyArray_FromDimsAndDataAndDescr: use PyArray_NewFromDescr.\n",
      "  hull, inside = ceclipse.graham_scan_inside_hull(front[sa], back)\n",
      "/home/kyle/.local/lib/python2.7/site-packages/phoebe/backend/eclipse.py:10: DeprecationWarning: PyArray_FromDims: use PyArray_SimpleNew.\n",
      "  hull, inside = ceclipse.graham_scan_inside_hull(front[sa], back)\n",
      "/home/kyle/.local/lib/python2.7/site-packages/phoebe/backend/eclipse.py:10: DeprecationWarning: PyArray_FromDimsAndDataAndDescr: use PyArray_NewFromDescr.\n",
      "  hull, inside = ceclipse.graham_scan_inside_hull(front[sa], back)\n",
      "/home/kyle/.local/lib/python2.7/site-packages/phoebe/backend/eclipse.py:10: DeprecationWarning: PyArray_FromDims: use PyArray_SimpleNew.\n",
      "  hull, inside = ceclipse.graham_scan_inside_hull(front[sa], back)\n",
      "/home/kyle/.local/lib/python2.7/site-packages/phoebe/backend/eclipse.py:10: DeprecationWarning: PyArray_FromDimsAndDataAndDescr: use PyArray_NewFromDescr.\n",
      "  hull, inside = ceclipse.graham_scan_inside_hull(front[sa], back)\n",
      "/home/kyle/.local/lib/python2.7/site-packages/phoebe/backend/eclipse.py:10: DeprecationWarning: PyArray_FromDims: use PyArray_SimpleNew.\n",
      "  hull, inside = ceclipse.graham_scan_inside_hull(front[sa], back)\n",
      "/home/kyle/.local/lib/python2.7/site-packages/phoebe/backend/eclipse.py:10: DeprecationWarning: PyArray_FromDimsAndDataAndDescr: use PyArray_NewFromDescr.\n",
      "  hull, inside = ceclipse.graham_scan_inside_hull(front[sa], back)\n",
      "/home/kyle/.local/lib/python2.7/site-packages/phoebe/backend/eclipse.py:10: DeprecationWarning: PyArray_FromDims: use PyArray_SimpleNew.\n",
      "  hull, inside = ceclipse.graham_scan_inside_hull(front[sa], back)\n",
      "/home/kyle/.local/lib/python2.7/site-packages/phoebe/backend/eclipse.py:10: DeprecationWarning: PyArray_FromDimsAndDataAndDescr: use PyArray_NewFromDescr.\n",
      "  hull, inside = ceclipse.graham_scan_inside_hull(front[sa], back)\n",
      "/home/kyle/.local/lib/python2.7/site-packages/phoebe/backend/eclipse.py:10: DeprecationWarning: PyArray_FromDims: use PyArray_SimpleNew.\n",
      "  hull, inside = ceclipse.graham_scan_inside_hull(front[sa], back)\n",
      "/home/kyle/.local/lib/python2.7/site-packages/phoebe/backend/eclipse.py:10: DeprecationWarning: PyArray_FromDimsAndDataAndDescr: use PyArray_NewFromDescr.\n",
      "  hull, inside = ceclipse.graham_scan_inside_hull(front[sa], back)\n",
      "/home/kyle/.local/lib/python2.7/site-packages/phoebe/backend/eclipse.py:10: DeprecationWarning: PyArray_FromDims: use PyArray_SimpleNew.\n",
      "  hull, inside = ceclipse.graham_scan_inside_hull(front[sa], back)\n",
      "/home/kyle/.local/lib/python2.7/site-packages/phoebe/backend/eclipse.py:10: DeprecationWarning: PyArray_FromDimsAndDataAndDescr: use PyArray_NewFromDescr.\n",
      "  hull, inside = ceclipse.graham_scan_inside_hull(front[sa], back)\n",
      "/home/kyle/.local/lib/python2.7/site-packages/phoebe/backend/eclipse.py:10: DeprecationWarning: PyArray_FromDims: use PyArray_SimpleNew.\n",
      "  hull, inside = ceclipse.graham_scan_inside_hull(front[sa], back)\n",
      "/home/kyle/.local/lib/python2.7/site-packages/phoebe/backend/eclipse.py:10: DeprecationWarning: PyArray_FromDimsAndDataAndDescr: use PyArray_NewFromDescr.\n",
      "  hull, inside = ceclipse.graham_scan_inside_hull(front[sa], back)\n",
      "/home/kyle/.local/lib/python2.7/site-packages/phoebe/backend/eclipse.py:10: DeprecationWarning: PyArray_FromDims: use PyArray_SimpleNew.\n",
      "  hull, inside = ceclipse.graham_scan_inside_hull(front[sa], back)\n",
      "/home/kyle/.local/lib/python2.7/site-packages/phoebe/backend/eclipse.py:10: DeprecationWarning: PyArray_FromDimsAndDataAndDescr: use PyArray_NewFromDescr.\n",
      "  hull, inside = ceclipse.graham_scan_inside_hull(front[sa], back)\n",
      "/home/kyle/.local/lib/python2.7/site-packages/phoebe/backend/eclipse.py:10: DeprecationWarning: PyArray_FromDims: use PyArray_SimpleNew.\n",
      "  hull, inside = ceclipse.graham_scan_inside_hull(front[sa], back)\n",
      "/home/kyle/.local/lib/python2.7/site-packages/phoebe/backend/eclipse.py:10: DeprecationWarning: PyArray_FromDimsAndDataAndDescr: use PyArray_NewFromDescr.\n",
      "  hull, inside = ceclipse.graham_scan_inside_hull(front[sa], back)\n",
      "/home/kyle/.local/lib/python2.7/site-packages/phoebe/backend/eclipse.py:10: DeprecationWarning: PyArray_FromDims: use PyArray_SimpleNew.\n",
      "  hull, inside = ceclipse.graham_scan_inside_hull(front[sa], back)\n",
      "/home/kyle/.local/lib/python2.7/site-packages/phoebe/backend/eclipse.py:10: DeprecationWarning: PyArray_FromDimsAndDataAndDescr: use PyArray_NewFromDescr.\n",
      "  hull, inside = ceclipse.graham_scan_inside_hull(front[sa], back)\n",
      "/home/kyle/.local/lib/python2.7/site-packages/phoebe/backend/eclipse.py:10: DeprecationWarning: PyArray_FromDims: use PyArray_SimpleNew.\n",
      "  hull, inside = ceclipse.graham_scan_inside_hull(front[sa], back)\n",
      "/home/kyle/.local/lib/python2.7/site-packages/phoebe/backend/eclipse.py:10: DeprecationWarning: PyArray_FromDimsAndDataAndDescr: use PyArray_NewFromDescr.\n",
      "  hull, inside = ceclipse.graham_scan_inside_hull(front[sa], back)\n",
      "/home/kyle/.local/lib/python2.7/site-packages/phoebe/backend/eclipse.py:10: DeprecationWarning: PyArray_FromDims: use PyArray_SimpleNew.\n",
      "  hull, inside = ceclipse.graham_scan_inside_hull(front[sa], back)\n",
      "/home/kyle/.local/lib/python2.7/site-packages/phoebe/backend/eclipse.py:10: DeprecationWarning: PyArray_FromDimsAndDataAndDescr: use PyArray_NewFromDescr.\n",
      "  hull, inside = ceclipse.graham_scan_inside_hull(front[sa], back)\n",
      "/home/kyle/.local/lib/python2.7/site-packages/phoebe/backend/eclipse.py:10: DeprecationWarning: PyArray_FromDims: use PyArray_SimpleNew.\n",
      "  hull, inside = ceclipse.graham_scan_inside_hull(front[sa], back)\n",
      "/home/kyle/.local/lib/python2.7/site-packages/phoebe/backend/eclipse.py:10: DeprecationWarning: PyArray_FromDimsAndDataAndDescr: use PyArray_NewFromDescr.\n",
      "  hull, inside = ceclipse.graham_scan_inside_hull(front[sa], back)\n",
      "/home/kyle/.local/lib/python2.7/site-packages/phoebe/backend/eclipse.py:10: DeprecationWarning: PyArray_FromDims: use PyArray_SimpleNew.\n",
      "  hull, inside = ceclipse.graham_scan_inside_hull(front[sa], back)\n",
      "/home/kyle/.local/lib/python2.7/site-packages/phoebe/backend/eclipse.py:10: DeprecationWarning: PyArray_FromDimsAndDataAndDescr: use PyArray_NewFromDescr.\n",
      "  hull, inside = ceclipse.graham_scan_inside_hull(front[sa], back)\n",
      "/home/kyle/.local/lib/python2.7/site-packages/phoebe/backend/eclipse.py:10: DeprecationWarning: PyArray_FromDims: use PyArray_SimpleNew.\n",
      "  hull, inside = ceclipse.graham_scan_inside_hull(front[sa], back)\n",
      "/home/kyle/.local/lib/python2.7/site-packages/phoebe/backend/eclipse.py:10: DeprecationWarning: PyArray_FromDimsAndDataAndDescr: use PyArray_NewFromDescr.\n",
      "  hull, inside = ceclipse.graham_scan_inside_hull(front[sa], back)\n",
      "/home/kyle/.local/lib/python2.7/site-packages/phoebe/backend/eclipse.py:10: DeprecationWarning: PyArray_FromDims: use PyArray_SimpleNew.\n",
      "  hull, inside = ceclipse.graham_scan_inside_hull(front[sa], back)\n",
      "/home/kyle/.local/lib/python2.7/site-packages/phoebe/backend/eclipse.py:10: DeprecationWarning: PyArray_FromDimsAndDataAndDescr: use PyArray_NewFromDescr.\n",
      "  hull, inside = ceclipse.graham_scan_inside_hull(front[sa], back)\n",
      "/home/kyle/.local/lib/python2.7/site-packages/phoebe/backend/eclipse.py:10: DeprecationWarning: PyArray_FromDims: use PyArray_SimpleNew.\n",
      "  hull, inside = ceclipse.graham_scan_inside_hull(front[sa], back)\n",
      "/home/kyle/.local/lib/python2.7/site-packages/phoebe/backend/eclipse.py:10: DeprecationWarning: PyArray_FromDimsAndDataAndDescr: use PyArray_NewFromDescr.\n",
      "  hull, inside = ceclipse.graham_scan_inside_hull(front[sa], back)\n",
      "/home/kyle/.local/lib/python2.7/site-packages/phoebe/backend/eclipse.py:10: DeprecationWarning: PyArray_FromDims: use PyArray_SimpleNew.\n",
      "  hull, inside = ceclipse.graham_scan_inside_hull(front[sa], back)\n",
      "/home/kyle/.local/lib/python2.7/site-packages/phoebe/backend/eclipse.py:10: DeprecationWarning: PyArray_FromDimsAndDataAndDescr: use PyArray_NewFromDescr.\n",
      "  hull, inside = ceclipse.graham_scan_inside_hull(front[sa], back)\n",
      "/home/kyle/.local/lib/python2.7/site-packages/phoebe/backend/eclipse.py:10: DeprecationWarning: PyArray_FromDims: use PyArray_SimpleNew.\n",
      "  hull, inside = ceclipse.graham_scan_inside_hull(front[sa], back)\n",
      "/home/kyle/.local/lib/python2.7/site-packages/phoebe/backend/eclipse.py:10: DeprecationWarning: PyArray_FromDimsAndDataAndDescr: use PyArray_NewFromDescr.\n",
      "  hull, inside = ceclipse.graham_scan_inside_hull(front[sa], back)\n",
      "/home/kyle/.local/lib/python2.7/site-packages/phoebe/backend/eclipse.py:10: DeprecationWarning: PyArray_FromDims: use PyArray_SimpleNew.\n",
      "  hull, inside = ceclipse.graham_scan_inside_hull(front[sa], back)\n",
      "/home/kyle/.local/lib/python2.7/site-packages/phoebe/backend/eclipse.py:10: DeprecationWarning: PyArray_FromDimsAndDataAndDescr: use PyArray_NewFromDescr.\n",
      "  hull, inside = ceclipse.graham_scan_inside_hull(front[sa], back)\n",
      "/home/kyle/.local/lib/python2.7/site-packages/phoebe/backend/eclipse.py:10: DeprecationWarning: PyArray_FromDims: use PyArray_SimpleNew.\n",
      "  hull, inside = ceclipse.graham_scan_inside_hull(front[sa], back)\n",
      "/home/kyle/.local/lib/python2.7/site-packages/phoebe/backend/eclipse.py:10: DeprecationWarning: PyArray_FromDimsAndDataAndDescr: use PyArray_NewFromDescr.\n",
      "  hull, inside = ceclipse.graham_scan_inside_hull(front[sa], back)\n",
      "/home/kyle/.local/lib/python2.7/site-packages/phoebe/backend/eclipse.py:10: DeprecationWarning: PyArray_FromDims: use PyArray_SimpleNew.\n",
      "  hull, inside = ceclipse.graham_scan_inside_hull(front[sa], back)\n",
      "/home/kyle/.local/lib/python2.7/site-packages/phoebe/backend/eclipse.py:10: DeprecationWarning: PyArray_FromDimsAndDataAndDescr: use PyArray_NewFromDescr.\n",
      "  hull, inside = ceclipse.graham_scan_inside_hull(front[sa], back)\n",
      "/home/kyle/.local/lib/python2.7/site-packages/phoebe/backend/eclipse.py:10: DeprecationWarning: PyArray_FromDims: use PyArray_SimpleNew.\n",
      "  hull, inside = ceclipse.graham_scan_inside_hull(front[sa], back)\n",
      "/home/kyle/.local/lib/python2.7/site-packages/phoebe/backend/eclipse.py:10: DeprecationWarning: PyArray_FromDimsAndDataAndDescr: use PyArray_NewFromDescr.\n",
      "  hull, inside = ceclipse.graham_scan_inside_hull(front[sa], back)\n",
      "/home/kyle/.local/lib/python2.7/site-packages/phoebe/backend/eclipse.py:10: DeprecationWarning: PyArray_FromDims: use PyArray_SimpleNew.\n",
      "  hull, inside = ceclipse.graham_scan_inside_hull(front[sa], back)\n",
      "/home/kyle/.local/lib/python2.7/site-packages/phoebe/backend/eclipse.py:10: DeprecationWarning: PyArray_FromDimsAndDataAndDescr: use PyArray_NewFromDescr.\n",
      "  hull, inside = ceclipse.graham_scan_inside_hull(front[sa], back)\n",
      "/home/kyle/.local/lib/python2.7/site-packages/phoebe/backend/eclipse.py:10: DeprecationWarning: PyArray_FromDims: use PyArray_SimpleNew.\n",
      "  hull, inside = ceclipse.graham_scan_inside_hull(front[sa], back)\n",
      "/home/kyle/.local/lib/python2.7/site-packages/phoebe/backend/eclipse.py:10: DeprecationWarning: PyArray_FromDimsAndDataAndDescr: use PyArray_NewFromDescr.\n",
      "  hull, inside = ceclipse.graham_scan_inside_hull(front[sa], back)\n",
      "/home/kyle/.local/lib/python2.7/site-packages/phoebe/backend/eclipse.py:10: DeprecationWarning: PyArray_FromDims: use PyArray_SimpleNew.\n",
      "  hull, inside = ceclipse.graham_scan_inside_hull(front[sa], back)\n",
      "/home/kyle/.local/lib/python2.7/site-packages/phoebe/backend/eclipse.py:10: DeprecationWarning: PyArray_FromDimsAndDataAndDescr: use PyArray_NewFromDescr.\n",
      "  hull, inside = ceclipse.graham_scan_inside_hull(front[sa], back)\n",
      "/home/kyle/.local/lib/python2.7/site-packages/phoebe/backend/eclipse.py:10: DeprecationWarning: PyArray_FromDims: use PyArray_SimpleNew.\n",
      "  hull, inside = ceclipse.graham_scan_inside_hull(front[sa], back)\n",
      "/home/kyle/.local/lib/python2.7/site-packages/phoebe/backend/eclipse.py:10: DeprecationWarning: PyArray_FromDimsAndDataAndDescr: use PyArray_NewFromDescr.\n",
      "  hull, inside = ceclipse.graham_scan_inside_hull(front[sa], back)\n",
      "/home/kyle/.local/lib/python2.7/site-packages/phoebe/backend/eclipse.py:10: DeprecationWarning: PyArray_FromDims: use PyArray_SimpleNew.\n",
      "  hull, inside = ceclipse.graham_scan_inside_hull(front[sa], back)\n",
      "/home/kyle/.local/lib/python2.7/site-packages/phoebe/backend/eclipse.py:10: DeprecationWarning: PyArray_FromDimsAndDataAndDescr: use PyArray_NewFromDescr.\n",
      "  hull, inside = ceclipse.graham_scan_inside_hull(front[sa], back)\n",
      "/home/kyle/.local/lib/python2.7/site-packages/phoebe/backend/eclipse.py:10: DeprecationWarning: PyArray_FromDims: use PyArray_SimpleNew.\n",
      "  hull, inside = ceclipse.graham_scan_inside_hull(front[sa], back)\n",
      "/home/kyle/.local/lib/python2.7/site-packages/phoebe/backend/eclipse.py:10: DeprecationWarning: PyArray_FromDimsAndDataAndDescr: use PyArray_NewFromDescr.\n",
      "  hull, inside = ceclipse.graham_scan_inside_hull(front[sa], back)\n",
      "/home/kyle/.local/lib/python2.7/site-packages/phoebe/backend/eclipse.py:10: DeprecationWarning: PyArray_FromDims: use PyArray_SimpleNew.\n",
      "  hull, inside = ceclipse.graham_scan_inside_hull(front[sa], back)\n",
      "/home/kyle/.local/lib/python2.7/site-packages/phoebe/backend/eclipse.py:10: DeprecationWarning: PyArray_FromDimsAndDataAndDescr: use PyArray_NewFromDescr.\n",
      "  hull, inside = ceclipse.graham_scan_inside_hull(front[sa], back)\n",
      "/home/kyle/.local/lib/python2.7/site-packages/phoebe/backend/eclipse.py:10: DeprecationWarning: PyArray_FromDims: use PyArray_SimpleNew.\n",
      "  hull, inside = ceclipse.graham_scan_inside_hull(front[sa], back)\n",
      "/home/kyle/.local/lib/python2.7/site-packages/phoebe/backend/eclipse.py:10: DeprecationWarning: PyArray_FromDimsAndDataAndDescr: use PyArray_NewFromDescr.\n",
      "  hull, inside = ceclipse.graham_scan_inside_hull(front[sa], back)\n",
      "/home/kyle/.local/lib/python2.7/site-packages/phoebe/backend/eclipse.py:10: DeprecationWarning: PyArray_FromDims: use PyArray_SimpleNew.\n",
      "  hull, inside = ceclipse.graham_scan_inside_hull(front[sa], back)\n",
      "/home/kyle/.local/lib/python2.7/site-packages/phoebe/backend/eclipse.py:10: DeprecationWarning: PyArray_FromDimsAndDataAndDescr: use PyArray_NewFromDescr.\n",
      "  hull, inside = ceclipse.graham_scan_inside_hull(front[sa], back)\n",
      "/home/kyle/.local/lib/python2.7/site-packages/phoebe/backend/eclipse.py:10: DeprecationWarning: PyArray_FromDims: use PyArray_SimpleNew.\n",
      "  hull, inside = ceclipse.graham_scan_inside_hull(front[sa], back)\n",
      "/home/kyle/.local/lib/python2.7/site-packages/phoebe/backend/eclipse.py:10: DeprecationWarning: PyArray_FromDimsAndDataAndDescr: use PyArray_NewFromDescr.\n",
      "  hull, inside = ceclipse.graham_scan_inside_hull(front[sa], back)\n",
      "/home/kyle/.local/lib/python2.7/site-packages/phoebe/backend/eclipse.py:10: DeprecationWarning: PyArray_FromDims: use PyArray_SimpleNew.\n",
      "  hull, inside = ceclipse.graham_scan_inside_hull(front[sa], back)\n",
      "/home/kyle/.local/lib/python2.7/site-packages/phoebe/backend/eclipse.py:10: DeprecationWarning: PyArray_FromDimsAndDataAndDescr: use PyArray_NewFromDescr.\n",
      "  hull, inside = ceclipse.graham_scan_inside_hull(front[sa], back)\n",
      "/home/kyle/.local/lib/python2.7/site-packages/phoebe/backend/eclipse.py:10: DeprecationWarning: PyArray_FromDims: use PyArray_SimpleNew.\n",
      "  hull, inside = ceclipse.graham_scan_inside_hull(front[sa], back)\n",
      "/home/kyle/.local/lib/python2.7/site-packages/phoebe/backend/eclipse.py:10: DeprecationWarning: PyArray_FromDimsAndDataAndDescr: use PyArray_NewFromDescr.\n",
      "  hull, inside = ceclipse.graham_scan_inside_hull(front[sa], back)\n",
      "/home/kyle/.local/lib/python2.7/site-packages/phoebe/backend/eclipse.py:10: DeprecationWarning: PyArray_FromDims: use PyArray_SimpleNew.\n",
      "  hull, inside = ceclipse.graham_scan_inside_hull(front[sa], back)\n",
      "/home/kyle/.local/lib/python2.7/site-packages/phoebe/backend/eclipse.py:10: DeprecationWarning: PyArray_FromDimsAndDataAndDescr: use PyArray_NewFromDescr.\n",
      "  hull, inside = ceclipse.graham_scan_inside_hull(front[sa], back)\n",
      "/home/kyle/.local/lib/python2.7/site-packages/phoebe/backend/eclipse.py:10: DeprecationWarning: PyArray_FromDims: use PyArray_SimpleNew.\n",
      "  hull, inside = ceclipse.graham_scan_inside_hull(front[sa], back)\n",
      "/home/kyle/.local/lib/python2.7/site-packages/phoebe/backend/eclipse.py:10: DeprecationWarning: PyArray_FromDimsAndDataAndDescr: use PyArray_NewFromDescr.\n",
      "  hull, inside = ceclipse.graham_scan_inside_hull(front[sa], back)\n",
      "/home/kyle/.local/lib/python2.7/site-packages/phoebe/backend/eclipse.py:10: DeprecationWarning: PyArray_FromDims: use PyArray_SimpleNew.\n",
      "  hull, inside = ceclipse.graham_scan_inside_hull(front[sa], back)\n",
      "/home/kyle/.local/lib/python2.7/site-packages/phoebe/backend/eclipse.py:10: DeprecationWarning: PyArray_FromDimsAndDataAndDescr: use PyArray_NewFromDescr.\n",
      "  hull, inside = ceclipse.graham_scan_inside_hull(front[sa], back)\n",
      "/home/kyle/.local/lib/python2.7/site-packages/phoebe/backend/eclipse.py:10: DeprecationWarning: PyArray_FromDims: use PyArray_SimpleNew.\n",
      "  hull, inside = ceclipse.graham_scan_inside_hull(front[sa], back)\n",
      "/home/kyle/.local/lib/python2.7/site-packages/phoebe/backend/eclipse.py:10: DeprecationWarning: PyArray_FromDimsAndDataAndDescr: use PyArray_NewFromDescr.\n",
      "  hull, inside = ceclipse.graham_scan_inside_hull(front[sa], back)\n",
      "/home/kyle/.local/lib/python2.7/site-packages/phoebe/backend/eclipse.py:10: DeprecationWarning: PyArray_FromDims: use PyArray_SimpleNew.\n",
      "  hull, inside = ceclipse.graham_scan_inside_hull(front[sa], back)\n",
      "/home/kyle/.local/lib/python2.7/site-packages/phoebe/backend/eclipse.py:10: DeprecationWarning: PyArray_FromDimsAndDataAndDescr: use PyArray_NewFromDescr.\n",
      "  hull, inside = ceclipse.graham_scan_inside_hull(front[sa], back)\n",
      "/home/kyle/.local/lib/python2.7/site-packages/phoebe/backend/eclipse.py:10: DeprecationWarning: PyArray_FromDims: use PyArray_SimpleNew.\n",
      "  hull, inside = ceclipse.graham_scan_inside_hull(front[sa], back)\n",
      "/home/kyle/.local/lib/python2.7/site-packages/phoebe/backend/eclipse.py:10: DeprecationWarning: PyArray_FromDimsAndDataAndDescr: use PyArray_NewFromDescr.\n",
      "  hull, inside = ceclipse.graham_scan_inside_hull(front[sa], back)\n",
      "/home/kyle/.local/lib/python2.7/site-packages/phoebe/backend/eclipse.py:10: DeprecationWarning: PyArray_FromDims: use PyArray_SimpleNew.\n",
      "  hull, inside = ceclipse.graham_scan_inside_hull(front[sa], back)\n",
      "/home/kyle/.local/lib/python2.7/site-packages/phoebe/backend/eclipse.py:10: DeprecationWarning: PyArray_FromDimsAndDataAndDescr: use PyArray_NewFromDescr.\n",
      "  hull, inside = ceclipse.graham_scan_inside_hull(front[sa], back)\n",
      "/home/kyle/.local/lib/python2.7/site-packages/phoebe/backend/eclipse.py:10: DeprecationWarning: PyArray_FromDims: use PyArray_SimpleNew.\n",
      "  hull, inside = ceclipse.graham_scan_inside_hull(front[sa], back)\n",
      "/home/kyle/.local/lib/python2.7/site-packages/phoebe/backend/eclipse.py:10: DeprecationWarning: PyArray_FromDimsAndDataAndDescr: use PyArray_NewFromDescr.\n",
      "  hull, inside = ceclipse.graham_scan_inside_hull(front[sa], back)\n",
      "/home/kyle/.local/lib/python2.7/site-packages/phoebe/backend/eclipse.py:10: DeprecationWarning: PyArray_FromDims: use PyArray_SimpleNew.\n",
      "  hull, inside = ceclipse.graham_scan_inside_hull(front[sa], back)\n",
      "/home/kyle/.local/lib/python2.7/site-packages/phoebe/backend/eclipse.py:10: DeprecationWarning: PyArray_FromDimsAndDataAndDescr: use PyArray_NewFromDescr.\n",
      "  hull, inside = ceclipse.graham_scan_inside_hull(front[sa], back)\n",
      "/home/kyle/.local/lib/python2.7/site-packages/phoebe/backend/eclipse.py:10: DeprecationWarning: PyArray_FromDims: use PyArray_SimpleNew.\n",
      "  hull, inside = ceclipse.graham_scan_inside_hull(front[sa], back)\n",
      "/home/kyle/.local/lib/python2.7/site-packages/phoebe/backend/eclipse.py:10: DeprecationWarning: PyArray_FromDimsAndDataAndDescr: use PyArray_NewFromDescr.\n",
      "  hull, inside = ceclipse.graham_scan_inside_hull(front[sa], back)\n",
      "/home/kyle/.local/lib/python2.7/site-packages/phoebe/backend/eclipse.py:10: DeprecationWarning: PyArray_FromDims: use PyArray_SimpleNew.\n",
      "  hull, inside = ceclipse.graham_scan_inside_hull(front[sa], back)\n",
      "/home/kyle/.local/lib/python2.7/site-packages/phoebe/backend/eclipse.py:10: DeprecationWarning: PyArray_FromDimsAndDataAndDescr: use PyArray_NewFromDescr.\n",
      "  hull, inside = ceclipse.graham_scan_inside_hull(front[sa], back)\n",
      "/home/kyle/.local/lib/python2.7/site-packages/phoebe/backend/eclipse.py:10: DeprecationWarning: PyArray_FromDims: use PyArray_SimpleNew.\n",
      "  hull, inside = ceclipse.graham_scan_inside_hull(front[sa], back)\n",
      "/home/kyle/.local/lib/python2.7/site-packages/phoebe/backend/eclipse.py:10: DeprecationWarning: PyArray_FromDimsAndDataAndDescr: use PyArray_NewFromDescr.\n",
      "  hull, inside = ceclipse.graham_scan_inside_hull(front[sa], back)\n",
      "/home/kyle/.local/lib/python2.7/site-packages/phoebe/backend/eclipse.py:10: DeprecationWarning: PyArray_FromDims: use PyArray_SimpleNew.\n",
      "  hull, inside = ceclipse.graham_scan_inside_hull(front[sa], back)\n",
      "/home/kyle/.local/lib/python2.7/site-packages/phoebe/backend/eclipse.py:10: DeprecationWarning: PyArray_FromDimsAndDataAndDescr: use PyArray_NewFromDescr.\n",
      "  hull, inside = ceclipse.graham_scan_inside_hull(front[sa], back)\n",
      "/home/kyle/.local/lib/python2.7/site-packages/phoebe/backend/eclipse.py:10: DeprecationWarning: PyArray_FromDims: use PyArray_SimpleNew.\n",
      "  hull, inside = ceclipse.graham_scan_inside_hull(front[sa], back)\n",
      "/home/kyle/.local/lib/python2.7/site-packages/phoebe/backend/eclipse.py:10: DeprecationWarning: PyArray_FromDimsAndDataAndDescr: use PyArray_NewFromDescr.\n",
      "  hull, inside = ceclipse.graham_scan_inside_hull(front[sa], back)\n",
      "/home/kyle/.local/lib/python2.7/site-packages/phoebe/backend/eclipse.py:10: DeprecationWarning: PyArray_FromDims: use PyArray_SimpleNew.\n",
      "  hull, inside = ceclipse.graham_scan_inside_hull(front[sa], back)\n",
      "/home/kyle/.local/lib/python2.7/site-packages/phoebe/backend/eclipse.py:10: DeprecationWarning: PyArray_FromDimsAndDataAndDescr: use PyArray_NewFromDescr.\n",
      "  hull, inside = ceclipse.graham_scan_inside_hull(front[sa], back)\n",
      "/home/kyle/.local/lib/python2.7/site-packages/phoebe/backend/eclipse.py:10: DeprecationWarning: PyArray_FromDims: use PyArray_SimpleNew.\n",
      "  hull, inside = ceclipse.graham_scan_inside_hull(front[sa], back)\n",
      "/home/kyle/.local/lib/python2.7/site-packages/phoebe/backend/eclipse.py:10: DeprecationWarning: PyArray_FromDimsAndDataAndDescr: use PyArray_NewFromDescr.\n",
      "  hull, inside = ceclipse.graham_scan_inside_hull(front[sa], back)\n",
      "/home/kyle/.local/lib/python2.7/site-packages/phoebe/backend/eclipse.py:10: DeprecationWarning: PyArray_FromDims: use PyArray_SimpleNew.\n",
      "  hull, inside = ceclipse.graham_scan_inside_hull(front[sa], back)\n",
      "/home/kyle/.local/lib/python2.7/site-packages/phoebe/backend/eclipse.py:10: DeprecationWarning: PyArray_FromDimsAndDataAndDescr: use PyArray_NewFromDescr.\n",
      "  hull, inside = ceclipse.graham_scan_inside_hull(front[sa], back)\n",
      "/home/kyle/.local/lib/python2.7/site-packages/phoebe/backend/eclipse.py:10: DeprecationWarning: PyArray_FromDims: use PyArray_SimpleNew.\n",
      "  hull, inside = ceclipse.graham_scan_inside_hull(front[sa], back)\n",
      "/home/kyle/.local/lib/python2.7/site-packages/phoebe/backend/eclipse.py:10: DeprecationWarning: PyArray_FromDimsAndDataAndDescr: use PyArray_NewFromDescr.\n",
      "  hull, inside = ceclipse.graham_scan_inside_hull(front[sa], back)\n",
      "/home/kyle/.local/lib/python2.7/site-packages/phoebe/backend/eclipse.py:10: DeprecationWarning: PyArray_FromDims: use PyArray_SimpleNew.\n",
      "  hull, inside = ceclipse.graham_scan_inside_hull(front[sa], back)\n",
      "/home/kyle/.local/lib/python2.7/site-packages/phoebe/backend/eclipse.py:10: DeprecationWarning: PyArray_FromDimsAndDataAndDescr: use PyArray_NewFromDescr.\n",
      "  hull, inside = ceclipse.graham_scan_inside_hull(front[sa], back)\n",
      "/home/kyle/.local/lib/python2.7/site-packages/phoebe/backend/eclipse.py:10: DeprecationWarning: PyArray_FromDims: use PyArray_SimpleNew.\n",
      "  hull, inside = ceclipse.graham_scan_inside_hull(front[sa], back)\n",
      "/home/kyle/.local/lib/python2.7/site-packages/phoebe/backend/eclipse.py:10: DeprecationWarning: PyArray_FromDimsAndDataAndDescr: use PyArray_NewFromDescr.\n",
      "  hull, inside = ceclipse.graham_scan_inside_hull(front[sa], back)\n",
      "/home/kyle/.local/lib/python2.7/site-packages/phoebe/backend/eclipse.py:10: DeprecationWarning: PyArray_FromDims: use PyArray_SimpleNew.\n",
      "  hull, inside = ceclipse.graham_scan_inside_hull(front[sa], back)\n",
      "/home/kyle/.local/lib/python2.7/site-packages/phoebe/backend/eclipse.py:10: DeprecationWarning: PyArray_FromDimsAndDataAndDescr: use PyArray_NewFromDescr.\n",
      "  hull, inside = ceclipse.graham_scan_inside_hull(front[sa], back)\n",
      "/home/kyle/.local/lib/python2.7/site-packages/phoebe/backend/eclipse.py:10: DeprecationWarning: PyArray_FromDims: use PyArray_SimpleNew.\n",
      "  hull, inside = ceclipse.graham_scan_inside_hull(front[sa], back)\n",
      "/home/kyle/.local/lib/python2.7/site-packages/phoebe/backend/eclipse.py:10: DeprecationWarning: PyArray_FromDimsAndDataAndDescr: use PyArray_NewFromDescr.\n",
      "  hull, inside = ceclipse.graham_scan_inside_hull(front[sa], back)\n",
      "/home/kyle/.local/lib/python2.7/site-packages/phoebe/backend/eclipse.py:10: DeprecationWarning: PyArray_FromDims: use PyArray_SimpleNew.\n",
      "  hull, inside = ceclipse.graham_scan_inside_hull(front[sa], back)\n",
      "/home/kyle/.local/lib/python2.7/site-packages/phoebe/backend/eclipse.py:10: DeprecationWarning: PyArray_FromDimsAndDataAndDescr: use PyArray_NewFromDescr.\n",
      "  hull, inside = ceclipse.graham_scan_inside_hull(front[sa], back)\n",
      "/home/kyle/.local/lib/python2.7/site-packages/phoebe/backend/eclipse.py:10: DeprecationWarning: PyArray_FromDims: use PyArray_SimpleNew.\n",
      "  hull, inside = ceclipse.graham_scan_inside_hull(front[sa], back)\n",
      "/home/kyle/.local/lib/python2.7/site-packages/phoebe/backend/eclipse.py:10: DeprecationWarning: PyArray_FromDimsAndDataAndDescr: use PyArray_NewFromDescr.\n",
      "  hull, inside = ceclipse.graham_scan_inside_hull(front[sa], back)\n",
      "/home/kyle/.local/lib/python2.7/site-packages/phoebe/backend/eclipse.py:10: DeprecationWarning: PyArray_FromDims: use PyArray_SimpleNew.\n",
      "  hull, inside = ceclipse.graham_scan_inside_hull(front[sa], back)\n",
      "/home/kyle/.local/lib/python2.7/site-packages/phoebe/backend/eclipse.py:10: DeprecationWarning: PyArray_FromDimsAndDataAndDescr: use PyArray_NewFromDescr.\n",
      "  hull, inside = ceclipse.graham_scan_inside_hull(front[sa], back)\n",
      "/home/kyle/.local/lib/python2.7/site-packages/phoebe/backend/eclipse.py:10: DeprecationWarning: PyArray_FromDims: use PyArray_SimpleNew.\n",
      "  hull, inside = ceclipse.graham_scan_inside_hull(front[sa], back)\n",
      "/home/kyle/.local/lib/python2.7/site-packages/phoebe/backend/eclipse.py:10: DeprecationWarning: PyArray_FromDimsAndDataAndDescr: use PyArray_NewFromDescr.\n",
      "  hull, inside = ceclipse.graham_scan_inside_hull(front[sa], back)\n",
      "/home/kyle/.local/lib/python2.7/site-packages/phoebe/backend/eclipse.py:10: DeprecationWarning: PyArray_FromDims: use PyArray_SimpleNew.\n",
      "  hull, inside = ceclipse.graham_scan_inside_hull(front[sa], back)\n",
      "/home/kyle/.local/lib/python2.7/site-packages/phoebe/backend/eclipse.py:10: DeprecationWarning: PyArray_FromDimsAndDataAndDescr: use PyArray_NewFromDescr.\n",
      "  hull, inside = ceclipse.graham_scan_inside_hull(front[sa], back)\n",
      "/home/kyle/.local/lib/python2.7/site-packages/phoebe/backend/eclipse.py:10: DeprecationWarning: PyArray_FromDims: use PyArray_SimpleNew.\n",
      "  hull, inside = ceclipse.graham_scan_inside_hull(front[sa], back)\n",
      "/home/kyle/.local/lib/python2.7/site-packages/phoebe/backend/eclipse.py:10: DeprecationWarning: PyArray_FromDimsAndDataAndDescr: use PyArray_NewFromDescr.\n",
      "  hull, inside = ceclipse.graham_scan_inside_hull(front[sa], back)\n",
      "/home/kyle/.local/lib/python2.7/site-packages/phoebe/backend/eclipse.py:10: DeprecationWarning: PyArray_FromDims: use PyArray_SimpleNew.\n",
      "  hull, inside = ceclipse.graham_scan_inside_hull(front[sa], back)\n",
      "/home/kyle/.local/lib/python2.7/site-packages/phoebe/backend/eclipse.py:10: DeprecationWarning: PyArray_FromDimsAndDataAndDescr: use PyArray_NewFromDescr.\n",
      "  hull, inside = ceclipse.graham_scan_inside_hull(front[sa], back)\n",
      "/home/kyle/.local/lib/python2.7/site-packages/phoebe/backend/eclipse.py:10: DeprecationWarning: PyArray_FromDims: use PyArray_SimpleNew.\n",
      "  hull, inside = ceclipse.graham_scan_inside_hull(front[sa], back)\n",
      "/home/kyle/.local/lib/python2.7/site-packages/phoebe/backend/eclipse.py:10: DeprecationWarning: PyArray_FromDimsAndDataAndDescr: use PyArray_NewFromDescr.\n",
      "  hull, inside = ceclipse.graham_scan_inside_hull(front[sa], back)\n",
      "/home/kyle/.local/lib/python2.7/site-packages/phoebe/backend/eclipse.py:10: DeprecationWarning: PyArray_FromDims: use PyArray_SimpleNew.\n",
      "  hull, inside = ceclipse.graham_scan_inside_hull(front[sa], back)\n",
      "/home/kyle/.local/lib/python2.7/site-packages/phoebe/backend/eclipse.py:10: DeprecationWarning: PyArray_FromDimsAndDataAndDescr: use PyArray_NewFromDescr.\n",
      "  hull, inside = ceclipse.graham_scan_inside_hull(front[sa], back)\n",
      "/home/kyle/.local/lib/python2.7/site-packages/phoebe/backend/eclipse.py:10: DeprecationWarning: PyArray_FromDims: use PyArray_SimpleNew.\n",
      "  hull, inside = ceclipse.graham_scan_inside_hull(front[sa], back)\n",
      "/home/kyle/.local/lib/python2.7/site-packages/phoebe/backend/eclipse.py:10: DeprecationWarning: PyArray_FromDimsAndDataAndDescr: use PyArray_NewFromDescr.\n",
      "  hull, inside = ceclipse.graham_scan_inside_hull(front[sa], back)\n",
      "/home/kyle/.local/lib/python2.7/site-packages/phoebe/backend/eclipse.py:10: DeprecationWarning: PyArray_FromDims: use PyArray_SimpleNew.\n",
      "  hull, inside = ceclipse.graham_scan_inside_hull(front[sa], back)\n",
      "/home/kyle/.local/lib/python2.7/site-packages/phoebe/backend/eclipse.py:10: DeprecationWarning: PyArray_FromDimsAndDataAndDescr: use PyArray_NewFromDescr.\n",
      "  hull, inside = ceclipse.graham_scan_inside_hull(front[sa], back)\n",
      "/home/kyle/.local/lib/python2.7/site-packages/phoebe/backend/eclipse.py:10: DeprecationWarning: PyArray_FromDims: use PyArray_SimpleNew.\n",
      "  hull, inside = ceclipse.graham_scan_inside_hull(front[sa], back)\n",
      "/home/kyle/.local/lib/python2.7/site-packages/phoebe/backend/eclipse.py:10: DeprecationWarning: PyArray_FromDimsAndDataAndDescr: use PyArray_NewFromDescr.\n",
      "  hull, inside = ceclipse.graham_scan_inside_hull(front[sa], back)\n",
      "/home/kyle/.local/lib/python2.7/site-packages/phoebe/backend/eclipse.py:10: DeprecationWarning: PyArray_FromDims: use PyArray_SimpleNew.\n",
      "  hull, inside = ceclipse.graham_scan_inside_hull(front[sa], back)\n",
      "/home/kyle/.local/lib/python2.7/site-packages/phoebe/backend/eclipse.py:10: DeprecationWarning: PyArray_FromDimsAndDataAndDescr: use PyArray_NewFromDescr.\n",
      "  hull, inside = ceclipse.graham_scan_inside_hull(front[sa], back)\n",
      "/home/kyle/.local/lib/python2.7/site-packages/phoebe/backend/eclipse.py:10: DeprecationWarning: PyArray_FromDims: use PyArray_SimpleNew.\n",
      "  hull, inside = ceclipse.graham_scan_inside_hull(front[sa], back)\n",
      "/home/kyle/.local/lib/python2.7/site-packages/phoebe/backend/eclipse.py:10: DeprecationWarning: PyArray_FromDimsAndDataAndDescr: use PyArray_NewFromDescr.\n",
      "  hull, inside = ceclipse.graham_scan_inside_hull(front[sa], back)\n",
      "/home/kyle/.local/lib/python2.7/site-packages/phoebe/backend/eclipse.py:10: DeprecationWarning: PyArray_FromDims: use PyArray_SimpleNew.\n",
      "  hull, inside = ceclipse.graham_scan_inside_hull(front[sa], back)\n",
      "/home/kyle/.local/lib/python2.7/site-packages/phoebe/backend/eclipse.py:10: DeprecationWarning: PyArray_FromDimsAndDataAndDescr: use PyArray_NewFromDescr.\n",
      "  hull, inside = ceclipse.graham_scan_inside_hull(front[sa], back)\n",
      "/home/kyle/.local/lib/python2.7/site-packages/phoebe/backend/eclipse.py:10: DeprecationWarning: PyArray_FromDims: use PyArray_SimpleNew.\n",
      "  hull, inside = ceclipse.graham_scan_inside_hull(front[sa], back)\n",
      "/home/kyle/.local/lib/python2.7/site-packages/phoebe/backend/eclipse.py:10: DeprecationWarning: PyArray_FromDimsAndDataAndDescr: use PyArray_NewFromDescr.\n",
      "  hull, inside = ceclipse.graham_scan_inside_hull(front[sa], back)\n",
      "/home/kyle/.local/lib/python2.7/site-packages/phoebe/backend/eclipse.py:10: DeprecationWarning: PyArray_FromDims: use PyArray_SimpleNew.\n",
      "  hull, inside = ceclipse.graham_scan_inside_hull(front[sa], back)\n",
      "/home/kyle/.local/lib/python2.7/site-packages/phoebe/backend/eclipse.py:10: DeprecationWarning: PyArray_FromDimsAndDataAndDescr: use PyArray_NewFromDescr.\n",
      "  hull, inside = ceclipse.graham_scan_inside_hull(front[sa], back)\n",
      "/home/kyle/.local/lib/python2.7/site-packages/phoebe/backend/eclipse.py:10: DeprecationWarning: PyArray_FromDims: use PyArray_SimpleNew.\n",
      "  hull, inside = ceclipse.graham_scan_inside_hull(front[sa], back)\n",
      "/home/kyle/.local/lib/python2.7/site-packages/phoebe/backend/eclipse.py:10: DeprecationWarning: PyArray_FromDimsAndDataAndDescr: use PyArray_NewFromDescr.\n",
      "  hull, inside = ceclipse.graham_scan_inside_hull(front[sa], back)\n",
      "/home/kyle/.local/lib/python2.7/site-packages/phoebe/backend/eclipse.py:10: DeprecationWarning: PyArray_FromDims: use PyArray_SimpleNew.\n",
      "  hull, inside = ceclipse.graham_scan_inside_hull(front[sa], back)\n",
      "/home/kyle/.local/lib/python2.7/site-packages/phoebe/backend/eclipse.py:10: DeprecationWarning: PyArray_FromDimsAndDataAndDescr: use PyArray_NewFromDescr.\n",
      "  hull, inside = ceclipse.graham_scan_inside_hull(front[sa], back)\n",
      "/home/kyle/.local/lib/python2.7/site-packages/phoebe/backend/eclipse.py:10: DeprecationWarning: PyArray_FromDims: use PyArray_SimpleNew.\n",
      "  hull, inside = ceclipse.graham_scan_inside_hull(front[sa], back)\n",
      "/home/kyle/.local/lib/python2.7/site-packages/phoebe/backend/eclipse.py:10: DeprecationWarning: PyArray_FromDimsAndDataAndDescr: use PyArray_NewFromDescr.\n",
      "  hull, inside = ceclipse.graham_scan_inside_hull(front[sa], back)\n",
      "/home/kyle/.local/lib/python2.7/site-packages/phoebe/backend/eclipse.py:10: DeprecationWarning: PyArray_FromDims: use PyArray_SimpleNew.\n",
      "  hull, inside = ceclipse.graham_scan_inside_hull(front[sa], back)\n",
      "/home/kyle/.local/lib/python2.7/site-packages/phoebe/backend/eclipse.py:10: DeprecationWarning: PyArray_FromDimsAndDataAndDescr: use PyArray_NewFromDescr.\n",
      "  hull, inside = ceclipse.graham_scan_inside_hull(front[sa], back)\n",
      "/home/kyle/.local/lib/python2.7/site-packages/phoebe/backend/eclipse.py:10: DeprecationWarning: PyArray_FromDims: use PyArray_SimpleNew.\n",
      "  hull, inside = ceclipse.graham_scan_inside_hull(front[sa], back)\n",
      "/home/kyle/.local/lib/python2.7/site-packages/phoebe/backend/eclipse.py:10: DeprecationWarning: PyArray_FromDimsAndDataAndDescr: use PyArray_NewFromDescr.\n",
      "  hull, inside = ceclipse.graham_scan_inside_hull(front[sa], back)\n",
      "/home/kyle/.local/lib/python2.7/site-packages/phoebe/backend/eclipse.py:10: DeprecationWarning: PyArray_FromDims: use PyArray_SimpleNew.\n",
      "  hull, inside = ceclipse.graham_scan_inside_hull(front[sa], back)\n",
      "/home/kyle/.local/lib/python2.7/site-packages/phoebe/backend/eclipse.py:10: DeprecationWarning: PyArray_FromDimsAndDataAndDescr: use PyArray_NewFromDescr.\n",
      "  hull, inside = ceclipse.graham_scan_inside_hull(front[sa], back)\n",
      "/home/kyle/.local/lib/python2.7/site-packages/phoebe/backend/eclipse.py:10: DeprecationWarning: PyArray_FromDims: use PyArray_SimpleNew.\n",
      "  hull, inside = ceclipse.graham_scan_inside_hull(front[sa], back)\n",
      "/home/kyle/.local/lib/python2.7/site-packages/phoebe/backend/eclipse.py:10: DeprecationWarning: PyArray_FromDimsAndDataAndDescr: use PyArray_NewFromDescr.\n",
      "  hull, inside = ceclipse.graham_scan_inside_hull(front[sa], back)\n",
      "/home/kyle/.local/lib/python2.7/site-packages/phoebe/backend/eclipse.py:10: DeprecationWarning: PyArray_FromDims: use PyArray_SimpleNew.\n",
      "  hull, inside = ceclipse.graham_scan_inside_hull(front[sa], back)\n",
      "/home/kyle/.local/lib/python2.7/site-packages/phoebe/backend/eclipse.py:10: DeprecationWarning: PyArray_FromDimsAndDataAndDescr: use PyArray_NewFromDescr.\n",
      "  hull, inside = ceclipse.graham_scan_inside_hull(front[sa], back)\n",
      "/home/kyle/.local/lib/python2.7/site-packages/phoebe/backend/eclipse.py:10: DeprecationWarning: PyArray_FromDims: use PyArray_SimpleNew.\n",
      "  hull, inside = ceclipse.graham_scan_inside_hull(front[sa], back)\n",
      "/home/kyle/.local/lib/python2.7/site-packages/phoebe/backend/eclipse.py:10: DeprecationWarning: PyArray_FromDimsAndDataAndDescr: use PyArray_NewFromDescr.\n",
      "  hull, inside = ceclipse.graham_scan_inside_hull(front[sa], back)\n",
      "/home/kyle/.local/lib/python2.7/site-packages/phoebe/backend/eclipse.py:10: DeprecationWarning: PyArray_FromDims: use PyArray_SimpleNew.\n",
      "  hull, inside = ceclipse.graham_scan_inside_hull(front[sa], back)\n",
      "/home/kyle/.local/lib/python2.7/site-packages/phoebe/backend/eclipse.py:10: DeprecationWarning: PyArray_FromDimsAndDataAndDescr: use PyArray_NewFromDescr.\n",
      "  hull, inside = ceclipse.graham_scan_inside_hull(front[sa], back)\n",
      "/home/kyle/.local/lib/python2.7/site-packages/phoebe/backend/eclipse.py:10: DeprecationWarning: PyArray_FromDims: use PyArray_SimpleNew.\n",
      "  hull, inside = ceclipse.graham_scan_inside_hull(front[sa], back)\n",
      "/home/kyle/.local/lib/python2.7/site-packages/phoebe/backend/eclipse.py:10: DeprecationWarning: PyArray_FromDimsAndDataAndDescr: use PyArray_NewFromDescr.\n",
      "  hull, inside = ceclipse.graham_scan_inside_hull(front[sa], back)\n",
      "/home/kyle/.local/lib/python2.7/site-packages/phoebe/backend/eclipse.py:10: DeprecationWarning: PyArray_FromDims: use PyArray_SimpleNew.\n",
      "  hull, inside = ceclipse.graham_scan_inside_hull(front[sa], back)\n",
      "/home/kyle/.local/lib/python2.7/site-packages/phoebe/backend/eclipse.py:10: DeprecationWarning: PyArray_FromDimsAndDataAndDescr: use PyArray_NewFromDescr.\n",
      "  hull, inside = ceclipse.graham_scan_inside_hull(front[sa], back)\n",
      "/home/kyle/.local/lib/python2.7/site-packages/phoebe/backend/eclipse.py:10: DeprecationWarning: PyArray_FromDims: use PyArray_SimpleNew.\n",
      "  hull, inside = ceclipse.graham_scan_inside_hull(front[sa], back)\n",
      "/home/kyle/.local/lib/python2.7/site-packages/phoebe/backend/eclipse.py:10: DeprecationWarning: PyArray_FromDimsAndDataAndDescr: use PyArray_NewFromDescr.\n",
      "  hull, inside = ceclipse.graham_scan_inside_hull(front[sa], back)\n",
      "/home/kyle/.local/lib/python2.7/site-packages/phoebe/backend/eclipse.py:10: DeprecationWarning: PyArray_FromDims: use PyArray_SimpleNew.\n",
      "  hull, inside = ceclipse.graham_scan_inside_hull(front[sa], back)\n",
      "/home/kyle/.local/lib/python2.7/site-packages/phoebe/backend/eclipse.py:10: DeprecationWarning: PyArray_FromDimsAndDataAndDescr: use PyArray_NewFromDescr.\n",
      "  hull, inside = ceclipse.graham_scan_inside_hull(front[sa], back)\n",
      "/home/kyle/.local/lib/python2.7/site-packages/phoebe/backend/eclipse.py:10: DeprecationWarning: PyArray_FromDims: use PyArray_SimpleNew.\n",
      "  hull, inside = ceclipse.graham_scan_inside_hull(front[sa], back)\n",
      "/home/kyle/.local/lib/python2.7/site-packages/phoebe/backend/eclipse.py:10: DeprecationWarning: PyArray_FromDimsAndDataAndDescr: use PyArray_NewFromDescr.\n",
      "  hull, inside = ceclipse.graham_scan_inside_hull(front[sa], back)\n"
     ]
    },
    {
     "data": {
      "text/plain": [
       "<ParameterSet: 10 parameters | methods: RV, LC>"
      ]
     },
     "execution_count": 15,
     "metadata": {},
     "output_type": "execute_result"
    }
   ],
   "source": [
    "b.run_compute(compute='phoebe', model='phoebemodel')"
   ]
  },
  {
   "cell_type": "code",
   "execution_count": 16,
   "metadata": {
    "collapsed": false
   },
   "outputs": [
    {
     "name": "stderr",
     "output_type": "stream",
     "text": [
      "WARNING:BUNDLE:rpole has no phoebe 1 corollary\n",
      "WARNING:BUNDLE:freq has no phoebe 1 corollary\n",
      "WARNING:BUNDLE:gravblaw has no phoebe 1 corollary\n",
      "WARNING:BUNDLE:ld_func_bol has no phoebe 1 corollary\n",
      "WARNING:BUNDLE:mass has no phoebe 1 corollary\n",
      "WARNING:BUNDLE:rpole has no phoebe 1 corollary\n",
      "WARNING:BUNDLE:freq has no phoebe 1 corollary\n",
      "WARNING:BUNDLE:gravblaw has no phoebe 1 corollary\n",
      "WARNING:BUNDLE:ld_func_bol has no phoebe 1 corollary\n",
      "WARNING:BUNDLE:mass has no phoebe 1 corollary\n",
      "WARNING:BUNDLE:time has no phoebe 1 corollary\n",
      "WARNING:BUNDLE:flux has no phoebe 1 corollary\n",
      "WARNING:BUNDLE:sigma has no phoebe 1 corollary\n",
      "WARNING:BUNDLE:pbscale has no phoebe 1 corollary\n",
      "WARNING:BUNDLE:alb has no phoebe 1 corollary\n",
      "WARNING:BUNDLE:pbscale has no phoebe 1 corollary\n",
      "WARNING:BUNDLE:pbscale has no phoebe 1 corollary\n",
      "WARNING:BUNDLE:alb has no phoebe 1 corollary\n",
      "WARNING:BUNDLE:alb has no phoebe 1 corollary\n",
      "WARNING:BUNDLE:time has no phoebe 1 corollary\n",
      "WARNING:BUNDLE:rv has no phoebe 1 corollary\n",
      "WARNING:BUNDLE:sigma has no phoebe 1 corollary\n",
      "WARNING:BUNDLE:time has no phoebe 1 corollary\n",
      "WARNING:BUNDLE:time has no phoebe 1 corollary\n",
      "WARNING:BUNDLE:rv has no phoebe 1 corollary\n",
      "WARNING:BUNDLE:rv has no phoebe 1 corollary\n",
      "WARNING:BUNDLE:sigma has no phoebe 1 corollary\n",
      "WARNING:BUNDLE:sigma has no phoebe 1 corollary\n",
      "WARNING:BUNDLE:pbscale has no phoebe 1 corollary\n",
      "WARNING:BUNDLE:alb has no phoebe 1 corollary\n",
      "WARNING:BUNDLE:pbscale has no phoebe 1 corollary\n",
      "WARNING:BUNDLE:pbscale has no phoebe 1 corollary\n",
      "WARNING:BUNDLE:alb has no phoebe 1 corollary\n",
      "WARNING:BUNDLE:alb has no phoebe 1 corollary\n",
      "WARNING:BUNDLE:time has no phoebe 1 corollary\n",
      "WARNING:BUNDLE:rv has no phoebe 1 corollary\n",
      "WARNING:BUNDLE:sigma has no phoebe 1 corollary\n",
      "WARNING:BUNDLE:time has no phoebe 1 corollary\n",
      "WARNING:BUNDLE:time has no phoebe 1 corollary\n",
      "WARNING:BUNDLE:rv has no phoebe 1 corollary\n",
      "WARNING:BUNDLE:rv has no phoebe 1 corollary\n",
      "WARNING:BUNDLE:sigma has no phoebe 1 corollary\n",
      "WARNING:BUNDLE:sigma has no phoebe 1 corollary\n",
      "WARNING:BUNDLE:pbscale has no phoebe 1 corollary\n",
      "WARNING:BUNDLE:alb has no phoebe 1 corollary\n",
      "WARNING:BUNDLE:pbscale has no phoebe 1 corollary\n",
      "WARNING:BUNDLE:pbscale has no phoebe 1 corollary\n",
      "WARNING:BUNDLE:alb has no phoebe 1 corollary\n",
      "WARNING:BUNDLE:alb has no phoebe 1 corollary\n",
      "WARNING:BUNDLE:time has no phoebe 1 corollary\n",
      "WARNING:BUNDLE:rv has no phoebe 1 corollary\n",
      "WARNING:BUNDLE:sigma has no phoebe 1 corollary\n",
      "WARNING:BUNDLE:time has no phoebe 1 corollary\n",
      "WARNING:BUNDLE:time has no phoebe 1 corollary\n",
      "WARNING:BUNDLE:rv has no phoebe 1 corollary\n",
      "WARNING:BUNDLE:rv has no phoebe 1 corollary\n",
      "WARNING:BUNDLE:sigma has no phoebe 1 corollary\n",
      "WARNING:BUNDLE:sigma has no phoebe 1 corollary\n",
      "WARNING:BUNDLE:pbscale has no phoebe 1 corollary\n",
      "WARNING:BUNDLE:alb has no phoebe 1 corollary\n",
      "WARNING:BUNDLE:pbscale has no phoebe 1 corollary\n",
      "WARNING:BUNDLE:pbscale has no phoebe 1 corollary\n",
      "WARNING:BUNDLE:alb has no phoebe 1 corollary\n",
      "WARNING:BUNDLE:alb has no phoebe 1 corollary\n",
      "WARNING:BUNDLE:time has no phoebe 1 corollary\n",
      "WARNING:BUNDLE:rv has no phoebe 1 corollary\n",
      "WARNING:BUNDLE:sigma has no phoebe 1 corollary\n",
      "WARNING:BUNDLE:time has no phoebe 1 corollary\n",
      "WARNING:BUNDLE:time has no phoebe 1 corollary\n",
      "WARNING:BUNDLE:rv has no phoebe 1 corollary\n",
      "WARNING:BUNDLE:rv has no phoebe 1 corollary\n",
      "WARNING:BUNDLE:sigma has no phoebe 1 corollary\n",
      "WARNING:BUNDLE:sigma has no phoebe 1 corollary\n",
      "WARNING:BUNDLE:pbscale has no phoebe 1 corollary\n",
      "WARNING:BUNDLE:alb has no phoebe 1 corollary\n",
      "WARNING:BUNDLE:pbscale has no phoebe 1 corollary\n",
      "WARNING:BUNDLE:pbscale has no phoebe 1 corollary\n",
      "WARNING:BUNDLE:alb has no phoebe 1 corollary\n",
      "WARNING:BUNDLE:alb has no phoebe 1 corollary\n",
      "WARNING:BUNDLE:freq has no phoebe 1 corollary\n",
      "WARNING:BUNDLE:deccdt has no phoebe 1 corollary\n",
      "WARNING:BUNDLE:t0_perpass has no phoebe 1 corollary\n",
      "WARNING:BUNDLE:long_an has no phoebe 1 corollary\n",
      "WARNING:BUNDLE:asini has no phoebe 1 corollary\n",
      "WARNING:BUNDLE:ecosw has no phoebe 1 corollary\n",
      "WARNING:BUNDLE:esinw has no phoebe 1 corollary\n",
      "WARNING:BUNDLE:store_mesh has no phoebe 1 corollary\n",
      "WARNING:BUNDLE:cindex has no phoebe 1 corollary\n",
      "WARNING:BUNDLE:heating has no phoebe 1 corollary\n",
      "WARNING:BUNDLE:rv_method has no phoebe 1 corollary\n",
      "WARNING:BUNDLE:rv_method has no phoebe 1 corollary\n",
      "WARNING:BUNDLE:rv_method has no phoebe 1 corollary\n",
      "WARNING:BUNDLE:rv_method has no phoebe 1 corollary\n",
      "WARNING:BUNDLE:t0 has no phoebe 1 corollary\n",
      "WARNING:BUNDLE:ra has no phoebe 1 corollary\n",
      "WARNING:BUNDLE:dec has no phoebe 1 corollary\n",
      "WARNING:BUNDLE:epoch has no phoebe 1 corollary\n",
      "WARNING:BUNDLE:distance has no phoebe 1 corollary\n",
      "WARNING:BUNDLE:hierarchy has no phoebe 1 corollary\n"
     ]
    },
    {
     "data": {
      "text/plain": [
       "<ParameterSet: 10 parameters | methods: RV, LC>"
      ]
     },
     "execution_count": 16,
     "metadata": {},
     "output_type": "execute_result"
    }
   ],
   "source": [
    "b.run_compute(compute='phoebe1', model='phoebe1model')"
   ]
  },
  {
   "cell_type": "markdown",
   "metadata": {},
   "source": [
    "Plotting\n",
    "-------------------------"
   ]
  },
  {
   "cell_type": "markdown",
   "metadata": {},
   "source": [
    "### Light Curve"
   ]
  },
  {
   "cell_type": "code",
   "execution_count": 17,
   "metadata": {
    "collapsed": false
   },
   "outputs": [
    {
     "data": {
      "image/png": "[encoded data removed]",
      "text/plain": [
       "<matplotlib.figure.Figure at 0x7f99a81320d0>"
      ]
     },
     "metadata": {},
     "output_type": "display_data"
    }
   ],
   "source": [
    "axs, artists = b['lc01@phoebemodel'].plot()\n",
    "axs, artists = b['lc01@phoebe1model'].plot()\n",
    "leg = plt.legend(loc=4)"
   ]
  },
  {
   "cell_type": "markdown",
   "metadata": {},
   "source": [
    "Now let's plot the residuals between these two models"
   ]
  },
  {
   "cell_type": "code",
   "execution_count": 18,
   "metadata": {
    "collapsed": false
   },
   "outputs": [
    {
     "data": {
      "image/png": "[encoded data removed]",
      "text/plain": [
       "<matplotlib.figure.Figure at 0x7f99a80f0c50>"
      ]
     },
     "metadata": {},
     "output_type": "display_data"
    }
   ],
   "source": [
    "artist, = plt.plot(b.get_value('flux@lc01@phoebemodel') - b.get_value('flux@lc01@phoebe1model'))\n",
    "artist = plt.axhline(0.0, linestyle='dashed', color='k')"
   ]
  },
  {
   "cell_type": "markdown",
   "metadata": {},
   "source": [
    "### Dynamical RVs"
   ]
  },
  {
   "cell_type": "code",
   "execution_count": 19,
   "metadata": {
    "collapsed": false,
    "scrolled": true
   },
   "outputs": [
    {
     "data": {
      "image/png": "[encoded data removed]",
      "text/plain": [
       "<matplotlib.figure.Figure at 0x7f99a8161390>"
      ]
     },
     "metadata": {},
     "output_type": "display_data"
    }
   ],
   "source": [
    "axs, artists = b['rvdyn@phoebemodel'].plot()\n",
    "axs, artists = b['rvdyn@phoebe1model'].plot()"
   ]
  },
  {
   "cell_type": "markdown",
   "metadata": {},
   "source": [
    "And also plot the residuals of both the primary and secondary RVs (notice the scale on the y-axis)"
   ]
  },
  {
   "cell_type": "code",
   "execution_count": 20,
   "metadata": {
    "collapsed": false
   },
   "outputs": [
    {
     "data": {
      "text/plain": [
       "(-1e-12, 1e-12)"
      ]
     },
     "execution_count": 20,
     "metadata": {},
     "output_type": "execute_result"
    },
    {
     "data": {
      "image/png": "[encoded data removed]",
      "text/plain": [
       "<matplotlib.figure.Figure at 0x7f99a81c4690>"
      ]
     },
     "metadata": {},
     "output_type": "display_data"
    }
   ],
   "source": [
    "artist, = plt.plot(b.get_value('rv@rvdyn@primary@phoebemodel', ) - b.get_value('rv@rvdyn@primary@phoebe1model'), color='b')\n",
    "artist, = plt.plot(b.get_value('rv@rvdyn@secondary@phoebemodel') - b.get_value('rv@rvdyn@secondary@phoebe1model'), color='r')\n",
    "artist = plt.axhline(0.0, linestyle='dashed', color='k')\n",
    "plt.ylim(-1e-12, 1e-12)"
   ]
  },
  {
   "cell_type": "markdown",
   "metadata": {},
   "source": [
    "### Numerical (flux-weighted) RVs"
   ]
  },
  {
   "cell_type": "code",
   "execution_count": 21,
   "metadata": {
    "collapsed": false
   },
   "outputs": [
    {
     "data": {
      "image/png": "[encoded data removed]",
      "text/plain": [
       "<matplotlib.figure.Figure at 0x7f99a81c4910>"
      ]
     },
     "metadata": {},
     "output_type": "display_data"
    }
   ],
   "source": [
    "axs, artists = b['rvnum@phoebemodel'].plot()\n",
    "axs, artists = b['rvnum@phoebe1model'].plot()"
   ]
  },
  {
   "cell_type": "code",
   "execution_count": 22,
   "metadata": {
    "collapsed": false
   },
   "outputs": [
    {
     "data": {
      "text/plain": [
       "(-0.01, 0.01)"
      ]
     },
     "execution_count": 22,
     "metadata": {},
     "output_type": "execute_result"
    },
    {
     "data": {
      "image/png": "[encoded data removed]",
      "text/plain": [
       "<matplotlib.figure.Figure at 0x7f99a7cddad0>"
      ]
     },
     "metadata": {},
     "output_type": "display_data"
    }
   ],
   "source": [
    "artist, = plt.plot(b.get_value('rv@rvnum@primary@phoebemodel', ) - b.get_value('rv@rvnum@primary@phoebe1model'), color='b')\n",
    "artist, = plt.plot(b.get_value('rv@rvnum@secondary@phoebemodel') - b.get_value('rv@rvnum@secondary@phoebe1model'), color='r')\n",
    "artist = plt.axhline(0.0, linestyle='dashed', color='k')\n",
    "plt.ylim(-1e-2, 1e-2)"
   ]
  },
  {
   "cell_type": "code",
   "execution_count": null,
   "metadata": {
    "collapsed": true
   },
   "outputs": [],
   "source": []
  }
 ],
 "metadata": {
  "kernelspec": {
   "display_name": "Python 2",
   "language": "python",
   "name": "python2"
  },
  "language_info": {
   "codemirror_mode": {
    "name": "ipython",
    "version": 2
   },
   "file_extension": ".py",
   "mimetype": "text/x-python",
   "name": "python",
   "nbconvert_exporter": "python",
   "pygments_lexer": "ipython2",
   "version": "2.7.9"
  }
 },
 "nbformat": 4,
 "nbformat_minor": 0
}
