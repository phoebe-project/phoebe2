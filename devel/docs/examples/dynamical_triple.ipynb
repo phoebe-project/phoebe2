{
 "cells": [
  {
   "cell_type": "markdown",
   "metadata": {},
   "source": [
    "[IPython Notebook](dynamicial_triple.ipynb) |  [Python Script](dynamical_triple.py)"
   ]
  },
  {
   "cell_type": "markdown",
   "metadata": {},
   "source": [
    "Minimal Dynamical Triple\n",
    "============================\n",
    "\n",
    "Setup\n",
    "-----------------------------"
   ]
  },
  {
   "cell_type": "markdown",
   "metadata": {
    "collapsed": true
   },
   "source": [
    "As always, let's do imports and initialize a logger and a new bundle.  See [Building a System](../tutorials/building_a_system.html) for more details."
   ]
  },
  {
   "cell_type": "code",
   "execution_count": 1,
   "metadata": {
    "collapsed": true
   },
   "outputs": [],
   "source": [
    "%matplotlib inline"
   ]
  },
  {
   "cell_type": "code",
   "execution_count": 2,
   "metadata": {
    "collapsed": false
   },
   "outputs": [
    {
     "name": "stderr",
     "output_type": "stream",
     "text": [
      "/usr/local/lib/python2.7/dist-packages/IPython/kernel/__init__.py:13: ShimWarning: The `IPython.kernel` package has been deprecated. You should import from ipykernel or jupyter_client instead.\n",
      "  \"You should import from ipykernel or jupyter_client instead.\", ShimWarning)\n",
      "WARNING: Constant u'Gravitational constant' is already has a definition in the u'si' system [astropy.constants.constant]\n",
      "WARNING:astropy:Constant u'Gravitational constant' is already has a definition in the u'si' system\n",
      "WARNING: Constant u'Solar mass' is already has a definition in the u'si' system [astropy.constants.constant]\n",
      "WARNING:astropy:Constant u'Solar mass' is already has a definition in the u'si' system\n",
      "WARNING: Constant u'Solar radius' is already has a definition in the u'si' system [astropy.constants.constant]\n",
      "WARNING:astropy:Constant u'Solar radius' is already has a definition in the u'si' system\n",
      "WARNING: Constant u'Solar luminosity' is already has a definition in the u'si' system [astropy.constants.constant]\n",
      "WARNING:astropy:Constant u'Solar luminosity' is already has a definition in the u'si' system\n",
      "/usr/local/lib/python2.7/dist-packages/astropy/units/quantity.py:732: FutureWarning: comparison to `None` will result in an elementwise object comparison in the future.\n",
      "  return super(Quantity, self).__eq__(other)\n"
     ]
    }
   ],
   "source": [
    "import phoebe\n",
    "from phoebe import u # units\n",
    "import numpy as np\n",
    "import matplotlib.pyplot as plt\n",
    "\n",
    "logger = phoebe.logger(clevel='INFO')\n",
    "\n",
    "b = phoebe.Bundle.default_triple()"
   ]
  },
  {
   "cell_type": "markdown",
   "metadata": {},
   "source": [
    "Adding Datasets\n",
    "----------------------"
   ]
  },
  {
   "cell_type": "code",
   "execution_count": 3,
   "metadata": {
    "collapsed": false
   },
   "outputs": [
    {
     "data": {
      "text/plain": [
       "<ParameterSet: 22 parameters | methods: LC, LC_dep>"
      ]
     },
     "execution_count": 3,
     "metadata": {},
     "output_type": "execute_result"
    }
   ],
   "source": [
    "b.add_dataset('LC', time=np.linspace(0,10,201), dataset='lc01')"
   ]
  },
  {
   "cell_type": "code",
   "execution_count": 4,
   "metadata": {
    "collapsed": false
   },
   "outputs": [
    {
     "data": {
      "text/plain": [
       "<ParameterSet: 31 parameters | methods: RV, RV_dep>"
      ]
     },
     "execution_count": 4,
     "metadata": {},
     "output_type": "execute_result"
    }
   ],
   "source": [
    "b.add_dataset('RV', time=np.linspace(0,10,201), dataset='rv01')"
   ]
  },
  {
   "cell_type": "code",
   "execution_count": 5,
   "metadata": {
    "collapsed": false
   },
   "outputs": [
    {
     "data": {
      "text/plain": [
       "<ParameterSet: 4 parameters | components: _default, starA, starC, starB>"
      ]
     },
     "execution_count": 5,
     "metadata": {},
     "output_type": "execute_result"
    }
   ],
   "source": [
    "b.add_dataset('ORB', time=np.linspace(0,10,201), dataset='orb01')"
   ]
  },
  {
   "cell_type": "code",
   "execution_count": 6,
   "metadata": {
    "collapsed": false
   },
   "outputs": [
    {
     "data": {
      "text/plain": [
       "<ParameterSet: 25 parameters | contexts: dataset, constraint>"
      ]
     },
     "execution_count": 6,
     "metadata": {},
     "output_type": "execute_result"
    }
   ],
   "source": [
    "b.add_dataset('ETV', N=np.linspace(0,20,21), dataset='etv01')"
   ]
  },
  {
   "cell_type": "markdown",
   "metadata": {},
   "source": [
    "Let's look at this hierarchy of the system.  Here we can see that starA and starB are in the inner-orbit and starC is the \"companion\""
   ]
  },
  {
   "cell_type": "code",
   "execution_count": 7,
   "metadata": {
    "collapsed": false
   },
   "outputs": [
    {
     "name": "stdout",
     "output_type": "stream",
     "text": [
      "\n",
      "    orbit:outer \n",
      "    \n",
      "        orbit:inner \n",
      "        \n",
      "            star:starA \n",
      "            star:starB\n",
      "         \n",
      "        star:starC\n",
      "    \n",
      "\n"
     ]
    }
   ],
   "source": [
    "print b.hierarchy"
   ]
  },
  {
   "cell_type": "markdown",
   "metadata": {},
   "source": [
    "By default, adding an RV dataset adds entries for all three stars.  If we wanted only the inner-binary, for example, we would have provided component=['starA', 'starB'] when calling add_dataset."
   ]
  },
  {
   "cell_type": "code",
   "execution_count": 8,
   "metadata": {
    "collapsed": false,
    "scrolled": true
   },
   "outputs": [
    {
     "name": "stdout",
     "output_type": "stream",
     "text": [
      "ParameterSet: 4 parameters\n",
      "      time@_default@rv01@dataset: [  0.     0.05   0.1    0.15   0.2    0.25   0.3    0.35   0.4    0.45\n",
      "   0.5    0.55   0.6    0.65   0.7    0.75   0.8    0.85   0.9    0.95   1.\n",
      "   1.05   1.1    1.15   1.2    1.25   1.3    1.35   1.4    1.45   1.5\n",
      "   1.55   1.6    1.65   1.7    1.75   1.8    1.85   1.9    1.95   2.     2.05\n",
      "   2.1    2.15   2.2    2.25   2.3    2.35   2.4    2.45   2.5    2.55\n",
      "   2.6    2.65   2.7    2.75   2.8    2.85   2.9    2.95   3.     3.05\n",
      "   3.1    3.15   3.2    3.25   3.3    3.35   3.4    3.45   3.5    3.55\n",
      "   3.6    3.65   3.7    3.75   3.8    3.85   3.9    3.95   4.     4.05\n",
      "   4.1    4.15   4.2    4.25   4.3    4.35   4.4    4.45   4.5    4.55\n",
      "   4.6    4.65   4.7    4.75   4.8    4.85   4.9    4.95   5.     5.05\n",
      "   5.1    5.15   5.2    5.25   5.3    5.35   5.4    5.45   5.5    5.55\n",
      "   5.6    5.65   5.7    5.75   5.8    5.85   5.9    5.95   6.     6.05\n",
      "   6.1    6.15   6.2    6.25   6.3    6.35   6.4    6.45   6.5    6.55\n",
      "   6.6    6.65   6.7    6.75   6.8    6.85   6.9    6.95   7.     7.05\n",
      "   7.1    7.15   7.2    7.25   7.3    7.35   7.4    7.45   7.5    7.55\n",
      "   7.6    7.65   7.7    7.75   7.8    7.85   7.9    7.95   8.     8.05\n",
      "   8.1    8.15   8.2    8.25   8.3    8.35   8.4    8.45   8.5    8.55\n",
      "   8.6    8.65   8.7    8.75   8.8    8.85   8.9    8.95   9.     9.05\n",
      "   9.1    9.15   9.2    9.25   9.3    9.35   9.4    9.45   9.5    9.55\n",
      "   9.6    9.65   9.7    9.75   9.8    9.85   9.9    9.95  10.  ] d\n",
      "         time@starA@rv01@dataset: [  0.     0.05   0.1    0.15   0.2    0.25   0.3    0.35   0.4    0.45\n",
      "   0.5    0.55   0.6    0.65   0.7    0.75   0.8    0.85   0.9    0.95   1.\n",
      "   1.05   1.1    1.15   1.2    1.25   1.3    1.35   1.4    1.45   1.5\n",
      "   1.55   1.6    1.65   1.7    1.75   1.8    1.85   1.9    1.95   2.     2.05\n",
      "   2.1    2.15   2.2    2.25   2.3    2.35   2.4    2.45   2.5    2.55\n",
      "   2.6    2.65   2.7    2.75   2.8    2.85   2.9    2.95   3.     3.05\n",
      "   3.1    3.15   3.2    3.25   3.3    3.35   3.4    3.45   3.5    3.55\n",
      "   3.6    3.65   3.7    3.75   3.8    3.85   3.9    3.95   4.     4.05\n",
      "   4.1    4.15   4.2    4.25   4.3    4.35   4.4    4.45   4.5    4.55\n",
      "   4.6    4.65   4.7    4.75   4.8    4.85   4.9    4.95   5.     5.05\n",
      "   5.1    5.15   5.2    5.25   5.3    5.35   5.4    5.45   5.5    5.55\n",
      "   5.6    5.65   5.7    5.75   5.8    5.85   5.9    5.95   6.     6.05\n",
      "   6.1    6.15   6.2    6.25   6.3    6.35   6.4    6.45   6.5    6.55\n",
      "   6.6    6.65   6.7    6.75   6.8    6.85   6.9    6.95   7.     7.05\n",
      "   7.1    7.15   7.2    7.25   7.3    7.35   7.4    7.45   7.5    7.55\n",
      "   7.6    7.65   7.7    7.75   7.8    7.85   7.9    7.95   8.     8.05\n",
      "   8.1    8.15   8.2    8.25   8.3    8.35   8.4    8.45   8.5    8.55\n",
      "   8.6    8.65   8.7    8.75   8.8    8.85   8.9    8.95   9.     9.05\n",
      "   9.1    9.15   9.2    9.25   9.3    9.35   9.4    9.45   9.5    9.55\n",
      "   9.6    9.65   9.7    9.75   9.8    9.85   9.9    9.95  10.  ] d\n",
      "         time@starC@rv01@dataset: [  0.     0.05   0.1    0.15   0.2    0.25   0.3    0.35   0.4    0.45\n",
      "   0.5    0.55   0.6    0.65   0.7    0.75   0.8    0.85   0.9    0.95   1.\n",
      "   1.05   1.1    1.15   1.2    1.25   1.3    1.35   1.4    1.45   1.5\n",
      "   1.55   1.6    1.65   1.7    1.75   1.8    1.85   1.9    1.95   2.     2.05\n",
      "   2.1    2.15   2.2    2.25   2.3    2.35   2.4    2.45   2.5    2.55\n",
      "   2.6    2.65   2.7    2.75   2.8    2.85   2.9    2.95   3.     3.05\n",
      "   3.1    3.15   3.2    3.25   3.3    3.35   3.4    3.45   3.5    3.55\n",
      "   3.6    3.65   3.7    3.75   3.8    3.85   3.9    3.95   4.     4.05\n",
      "   4.1    4.15   4.2    4.25   4.3    4.35   4.4    4.45   4.5    4.55\n",
      "   4.6    4.65   4.7    4.75   4.8    4.85   4.9    4.95   5.     5.05\n",
      "   5.1    5.15   5.2    5.25   5.3    5.35   5.4    5.45   5.5    5.55\n",
      "   5.6    5.65   5.7    5.75   5.8    5.85   5.9    5.95   6.     6.05\n",
      "   6.1    6.15   6.2    6.25   6.3    6.35   6.4    6.45   6.5    6.55\n",
      "   6.6    6.65   6.7    6.75   6.8    6.85   6.9    6.95   7.     7.05\n",
      "   7.1    7.15   7.2    7.25   7.3    7.35   7.4    7.45   7.5    7.55\n",
      "   7.6    7.65   7.7    7.75   7.8    7.85   7.9    7.95   8.     8.05\n",
      "   8.1    8.15   8.2    8.25   8.3    8.35   8.4    8.45   8.5    8.55\n",
      "   8.6    8.65   8.7    8.75   8.8    8.85   8.9    8.95   9.     9.05\n",
      "   9.1    9.15   9.2    9.25   9.3    9.35   9.4    9.45   9.5    9.55\n",
      "   9.6    9.65   9.7    9.75   9.8    9.85   9.9    9.95  10.  ] d\n",
      "         time@starB@rv01@dataset: [  0.     0.05   0.1    0.15   0.2    0.25   0.3    0.35   0.4    0.45\n",
      "   0.5    0.55   0.6    0.65   0.7    0.75   0.8    0.85   0.9    0.95   1.\n",
      "   1.05   1.1    1.15   1.2    1.25   1.3    1.35   1.4    1.45   1.5\n",
      "   1.55   1.6    1.65   1.7    1.75   1.8    1.85   1.9    1.95   2.     2.05\n",
      "   2.1    2.15   2.2    2.25   2.3    2.35   2.4    2.45   2.5    2.55\n",
      "   2.6    2.65   2.7    2.75   2.8    2.85   2.9    2.95   3.     3.05\n",
      "   3.1    3.15   3.2    3.25   3.3    3.35   3.4    3.45   3.5    3.55\n",
      "   3.6    3.65   3.7    3.75   3.8    3.85   3.9    3.95   4.     4.05\n",
      "   4.1    4.15   4.2    4.25   4.3    4.35   4.4    4.45   4.5    4.55\n",
      "   4.6    4.65   4.7    4.75   4.8    4.85   4.9    4.95   5.     5.05\n",
      "   5.1    5.15   5.2    5.25   5.3    5.35   5.4    5.45   5.5    5.55\n",
      "   5.6    5.65   5.7    5.75   5.8    5.85   5.9    5.95   6.     6.05\n",
      "   6.1    6.15   6.2    6.25   6.3    6.35   6.4    6.45   6.5    6.55\n",
      "   6.6    6.65   6.7    6.75   6.8    6.85   6.9    6.95   7.     7.05\n",
      "   7.1    7.15   7.2    7.25   7.3    7.35   7.4    7.45   7.5    7.55\n",
      "   7.6    7.65   7.7    7.75   7.8    7.85   7.9    7.95   8.     8.05\n",
      "   8.1    8.15   8.2    8.25   8.3    8.35   8.4    8.45   8.5    8.55\n",
      "   8.6    8.65   8.7    8.75   8.8    8.85   8.9    8.95   9.     9.05\n",
      "   9.1    9.15   9.2    9.25   9.3    9.35   9.4    9.45   9.5    9.55\n",
      "   9.6    9.65   9.7    9.75   9.8    9.85   9.9    9.95  10.  ] d\n"
     ]
    }
   ],
   "source": [
    "print b['time@rv01']"
   ]
  },
  {
   "cell_type": "markdown",
   "metadata": {},
   "source": [
    "Similarly, the ETV dataset will add entries for all stars in which the other component in the same orbit is also a star.  The corresponding ETVs are then the timings of the eclipse in which that component is eclipsed by the other star in its orbit.\n",
    "\n",
    "Since starC does not have a star in its orbit (the other component is a nested binary), it cannot have timings computed."
   ]
  },
  {
   "cell_type": "code",
   "execution_count": 9,
   "metadata": {
    "collapsed": false
   },
   "outputs": [
    {
     "name": "stdout",
     "output_type": "stream",
     "text": [
      "ParameterSet: 4 parameters\n",
      "* time_ephem@_default@etv01@d...: [   0.   10.   20.   30.   40.   50.   60.   70.   80.   90.  100.  110.\n",
      "  120.  130.  140.  150.  160.  170.  180.  190.  200.] d\n",
      "* time_ephem@starA@etv01@dataset: [  0.   1.   2.   3.   4.   5.   6.   7.   8.   9.  10.  11.  12.  13.  14.\n",
      "  15.  16.  17.  18.  19.  20.] d\n",
      "* time_ephem@starC@etv01@dataset: [] d\n",
      "* time_ephem@starB@etv01@dataset: [  0.5   1.5   2.5   3.5   4.5   5.5   6.5   7.5   8.5   9.5  10.5  11.5\n",
      "  12.5  13.5  14.5  15.5  16.5  17.5  18.5  19.5  20.5] d\n"
     ]
    }
   ],
   "source": [
    "print b['time_ephem@etv01@dataset']"
   ]
  },
  {
   "cell_type": "markdown",
   "metadata": {},
   "source": [
    "Running Compute\n",
    "-----------------------"
   ]
  },
  {
   "cell_type": "markdown",
   "metadata": {},
   "source": [
    "Since this is a triple system and we know that the barycenter of the inner-binary is moving, let's enable light-time effects (ltte).  Let's also do dynamical RVs (they're faster and we aren't really worrying about Rossiter-McLaughlin effects for this case)."
   ]
  },
  {
   "cell_type": "code",
   "execution_count": 10,
   "metadata": {
    "collapsed": false
   },
   "outputs": [
    {
     "data": {
      "text/plain": [
       "<ParameterSet: 20 parameters | qualifiers: dynamics_method, gridsize, gr, rv_method, mesh_offset, integrator, atm, enabled, ltte, rv_grav, stepsize, etv_method, maxpoints, delta, etv_tol, store_mesh, distortion_method, eclipse_alg, mesh_method, lc_method>"
      ]
     },
     "execution_count": 10,
     "metadata": {},
     "output_type": "execute_result"
    }
   ],
   "source": [
    "b.add_compute(compute='phoebe', ltte=True, rv_method='dynamical', etv_tol=1*u.s)"
   ]
  },
  {
   "cell_type": "code",
   "execution_count": 11,
   "metadata": {
    "collapsed": true
   },
   "outputs": [],
   "source": [
    "b.set_value_all('dynamics_method', 'nbody')"
   ]
  },
  {
   "cell_type": "code",
   "execution_count": 12,
   "metadata": {
    "collapsed": false
   },
   "outputs": [
    {
     "name": "stderr",
     "output_type": "stream",
     "text": [
      "/usr/local/lib/python2.7/dist-packages/rebound/simulation.py:301: RuntimeWarning: At least 10 predictor corrector loops in IAS15 did not converge. This is typically an indication of the timestep being too large.\n",
      "  warnings.warn(msg[1:], RuntimeWarning)\n"
     ]
    },
    {
     "ename": "SystemError",
     "evalue": "error return without exception set",
     "output_type": "error",
     "traceback": [
      "\u001b[1;31m---------------------------------------------------------------------------\u001b[0m",
      "\u001b[1;31mSystemError\u001b[0m                               Traceback (most recent call last)",
      "\u001b[1;32m<ipython-input-12-83f6786d45e6>\u001b[0m in \u001b[0;36m<module>\u001b[1;34m()\u001b[0m\n\u001b[1;32m----> 1\u001b[1;33m \u001b[0mb\u001b[0m\u001b[1;33m.\u001b[0m\u001b[0mrun_compute\u001b[0m\u001b[1;33m(\u001b[0m\u001b[0mcompute\u001b[0m\u001b[1;33m=\u001b[0m\u001b[1;34m'phoebe'\u001b[0m\u001b[1;33m)\u001b[0m\u001b[1;33m\u001b[0m\u001b[0m\n\u001b[0m",
      "\u001b[1;32m/home/kyle/.local/lib/python2.7/site-packages/phoebe/parameters/parameters.pyc\u001b[0m in \u001b[0;36m_send_if_client\u001b[1;34m(self, *args, **kwargs)\u001b[0m\n\u001b[0;32m    134\u001b[0m                 \u001b[0mself\u001b[0m\u001b[1;33m.\u001b[0m\u001b[0m_bundle\u001b[0m\u001b[1;33m.\u001b[0m\u001b[0mclient_update\u001b[0m\u001b[1;33m(\u001b[0m\u001b[1;33m)\u001b[0m\u001b[1;33m\u001b[0m\u001b[0m\n\u001b[0;32m    135\u001b[0m         \u001b[1;32melse\u001b[0m\u001b[1;33m:\u001b[0m\u001b[1;33m\u001b[0m\u001b[0m\n\u001b[1;32m--> 136\u001b[1;33m             \u001b[1;32mreturn\u001b[0m \u001b[0mfctn\u001b[0m\u001b[1;33m(\u001b[0m\u001b[0mself\u001b[0m\u001b[1;33m,\u001b[0m \u001b[1;33m*\u001b[0m\u001b[0margs\u001b[0m\u001b[1;33m,\u001b[0m \u001b[1;33m**\u001b[0m\u001b[0mkwargs\u001b[0m\u001b[1;33m)\u001b[0m\u001b[1;33m\u001b[0m\u001b[0m\n\u001b[0m\u001b[0;32m    137\u001b[0m     \u001b[1;32mreturn\u001b[0m \u001b[0m_send_if_client\u001b[0m\u001b[1;33m\u001b[0m\u001b[0m\n\u001b[0;32m    138\u001b[0m \u001b[1;33m\u001b[0m\u001b[0m\n",
      "\u001b[1;32m/home/kyle/.local/lib/python2.7/site-packages/phoebe/frontend/bundle.pyc\u001b[0m in \u001b[0;36mrun_compute\u001b[1;34m(self, compute, model, detach, animate, time, **kwargs)\u001b[0m\n\u001b[0;32m   2259\u001b[0m                 \u001b[1;31m# comma in the following line is necessary because compute_func\u001b[0m\u001b[1;33m\u001b[0m\u001b[1;33m\u001b[0m\u001b[0m\n\u001b[0;32m   2260\u001b[0m                 \u001b[1;31m# is /technically/ a generator (it yields instead of returns)\u001b[0m\u001b[1;33m\u001b[0m\u001b[1;33m\u001b[0m\u001b[0m\n\u001b[1;32m-> 2261\u001b[1;33m                 \u001b[0mparams\u001b[0m\u001b[1;33m,\u001b[0m \u001b[1;33m=\u001b[0m \u001b[0mcompute_func\u001b[0m\u001b[1;33m(\u001b[0m\u001b[0mself\u001b[0m\u001b[1;33m,\u001b[0m \u001b[0mcompute\u001b[0m\u001b[1;33m,\u001b[0m \u001b[0mtime\u001b[0m\u001b[1;33m=\u001b[0m\u001b[0mtime\u001b[0m\u001b[1;33m,\u001b[0m \u001b[1;33m**\u001b[0m\u001b[0mkwargs\u001b[0m\u001b[1;33m)\u001b[0m\u001b[1;33m\u001b[0m\u001b[0m\n\u001b[0m\u001b[0;32m   2262\u001b[0m \u001b[1;33m\u001b[0m\u001b[0m\n\u001b[0;32m   2263\u001b[0m             \u001b[0mself\u001b[0m\u001b[1;33m.\u001b[0m\u001b[0m_attach_params\u001b[0m\u001b[1;33m(\u001b[0m\u001b[0mparams\u001b[0m\u001b[1;33m,\u001b[0m \u001b[1;33m**\u001b[0m\u001b[0mmetawargs\u001b[0m\u001b[1;33m)\u001b[0m\u001b[1;33m\u001b[0m\u001b[0m\n",
      "\u001b[1;32m/home/kyle/.local/lib/python2.7/site-packages/phoebe/backend/backends.pyc\u001b[0m in \u001b[0;36mphoebe\u001b[1;34m(b, compute, time, as_generator, **kwargs)\u001b[0m\n\u001b[0;32m    598\u001b[0m             \u001b[1;31m# sma = b.get_value('sma', component=starrefs[body.ind_self], context='component', time=time, unit=u.solRad)\u001b[0m\u001b[1;33m\u001b[0m\u001b[1;33m\u001b[0m\u001b[0m\n\u001b[0;32m    599\u001b[0m \u001b[1;33m\u001b[0m\u001b[0m\n\u001b[1;32m--> 600\u001b[1;33m             \u001b[0msystem\u001b[0m\u001b[1;33m.\u001b[0m\u001b[0mupdate_positions\u001b[0m\u001b[1;33m(\u001b[0m\u001b[0mtime\u001b[0m\u001b[1;33m,\u001b[0m \u001b[0mxi\u001b[0m\u001b[1;33m,\u001b[0m \u001b[0myi\u001b[0m\u001b[1;33m,\u001b[0m \u001b[0mzi\u001b[0m\u001b[1;33m,\u001b[0m \u001b[0mvxi\u001b[0m\u001b[1;33m,\u001b[0m \u001b[0mvyi\u001b[0m\u001b[1;33m,\u001b[0m \u001b[0mvzi\u001b[0m\u001b[1;33m,\u001b[0m \u001b[0methetai\u001b[0m\u001b[1;33m,\u001b[0m \u001b[0melongani\u001b[0m\u001b[1;33m,\u001b[0m \u001b[0meincli\u001b[0m\u001b[1;33m,\u001b[0m \u001b[0mds\u001b[0m\u001b[1;33m=\u001b[0m\u001b[0mdi\u001b[0m\u001b[1;33m,\u001b[0m \u001b[0mFs\u001b[0m\u001b[1;33m=\u001b[0m\u001b[0mFi\u001b[0m\u001b[1;33m)\u001b[0m\u001b[1;33m\u001b[0m\u001b[0m\n\u001b[0m\u001b[0;32m    601\u001b[0m \u001b[1;33m\u001b[0m\u001b[0m\n\u001b[0;32m    602\u001b[0m             \u001b[1;31m# Now we need to determine which triangles are visible and handle subdivision\u001b[0m\u001b[1;33m\u001b[0m\u001b[1;33m\u001b[0m\u001b[0m\n",
      "\u001b[1;32m/home/kyle/.local/lib/python2.7/site-packages/phoebe/backend/universe.pyc\u001b[0m in \u001b[0;36mupdate_positions\u001b[1;34m(self, time, xs, ys, zs, vxs, vys, vzs, ethetas, elongans, eincls, ds, Fs)\u001b[0m\n\u001b[0;32m    194\u001b[0m         \u001b[1;32mfor\u001b[0m \u001b[0mstarref\u001b[0m\u001b[1;33m,\u001b[0m\u001b[0mbody\u001b[0m \u001b[1;32min\u001b[0m \u001b[0mself\u001b[0m\u001b[1;33m.\u001b[0m\u001b[0mitems\u001b[0m\u001b[1;33m(\u001b[0m\u001b[1;33m)\u001b[0m\u001b[1;33m:\u001b[0m\u001b[1;33m\u001b[0m\u001b[0m\n\u001b[0;32m    195\u001b[0m             \u001b[1;31m#logger.debug(\"updating position of mesh for {}\".format(starref))\u001b[0m\u001b[1;33m\u001b[0m\u001b[1;33m\u001b[0m\u001b[0m\n\u001b[1;32m--> 196\u001b[1;33m             \u001b[0mbody\u001b[0m\u001b[1;33m.\u001b[0m\u001b[0mupdate_position\u001b[0m\u001b[1;33m(\u001b[0m\u001b[0mtime\u001b[0m\u001b[1;33m,\u001b[0m \u001b[0mxs\u001b[0m\u001b[1;33m,\u001b[0m \u001b[0mys\u001b[0m\u001b[1;33m,\u001b[0m \u001b[0mzs\u001b[0m\u001b[1;33m,\u001b[0m \u001b[0mvxs\u001b[0m\u001b[1;33m,\u001b[0m \u001b[0mvys\u001b[0m\u001b[1;33m,\u001b[0m \u001b[0mvzs\u001b[0m\u001b[1;33m,\u001b[0m \u001b[0methetas\u001b[0m\u001b[1;33m,\u001b[0m \u001b[0melongans\u001b[0m\u001b[1;33m,\u001b[0m \u001b[0meincls\u001b[0m\u001b[1;33m,\u001b[0m \u001b[0mds\u001b[0m\u001b[1;33m=\u001b[0m\u001b[0mds\u001b[0m\u001b[1;33m,\u001b[0m \u001b[0mFs\u001b[0m\u001b[1;33m=\u001b[0m\u001b[0mFs\u001b[0m\u001b[1;33m)\u001b[0m\u001b[1;33m\u001b[0m\u001b[0m\n\u001b[0m\u001b[0;32m    197\u001b[0m \u001b[1;33m\u001b[0m\u001b[0m\n\u001b[0;32m    198\u001b[0m \u001b[1;33m\u001b[0m\u001b[0m\n",
      "\u001b[1;32m/home/kyle/.local/lib/python2.7/site-packages/phoebe/backend/universe.pyc\u001b[0m in \u001b[0;36mupdate_position\u001b[1;34m(self, time, xs, ys, zs, vxs, vys, vzs, ethetas, elongans, eincls, ds, Fs, **kwargs)\u001b[0m\n\u001b[0;32m    696\u001b[0m             Phi = libphoebe.roche_Omega_at_vol(target_volume,\n\u001b[0;32m    697\u001b[0m                                                \u001b[0mq\u001b[0m\u001b[1;33m,\u001b[0m \u001b[0mF\u001b[0m\u001b[1;33m,\u001b[0m \u001b[0md\u001b[0m\u001b[1;33m,\u001b[0m\u001b[1;33m\u001b[0m\u001b[0m\n\u001b[1;32m--> 698\u001b[1;33m                                                Omega0=Phi)\n\u001b[0m\u001b[0;32m    699\u001b[0m \u001b[1;33m\u001b[0m\u001b[0m\n\u001b[0;32m    700\u001b[0m             \u001b[1;31m# to store this as instantaneous pot, we need to translate back to the secondary ref frame if necessary\u001b[0m\u001b[1;33m\u001b[0m\u001b[1;33m\u001b[0m\u001b[0m\n",
      "\u001b[1;31mSystemError\u001b[0m: error return without exception set"
     ]
    }
   ],
   "source": [
    "b.run_compute(compute='phoebe')"
   ]
  },
  {
   "cell_type": "markdown",
   "metadata": {},
   "source": [
    "Plotting\n",
    "-------------------------"
   ]
  },
  {
   "cell_type": "code",
   "execution_count": null,
   "metadata": {
    "collapsed": false
   },
   "outputs": [],
   "source": [
    "axs, artists = b['lc01@model'].plot()"
   ]
  },
  {
   "cell_type": "code",
   "execution_count": null,
   "metadata": {
    "collapsed": false
   },
   "outputs": [],
   "source": [
    "axs, artists = b['rv01@model'].plot()"
   ]
  },
  {
   "cell_type": "code",
   "execution_count": null,
   "metadata": {
    "collapsed": false
   },
   "outputs": [],
   "source": [
    "axs, artists = b['orb01@model'].plot(y='z')"
   ]
  },
  {
   "cell_type": "code",
   "execution_count": null,
   "metadata": {
    "collapsed": false
   },
   "outputs": [],
   "source": [
    "axs, artists = b['etv01@model'].plot(yunit=u.s)"
   ]
  },
  {
   "cell_type": "markdown",
   "metadata": {},
   "source": [
    "As a quick sanity check, since most of the ETVs should be caused by light-time effects, let's compute the light-time delay for this orbit.  From the RV plot it looks like the orbit swings in z by a little over 20 solar radii.  Dividing that by the speed of light should then give the approximate amplitude of the \"observed\" ETVs.  The period of the ETV signal should be that of the outer-orbit."
   ]
  },
  {
   "cell_type": "code",
   "execution_count": null,
   "metadata": {
    "collapsed": false
   },
   "outputs": [],
   "source": [
    "import astropy.constants as c\n",
    "((20*u.solRad).to(u.m)/c.c).to(u.s)"
   ]
  },
  {
   "cell_type": "code",
   "execution_count": null,
   "metadata": {
    "collapsed": false
   },
   "outputs": [],
   "source": [
    "print b.get_quantity('period@outer@component')"
   ]
  },
  {
   "cell_type": "code",
   "execution_count": null,
   "metadata": {
    "collapsed": true
   },
   "outputs": [],
   "source": []
  }
 ],
 "metadata": {
  "kernelspec": {
   "display_name": "Python 2",
   "language": "python",
   "name": "python2"
  },
  "language_info": {
   "codemirror_mode": {
    "name": "ipython",
    "version": 2
   },
   "file_extension": ".py",
   "mimetype": "text/x-python",
   "name": "python",
   "nbconvert_exporter": "python",
   "pygments_lexer": "ipython2",
   "version": "2.7.11+"
  }
 },
 "nbformat": 4,
 "nbformat_minor": 0
}
