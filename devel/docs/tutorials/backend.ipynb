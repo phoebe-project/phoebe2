{
 "cells": [
  {
   "cell_type": "markdown",
   "metadata": {},
   "source": [
    "[IPython Notebook](backend.ipynb) |  [Python Script](backend.py)"
   ]
  },
  {
   "cell_type": "markdown",
   "metadata": {},
   "source": [
    "Advanced: Digging into the Backend\n",
    "============================\n",
    "\n",
    "Setup\n",
    "-----------------------------"
   ]
  },
  {
   "cell_type": "markdown",
   "metadata": {
    "collapsed": true
   },
   "source": [
    "As always, let's do imports and initialize a logger and a new Bundle.  See [Building a System](building_a_system.html) for more details."
   ]
  },
  {
   "cell_type": "code",
   "execution_count": 1,
   "metadata": {
    "collapsed": true
   },
   "outputs": [],
   "source": [
    "%matplotlib inline"
   ]
  },
  {
   "cell_type": "code",
   "execution_count": 2,
   "metadata": {
    "collapsed": false
   },
   "outputs": [
    {
     "name": "stderr",
     "output_type": "stream",
     "text": [
      "/usr/local/lib/python2.7/dist-packages/IPython/kernel/__init__.py:13: ShimWarning: The `IPython.kernel` package has been deprecated. You should import from ipykernel or jupyter_client instead.\n",
      "  \"You should import from ipykernel or jupyter_client instead.\", ShimWarning)\n",
      "WARNING: Constant u'Gravitational constant' is already has a definition in the u'si' system [astropy.constants.constant]\n",
      "WARNING:astropy:Constant u'Gravitational constant' is already has a definition in the u'si' system\n",
      "WARNING: Constant u'Solar mass' is already has a definition in the u'si' system [astropy.constants.constant]\n",
      "WARNING:astropy:Constant u'Solar mass' is already has a definition in the u'si' system\n",
      "WARNING: Constant u'Solar radius' is already has a definition in the u'si' system [astropy.constants.constant]\n",
      "WARNING:astropy:Constant u'Solar radius' is already has a definition in the u'si' system\n",
      "WARNING: Constant u'Solar luminosity' is already has a definition in the u'si' system [astropy.constants.constant]\n",
      "WARNING:astropy:Constant u'Solar luminosity' is already has a definition in the u'si' system\n",
      "/usr/local/lib/python2.7/dist-packages/astropy/units/quantity.py:732: FutureWarning: comparison to `None` will result in an elementwise object comparison in the future.\n",
      "  return super(Quantity, self).__eq__(other)\n"
     ]
    }
   ],
   "source": [
    "import phoebe\n",
    "from phoebe import u # units\n",
    "import numpy as np\n",
    "import matplotlib.pyplot as plt\n",
    "\n",
    "logger = phoebe.logger(clevel='INFO')\n",
    "\n",
    "b = phoebe.Bundle.default_binary()\n",
    "b['q'] = 0.8\n",
    "b['ecc'] = 0.05"
   ]
  },
  {
   "cell_type": "markdown",
   "metadata": {},
   "source": [
    "And we'll attach some dummy datasets.  See [Datasets](datasets.html) for more details."
   ]
  },
  {
   "cell_type": "code",
   "execution_count": 3,
   "metadata": {
    "collapsed": false
   },
   "outputs": [
    {
     "data": {
      "text/plain": [
       "<ParameterSet: 18 parameters | methods: LC, LC_dep>"
      ]
     },
     "execution_count": 3,
     "metadata": {},
     "output_type": "execute_result"
    }
   ],
   "source": [
    "b.add_dataset(phoebe.dataset.orb, time=np.linspace(0,10,1000), dataset='orb01', component=['primary', 'secondary'])\n",
    "\n",
    "times, fluxes, errors = np.loadtxt('test.lc.in', unpack=True)\n",
    "b.add_dataset(phoebe.dataset.lc, time=times, flux=fluxes, sigma=errors, dataset='lc01')"
   ]
  },
  {
   "cell_type": "markdown",
   "metadata": {},
   "source": [
    "From the Bundle\n",
    "-----------------------------------\n",
    "\n",
    "There is a middle-layer that translates the system in the Bundle into\n",
    "the parameters (with correct units) required by the backend functions\n",
    "themselves and returns the results (again with units).  \n",
    "\n",
    "Interaction with this middle-layer is much nicer than manually building\n",
    "the system hierarchy, but doesn't avoid the overhead introduced by the frontend.\n",
    "\n",
    "### Dynamics\n",
    "\n",
    "Let's say that you want to access (without adding a dataset) the dynamics\n",
    "packages for the system you have setup in the Bundle.\n",
    "\n",
    "First we'll look at Nbody dynamics, and later show the same for Keplerian."
   ]
  },
  {
   "cell_type": "code",
   "execution_count": 4,
   "metadata": {
    "collapsed": true
   },
   "outputs": [],
   "source": [
    "ts, xs, ys, zs, vxs, vys, vzs =\\\n",
    "    phoebe.dynamics.nbody.dynamics_from_bundle(b, np.linspace(0, 6, 500))"
   ]
  },
  {
   "cell_type": "markdown",
   "metadata": {},
   "source": [
    "The first returned item is an array of times - not surprisingly these match the times we just sent.\n",
    "\n",
    "The rest of the returned items (xs, ys, etc) are each a list of arrays.  The list contains an entry for each component in the system.  So in this case, since we have a binary, each is a list of two arrays.\n",
    "\n",
    "Now we can plot any of this information by pulling the correct array from these lists."
   ]
  },
  {
   "cell_type": "code",
   "execution_count": 5,
   "metadata": {
    "collapsed": false
   },
   "outputs": [
    {
     "data": {
      "image/png": "[encoded data removed]",
      "text/plain": [
       "<matplotlib.figure.Figure at 0x7f0f0f74b950>"
      ]
     },
     "metadata": {},
     "output_type": "display_data"
    }
   ],
   "source": [
    "artist, = plt.plot(xs[0].to(u.AU), zs[0].to(u.AU), 'b-') # primary\n",
    "artist, = plt.plot(xs[1].to(u.AU), zs[1].to(u.AU), 'r-') # secondary"
   ]
  },
  {
   "cell_type": "markdown",
   "metadata": {},
   "source": [
    "For Keplerian dynamics, there is an additional option whether to return the Euler angles as well.  Since we'll later be using these to place the mesh in orbit, we'll set this to True."
   ]
  },
  {
   "cell_type": "code",
   "execution_count": 6,
   "metadata": {
    "collapsed": false
   },
   "outputs": [],
   "source": [
    "ts, xs, ys, zs, vxs, vys, vzs, ethetas, elongans, eincls =\\\n",
    "    phoebe.dynamics.keplerian.dynamics_from_bundle(b, np.linspace(0, 6, 500), return_euler=True)"
   ]
  },
  {
   "cell_type": "code",
   "execution_count": 7,
   "metadata": {
    "collapsed": false,
    "scrolled": true
   },
   "outputs": [
    {
     "data": {
      "image/png": "[encoded data removed]",
      "text/plain": [
       "<matplotlib.figure.Figure at 0x7f0f240c6510>"
      ]
     },
     "metadata": {},
     "output_type": "display_data"
    }
   ],
   "source": [
    "plt.cla()\n",
    "artist, = plt.plot(xs[0].to(u.AU), zs[0].to(u.AU), 'b-') # primary\n",
    "artist, = plt.plot(xs[1].to(u.AU), zs[1].to(u.AU), 'r-') # secondary"
   ]
  },
  {
   "cell_type": "markdown",
   "metadata": {},
   "source": [
    "### Meshing\n",
    "\n",
    "Similarly, we can create a backend \"system\" directly from the Bundle"
   ]
  },
  {
   "cell_type": "code",
   "execution_count": 8,
   "metadata": {
    "collapsed": false
   },
   "outputs": [],
   "source": [
    "system = phoebe.backend.universe.System.from_bundle(b)"
   ]
  },
  {
   "cell_type": "markdown",
   "metadata": {},
   "source": [
    "This \"system\" object is just a container of multiple \"bodies\" which are also accessible"
   ]
  },
  {
   "cell_type": "code",
   "execution_count": 9,
   "metadata": {
    "collapsed": false,
    "scrolled": true
   },
   "outputs": [
    {
     "name": "stdout",
     "output_type": "stream",
     "text": [
      "[<phoebe.backend.universe.Star object at 0x7f0f0f7bff90>, <phoebe.backend.universe.Star object at 0x7f0f0f7bf1d0>]\n"
     ]
    }
   ],
   "source": [
    "print system.bodies"
   ]
  },
  {
   "cell_type": "markdown",
   "metadata": {},
   "source": [
    "First we need to initialize the mesh \"standard\".  By default this is done at periastron and stores a copy of each unscaled mesh at periastron.  This mesh is later scaled, placed in orbit, and reprojected if necessary (for volume conservation in eccentric orbits, for example)."
   ]
  },
  {
   "cell_type": "code",
   "execution_count": 10,
   "metadata": {
    "collapsed": false
   },
   "outputs": [],
   "source": [
    "system.initialize_meshes()"
   ]
  },
  {
   "cell_type": "markdown",
   "metadata": {},
   "source": [
    "These standards can then be accessed:"
   ]
  },
  {
   "cell_type": "code",
   "execution_count": 11,
   "metadata": {
    "collapsed": false
   },
   "outputs": [
    {
     "data": {
      "text/plain": [
       "<phoebe.backend.mesh.ProtoMesh at 0x7f0f0f54f650>"
      ]
     },
     "execution_count": 11,
     "metadata": {},
     "output_type": "execute_result"
    }
   ],
   "source": [
    "system.bodies[0].get_standard_mesh(scaled=False)"
   ]
  },
  {
   "cell_type": "code",
   "execution_count": 12,
   "metadata": {
    "collapsed": false
   },
   "outputs": [
    {
     "data": {
      "text/plain": [
       "<phoebe.backend.mesh.ScaledProtoMesh at 0x7f0f0f596750>"
      ]
     },
     "execution_count": 12,
     "metadata": {},
     "output_type": "execute_result"
    }
   ],
   "source": [
    "system.bodies[0].get_standard_mesh(scaled=True)"
   ]
  },
  {
   "cell_type": "markdown",
   "metadata": {},
   "source": [
    "We then simply need to pass positions, velocities, and euler angles *at a given time* to have the meshes scaled and placed in orbit for us.\n",
    "\n",
    "From the dynamics, we have lists of arrays.  So for the first time, we want ts[0] and xs[:,0], etc."
   ]
  },
  {
   "cell_type": "code",
   "execution_count": 13,
   "metadata": {
    "collapsed": false,
    "scrolled": true
   },
   "outputs": [],
   "source": [
    "system.update_positions(ts[0], xs[:,0], ys[:,0], zs[:,0],\n",
    "                        vxs[:,0], vys[:,0], vzs[:,0],\n",
    "                        ethetas[:,0], eincls[:,0], elongans[:,0])"
   ]
  },
  {
   "cell_type": "markdown",
   "metadata": {},
   "source": [
    "The meshes are now placed in orbit at the current time.  These meshes are accessible via:"
   ]
  },
  {
   "cell_type": "code",
   "execution_count": 14,
   "metadata": {
    "collapsed": false
   },
   "outputs": [
    {
     "data": {
      "text/plain": [
       "<phoebe.backend.mesh.Meshes at 0x7f0f3dcab090>"
      ]
     },
     "execution_count": 14,
     "metadata": {},
     "output_type": "execute_result"
    }
   ],
   "source": [
    "system.meshes"
   ]
  },
  {
   "cell_type": "markdown",
   "metadata": {},
   "source": [
    "which acts like a dictionary to get a mesh from a single component (if desired)"
   ]
  },
  {
   "cell_type": "code",
   "execution_count": 15,
   "metadata": {
    "collapsed": false
   },
   "outputs": [
    {
     "data": {
      "text/plain": [
       "['primary', 'secondary']"
      ]
     },
     "execution_count": 15,
     "metadata": {},
     "output_type": "execute_result"
    }
   ],
   "source": [
    "system.meshes.keys()"
   ]
  },
  {
   "cell_type": "markdown",
   "metadata": {},
   "source": [
    "We can pull any column out of the mesh in a similar dictionary style (with an entry for each component)"
   ]
  },
  {
   "cell_type": "code",
   "execution_count": 16,
   "metadata": {
    "collapsed": false
   },
   "outputs": [
    {
     "data": {
      "text/plain": [
       "{'primary': array([  9993.80041446,   9993.81457702,   9993.80041446, ...,\n",
       "         10006.14352149,  10006.00630753,  10005.99896972]),\n",
       " 'secondary': array([  9990.85541111,   9990.87323875,   9990.85541111, ...,\n",
       "         10008.42050528,  10008.51425177,  10008.46384046])}"
      ]
     },
     "execution_count": 16,
     "metadata": {},
     "output_type": "execute_result"
    }
   ],
   "source": [
    "system.meshes.get_column('teffs')"
   ]
  },
  {
   "cell_type": "markdown",
   "metadata": {},
   "source": [
    "or as a single flat array"
   ]
  },
  {
   "cell_type": "code",
   "execution_count": 17,
   "metadata": {
    "collapsed": false
   },
   "outputs": [
    {
     "data": {
      "text/plain": [
       "array([  9993.80041446,   9993.81457702,   9993.80041446, ...,\n",
       "        10008.42050528,  10008.51425177,  10008.46384046])"
      ]
     },
     "execution_count": 17,
     "metadata": {},
     "output_type": "execute_result"
    }
   ],
   "source": [
    "system.meshes.get_column_flat('teffs')"
   ]
  },
  {
   "cell_type": "markdown",
   "metadata": {},
   "source": [
    "Note that the column names are not identical to those exposed in the frontend (since tags do not exist in the backend).  To access the list of available keys in the mesh, we can directly inspect the mesh."
   ]
  },
  {
   "cell_type": "code",
   "execution_count": 18,
   "metadata": {
    "collapsed": false
   },
   "outputs": [
    {
     "data": {
      "text/plain": [
       "['vertices',\n",
       " 'triangles',\n",
       " 'centers',\n",
       " 'coords_for_computations',\n",
       " 'normals_for_computations',\n",
       " 'rs',\n",
       " 'rprojs',\n",
       " 'cosbetas',\n",
       " 'areas',\n",
       " 'areas_si',\n",
       " 'velocities',\n",
       " 'vnormals',\n",
       " 'tnormals',\n",
       " 'normgrads',\n",
       " 'volume',\n",
       " 'phi',\n",
       " 'theta',\n",
       " 'compute_at_vertices',\n",
       " 'loggs',\n",
       " 'gravs',\n",
       " 'teffs',\n",
       " 'abuns',\n",
       " 'mus',\n",
       " 'vmus',\n",
       " 'visibilities',\n",
       " 'weights',\n",
       " 'observables']"
      ]
     },
     "execution_count": 18,
     "metadata": {},
     "output_type": "execute_result"
    }
   ],
   "source": [
    "system.meshes['primary'].keys()"
   ]
  },
  {
   "cell_type": "markdown",
   "metadata": {},
   "source": [
    "update_positions places the meshes in their orbits, handles volume conservation (for eccentric orbits), and computes instantaneous physical quantities (teff, logg, etc), but does **NOT** handle eclipse detection or subdivision.\n",
    "\n",
    "We can now update the 'visibility' column by running eclipse detection."
   ]
  },
  {
   "cell_type": "code",
   "execution_count": 19,
   "metadata": {
    "collapsed": false
   },
   "outputs": [
    {
     "name": "stderr",
     "output_type": "stream",
     "text": [
      "/home/kyle/.local/lib/python2.7/site-packages/phoebe/backend/eclipse.py:12: DeprecationWarning: PyArray_FromDims: use PyArray_SimpleNew.\n",
      "  hull, inside = ceclipse.graham_scan_inside_hull(front[sa], back)\n",
      "/home/kyle/.local/lib/python2.7/site-packages/phoebe/backend/eclipse.py:12: DeprecationWarning: PyArray_FromDimsAndDataAndDescr: use PyArray_NewFromDescr.\n",
      "  hull, inside = ceclipse.graham_scan_inside_hull(front[sa], back)\n",
      "/home/kyle/.local/lib/python2.7/site-packages/phoebe/backend/eclipse.py:12: DeprecationWarning: PyArray_FromDims: use PyArray_SimpleNew.\n",
      "  hull, inside = ceclipse.graham_scan_inside_hull(front[sa], back)\n",
      "/home/kyle/.local/lib/python2.7/site-packages/phoebe/backend/eclipse.py:12: DeprecationWarning: PyArray_FromDimsAndDataAndDescr: use PyArray_NewFromDescr.\n",
      "  hull, inside = ceclipse.graham_scan_inside_hull(front[sa], back)\n"
     ]
    }
   ],
   "source": [
    "system.handle_eclipses(eclipse_alg='graham', subdiv_num=1)"
   ]
  },
  {
   "cell_type": "markdown",
   "metadata": {},
   "source": [
    "We can easily check to make sure an eclipse happened by computing the ratio of triangles for each component that are currently visible."
   ]
  },
  {
   "cell_type": "code",
   "execution_count": 20,
   "metadata": {
    "collapsed": false
   },
   "outputs": [
    {
     "name": "stdout",
     "output_type": "stream",
     "text": [
      "primary visibility: 0.277546158428\n",
      "secondary visibility: 0.508353221957\n"
     ]
    }
   ],
   "source": [
    "visibilities = system.meshes.get_column('visibilities')\n",
    "print \"primary visibility:\", visibilities['primary'].sum() / len(visibilities['primary'])\n",
    "print \"secondary visibility:\", visibilities['secondary'].sum() / len(visibilities['secondary'])"
   ]
  },
  {
   "cell_type": "markdown",
   "metadata": {},
   "source": [
    "Without the Bundle\n",
    "-----------------------\n",
    "\n",
    "Now let's look at how we would setup the backend without a bundle.  Once created, all of the capabilities described above are also available.\n",
    "\n",
    "### Dynamics\n",
    "\n",
    "Dynamics without the bundle is *nearly* as simple, but special care needs to be made with passing values in the right units.\n",
    "\n",
    "Once again, let's look at Nbody first and then Keplerian."
   ]
  },
  {
   "cell_type": "code",
   "execution_count": 21,
   "metadata": {
    "collapsed": true
   },
   "outputs": [],
   "source": [
    "times = np.linspace(0,10,500) # days\n",
    "masses = [1.0, 0.8] # solar masses\n",
    "smas = [1.0] # AU\n",
    "eccs = [0.8] # unitless\n",
    "incls = [np.pi/2] # radians\n",
    "per0s = [0] # radians\n",
    "long_ans = [0] # radians\n",
    "mean_anoms = [0]\n",
    "t0 = 0.0 # days"
   ]
  },
  {
   "cell_type": "code",
   "execution_count": 22,
   "metadata": {
    "collapsed": false
   },
   "outputs": [],
   "source": [
    "ts, xs, ys, zs, vxs, vys, vzs =\\\n",
    "    phoebe.dynamics.nbody.dynamics(times, masses, smas,\n",
    "                                    eccs, incls, per0s,\n",
    "                                    long_ans, mean_anoms,\n",
    "                                    t0, stepsize=0.01,\n",
    "                                    orbiterror=1e-16, \n",
    "                                    ltte=False)"
   ]
  },
  {
   "cell_type": "code",
   "execution_count": 23,
   "metadata": {
    "collapsed": false
   },
   "outputs": [
    {
     "data": {
      "image/png": "[encoded data removed]",
      "text/plain": [
       "<matplotlib.figure.Figure at 0x7f0f0f5dda10>"
      ]
     },
     "metadata": {},
     "output_type": "display_data"
    }
   ],
   "source": [
    "artist, = plt.plot(xs[0].to(u.AU), zs[0].to(u.AU), 'b-') # primary\n",
    "artist, = plt.plot(xs[1].to(u.AU), zs[1].to(u.AU), 'r-') # secondary"
   ]
  },
  {
   "cell_type": "markdown",
   "metadata": {},
   "source": [
    "Now let's look at Keplerian dynamics.  Here we need to provide information for the parent orbit of **each star**.  In the case of a simple binary, this can seem quite redundant."
   ]
  },
  {
   "cell_type": "code",
   "execution_count": 24,
   "metadata": {
    "collapsed": true
   },
   "outputs": [],
   "source": [
    "times = np.linspace(0,10,500) # days\n",
    "periods = [3.0, 3.0] # days\n",
    "eccs = [0.0, 0.0]\n",
    "smas = [1.0, 0.8] # Rsol (sma of the STAR about the CENTER OF MASS)\n",
    "t0_perpasses = [0.0, 0.0] # days\n",
    "per0s = [0.0, 0.0] # radians\n",
    "long_ans = [0.0, 0.0] # radians\n",
    "incls = [np.pi/2, np.pi/2] # radians\n",
    "dpdts = [0.0, 0.0] # days/day\n",
    "deccdts = [0.0, 0.0] # 1/day\n",
    "dperdts = [0.0, 0.0] # radians/day\n",
    "components = ['primary', 'secondary']\n",
    "t0 = 0.0 # days\n",
    "vgamma = 0.0 # solRad/day (TODO: double check!!!)"
   ]
  },
  {
   "cell_type": "code",
   "execution_count": 25,
   "metadata": {
    "collapsed": false
   },
   "outputs": [],
   "source": [
    "ts, xs, ys, zs, vxs, vys, vzs, ethetas, elongans, eincls =\\\n",
    "    phoebe.dynamics.keplerian.dynamics(times, periods,\n",
    "                                        eccs, smas, t0_perpasses,\n",
    "                                        per0s, long_ans, incls,\n",
    "                                        dpdts, deccdts, dperdts,\n",
    "                                        components,\n",
    "                                        t0, vgamma=vgamma,\n",
    "                                        ltte=False,\n",
    "                                        return_euler=True)"
   ]
  },
  {
   "cell_type": "code",
   "execution_count": 26,
   "metadata": {
    "collapsed": false
   },
   "outputs": [
    {
     "data": {
      "image/png": "[encoded data removed]",
      "text/plain": [
       "<matplotlib.figure.Figure at 0x7f0f0f7bf750>"
      ]
     },
     "metadata": {},
     "output_type": "display_data"
    }
   ],
   "source": [
    "plt.cla()\n",
    "artist, = plt.plot(xs[0].to(u.AU), ys[0].to(u.AU), 'b-') # primary\n",
    "artist, = plt.plot(xs[1].to(u.AU), ys[1].to(u.AU), 'r-') # secondary"
   ]
  },
  {
   "cell_type": "markdown",
   "metadata": {
    "collapsed": true
   },
   "source": [
    "### Meshing"
   ]
  },
  {
   "cell_type": "code",
   "execution_count": 27,
   "metadata": {
    "collapsed": false
   },
   "outputs": [],
   "source": [
    "F = 1.0\n",
    "Phi = 9.5\n",
    "masses = [1.0, 0.8]  # solar Masses\n",
    "sma = 8.0   # solar radii\n",
    "ecc = 0.0\n",
    "freq_rot = 2*np.pi/1  # radians/day\n",
    "abun = 0.0\n",
    "teff = 6000  # K\n",
    "gravb_bol = 0.2\n",
    "gravb_law = 'zeipel'"
   ]
  },
  {
   "cell_type": "code",
   "execution_count": 28,
   "metadata": {
    "collapsed": false
   },
   "outputs": [],
   "source": [
    "primarymesh = phoebe.backend.universe.Star(F, Phi, masses, sma, ecc,\n",
    "                                           freq_rot, teff, gravb_bol,\n",
    "                                           gravb_law, abun, delta=0.1,\n",
    "                                           maxpoints=1e5,\n",
    "                                           ind_self=0,\n",
    "                                           ind_sibling=1,\n",
    "                                           comp_no=1)"
   ]
  },
  {
   "cell_type": "code",
   "execution_count": 29,
   "metadata": {
    "collapsed": false
   },
   "outputs": [],
   "source": [
    "secondarymesh = primarymesh.copy()"
   ]
  },
  {
   "cell_type": "code",
   "execution_count": 30,
   "metadata": {
    "collapsed": false
   },
   "outputs": [],
   "source": [
    "system = phoebe.backend.universe.System({'primary': primarymesh, 'secondary': secondarymesh})"
   ]
  },
  {
   "cell_type": "markdown",
   "metadata": {
    "collapsed": true
   },
   "source": [
    "Now that the \"system\" object is created, see the section in the \"From the Bundle\" section for details on initializing the meshes, placing them in orbit, eclipse detection, and accessing columns."
   ]
  },
  {
   "cell_type": "code",
   "execution_count": 31,
   "metadata": {
    "collapsed": false
   },
   "outputs": [],
   "source": [
    "system.initialize_meshes()"
   ]
  },
  {
   "cell_type": "code",
   "execution_count": 32,
   "metadata": {
    "collapsed": false
   },
   "outputs": [],
   "source": [
    "system.update_positions(ts[0], xs[:,0], ys[:,0], zs[:,0],\n",
    "                        vxs[:,0], vys[:,0], vzs[:,0],\n",
    "                        ethetas[:,0], eincls[:,0], elongans[:,0])"
   ]
  },
  {
   "cell_type": "code",
   "execution_count": 33,
   "metadata": {
    "collapsed": false
   },
   "outputs": [
    {
     "name": "stderr",
     "output_type": "stream",
     "text": [
      "/home/kyle/.local/lib/python2.7/site-packages/phoebe/backend/eclipse.py:12: DeprecationWarning: PyArray_FromDims: use PyArray_SimpleNew.\n",
      "  hull, inside = ceclipse.graham_scan_inside_hull(front[sa], back)\n",
      "/home/kyle/.local/lib/python2.7/site-packages/phoebe/backend/eclipse.py:12: DeprecationWarning: PyArray_FromDimsAndDataAndDescr: use PyArray_NewFromDescr.\n",
      "  hull, inside = ceclipse.graham_scan_inside_hull(front[sa], back)\n",
      "/home/kyle/.local/lib/python2.7/site-packages/phoebe/backend/eclipse.py:12: DeprecationWarning: PyArray_FromDims: use PyArray_SimpleNew.\n",
      "  hull, inside = ceclipse.graham_scan_inside_hull(front[sa], back)\n",
      "/home/kyle/.local/lib/python2.7/site-packages/phoebe/backend/eclipse.py:12: DeprecationWarning: PyArray_FromDimsAndDataAndDescr: use PyArray_NewFromDescr.\n",
      "  hull, inside = ceclipse.graham_scan_inside_hull(front[sa], back)\n"
     ]
    }
   ],
   "source": [
    "system.handle_eclipses(eclipse_alg='graham')"
   ]
  }
 ],
 "metadata": {
  "kernelspec": {
   "display_name": "Python 2",
   "language": "python",
   "name": "python2"
  },
  "language_info": {
   "codemirror_mode": {
    "name": "ipython",
    "version": 2
   },
   "file_extension": ".py",
   "mimetype": "text/x-python",
   "name": "python",
   "nbconvert_exporter": "python",
   "pygments_lexer": "ipython2",
   "version": "2.7.11+"
  }
 },
 "nbformat": 4,
 "nbformat_minor": 0
}
