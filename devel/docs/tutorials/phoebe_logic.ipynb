{
 "cells": [
  {
   "cell_type": "markdown",
   "metadata": {},
   "source": [
    "[IPython Notebook](phoebe_logic.ipynb) |  [Python Script](phoebe_logic.py)"
   ]
  },
  {
   "cell_type": "markdown",
   "metadata": {},
   "source": [
    "PHOEBE Logic for Computing Observables\n",
    "============================\n",
    "\n",
    "The general logic steps that PHOEBE uses for each observable type are as follows:\n",
    "\n",
    "1. Dynamics - each star or body in the system hierarchy needs to be placed in the correct position in the orbit at any given time.  Some observables (dynamical RVs and ETVs) simply use information from the dynamics and do not use any of the following steps.\n",
    "2. Meshing - each star or body in the system needs to be discretized (if applicable), creating a mesh of triangles that describe the shape of the surface.\n",
    "3. Local Quantities - at any given time, each surface element needs to have its local quantities populated.  These include things like effective temperature and intensity.\n",
    "4. Eclipse Detection - each star needs to detect which of its surface elements are eclipsed, and handle subdivision if necessary to increase the resolution along the eclipse edge.\n",
    "5. Integration - lastly, the local quantities need to be integrated over all visible surface elements to compute a single observable value at the given time"
   ]
  },
  {
   "cell_type": "markdown",
   "metadata": {
    "collapsed": true
   },
   "source": [
    "Dynamics\n",
    "-------------------\n",
    "\n",
    "See more information about options for dynamics in the section on the [ORB dataset](ORB)"
   ]
  },
  {
   "cell_type": "markdown",
   "metadata": {},
   "source": [
    "Meshing\n",
    "----------------------\n",
    "\n",
    "See more information about options for meshing as well as the returned columns in the section on the [MESH dataset](MESH)\n",
    "\n",
    "Related example scripts:\n",
    "  * [Wilson-Devinney Style Meshing Example Script](../examples/mesh_wd)\n",
    "  \n",
    "  \n"
   ]
  },
  {
   "cell_type": "markdown",
   "metadata": {},
   "source": [
    "Local Quantities\n",
    "--------------------\n",
    "\n",
    "See more information about the options and parameters for computing flux-related local quantities in the section on the [LC dataset](LC)\n",
    "\n",
    "See more information about the options and parameters for computing local radial-velocities in the section on the [RV dataset](RV) (note that flux-weighted RVs also use flux-related local quantities described in the [LC dataset](LC) section).\n",
    "\n",
    "Related Example scripts:\n",
    "  * [Reddening and Extinction](../examples/reddening_extinction)\n",
    "  * [Reflection and Heating](../examples/reflection_heating)\n",
    "  * [Beaming and Boosting](../examplsebeaming_boosting)\n",
    "  \n",
    "\n"
   ]
  },
  {
   "cell_type": "markdown",
   "metadata": {},
   "source": [
    "Eclipse Detection\n",
    "----------------------\n",
    "\n",
    "See more information about the options for eclipse detection and subdivision in the section on the [MESH dataset](MESH)"
   ]
  },
  {
   "cell_type": "markdown",
   "metadata": {},
   "source": [
    "Integration\n",
    "-----------------\n"
   ]
  }
 ],
 "metadata": {
  "kernelspec": {
   "display_name": "Python 2",
   "language": "python",
   "name": "python2"
  },
  "language_info": {
   "codemirror_mode": {
    "name": "ipython",
    "version": 2
   },
   "file_extension": ".py",
   "mimetype": "text/x-python",
   "name": "python",
   "nbconvert_exporter": "python",
   "pygments_lexer": "ipython2",
   "version": "2.7.9"
  }
 },
 "nbformat": 4,
 "nbformat_minor": 0
}
