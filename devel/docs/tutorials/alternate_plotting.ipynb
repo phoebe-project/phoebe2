{
 "cells": [
  {
   "cell_type": "markdown",
   "metadata": {},
   "source": [
    "[IPython Notebook](alternate_plotting.ipynb) |  [Python Script](alternate_plotting.py)"
   ]
  },
  {
   "cell_type": "markdown",
   "metadata": {},
   "source": [
    "Advanced: Alternate Plotting Backends\n",
    "============================\n",
    "\n",
    "Setup\n",
    "-----------------------------"
   ]
  },
  {
   "cell_type": "markdown",
   "metadata": {
    "collapsed": true
   },
   "source": [
    "As always, let's do imports and initialize a logger and a new Bundle.  See [Building a System](building_a_system.html) for more details."
   ]
  },
  {
   "cell_type": "code",
   "execution_count": 1,
   "metadata": {
    "collapsed": false
   },
   "outputs": [
    {
     "name": "stderr",
     "output_type": "stream",
     "text": [
      "WARNING: Constant u'Gravitational constant' is already has a definition in the u'si' system [astropy.constants.constant]\n",
      "WARNING:astropy:Constant u'Gravitational constant' is already has a definition in the u'si' system\n",
      "WARNING: Constant u'Solar mass' is already has a definition in the u'si' system [astropy.constants.constant]\n",
      "WARNING:astropy:Constant u'Solar mass' is already has a definition in the u'si' system\n",
      "WARNING: Constant u'Solar radius' is already has a definition in the u'si' system [astropy.constants.constant]\n",
      "WARNING:astropy:Constant u'Solar radius' is already has a definition in the u'si' system\n",
      "WARNING: Constant u'Solar luminosity' is already has a definition in the u'si' system [astropy.constants.constant]\n",
      "WARNING:astropy:Constant u'Solar luminosity' is already has a definition in the u'si' system\n",
      "/usr/local/lib/python2.7/dist-packages/astropy/units/quantity.py:732: FutureWarning: comparison to `None` will result in an elementwise object comparison in the future.\n",
      "  return super(Quantity, self).__eq__(other)\n"
     ]
    }
   ],
   "source": [
    "import phoebe2\n",
    "from phoebe2 import u # units\n",
    "import numpy as np\n",
    "import matplotlib.pyplot as plt\n",
    "\n",
    "logger = phoebe2.logger(clevel='INFO')\n",
    "\n",
    "b = phoebe2.Bundle.default_binary()\n",
    "b['q'] = 0.8\n",
    "b['ecc'] = 0.1"
   ]
  },
  {
   "cell_type": "markdown",
   "metadata": {
    "collapsed": true
   },
   "source": [
    "And we'll attach some dummy datasets.  See [Datasets](datasets.html) for more details."
   ]
  },
  {
   "cell_type": "code",
   "execution_count": 2,
   "metadata": {
    "collapsed": false
   },
   "outputs": [
    {
     "data": {
      "text/plain": [
       "<ParameterSet: 3 parameters | components: _default, primary, secondary>"
      ]
     },
     "execution_count": 2,
     "metadata": {},
     "output_type": "execute_result"
    }
   ],
   "source": [
    "b.add_dataset('ORB', time=np.linspace(0,10,1000), dataset='orb01')"
   ]
  },
  {
   "cell_type": "code",
   "execution_count": 3,
   "metadata": {
    "collapsed": false
   },
   "outputs": [
    {
     "name": "stderr",
     "output_type": "stream",
     "text": [
      "/home/kyle/.local/lib/python2.7/site-packages/phoebe2/backend/mesh.py:1862: DeprecationWarning: PyArray_FromDims: use PyArray_SimpleNew.\n",
      "  the_grid = cmarching.discretize(delta, maxpoints, *mesh_args)[:-2]\n",
      "/home/kyle/.local/lib/python2.7/site-packages/phoebe2/backend/mesh.py:1862: DeprecationWarning: PyArray_FromDimsAndDataAndDescr: use PyArray_NewFromDescr.\n",
      "  the_grid = cmarching.discretize(delta, maxpoints, *mesh_args)[:-2]\n",
      "/home/kyle/.local/lib/python2.7/site-packages/phoebe2/backend/mesh.py:1862: DeprecationWarning: PyArray_FromDims: use PyArray_SimpleNew.\n",
      "  the_grid = cmarching.discretize(delta, maxpoints, *mesh_args)[:-2]\n",
      "/home/kyle/.local/lib/python2.7/site-packages/phoebe2/backend/mesh.py:1862: DeprecationWarning: PyArray_FromDimsAndDataAndDescr: use PyArray_NewFromDescr.\n",
      "  the_grid = cmarching.discretize(delta, maxpoints, *mesh_args)[:-2]\n"
     ]
    },
    {
     "data": {
      "text/plain": [
       "<ParameterSet: 14 parameters | components: primary, secondary>"
      ]
     },
     "execution_count": 3,
     "metadata": {},
     "output_type": "execute_result"
    }
   ],
   "source": [
    "b.run_compute()"
   ]
  },
  {
   "cell_type": "markdown",
   "metadata": {},
   "source": [
    "Choosing Plotting Backend\n",
    "--------------------------\n",
    "\n",
    "By default, matplotlib is used for all plotting calls (and matplotlib by far supports the most features for plotting within PHOEBE).  If you'd like to use a different backend, you can either pass the name of the backend to the backend keyword when calling plot, or you can \"permanently\" change your default backend within the Bundle (for more information see the [Settings Tutorial](./settings)."
   ]
  },
  {
   "cell_type": "code",
   "execution_count": 4,
   "metadata": {
    "collapsed": false
   },
   "outputs": [
    {
     "name": "stdout",
     "output_type": "stream",
     "text": [
      "Qualifier: plotting_backend\n",
      "Description: Default backend to use for plotting\n",
      "Value: mpl\n",
      "Choices: mpl, mpld3, mpl2bokeh, bokeh\n"
     ]
    }
   ],
   "source": [
    "print b['plotting_backend@setting']"
   ]
  },
  {
   "cell_type": "markdown",
   "metadata": {},
   "source": [
    "Available Plotting Backends\n",
    "--------------------------------------\n",
    "\n",
    "The default plotting backend shown above is matplotlib.  But you can also choose\n",
    "to use a different supported backend.  Note that not all backends support the \n",
    "same set of features.\n",
    "\n",
    "Currently there is almost full support for matplotlib (mpl).  With that comes \n",
    "easy conversions to mpld3 (mpld3) and bokeh (mpl2bokeh).  There is also very basic support for just bokeh without \n",
    "matplotlib (bokeh).\n",
    "\n",
    "Of course in order to use a backend you must have the correct module installed.\n",
    "PHOEBE will only complain about a failed import if you try to use that backend\n",
    "(ie these aren't hard dependecies).\n",
    "\n",
    "These backends can be passed as keyword arguments to the plotting commands, and \n",
    "their 'show' and 'savefig' counterparts can be called through the bundle as well.\n",
    "The idea here is to make the exact same calling signature work for any plotting\n",
    "backend (although the results may look slightly different). "
   ]
  },
  {
   "cell_type": "markdown",
   "metadata": {},
   "source": [
    "### mpl2bokeh and bokeh\n",
    "\n",
    "\n",
    "[Bokeh](http://bokeh.pydata.org/) has two available plotting backends: 'mpl2bokeh' which attempts to use matplotlib functions to build the figure and then convert to bokeh, and 'bokeh' which attempts to natively plot directly to bokeh.  \n",
    "\n",
    "Both of these backends will display the plot in your default browser."
   ]
  },
  {
   "cell_type": "code",
   "execution_count": 5,
   "metadata": {
    "collapsed": false
   },
   "outputs": [
    {
     "name": "stderr",
     "output_type": "stream",
     "text": [
      "WARNING:PLOTTING:bokeh plotting backend is VERY EXPERIMENTAL and most features are missing\n",
      "WARNING:PLOTTING:bokeh plotting backend is VERY EXPERIMENTAL and most features are missing\n"
     ]
    }
   ],
   "source": [
    "try:\n",
    "    import bokeh\n",
    "except: \n",
    "    print \"SKIPPING bokeh examples: install with 'pip install bokeh'\"\n",
    "    has_bokeh = False\n",
    "else:\n",
    "    has_bokeh = True\n",
    "\n",
    "    axs, artists = b['orb01@primary@model'].plot(x='time', y='x', backend='bokeh')\n",
    "    axs, artists = b['orb01@secondary@model'].plot(x='time', y='x', backend='bokeh', ax=axs[0])\n",
    "    # bokeh requires passing ax to show... at least for now, I might have a hack for this\n",
    "    b.show(ax=axs[0], backend='bokeh')"
   ]
  },
  {
   "cell_type": "markdown",
   "metadata": {},
   "source": [
    "### mpld3\n",
    "\n",
    "\n",
    "The 'mpld3' backend uses [mpld3](https://github.com/jakevdp/mpld3) to convert a matplotlib figure into d3.js code to show in the browser. \n",
    "\n",
    "This backend will display plots in your default browser."
   ]
  },
  {
   "cell_type": "code",
   "execution_count": 6,
   "metadata": {
    "collapsed": false
   },
   "outputs": [],
   "source": [
    "try:\n",
    "    import mpld3\n",
    "except:\n",
    "    print \"SKIPPING mpld3 examples: install with 'pip install mpld3'\"\n",
    "else:\n",
    "    b['plotting_backend@setting'] = 'mpld3'\n",
    "\n",
    "    plt.cla()\n",
    "    axs, artists = b['orb01@primary@model'].plot(x='time', y='x')\n",
    "    axs, artists = b['orb01@secondary@model'].plot(x='time', y='x', ax=axs[0])\n",
    "    b.show()"
   ]
  }
 ],
 "metadata": {
  "kernelspec": {
   "display_name": "Python 2",
   "language": "python",
   "name": "python2"
  },
  "language_info": {
   "codemirror_mode": {
    "name": "ipython",
    "version": 2
   },
   "file_extension": ".py",
   "mimetype": "text/x-python",
   "name": "python",
   "nbconvert_exporter": "python",
   "pygments_lexer": "ipython2",
   "version": "2.7.9"
  }
 },
 "nbformat": 4,
 "nbformat_minor": 0
}
