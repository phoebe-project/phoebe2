{
 "cells": [
  {
   "cell_type": "markdown",
   "metadata": {},
   "source": [
    "[IPython Notebook](general_concepts.ipynb) |  [Python Script](general_concepts.py)"
   ]
  },
  {
   "cell_type": "markdown",
   "metadata": {},
   "source": [
    "General Concepts\n",
    "======================\n",
    "\n",
    "This tutorial introduces all the general concepts of dealing with the Bundle, ParameterSets, and Parameters.  This tutorial aims to be quite complete - covering almost everything you can do with Parameters, so on first read you may just want to try to get familiar, and then return here as a reference for any details later.\n",
    "\n",
    "All of these tutorials assume basic comfort with Python in general - particularly with the concepts of lists, dictionaries, and objects as well as basic comfort with using the numpy and matplotlib packages.\n",
    "\n",
    "Setup\n",
    "----------------------------------------------\n",
    "\n",
    "Let's get started with some basic imports"
   ]
  },
  {
   "cell_type": "code",
   "execution_count": 1,
   "metadata": {
    "collapsed": false
   },
   "outputs": [
    {
     "name": "stderr",
     "output_type": "stream",
     "text": [
      "/usr/local/lib/python2.7/dist-packages/IPython/kernel/__init__.py:13: ShimWarning: The `IPython.kernel` package has been deprecated. You should import from ipykernel or jupyter_client instead.\n",
      "  \"You should import from ipykernel or jupyter_client instead.\", ShimWarning)\n",
      "WARNING: Constant u'Gravitational constant' is already has a definition in the u'si' system [astropy.constants.constant]\n",
      "WARNING:astropy:Constant u'Gravitational constant' is already has a definition in the u'si' system\n",
      "WARNING: Constant u'Solar mass' is already has a definition in the u'si' system [astropy.constants.constant]\n",
      "WARNING:astropy:Constant u'Solar mass' is already has a definition in the u'si' system\n",
      "WARNING: Constant u'Solar radius' is already has a definition in the u'si' system [astropy.constants.constant]\n",
      "WARNING:astropy:Constant u'Solar radius' is already has a definition in the u'si' system\n",
      "WARNING: Constant u'Solar luminosity' is already has a definition in the u'si' system [astropy.constants.constant]\n",
      "WARNING:astropy:Constant u'Solar luminosity' is already has a definition in the u'si' system\n"
     ]
    }
   ],
   "source": [
    "import phoebe\n",
    "from phoebe import u # units\n",
    "import numpy as np\n",
    "import matplotlib.pyplot as plt"
   ]
  },
  {
   "cell_type": "markdown",
   "metadata": {},
   "source": [
    "If running in IPython notebooks, you may see a \"ShimWarning\" depending on the version of Jupyter you are using - this is safe to ignore.\n",
    "\n",
    "PHOEBE 2 uses constants defined in the IAU 2015 Resolution which conflict with the constants defined in astropy.  As a result, you'll see the warnings as phoebe.u and phoebe.c \"hijacks\" the values in astropy.units and astropy.constants.\n",
    "\n",
    "Whenever providing units, please make sure to use the phoebe.u instead of astropy.units."
   ]
  },
  {
   "cell_type": "markdown",
   "metadata": {},
   "source": [
    "### Logger\n",
    "\n",
    "Before starting any script, it is a good habit to initialize a logger and define which levels of information you want printed to the command line (clevel) and dumped to a file (flevel).\n",
    "\n",
    "The levels from most to least information are:\n",
    "\n",
    "* DEBUG\n",
    "* INFO\n",
    "* WARNING\n",
    "* ERROR\n",
    "* CRITICAL\n"
   ]
  },
  {
   "cell_type": "code",
   "execution_count": 2,
   "metadata": {
    "collapsed": false
   },
   "outputs": [],
   "source": [
    "logger = phoebe.logger(clevel='INFO', flevel='DEBUG', filename='tutorial.log')"
   ]
  },
  {
   "cell_type": "markdown",
   "metadata": {},
   "source": [
    "All of these arguments are optional and will default to clevel='WARNING' if not provided.\n",
    "\n",
    "So with this logger, anything with INFO, WARNING, ERROR, or CRITICAL levels will be printed to the screen.  All messages of any level will be written to a file named 'tutorial.log' in the current directory.\n",
    "\n",
    "Note: the logger messages are not included in the outputs shown below.\n",
    "\n",
    "Bundle and ParameterSets\n",
    "----------------------------------\n",
    "\n",
    "### The Bundle\n",
    "\n",
    "The Bundle is a python object which holds all information about a system and its datasets, models, and fitting runs.  Below you'll see how to access and set individual parameters within the bundle as well as how to filter its contents.\n",
    "\n",
    "The Bundle is just a glorified python dictionary of parameters (making it a 'ParameterSet') but with very flexible keys and the added ability to filter.\n",
    "\n",
    "Let's start by initializing an empty Bundle:"
   ]
  },
  {
   "cell_type": "code",
   "execution_count": 3,
   "metadata": {
    "collapsed": false
   },
   "outputs": [
    {
     "data": {
      "text/plain": [
       "<PHOEBE Bundle: 11 parameters | contexts: setting, system>"
      ]
     },
     "execution_count": 3,
     "metadata": {},
     "output_type": "execute_result"
    }
   ],
   "source": [
    "b = phoebe.Bundle()\n",
    "b"
   ]
  },
  {
   "cell_type": "markdown",
   "metadata": {
    "collapsed": true
   },
   "source": [
    "Here we can see that the Bundle already has a number of parameters, and that we could further filter these results by providing one of the available 'contexts' - more on that in just a bit.\n",
    "\n",
    "With the exception of some of the available bundle-specific methods, which we'll also see later, the bundle itself is really just the all-inclusive top-level ParameterSet.  So let's continue by talking about ParameterSets in general.\n",
    "\n",
    "### ParameterSets\n",
    "\n",
    "Let's first look at the different methods for viewing all the information in a given ParameterSet.  In this case we'll start with the entire Bundle - remember, the Bundle is a ParameterSet."
   ]
  },
  {
   "cell_type": "code",
   "execution_count": 4,
   "metadata": {
    "collapsed": false
   },
   "outputs": [
    {
     "name": "stdout",
     "output_type": "stream",
     "text": [
      "SYSTEM:\n",
      "distance\n",
      "hierarchy\n",
      "t0\n",
      "vgamma\n",
      "epoch\n",
      "ra\n",
      "dec\n",
      "\n",
      "COMPONENT:\n",
      "\n",
      "\n",
      "DATASET:\n",
      "\n",
      "\n",
      "CONSTRAINT:\n",
      "\n",
      "\n",
      "COMPUTE:\n",
      "\n",
      "\n",
      "MODEL:\n",
      "\n",
      "\n",
      "FITTING:\n",
      "\n",
      "\n",
      "FEEDBACK:\n",
      "\n",
      "\n",
      "PLUGIN:\n",
      "\n",
      "\n",
      "\n"
     ]
    }
   ],
   "source": [
    "print b\n"
   ]
  },
  {
   "cell_type": "markdown",
   "metadata": {},
   "source": [
    "*Note: this output is currently very ugly and will be formatted to be more user-friendly in the near future*"
   ]
  },
  {
   "cell_type": "code",
   "execution_count": 5,
   "metadata": {
    "collapsed": false
   },
   "outputs": [
    {
     "data": {
      "text/plain": [
       "[<Parameter: t0=0.0 d | keys: description, value, quantity, default_unit, limits, relevant_if, copy_for, timederiv>,\n",
       " <Parameter: ra=0.0 deg | keys: description, value, quantity, default_unit, limits, relevant_if, copy_for, timederiv>,\n",
       " <Parameter: dec=0.0 deg | keys: description, value, quantity, default_unit, limits, relevant_if, copy_for, timederiv>,\n",
       " <Parameter: epoch=J2000 | keys: description, value, relevant_if>,\n",
       " <Parameter: distance=10.0 pc | keys: description, value, quantity, default_unit, limits, relevant_if, copy_for, timederiv>,\n",
       " <Parameter: vgamma=0.0 km / s | keys: description, value, quantity, default_unit, limits, relevant_if, copy_for, timederiv>,\n",
       " <Parameter: log_history=False | keys: description, value, relevant_if, copy_for>,\n",
       " <Parameter: dict_filter={} | keys: description, value, relevant_if, copy_for>,\n",
       " <Parameter: dict_set_all=False | keys: description, value, relevant_if, copy_for>,\n",
       " <Parameter: plotting_backend=mpl | keys: description, choices, value, relevant_if, copy_for>,\n",
       " <HierarchyParameter: >]"
      ]
     },
     "execution_count": 5,
     "metadata": {},
     "output_type": "execute_result"
    }
   ],
   "source": [
    "b.to_list()"
   ]
  },
  {
   "cell_type": "markdown",
   "metadata": {},
   "source": [
    "Here we can see that a ParameterSet is really just a collection of Parameters.  \n",
    "\n",
    "Each of these parameters has several \"metatags\".  Let's just take the first parameter from this list.  Shortly we'll see nicer ways to get a particular Parameter from a ParameterSet, but for now we'll just pull the first one from the list."
   ]
  },
  {
   "cell_type": "code",
   "execution_count": 6,
   "metadata": {
    "collapsed": false
   },
   "outputs": [
    {
     "data": {
      "text/plain": [
       "OrderedDict([('time', None),\n",
       "             ('qualifier', 't0'),\n",
       "             ('history', None),\n",
       "             ('component', None),\n",
       "             ('dataset', None),\n",
       "             ('constraint', None),\n",
       "             ('compute', None),\n",
       "             ('model', None),\n",
       "             ('fitting', None),\n",
       "             ('feedback', None),\n",
       "             ('plugin', None),\n",
       "             ('method', None),\n",
       "             ('context', 'system'),\n",
       "             ('twig', 't0@system'),\n",
       "             ('uniquetwig', 't0@system')])"
      ]
     },
     "execution_count": 6,
     "metadata": {},
     "output_type": "execute_result"
    }
   ],
   "source": [
    "param = b.to_list()[0]\n",
    "param.meta"
   ]
  },
  {
   "cell_type": "markdown",
   "metadata": {},
   "source": [
    "Most of these \"metatags\" act as labels - for example, you can give a component tag to each of the components for easier referencing.\n",
    "\n",
    "But a few of these tags are fixed and not editable:\n",
    "\n",
    "* qualifier: literally the name of the parameter.\n",
    "* method: tells what structures a parameter belongs to (ie whether a component is a star or an orbit).\n",
    "* context: tells what context this parameter belongs to\n",
    "* twig: a shortcut to the parameter in a single string.\n",
    "* uniquetwig: the minimal twig needed to reach this parameter.\n",
    "* uniqueid: an internal representation used to reach this parameter\n",
    "\n",
    "These contexts are (you'll notice that most are represented in the tags):\n",
    "\n",
    "* setting\n",
    "* history\n",
    "* system\n",
    "* component\n",
    "* dataset\n",
    "* constraint\n",
    "* compute\n",
    "* model\n",
    "* fitting\n",
    "* feedback\n",
    "* plugin\n",
    "\n",
    "One way to distinguish between context and method is with the following question and answer:\n",
    "\n",
    "\"What kind of **[context]** is this?  It's a **[method]** tagged **[context]**=**[tag-with-same-name-as-context]**.\"\n",
    "\n",
    "In different cases, this will then become:\n",
    "\n",
    "* \"What kind of **component** is this?  It's a **star** tagged **component**=**starA**.\" (context='component', method='star', component='starA')\n",
    "* \"What kind of **dataset** is this?  It's a **LC (light curve)** tagged **dataset**=**lc01**.\" (context='dataset', method='LC', dataset='lc01')\n",
    "* \"What kind of **compute** (options) are these?  They're **phoebe** (compute options) tagged **compute**=**preview**.\" (context='compute', method='phoebe', compute='preview')\n",
    "\n",
    "Any of these tags can be accessed directly, through either a single parameter:\n"
   ]
  },
  {
   "cell_type": "code",
   "execution_count": 7,
   "metadata": {
    "collapsed": false
   },
   "outputs": [
    {
     "data": {
      "text/plain": [
       "'t0'"
      ]
     },
     "execution_count": 7,
     "metadata": {},
     "output_type": "execute_result"
    }
   ],
   "source": [
    "param.qualifier"
   ]
  },
  {
   "cell_type": "markdown",
   "metadata": {},
   "source": [
    "... or at the ParameterSet level:"
   ]
  },
  {
   "cell_type": "code",
   "execution_count": 8,
   "metadata": {
    "collapsed": true
   },
   "outputs": [],
   "source": [
    "b.qualifier"
   ]
  },
  {
   "cell_type": "markdown",
   "metadata": {},
   "source": [
    "This returns None since not all objects in this ParameterSet (the Bundle) share a single context.  But you can see all the options for a given key by providing the plural version of that tag name:"
   ]
  },
  {
   "cell_type": "code",
   "execution_count": 9,
   "metadata": {
    "collapsed": false
   },
   "outputs": [
    {
     "data": {
      "text/plain": [
       "['distance',\n",
       " 'dict_set_all',\n",
       " 'plotting_backend',\n",
       " 't0',\n",
       " 'vgamma',\n",
       " 'hierarchy',\n",
       " 'epoch',\n",
       " 'ra',\n",
       " 'dict_filter',\n",
       " 'log_history',\n",
       " 'dec']"
      ]
     },
     "execution_count": 9,
     "metadata": {},
     "output_type": "execute_result"
    }
   ],
   "source": [
    "b.qualifiers"
   ]
  },
  {
   "cell_type": "markdown",
   "metadata": {},
   "source": [
    "### Filtering ParameterSets\n",
    "\n",
    "Any of the tags can also be used to filter the bundle:"
   ]
  },
  {
   "cell_type": "code",
   "execution_count": 10,
   "metadata": {
    "collapsed": false
   },
   "outputs": [
    {
     "data": {
      "text/plain": [
       "<ParameterSet: 7 parameters | qualifiers: distance, hierarchy, t0, vgamma, epoch, ra, dec>"
      ]
     },
     "execution_count": 10,
     "metadata": {},
     "output_type": "execute_result"
    }
   ],
   "source": [
    "b.filter(context='system')"
   ]
  },
  {
   "cell_type": "markdown",
   "metadata": {
    "collapsed": true
   },
   "source": [
    "Here we were returned a ParameterSet of all Parameters that matched the filter criteria.  We can do almost anything to a ParameterSet that we could do to the bundle... including further filtering.  You can see that the representation of the ParameterSet now tells us a list of qualifiers instead of a list of contexts - it always shows the highest level of those \"metatags\" in which specifying a value will further limit the search.  In this case, all of these Parameters share identical \"metatags\" up to the qualifier.\n",
    "\n",
    "So let's chain another filter call onto the end of our previous filter:"
   ]
  },
  {
   "cell_type": "code",
   "execution_count": 11,
   "metadata": {
    "collapsed": false
   },
   "outputs": [
    {
     "data": {
      "text/plain": [
       "<ParameterSet: 1 parameters>"
      ]
     },
     "execution_count": 11,
     "metadata": {},
     "output_type": "execute_result"
    }
   ],
   "source": [
    "b.filter(context='system').filter(qualifier='ra')"
   ]
  },
  {
   "cell_type": "markdown",
   "metadata": {},
   "source": [
    "Now we see that we have drilled down to a single Parameter.  Note that a ParameterSet is still returned - filter will *always* return a ParameterSet.\n",
    "\n",
    "We could have accomplished the exact same thing with a single call to filter:"
   ]
  },
  {
   "cell_type": "code",
   "execution_count": 12,
   "metadata": {
    "collapsed": false
   },
   "outputs": [
    {
     "data": {
      "text/plain": [
       "<ParameterSet: 1 parameters>"
      ]
     },
     "execution_count": 12,
     "metadata": {},
     "output_type": "execute_result"
    }
   ],
   "source": [
    "b.filter(context='system', qualifier='ra')"
   ]
  },
  {
   "cell_type": "markdown",
   "metadata": {},
   "source": [
    "If you want to access the actual Parameter, you must use get instead of (or in addition to) filter.  All of the following lines do the exact same thing:"
   ]
  },
  {
   "cell_type": "code",
   "execution_count": 13,
   "metadata": {
    "collapsed": false
   },
   "outputs": [
    {
     "data": {
      "text/plain": [
       "<Parameter: ra=0.0 deg | keys: description, value, quantity, default_unit, limits, relevant_if, copy_for, timederiv>"
      ]
     },
     "execution_count": 13,
     "metadata": {},
     "output_type": "execute_result"
    }
   ],
   "source": [
    "b.filter(context='system', qualifier='ra').get()"
   ]
  },
  {
   "cell_type": "code",
   "execution_count": 14,
   "metadata": {
    "collapsed": false
   },
   "outputs": [
    {
     "data": {
      "text/plain": [
       "<Parameter: ra=0.0 deg | keys: description, value, quantity, default_unit, limits, relevant_if, copy_for, timederiv>"
      ]
     },
     "execution_count": 14,
     "metadata": {},
     "output_type": "execute_result"
    }
   ],
   "source": [
    "b.get(context='system', qualifier='ra')"
   ]
  },
  {
   "cell_type": "markdown",
   "metadata": {},
   "source": [
    "Or we can use those twigs.  Twigs are just a combination of \"metatags\" separated by some delimiter.  You can use these for dictionary access in a ParameterSet - without needing to provide the name of the tag, and without having to worry about order.  Again, all of the following lines will do the exact same thing:"
   ]
  },
  {
   "cell_type": "code",
   "execution_count": 15,
   "metadata": {
    "collapsed": false
   },
   "outputs": [
    {
     "data": {
      "text/plain": [
       "<Parameter: ra=0.0 deg | keys: description, value, quantity, default_unit, limits, relevant_if, copy_for, timederiv>"
      ]
     },
     "execution_count": 15,
     "metadata": {},
     "output_type": "execute_result"
    }
   ],
   "source": [
    "b['ra@system']"
   ]
  },
  {
   "cell_type": "code",
   "execution_count": 16,
   "metadata": {
    "collapsed": false
   },
   "outputs": [
    {
     "data": {
      "text/plain": [
       "<Parameter: ra=0.0 deg | keys: description, value, quantity, default_unit, limits, relevant_if, copy_for, timederiv>"
      ]
     },
     "execution_count": 16,
     "metadata": {},
     "output_type": "execute_result"
    }
   ],
   "source": [
    "b['system']['ra']"
   ]
  },
  {
   "cell_type": "markdown",
   "metadata": {},
   "source": [
    "You may notice that this returned a Parameter without needing to specify.  Twig dictionary access tries to be smart - if exactly 1 Parameter is found, it will return that Parameter instead of a ParameterSet.  Notice the difference between the two following lines:"
   ]
  },
  {
   "cell_type": "code",
   "execution_count": 17,
   "metadata": {
    "collapsed": false
   },
   "outputs": [
    {
     "data": {
      "text/plain": [
       "<ParameterSet: 7 parameters | qualifiers: distance, hierarchy, t0, vgamma, epoch, ra, dec>"
      ]
     },
     "execution_count": 17,
     "metadata": {},
     "output_type": "execute_result"
    }
   ],
   "source": [
    "b['system']"
   ]
  },
  {
   "cell_type": "code",
   "execution_count": 18,
   "metadata": {
    "collapsed": false
   },
   "outputs": [
    {
     "data": {
      "text/plain": [
       "<Parameter: ra=0.0 deg | keys: description, value, quantity, default_unit, limits, relevant_if, copy_for, timederiv>"
      ]
     },
     "execution_count": 18,
     "metadata": {},
     "output_type": "execute_result"
    }
   ],
   "source": [
    "b['ra@system']"
   ]
  },
  {
   "cell_type": "markdown",
   "metadata": {},
   "source": [
    "You can also access one more level - these keys that are listed in a parameter give you access to \"attributes\" of that Parameter:"
   ]
  },
  {
   "cell_type": "code",
   "execution_count": 19,
   "metadata": {
    "collapsed": false
   },
   "outputs": [
    {
     "name": "stdout",
     "output_type": "stream",
     "text": [
      "0.0\n"
     ]
    }
   ],
   "source": [
    "print b['value@ra@system']"
   ]
  },
  {
   "cell_type": "code",
   "execution_count": 20,
   "metadata": {
    "collapsed": false
   },
   "outputs": [
    {
     "name": "stdout",
     "output_type": "stream",
     "text": [
      "Right ascension\n"
     ]
    }
   ],
   "source": [
    "print b['description@ra@system']"
   ]
  },
  {
   "cell_type": "markdown",
   "metadata": {},
   "source": [
    "Parameters\n",
    "------------------------\n",
    "\n",
    "Parameters are a single entry in a ParameterSet or Bundle.  They contain a value of some sort and any necessary information about that value (such as description or units, when applicable).\n",
    "\n",
    "Let's first get a Parameter:"
   ]
  },
  {
   "cell_type": "code",
   "execution_count": 21,
   "metadata": {
    "collapsed": false
   },
   "outputs": [
    {
     "data": {
      "text/plain": [
       "<Parameter: ra=0.0 deg | keys: description, value, quantity, default_unit, limits, relevant_if, copy_for, timederiv>"
      ]
     },
     "execution_count": 21,
     "metadata": {},
     "output_type": "execute_result"
    }
   ],
   "source": [
    "b['ra@system']"
   ]
  },
  {
   "cell_type": "markdown",
   "metadata": {},
   "source": [
    "As with filtering ParameterSets, these are accessible through either dictionary access or methods:"
   ]
  },
  {
   "cell_type": "code",
   "execution_count": 22,
   "metadata": {
    "collapsed": false
   },
   "outputs": [
    {
     "name": "stdout",
     "output_type": "stream",
     "text": [
      "0.0\n"
     ]
    }
   ],
   "source": [
    "print b['value@ra@system']"
   ]
  },
  {
   "cell_type": "code",
   "execution_count": 23,
   "metadata": {
    "collapsed": false
   },
   "outputs": [
    {
     "name": "stdout",
     "output_type": "stream",
     "text": [
      "0.0\n"
     ]
    }
   ],
   "source": [
    "print b['ra@system']['value']"
   ]
  },
  {
   "cell_type": "code",
   "execution_count": 24,
   "metadata": {
    "collapsed": false
   },
   "outputs": [
    {
     "name": "stdout",
     "output_type": "stream",
     "text": [
      "0.0\n"
     ]
    }
   ],
   "source": [
    "print b['ra@system'].get_value()"
   ]
  },
  {
   "cell_type": "code",
   "execution_count": 25,
   "metadata": {
    "collapsed": false
   },
   "outputs": [
    {
     "name": "stdout",
     "output_type": "stream",
     "text": [
      "0.0\n"
     ]
    }
   ],
   "source": [
    "print b.get_value('ra@system')"
   ]
  },
  {
   "cell_type": "markdown",
   "metadata": {},
   "source": [
    "All Parameters also have a description that explains what the qualifier of the Parameter means."
   ]
  },
  {
   "cell_type": "code",
   "execution_count": 26,
   "metadata": {
    "collapsed": false
   },
   "outputs": [
    {
     "name": "stdout",
     "output_type": "stream",
     "text": [
      "Right ascension\n"
     ]
    }
   ],
   "source": [
    "print b['ra@system']['description']"
   ]
  },
  {
   "cell_type": "markdown",
   "metadata": {},
   "source": [
    "Setting the value of a Parameter can be done through either the set_value method of the Bundle, or via dictionary access:"
   ]
  },
  {
   "cell_type": "code",
   "execution_count": 27,
   "metadata": {
    "collapsed": false
   },
   "outputs": [
    {
     "data": {
      "text/plain": [
       "<Parameter: ra=15.0 deg | keys: description, value, quantity, default_unit, limits, relevant_if, copy_for, timederiv>"
      ]
     },
     "execution_count": 27,
     "metadata": {},
     "output_type": "execute_result"
    }
   ],
   "source": [
    "b['ra@system'] = 15\n",
    "b['ra@system']"
   ]
  },
  {
   "cell_type": "code",
   "execution_count": 28,
   "metadata": {
    "collapsed": false
   },
   "outputs": [
    {
     "name": "stdout",
     "output_type": "stream",
     "text": [
      "30.0\n"
     ]
    }
   ],
   "source": [
    "b['value@ra@system'] = 30\n",
    "print b['value@ra@system']"
   ]
  },
  {
   "cell_type": "code",
   "execution_count": 29,
   "metadata": {
    "collapsed": false
   },
   "outputs": [
    {
     "name": "stdout",
     "output_type": "stream",
     "text": [
      "45.0\n"
     ]
    }
   ],
   "source": [
    "b['ra@system'].set_value(45)\n",
    "print b['ra@system'].get_value()"
   ]
  },
  {
   "cell_type": "code",
   "execution_count": 30,
   "metadata": {
    "collapsed": false
   },
   "outputs": [
    {
     "name": "stdout",
     "output_type": "stream",
     "text": [
      "60.0\n"
     ]
    }
   ],
   "source": [
    "b.set_value('ra@system', 60)\n",
    "print b.get_value('ra@system')"
   ]
  },
  {
   "cell_type": "markdown",
   "metadata": {},
   "source": [
    "Parameters have different types - depending on what type of information they're supposed to hold.  We'll now take a look at the different types.  If you need to see the type of a Parameter, you can always request it:"
   ]
  },
  {
   "cell_type": "code",
   "execution_count": 31,
   "metadata": {
    "collapsed": false
   },
   "outputs": [
    {
     "data": {
      "text/plain": [
       "phoebe.parameters.parameters.FloatParameter"
      ]
     },
     "execution_count": 31,
     "metadata": {},
     "output_type": "execute_result"
    }
   ],
   "source": [
    "type(b['ra@system'])"
   ]
  },
  {
   "cell_type": "markdown",
   "metadata": {},
   "source": [
    "### Float Parameters\n",
    "\n",
    "The most common type of Parameter holds a float value (and therefore a default unit to handle any type of necessary conversions).\n",
    "\n",
    "You can access the default unit:"
   ]
  },
  {
   "cell_type": "code",
   "execution_count": 32,
   "metadata": {
    "collapsed": false
   },
   "outputs": [
    {
     "name": "stdout",
     "output_type": "stream",
     "text": [
      "deg\n"
     ]
    }
   ],
   "source": [
    "print b['ra@system']['default_unit']"
   ]
  },
  {
   "cell_type": "markdown",
   "metadata": {},
   "source": [
    "Request the value be converted to some other units:"
   ]
  },
  {
   "cell_type": "code",
   "execution_count": 33,
   "metadata": {
    "collapsed": false
   },
   "outputs": [
    {
     "name": "stdout",
     "output_type": "stream",
     "text": [
      "1.0471975512\n"
     ]
    }
   ],
   "source": [
    "print b.get_value('ra@system', 'rad')"
   ]
  },
  {
   "cell_type": "code",
   "execution_count": 34,
   "metadata": {
    "collapsed": false
   },
   "outputs": [
    {
     "name": "stdout",
     "output_type": "stream",
     "text": [
      "1.0471975512\n"
     ]
    }
   ],
   "source": [
    "print b.get_value('ra@system', u.rad)"
   ]
  },
  {
   "cell_type": "markdown",
   "metadata": {},
   "source": [
    "Provide the value in some other units and have it converted for you by either providing an Quantity object (scalar times a unit object) or a tuple including the string representation of the unit:"
   ]
  },
  {
   "cell_type": "code",
   "execution_count": 35,
   "metadata": {
    "collapsed": false
   },
   "outputs": [
    {
     "name": "stdout",
     "output_type": "stream",
     "text": [
      "68.7549354157\n"
     ]
    }
   ],
   "source": [
    "b['ra@system'] = 1.2 * u.rad\n",
    "print b['value@ra@system']"
   ]
  },
  {
   "cell_type": "code",
   "execution_count": 36,
   "metadata": {
    "collapsed": false
   },
   "outputs": [
    {
     "name": "stdout",
     "output_type": "stream",
     "text": [
      "80.2140913183\n"
     ]
    }
   ],
   "source": [
    "b['ra@system'] = 1.4, 'rad'\n",
    "print b['value@ra@system']"
   ]
  },
  {
   "cell_type": "markdown",
   "metadata": {},
   "source": [
    "Or even change the default units (for both setting and getting values):"
   ]
  },
  {
   "cell_type": "code",
   "execution_count": 37,
   "metadata": {
    "collapsed": false
   },
   "outputs": [
    {
     "name": "stdout",
     "output_type": "stream",
     "text": [
      "1.4\n"
     ]
    }
   ],
   "source": [
    "b['default_unit@ra@system'] = u.rad\n",
    "print b['value@ra@system']"
   ]
  },
  {
   "cell_type": "code",
   "execution_count": 38,
   "metadata": {
    "collapsed": false,
    "scrolled": true
   },
   "outputs": [
    {
     "name": "stdout",
     "output_type": "stream",
     "text": [
      "1.5\n"
     ]
    }
   ],
   "source": [
    "b['ra@system'] = 1.5\n",
    "print b['value@ra@system']"
   ]
  },
  {
   "cell_type": "markdown",
   "metadata": {},
   "source": [
    "To get a Parameter's 'quantity' object that shows the units and allows converting after retrieving, use get_quanity instead:"
   ]
  },
  {
   "cell_type": "code",
   "execution_count": 39,
   "metadata": {
    "collapsed": false
   },
   "outputs": [
    {
     "name": "stdout",
     "output_type": "stream",
     "text": [
      "1.5 rad\n"
     ]
    }
   ],
   "source": [
    "print b.get_quantity('ra@system')"
   ]
  },
  {
   "cell_type": "code",
   "execution_count": 40,
   "metadata": {
    "collapsed": false
   },
   "outputs": [
    {
     "name": "stdout",
     "output_type": "stream",
     "text": [
      "85.9436692696 deg\n"
     ]
    }
   ],
   "source": [
    "print b.get_quantity('ra@system').to(u.deg)"
   ]
  },
  {
   "cell_type": "code",
   "execution_count": 41,
   "metadata": {
    "collapsed": false
   },
   "outputs": [
    {
     "name": "stdout",
     "output_type": "stream",
     "text": [
      "85.9436692696\n"
     ]
    }
   ],
   "source": [
    "print b.get_quantity('ra@system').to(u.deg).value"
   ]
  },
  {
   "cell_type": "markdown",
   "metadata": {},
   "source": [
    "### Int Parameters\n",
    "\n",
    "Since we don't have any integer parameters yet, let's add some compute options.  Compute options will be discussed in much greater detail in the [Compute](compute) tutorial"
   ]
  },
  {
   "cell_type": "code",
   "execution_count": 42,
   "metadata": {
    "collapsed": false
   },
   "outputs": [
    {
     "name": "stderr",
     "output_type": "stream",
     "text": [
      "/usr/local/lib/python2.7/dist-packages/astropy/units/quantity.py:732: FutureWarning: comparison to `None` will result in an elementwise object comparison in the future.\n",
      "  return super(Quantity, self).__eq__(other)\n"
     ]
    },
    {
     "data": {
      "text/plain": [
       "<ParameterSet: 19 parameters | qualifiers: dynamics_method, eclipse_alg, gridsize, stepsize, lc_method, atm, enabled, ltte, rv_grav, orbiterror, rv_method, etv_method, maxpoints, delta, etv_tol, store_mesh, distortion_method, subdiv_num, mesh_method>"
      ]
     },
     "execution_count": 42,
     "metadata": {},
     "output_type": "execute_result"
    }
   ],
   "source": [
    "b.add_compute(compute='mycompute')"
   ]
  },
  {
   "cell_type": "code",
   "execution_count": 43,
   "metadata": {
    "collapsed": false
   },
   "outputs": [
    {
     "name": "stdout",
     "output_type": "stream",
     "text": [
      "<class 'phoebe.parameters.parameters.IntParameter'>\n"
     ]
    }
   ],
   "source": [
    "print type(b['maxpoints@mycompute'])"
   ]
  },
  {
   "cell_type": "markdown",
   "metadata": {},
   "source": [
    "Integer Parameters are the same as float parameters, except they (obviously) accept integers instead of decimal numbers and they do not have units."
   ]
  },
  {
   "cell_type": "code",
   "execution_count": 44,
   "metadata": {
    "collapsed": false
   },
   "outputs": [
    {
     "data": {
      "text/plain": [
       "<Parameter: maxpoints=100000 | keys: description, value, limits, relevant_if, copy_for>"
      ]
     },
     "execution_count": 44,
     "metadata": {},
     "output_type": "execute_result"
    }
   ],
   "source": [
    "b['maxpoints@mycompute']"
   ]
  },
  {
   "cell_type": "code",
   "execution_count": 45,
   "metadata": {
    "collapsed": false
   },
   "outputs": [
    {
     "data": {
      "text/plain": [
       "<Parameter: maxpoints=1000 | keys: description, value, limits, relevant_if, copy_for>"
      ]
     },
     "execution_count": 45,
     "metadata": {},
     "output_type": "execute_result"
    }
   ],
   "source": [
    "b['maxpoints@mycompute'] = 1000\n",
    "b['maxpoints@mycompute']"
   ]
  },
  {
   "cell_type": "markdown",
   "metadata": {},
   "source": [
    "Note that if you do provide a float, it will be casted to an integer."
   ]
  },
  {
   "cell_type": "code",
   "execution_count": 46,
   "metadata": {
    "collapsed": false
   },
   "outputs": [
    {
     "data": {
      "text/plain": [
       "<Parameter: maxpoints=100 | keys: description, value, limits, relevant_if, copy_for>"
      ]
     },
     "execution_count": 46,
     "metadata": {},
     "output_type": "execute_result"
    }
   ],
   "source": [
    "b['maxpoints@mycompute'] = 100.5\n",
    "b['maxpoints@mycompute']"
   ]
  },
  {
   "cell_type": "markdown",
   "metadata": {},
   "source": [
    "### Bool Parameters\n",
    "\n",
    "Boolean Parameters are even simpler - they accept True or False.\n",
    "\n",
    "The 'ltte' parameter is a switch in the compute options that tells the backend whether or not to account for ltte (light travel time effect) in the model."
   ]
  },
  {
   "cell_type": "code",
   "execution_count": 47,
   "metadata": {
    "collapsed": false
   },
   "outputs": [
    {
     "name": "stdout",
     "output_type": "stream",
     "text": [
      "<class 'phoebe.parameters.parameters.BoolParameter'>\n"
     ]
    }
   ],
   "source": [
    "print type(b['ltte@mycompute'])"
   ]
  },
  {
   "cell_type": "code",
   "execution_count": 48,
   "metadata": {
    "collapsed": false
   },
   "outputs": [
    {
     "data": {
      "text/plain": [
       "<Parameter: ltte=False | keys: description, value, relevant_if, copy_for>"
      ]
     },
     "execution_count": 48,
     "metadata": {},
     "output_type": "execute_result"
    }
   ],
   "source": [
    "b['ltte@mycompute']"
   ]
  },
  {
   "cell_type": "code",
   "execution_count": 49,
   "metadata": {
    "collapsed": false
   },
   "outputs": [
    {
     "data": {
      "text/plain": [
       "<Parameter: ltte=True | keys: description, value, relevant_if, copy_for>"
      ]
     },
     "execution_count": 49,
     "metadata": {},
     "output_type": "execute_result"
    }
   ],
   "source": [
    "b['ltte@mycompute'] = True\n",
    "b['ltte@mycompute']"
   ]
  },
  {
   "cell_type": "markdown",
   "metadata": {},
   "source": [
    "Note that, like Int Parameters, Boolean Parameters will attempt to cast anything you give it into True or False."
   ]
  },
  {
   "cell_type": "code",
   "execution_count": 50,
   "metadata": {
    "collapsed": false
   },
   "outputs": [
    {
     "data": {
      "text/plain": [
       "<Parameter: ltte=False | keys: description, value, relevant_if, copy_for>"
      ]
     },
     "execution_count": 50,
     "metadata": {},
     "output_type": "execute_result"
    }
   ],
   "source": [
    "b['ltte@mycompute'] = 0\n",
    "b['ltte@mycompute']"
   ]
  },
  {
   "cell_type": "code",
   "execution_count": 51,
   "metadata": {
    "collapsed": false
   },
   "outputs": [
    {
     "data": {
      "text/plain": [
       "<Parameter: ltte=False | keys: description, value, relevant_if, copy_for>"
      ]
     },
     "execution_count": 51,
     "metadata": {},
     "output_type": "execute_result"
    }
   ],
   "source": [
    "b['ltte@mycompute'] = None\n",
    "b['ltte@mycompute']"
   ]
  },
  {
   "cell_type": "markdown",
   "metadata": {},
   "source": [
    "As with python, an empty string will cast to False and a non-empty string will cast to True"
   ]
  },
  {
   "cell_type": "code",
   "execution_count": 52,
   "metadata": {
    "collapsed": false
   },
   "outputs": [
    {
     "data": {
      "text/plain": [
       "<Parameter: ltte=False | keys: description, value, relevant_if, copy_for>"
      ]
     },
     "execution_count": 52,
     "metadata": {},
     "output_type": "execute_result"
    }
   ],
   "source": [
    "b['ltte@mycompute'] = ''\n",
    "b['ltte@mycompute']"
   ]
  },
  {
   "cell_type": "code",
   "execution_count": 53,
   "metadata": {
    "collapsed": false,
    "scrolled": true
   },
   "outputs": [
    {
     "data": {
      "text/plain": [
       "<Parameter: ltte=True | keys: description, value, relevant_if, copy_for>"
      ]
     },
     "execution_count": 53,
     "metadata": {},
     "output_type": "execute_result"
    }
   ],
   "source": [
    "b['ltte@mycompute'] = 'somestring'\n",
    "b['ltte@mycompute']"
   ]
  },
  {
   "cell_type": "markdown",
   "metadata": {},
   "source": [
    "The only exception to this is that (unlike Python), 'true' or 'True' will cast to True and 'false' or 'False' will cast to False."
   ]
  },
  {
   "cell_type": "code",
   "execution_count": 54,
   "metadata": {
    "collapsed": false
   },
   "outputs": [
    {
     "data": {
      "text/plain": [
       "<Parameter: ltte=False | keys: description, value, relevant_if, copy_for>"
      ]
     },
     "execution_count": 54,
     "metadata": {},
     "output_type": "execute_result"
    }
   ],
   "source": [
    "b['ltte@mycompute'] = 'False'\n",
    "b['ltte@mycompute']"
   ]
  },
  {
   "cell_type": "code",
   "execution_count": 55,
   "metadata": {
    "collapsed": false
   },
   "outputs": [
    {
     "data": {
      "text/plain": [
       "<Parameter: ltte=False | keys: description, value, relevant_if, copy_for>"
      ]
     },
     "execution_count": 55,
     "metadata": {},
     "output_type": "execute_result"
    }
   ],
   "source": [
    "b['ltte@mycompute'] = 'false'\n",
    "b['ltte@mycompute']"
   ]
  },
  {
   "cell_type": "markdown",
   "metadata": {},
   "source": [
    "### String Parameters\n",
    "\n",
    "String Parameters accept any valid string."
   ]
  },
  {
   "cell_type": "code",
   "execution_count": 56,
   "metadata": {
    "collapsed": false
   },
   "outputs": [
    {
     "name": "stdout",
     "output_type": "stream",
     "text": [
      "<class 'phoebe.parameters.parameters.StringParameter'>\n"
     ]
    }
   ],
   "source": [
    "print type(b['epoch@system'])"
   ]
  },
  {
   "cell_type": "code",
   "execution_count": 57,
   "metadata": {
    "collapsed": false
   },
   "outputs": [
    {
     "data": {
      "text/plain": [
       "<Parameter: epoch=J2000 | keys: description, value, relevant_if>"
      ]
     },
     "execution_count": 57,
     "metadata": {},
     "output_type": "execute_result"
    }
   ],
   "source": [
    "b['epoch@system']"
   ]
  },
  {
   "cell_type": "code",
   "execution_count": 58,
   "metadata": {
    "collapsed": false
   },
   "outputs": [
    {
     "data": {
      "text/plain": [
       "<Parameter: epoch=J9999 | keys: description, value, relevant_if>"
      ]
     },
     "execution_count": 58,
     "metadata": {},
     "output_type": "execute_result"
    }
   ],
   "source": [
    "b['epoch@system'] = 'J9999'\n",
    "b['epoch@system']"
   ]
  },
  {
   "cell_type": "markdown",
   "metadata": {},
   "source": [
    "### Choice Parameters\n",
    "\n",
    "Choice Parameters act the same as String Parameters except that there are a limited number of valid strings accepted."
   ]
  },
  {
   "cell_type": "code",
   "execution_count": 59,
   "metadata": {
    "collapsed": false
   },
   "outputs": [
    {
     "data": {
      "text/plain": [
       "phoebe.parameters.parameters.ChoiceParameter"
      ]
     },
     "execution_count": 59,
     "metadata": {},
     "output_type": "execute_result"
    }
   ],
   "source": [
    "type(b['dynamics_method@mycompute'])"
   ]
  },
  {
   "cell_type": "code",
   "execution_count": 60,
   "metadata": {
    "collapsed": false
   },
   "outputs": [
    {
     "data": {
      "text/plain": [
       "<Parameter: dynamics_method=keplerian | keys: description, choices, value, relevant_if, copy_for>"
      ]
     },
     "execution_count": 60,
     "metadata": {},
     "output_type": "execute_result"
    }
   ],
   "source": [
    "b['dynamics_method@mycompute']"
   ]
  },
  {
   "cell_type": "code",
   "execution_count": 61,
   "metadata": {
    "collapsed": false
   },
   "outputs": [
    {
     "data": {
      "text/plain": [
       "['keplerian', 'nbody']"
      ]
     },
     "execution_count": 61,
     "metadata": {},
     "output_type": "execute_result"
    }
   ],
   "source": [
    "b['dynamics_method@mycompute']['choices']"
   ]
  },
  {
   "cell_type": "code",
   "execution_count": 62,
   "metadata": {
    "collapsed": false
   },
   "outputs": [
    {
     "data": {
      "text/plain": [
       "<Parameter: dynamics_method=nbody | keys: description, choices, value, relevant_if, copy_for>"
      ]
     },
     "execution_count": 62,
     "metadata": {},
     "output_type": "execute_result"
    }
   ],
   "source": [
    "b['dynamics_method@mycompute'] = 'nbody'\n",
    "b['dynamics_method@mycompute']"
   ]
  },
  {
   "cell_type": "markdown",
   "metadata": {},
   "source": [
    "Trying to provide a string which is not in 'choices' will raise an error."
   ]
  },
  {
   "cell_type": "markdown",
   "metadata": {},
   "source": [
    "Relevant If\n",
    "-------------------\n",
    "\n",
    "Some parameters are only relevant depending on the value of another parameter."
   ]
  },
  {
   "cell_type": "code",
   "execution_count": 63,
   "metadata": {
    "collapsed": false
   },
   "outputs": [
    {
     "data": {
      "text/plain": [
       "<ParameterSet: 17 parameters | qualifiers: dynamics_method, eclipse_alg, store_mesh, stepsize, lc_method, atm, ltte, rv_grav, orbiterror, rv_method, etv_method, maxpoints, delta, etv_tol, distortion_method, subdiv_num, mesh_method>"
      ]
     },
     "execution_count": 63,
     "metadata": {},
     "output_type": "execute_result"
    }
   ],
   "source": [
    "b['mycompute']"
   ]
  },
  {
   "cell_type": "code",
   "execution_count": 64,
   "metadata": {
    "collapsed": false
   },
   "outputs": [
    {
     "data": {
      "text/plain": [
       "<Parameter: delta=0.1 | keys: description, value, quantity, default_unit, limits, relevant_if, copy_for, timederiv>"
      ]
     },
     "execution_count": 64,
     "metadata": {},
     "output_type": "execute_result"
    }
   ],
   "source": [
    "b['delta']"
   ]
  },
  {
   "cell_type": "code",
   "execution_count": 65,
   "metadata": {
    "collapsed": false
   },
   "outputs": [
    {
     "data": {
      "text/plain": [
       "<Parameter: delta=0.2 | keys: description, value, quantity, default_unit, limits, relevant_if, copy_for, timederiv>"
      ]
     },
     "execution_count": 65,
     "metadata": {},
     "output_type": "execute_result"
    }
   ],
   "source": [
    "b['delta']=0.2\n",
    "b['delta']"
   ]
  },
  {
   "cell_type": "code",
   "execution_count": 66,
   "metadata": {
    "collapsed": false
   },
   "outputs": [
    {
     "data": {
      "text/plain": [
       "'mesh_method:marching'"
      ]
     },
     "execution_count": 66,
     "metadata": {},
     "output_type": "execute_result"
    }
   ],
   "source": [
    "b['delta']['relevant_if']"
   ]
  },
  {
   "cell_type": "code",
   "execution_count": 67,
   "metadata": {
    "collapsed": true
   },
   "outputs": [],
   "source": [
    "b['mesh_method'] = 'wd'"
   ]
  },
  {
   "cell_type": "code",
   "execution_count": 68,
   "metadata": {
    "collapsed": false
   },
   "outputs": [
    {
     "data": {
      "text/plain": [
       "<ParameterSet: 15 parameters | qualifiers: dynamics_method, eclipse_alg, gridsize, stepsize, lc_method, atm, ltte, rv_grav, orbiterror, rv_method, etv_method, etv_tol, store_mesh, mesh_method, subdiv_num>"
      ]
     },
     "execution_count": 68,
     "metadata": {},
     "output_type": "execute_result"
    }
   ],
   "source": [
    "b['mycompute']"
   ]
  },
  {
   "cell_type": "markdown",
   "metadata": {},
   "source": [
    "Now that mesh_method=='wd', the delta parameter is no longer relevant, and so it's temporarily hidden."
   ]
  },
  {
   "cell_type": "code",
   "execution_count": 69,
   "metadata": {
    "collapsed": false
   },
   "outputs": [
    {
     "data": {
      "text/plain": [
       "<ParameterSet: EMPTY>"
      ]
     },
     "execution_count": 69,
     "metadata": {},
     "output_type": "execute_result"
    }
   ],
   "source": [
    "b['delta']"
   ]
  },
  {
   "cell_type": "markdown",
   "metadata": {},
   "source": [
    "However, the value is still remembered as soon as it becomes relevant again"
   ]
  },
  {
   "cell_type": "code",
   "execution_count": 70,
   "metadata": {
    "collapsed": false
   },
   "outputs": [
    {
     "data": {
      "text/plain": [
       "<Parameter: delta=0.2 | keys: description, value, quantity, default_unit, limits, relevant_if, copy_for, timederiv>"
      ]
     },
     "execution_count": 70,
     "metadata": {},
     "output_type": "execute_result"
    }
   ],
   "source": [
    "b['mesh_method'] = 'marching'\n",
    "b['delta']"
   ]
  },
  {
   "cell_type": "markdown",
   "metadata": {},
   "source": [
    "Copy For\n",
    "--------------\n",
    "\n",
    "Parameters also have a copy_for property that tells PHOEBE how to copy the Parameter if new components or datasets are added to the Bundle.\n",
    "\n",
    "We'll see this in action later in the [Datasets Tutorial](./datasets), but for now, just know that you can *view* this property only and cannot change it."
   ]
  },
  {
   "cell_type": "code",
   "execution_count": 71,
   "metadata": {
    "collapsed": false
   },
   "outputs": [
    {
     "data": {
      "text/plain": [
       "{'component': '*', 'method': ['star', 'envelope']}"
      ]
     },
     "execution_count": 71,
     "metadata": {},
     "output_type": "execute_result"
    }
   ],
   "source": [
    "b['mesh_method'].copy_for"
   ]
  },
  {
   "cell_type": "markdown",
   "metadata": {},
   "source": [
    "In this case, we see that the mesh_method will be *copied* for each new component that is added to the Bundle, so long as that component matches the filter in the dictionary (ie that it has a method of either 'star' or 'envelope').\n",
    "\n",
    "You may never even need to view this property, but know that it exists and determines how Parameters may appear to be \"duplicated\" when adding datasets or components."
   ]
  }
 ],
 "metadata": {
  "kernelspec": {
   "display_name": "Python 2",
   "language": "python",
   "name": "python2"
  },
  "language_info": {
   "codemirror_mode": {
    "name": "ipython",
    "version": 2
   },
   "file_extension": ".py",
   "mimetype": "text/x-python",
   "name": "python",
   "nbconvert_exporter": "python",
   "pygments_lexer": "ipython2",
   "version": "2.7.11+"
  }
 },
 "nbformat": 4,
 "nbformat_minor": 0
}
