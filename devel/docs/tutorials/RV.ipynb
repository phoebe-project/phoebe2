{
 "cells": [
  {
   "cell_type": "markdown",
   "metadata": {},
   "source": [
    "[IPython Notebook](RV.ipynb) |  [Python Script](RV.py)"
   ]
  },
  {
   "cell_type": "markdown",
   "metadata": {},
   "source": [
    "RV Datasets and Options\n",
    "============================\n",
    "\n",
    "Setup\n",
    "-----------------------------"
   ]
  },
  {
   "cell_type": "markdown",
   "metadata": {
    "collapsed": true
   },
   "source": [
    "As always, let's do imports and initialize a logger and a new Bundle.  See [Building a System](building_a_system.html) for more details."
   ]
  },
  {
   "cell_type": "code",
   "execution_count": 1,
   "metadata": {
    "collapsed": true
   },
   "outputs": [],
   "source": [
    "%matplotlib inline"
   ]
  },
  {
   "cell_type": "code",
   "execution_count": 2,
   "metadata": {
    "collapsed": false
   },
   "outputs": [
    {
     "name": "stderr",
     "output_type": "stream",
     "text": [
      "/usr/local/lib/python2.7/dist-packages/IPython/kernel/__init__.py:13: ShimWarning: The `IPython.kernel` package has been deprecated. You should import from ipykernel or jupyter_client instead.\n",
      "  \"You should import from ipykernel or jupyter_client instead.\", ShimWarning)\n",
      "WARNING: Constant u'Gravitational constant' is already has a definition in the u'si' system [astropy.constants.constant]\n",
      "WARNING:astropy:Constant u'Gravitational constant' is already has a definition in the u'si' system\n",
      "WARNING: Constant u'Solar mass' is already has a definition in the u'si' system [astropy.constants.constant]\n",
      "WARNING:astropy:Constant u'Solar mass' is already has a definition in the u'si' system\n",
      "WARNING: Constant u'Solar radius' is already has a definition in the u'si' system [astropy.constants.constant]\n",
      "WARNING:astropy:Constant u'Solar radius' is already has a definition in the u'si' system\n",
      "WARNING: Constant u'Solar luminosity' is already has a definition in the u'si' system [astropy.constants.constant]\n",
      "WARNING:astropy:Constant u'Solar luminosity' is already has a definition in the u'si' system\n",
      "/usr/local/lib/python2.7/dist-packages/astropy/units/quantity.py:732: FutureWarning: comparison to `None` will result in an elementwise object comparison in the future.\n",
      "  return super(Quantity, self).__eq__(other)\n"
     ]
    }
   ],
   "source": [
    "import phoebe\n",
    "from phoebe import u # units\n",
    "import numpy as np\n",
    "import matplotlib.pyplot as plt\n",
    "\n",
    "logger = phoebe.logger(clevel='INFO')\n",
    "\n",
    "b = phoebe.Bundle.default_binary()"
   ]
  },
  {
   "cell_type": "markdown",
   "metadata": {
    "collapsed": true
   },
   "source": [
    "Dataset Parameters\n",
    "--------------------------\n",
    "\n",
    "Let's create the ParameterSets which would be added to the Bundle when calling add_dataset. Later we'll call add_dataset, which will create and attach both these ParameterSets for us."
   ]
  },
  {
   "cell_type": "code",
   "execution_count": 3,
   "metadata": {
    "collapsed": false
   },
   "outputs": [
    {
     "name": "stdout",
     "output_type": "stream",
     "text": [
      "time@_default: [] d\n",
      "rv@_default: [] km / s\n",
      "sigma@_default: [] km / s\n"
     ]
    }
   ],
   "source": [
    "ps, constraints = phoebe.dataset.rv()\n",
    "print ps"
   ]
  },
  {
   "cell_type": "code",
   "execution_count": 4,
   "metadata": {
    "collapsed": false
   },
   "outputs": [
    {
     "name": "stdout",
     "output_type": "stream",
     "text": [
      "ld_func@_default: logarithmic\n",
      "ld_coeffs@_default: [ 0.5  0.5]\n",
      "passband: Johnson:V\n",
      "pbscale@_default: \n",
      "pblum@_default: 12.5663706144 W\n",
      "l3: 0.0 W / m3\n",
      "alb@_default: 0.0\n"
     ]
    }
   ],
   "source": [
    "ps_dep = phoebe.dataset.rv_dep()\n",
    "print ps_dep"
   ]
  },
  {
   "cell_type": "markdown",
   "metadata": {},
   "source": [
    "For information on these passband-dependent parameters, see the section on the [LC Dataset](LC) (these are used only to compute fluxes when rv_method=='flux-weighted')"
   ]
  },
  {
   "cell_type": "markdown",
   "metadata": {},
   "source": [
    "### time"
   ]
  },
  {
   "cell_type": "code",
   "execution_count": 5,
   "metadata": {
    "collapsed": false
   },
   "outputs": [
    {
     "name": "stdout",
     "output_type": "stream",
     "text": [
      "Qualifier: time\n",
      "Description: Observed times\n",
      "Value: [] d\n",
      "Constrained by: \n",
      "Constrains: None\n",
      "Related to: None\n"
     ]
    }
   ],
   "source": [
    "print ps['time']"
   ]
  },
  {
   "cell_type": "markdown",
   "metadata": {},
   "source": [
    "### rv"
   ]
  },
  {
   "cell_type": "code",
   "execution_count": 6,
   "metadata": {
    "collapsed": false
   },
   "outputs": [
    {
     "name": "stdout",
     "output_type": "stream",
     "text": [
      "Qualifier: rv\n",
      "Description: Observed radial velocity\n",
      "Value: [] km / s\n",
      "Constrained by: \n",
      "Constrains: None\n",
      "Related to: None\n"
     ]
    }
   ],
   "source": [
    "print ps['rv']"
   ]
  },
  {
   "cell_type": "markdown",
   "metadata": {},
   "source": [
    "### sigma"
   ]
  },
  {
   "cell_type": "code",
   "execution_count": 7,
   "metadata": {
    "collapsed": false
   },
   "outputs": [
    {
     "name": "stdout",
     "output_type": "stream",
     "text": [
      "Qualifier: sigma\n",
      "Description: Observed uncertainty on rv\n",
      "Value: [] km / s\n",
      "Constrained by: \n",
      "Constrains: None\n",
      "Related to: None\n"
     ]
    }
   ],
   "source": [
    "print ps['sigma']"
   ]
  },
  {
   "cell_type": "markdown",
   "metadata": {},
   "source": [
    "Compute Options\n",
    "------------------\n",
    "\n",
    "Let's look at the compute options (for the default PHOEBE 2 backend) that relate to the RV dataset.\n",
    "\n",
    "Other compute options are covered elsewhere:\n",
    "* parameters related to dynamics are explained in the section on the [ORB dataset](ORB)\n",
    "* parameters related to meshing, eclipse detection, and subdivision (used if rv_method=='flux-weighted') are explained in the section on the [MESH dataset](MESH)\n",
    "* parameters related to computing fluxes (used if rv_method=='flux-weighted') are explained in the section on the [LC dataset](LC)"
   ]
  },
  {
   "cell_type": "code",
   "execution_count": 8,
   "metadata": {
    "collapsed": false
   },
   "outputs": [
    {
     "name": "stdout",
     "output_type": "stream",
     "text": [
      "enabled@_default: True\n",
      "dynamics_method: keplerian\n",
      "ltte: False\n",
      "stepsize: 0.01\n",
      "orbiterror: 1e-20\n",
      "store_mesh: False\n",
      "mesh_method@_default: marching\n",
      "delta@_default: 0.1\n",
      "maxpoints@_default: 100000\n",
      "distortion_method@_default: roche\n",
      "gridsize@_default: 40\n",
      "eclipse_alg: visible_ratio\n",
      "atm@_default: blackbody\n",
      "lc_method@_default@_default: numerical\n",
      "rv_method@_default@_default: flux-weighted\n",
      "rv_grav@_default@_default: False\n",
      "etv_method@_default@_default: crossing\n",
      "etv_tol@_default@_default: 0.0001 d\n"
     ]
    }
   ],
   "source": [
    "ps_compute = phoebe.compute.phoebe()\n",
    "print ps_compute"
   ]
  },
  {
   "cell_type": "markdown",
   "metadata": {},
   "source": [
    "### rv_method"
   ]
  },
  {
   "cell_type": "code",
   "execution_count": 9,
   "metadata": {
    "collapsed": false
   },
   "outputs": [
    {
     "name": "stdout",
     "output_type": "stream",
     "text": [
      "Qualifier: rv_method\n",
      "Description: Method to use for computing RVs (must be flux-weighted for Rossiter-McLaughlin)\n",
      "Value: flux-weighted\n",
      "Choices: flux-weighted, dynamical\n"
     ]
    }
   ],
   "source": [
    "print ps_compute['rv_method']"
   ]
  },
  {
   "cell_type": "markdown",
   "metadata": {},
   "source": [
    "If rv_method is set to 'dynamical' then the computed radial velocities are simply the z-velocities of the centers of mass of each component.  In this case, only the dynamical options are relevant.  For more details on these, see the section on the [ORB Dataset](ORB).\n",
    "\n",
    "If rv_method is set to 'flux-weighted' then radial velocities are determined by the z-velocity of each visible surface element of the mesh, weighted by their respective intensities.  Since the stars are placed in their orbits by the dynamic options, the section on the [ORB Dataset](ORB) is still applicable.  So are the meshing options described in [MESH Dataset](MESH) and the options for computing fluxes in [LC Dataset](LC)."
   ]
  },
  {
   "cell_type": "markdown",
   "metadata": {},
   "source": [
    "### rv_grav"
   ]
  },
  {
   "cell_type": "code",
   "execution_count": 10,
   "metadata": {
    "collapsed": false,
    "scrolled": true
   },
   "outputs": [
    {
     "name": "stdout",
     "output_type": "stream",
     "text": [
      "Qualifier: rv_grav\n",
      "Description: Whether gravitational redshift effects are enabled for RVs\n",
      "Value: False\n",
      "Only relevant if: rv_method:flux-weighted\n"
     ]
    }
   ],
   "source": [
    "print ps_compute['rv_grav']"
   ]
  },
  {
   "cell_type": "markdown",
   "metadata": {},
   "source": [
    "See the [Gravitational Redshift Example Script](../examples/grav_redshift) for more details on the influence this parameter has on radial velocities."
   ]
  },
  {
   "cell_type": "markdown",
   "metadata": {},
   "source": [
    "Synthetics\n",
    "------------------"
   ]
  },
  {
   "cell_type": "code",
   "execution_count": 11,
   "metadata": {
    "collapsed": false
   },
   "outputs": [
    {
     "data": {
      "text/plain": [
       "<ParameterSet: 24 parameters | methods: RV, RV_dep>"
      ]
     },
     "execution_count": 11,
     "metadata": {},
     "output_type": "execute_result"
    }
   ],
   "source": [
    "b.add_dataset('RV', time=np.linspace(0,3,101), dataset='rv01')"
   ]
  },
  {
   "cell_type": "code",
   "execution_count": 12,
   "metadata": {
    "collapsed": false
   },
   "outputs": [
    {
     "data": {
      "text/plain": [
       "<ParameterSet: 18 parameters | qualifiers: dynamics_method, gridsize, stepsize, lc_method, atm, enabled, ltte, rv_grav, orbiterror, rv_method, etv_method, maxpoints, delta, etv_tol, store_mesh, distortion_method, eclipse_alg, mesh_method>"
      ]
     },
     "execution_count": 12,
     "metadata": {},
     "output_type": "execute_result"
    }
   ],
   "source": [
    "b.add_compute()"
   ]
  },
  {
   "cell_type": "code",
   "execution_count": 13,
   "metadata": {
    "collapsed": false
   },
   "outputs": [
    {
     "data": {
      "text/plain": [
       "<ParameterSet: 4 parameters | components: primary, secondary>"
      ]
     },
     "execution_count": 13,
     "metadata": {},
     "output_type": "execute_result"
    }
   ],
   "source": [
    "b.run_compute()"
   ]
  },
  {
   "cell_type": "code",
   "execution_count": 14,
   "metadata": {
    "collapsed": false
   },
   "outputs": [
    {
     "data": {
      "text/plain": [
       "['time@primary@rv01@phoebe01@tmpmodel@RV@model',\n",
       " 'rv@primary@rv01@phoebe01@tmpmodel@RV@model',\n",
       " 'time@secondary@rv01@phoebe01@tmpmodel@RV@model',\n",
       " 'rv@secondary@rv01@phoebe01@tmpmodel@RV@model']"
      ]
     },
     "execution_count": 14,
     "metadata": {},
     "output_type": "execute_result"
    }
   ],
   "source": [
    "b['RV@model'].twigs"
   ]
  },
  {
   "cell_type": "code",
   "execution_count": 15,
   "metadata": {
    "collapsed": false
   },
   "outputs": [
    {
     "name": "stdout",
     "output_type": "stream",
     "text": [
      "Qualifier: time\n",
      "Description: Observed times\n",
      "Value: [ 0.    0.03  0.06  0.09  0.12  0.15  0.18  0.21  0.24  0.27  0.3   0.33\n",
      "  0.36  0.39  0.42  0.45  0.48  0.51  0.54  0.57  0.6   0.63  0.66  0.69\n",
      "  0.72  0.75  0.78  0.81  0.84  0.87  0.9   0.93  0.96  0.99  1.02  1.05\n",
      "  1.08  1.11  1.14  1.17  1.2   1.23  1.26  1.29  1.32  1.35  1.38  1.41\n",
      "  1.44  1.47  1.5   1.53  1.56  1.59  1.62  1.65  1.68  1.71  1.74  1.77\n",
      "  1.8   1.83  1.86  1.89  1.92  1.95  1.98  2.01  2.04  2.07  2.1   2.13\n",
      "  2.16  2.19  2.22  2.25  2.28  2.31  2.34  2.37  2.4   2.43  2.46  2.49\n",
      "  2.52  2.55  2.58  2.61  2.64  2.67  2.7   2.73  2.76  2.79  2.82  2.85\n",
      "  2.88  2.91  2.94  2.97  3.  ] d\n",
      "Constrained by: \n",
      "Constrains: None\n",
      "Related to: None\n"
     ]
    }
   ],
   "source": [
    "print b['time@primary@RV@model']"
   ]
  },
  {
   "cell_type": "code",
   "execution_count": 16,
   "metadata": {
    "collapsed": false
   },
   "outputs": [
    {
     "name": "stdout",
     "output_type": "stream",
     "text": [
      "Qualifier: rv\n",
      "Description: Observed radial velocity\n",
      "Value: [  1.58222669e+00  -1.34038939e+01  -1.37887560e+01  -1.46943488e+01\n",
      "  -1.67867162e+01  -2.08505934e+01  -2.48381894e+01  -2.87289749e+01\n",
      "  -3.25050054e+01  -3.61531349e+01  -3.96586429e+01  -4.30061134e+01\n",
      "  -4.61855753e+01  -4.91816990e+01  -5.19832409e+01  -5.45808925e+01\n",
      "  -5.69619402e+01  -5.91181514e+01  -6.10415696e+01  -6.27227633e+01\n",
      "  -6.41583728e+01  -6.53398027e+01  -6.62626101e+01  -6.69260349e+01\n",
      "  -6.73240872e+01  -6.74554794e+01  -6.73224935e+01  -6.69232986e+01\n",
      "  -6.62592673e+01  -6.53351000e+01  -6.41526013e+01  -6.27168686e+01\n",
      "  -6.10336837e+01  -5.91104425e+01  -5.69533410e+01  -5.45713660e+01\n",
      "  -5.19745338e+01  -4.91726325e+01  -4.61762206e+01  -4.29974169e+01\n",
      "  -3.96494106e+01  -3.61444309e+01  -3.24968685e+01  -2.87212958e+01\n",
      "  -2.48332301e+01  -2.08449180e+01  -1.67760073e+01  -1.26407376e+01\n",
      "  -8.45415924e+00  -4.23592534e+00  -3.78827175e-04   4.23592771e+00\n",
      "   8.45421665e+00   1.26395388e+01   1.67750893e+01   2.08444998e+01\n",
      "   2.48311285e+01   2.87208486e+01   3.24962172e+01   3.61437513e+01\n",
      "   3.96488193e+01   4.29962313e+01   4.61755461e+01   4.91715634e+01\n",
      "   5.19729630e+01   5.45708755e+01   5.69524253e+01   5.91091874e+01\n",
      "   6.10335122e+01   6.27155205e+01   6.41520427e+01   6.53345200e+01\n",
      "   6.62586706e+01   6.69230290e+01   6.73224985e+01   6.74552848e+01\n",
      "   6.73236149e+01   6.69257344e+01   6.62629663e+01   6.53397643e+01\n",
      "   6.41583919e+01   6.27235472e+01   6.10411833e+01   5.91187261e+01\n",
      "   5.69624714e+01   5.45808899e+01   5.19844899e+01   4.91830940e+01\n",
      "   4.61866821e+01   4.30075272e+01   3.96589954e+01   3.61537699e+01\n",
      "   3.25058149e+01   2.87294447e+01   2.48405665e+01   2.08511392e+01\n",
      "   1.67885305e+01   1.46968082e+01   1.37875371e+01   1.34026995e+01\n",
      "   1.58222669e+00] km / s\n",
      "Constrained by: \n",
      "Constrains: None\n",
      "Related to: None\n"
     ]
    }
   ],
   "source": [
    "print b['rv@primary@RV@model']"
   ]
  },
  {
   "cell_type": "markdown",
   "metadata": {},
   "source": [
    "Plotting\n",
    "---------------\n",
    "\n",
    "By default, RV datasets plot as rv vs time."
   ]
  },
  {
   "cell_type": "code",
   "execution_count": 17,
   "metadata": {
    "collapsed": false
   },
   "outputs": [
    {
     "data": {
      "image/png": "[encoded data removed]",
      "text/plain": [
       "<matplotlib.figure.Figure at 0x7fd349667a90>"
      ]
     },
     "metadata": {},
     "output_type": "display_data"
    }
   ],
   "source": [
    "axs, artists = b['RV@model'].plot()"
   ]
  },
  {
   "cell_type": "markdown",
   "metadata": {},
   "source": [
    "Since these are the only two columns available in the synthetic model, the only other options is to plot in phase instead of time."
   ]
  },
  {
   "cell_type": "code",
   "execution_count": 18,
   "metadata": {
    "collapsed": false
   },
   "outputs": [
    {
     "data": {
      "image/png": "[encoded data removed]",
      "text/plain": [
       "<matplotlib.figure.Figure at 0x7fd349667950>"
      ]
     },
     "metadata": {},
     "output_type": "display_data"
    }
   ],
   "source": [
    "axs, artists = b['RV@model'].plot(x='phase')"
   ]
  },
  {
   "cell_type": "markdown",
   "metadata": {},
   "source": [
    "In system hierarchies where there may be multiple periods, it is also possible to determine whose period to use for phasing."
   ]
  },
  {
   "cell_type": "code",
   "execution_count": 19,
   "metadata": {
    "collapsed": false
   },
   "outputs": [
    {
     "data": {
      "text/plain": [
       "['binary', 'primary', 'secondary']"
      ]
     },
     "execution_count": 19,
     "metadata": {},
     "output_type": "execute_result"
    }
   ],
   "source": [
    "b['period'].components"
   ]
  },
  {
   "cell_type": "code",
   "execution_count": 20,
   "metadata": {
    "collapsed": false
   },
   "outputs": [
    {
     "data": {
      "image/png": "[encoded data removed]",
      "text/plain": [
       "<matplotlib.figure.Figure at 0x7fd334b8a550>"
      ]
     },
     "metadata": {},
     "output_type": "display_data"
    }
   ],
   "source": [
    "axs, artists = b['RV@model'].plot(x='phase:binary')"
   ]
  },
  {
   "cell_type": "markdown",
   "metadata": {},
   "source": [
    "Mesh Fields\n",
    "---------------------\n",
    "\n",
    "If a MESH dataset exists at any of the same times as the time array in the RV dataset, OR if store_mesh is set to True in the compute options, then radial velocities for each surface element will be available in the model as well (only if mesh_method=='flux_weighted').\n",
    "\n",
    "Since the radial velocities are flux-weighted, the flux-related quantities are also included.  For a description of these, see the section on the [LC Dataset](LC).\n",
    "\n",
    "Let's add a single mesh at the first time of the RV dataset and re-call run_compute"
   ]
  },
  {
   "cell_type": "code",
   "execution_count": 21,
   "metadata": {
    "collapsed": false
   },
   "outputs": [
    {
     "data": {
      "text/plain": [
       "<ParameterSet: 2 parameters | contexts: compute, dataset>"
      ]
     },
     "execution_count": 21,
     "metadata": {},
     "output_type": "execute_result"
    }
   ],
   "source": [
    "b.add_dataset('MESH', time=[0], dataset='mesh01')"
   ]
  },
  {
   "cell_type": "code",
   "execution_count": 22,
   "metadata": {
    "collapsed": false
   },
   "outputs": [
    {
     "name": "stderr",
     "output_type": "stream",
     "text": [
      "WARNING:BUNDLE:overwriting model: tmpmodel\n"
     ]
    },
    {
     "data": {
      "text/plain": [
       "<ParameterSet: 66 parameters | methods: RV, MESH>"
      ]
     },
     "execution_count": 22,
     "metadata": {},
     "output_type": "execute_result"
    }
   ],
   "source": [
    "b.run_compute()"
   ]
  },
  {
   "cell_type": "code",
   "execution_count": 23,
   "metadata": {
    "collapsed": false
   },
   "outputs": [
    {
     "name": "stdout",
     "output_type": "stream",
     "text": [
      "['mesh01', 'rv01']\n"
     ]
    }
   ],
   "source": [
    "print b['model'].datasets"
   ]
  },
  {
   "cell_type": "markdown",
   "metadata": {},
   "source": [
    "These new columns are stored with the RV's dataset tag, but with the MESH method."
   ]
  },
  {
   "cell_type": "code",
   "execution_count": 24,
   "metadata": {
    "collapsed": false
   },
   "outputs": [
    {
     "data": {
      "text/plain": [
       "['0.0@pblum@primary@rv01@phoebe01@tmpmodel@MESH@model',\n",
       " '0.0@intens_norm_abs@primary@rv01@phoebe01@tmpmodel@MESH@model',\n",
       " '0.0@ampl_boost@primary@rv01@phoebe01@tmpmodel@MESH@model',\n",
       " '0.0@rv@primary@rv01@phoebe01@tmpmodel@MESH@model',\n",
       " '0.0@ld@primary@rv01@phoebe01@tmpmodel@MESH@model',\n",
       " '0.0@intens_norm_rel@primary@rv01@phoebe01@tmpmodel@MESH@model',\n",
       " '0.0@intens_proj_rel@primary@rv01@phoebe01@tmpmodel@MESH@model',\n",
       " '0.0@intens_proj_abs@primary@rv01@phoebe01@tmpmodel@MESH@model',\n",
       " '0.0@pblum@secondary@rv01@phoebe01@tmpmodel@MESH@model',\n",
       " '0.0@intens_norm_abs@secondary@rv01@phoebe01@tmpmodel@MESH@model',\n",
       " '0.0@ampl_boost@secondary@rv01@phoebe01@tmpmodel@MESH@model',\n",
       " '0.0@rv@secondary@rv01@phoebe01@tmpmodel@MESH@model',\n",
       " '0.0@ld@secondary@rv01@phoebe01@tmpmodel@MESH@model',\n",
       " '0.0@intens_norm_rel@secondary@rv01@phoebe01@tmpmodel@MESH@model',\n",
       " '0.0@intens_proj_rel@secondary@rv01@phoebe01@tmpmodel@MESH@model',\n",
       " '0.0@intens_proj_abs@secondary@rv01@phoebe01@tmpmodel@MESH@model']"
      ]
     },
     "execution_count": 24,
     "metadata": {},
     "output_type": "execute_result"
    }
   ],
   "source": [
    "b.filter(dataset='rv01', method='MESH', section='model').twigs"
   ]
  },
  {
   "cell_type": "markdown",
   "metadata": {},
   "source": [
    "Any of these columns are then available to use as edge or facecolors when plotting the mesh (see the section on the [MESH dataset](MESH)), but since the MESH elements are stored with the 'mesh01' dataset tag, and the RV (including flux-related) quantities are stored with the 'rv01' dataset tag, it is important not to provide the 'mesh01' dataset tag before plotting."
   ]
  },
  {
   "cell_type": "code",
   "execution_count": 25,
   "metadata": {
    "collapsed": false
   },
   "outputs": [
    {
     "name": "stderr",
     "output_type": "stream",
     "text": [
      "/home/kyle/.local/lib/python2.7/site-packages/phoebe/frontend/plotting.py:240: FutureWarning: elementwise comparison failed; returning scalar instead, but in the future will perform elementwise comparison\n",
      "  if pckwargs['edgecolors'] in ['none', 'None', None] and pckwargs['facecolors'] not in ['none', 'None', None]:\n",
      "/home/kyle/.local/lib/python2.7/site-packages/phoebe/frontend/plotting.py:240: FutureWarning: comparison to `None` will result in an elementwise object comparison in the future.\n",
      "  if pckwargs['edgecolors'] in ['none', 'None', None] and pckwargs['facecolors'] not in ['none', 'None', None]:\n",
      "/usr/local/lib/python2.7/dist-packages/matplotlib/collections.py:590: FutureWarning: elementwise comparison failed; returning scalar instead, but in the future will perform elementwise comparison\n",
      "  if self._edgecolors == str('face'):\n"
     ]
    },
    {
     "data": {
      "image/png": "[encoded data removed]",
      "text/plain": [
       "<matplotlib.figure.Figure at 0x7fd334be8bd0>"
      ]
     },
     "metadata": {},
     "output_type": "display_data"
    }
   ],
   "source": [
    "axs, artists = b['MESH@model'].plot(facecolor='rv', edgecolor=None)\n",
    "# NOT:\n",
    "# axs, artists = b['mesh01@model'].plot(facecolor='rv', edgecolor=None)"
   ]
  },
  {
   "cell_type": "markdown",
   "metadata": {},
   "source": [
    "### rv"
   ]
  },
  {
   "cell_type": "code",
   "execution_count": 26,
   "metadata": {
    "collapsed": false
   },
   "outputs": [
    {
     "name": "stdout",
     "output_type": "stream",
     "text": [
      "Qualifier: rv\n",
      "Description: Per-element value for rv01 dataset\n",
      "Value: [  1.04199468e-01   6.15248593e-16  -1.04199468e-01 ...,  -1.00064907e+00\n",
      "  -8.87718982e-01  -7.85670196e-01] solRad / d\n",
      "Constrained by: \n",
      "Constrains: None\n",
      "Related to: None\n"
     ]
    }
   ],
   "source": [
    "print b['rv@primary@rv01@MESH@model']"
   ]
  }
 ],
 "metadata": {
  "kernelspec": {
   "display_name": "Python 2",
   "language": "python",
   "name": "python2"
  },
  "language_info": {
   "codemirror_mode": {
    "name": "ipython",
    "version": 2
   },
   "file_extension": ".py",
   "mimetype": "text/x-python",
   "name": "python",
   "nbconvert_exporter": "python",
   "pygments_lexer": "ipython2",
   "version": "2.7.11+"
  }
 },
 "nbformat": 4,
 "nbformat_minor": 0
}
