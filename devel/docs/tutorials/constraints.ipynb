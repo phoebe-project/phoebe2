{
 "cells": [
  {
   "cell_type": "markdown",
   "metadata": {},
   "source": [
    "[IPython Notebook](constraints.ipynb) |  [Python Script](constraints.py)"
   ]
  },
  {
   "cell_type": "markdown",
   "metadata": {},
   "source": [
    "Constraints\n",
    "============================\n",
    "\n",
    "Setup\n",
    "-----------------------------"
   ]
  },
  {
   "cell_type": "markdown",
   "metadata": {
    "collapsed": true
   },
   "source": [
    "As always, let's do imports and initialize a logger and a new Bundle.  See [Building a System](building_a_system.html) for more details."
   ]
  },
  {
   "cell_type": "code",
   "execution_count": 1,
   "metadata": {
    "collapsed": false
   },
   "outputs": [
    {
     "name": "stderr",
     "output_type": "stream",
     "text": [
      "WARNING: Constant u'Gravitational constant' is already has a definition in the u'si' system [astropy.constants.constant]\n",
      "WARNING:astropy:Constant u'Gravitational constant' is already has a definition in the u'si' system\n",
      "WARNING: Constant u'Solar mass' is already has a definition in the u'si' system [astropy.constants.constant]\n",
      "WARNING:astropy:Constant u'Solar mass' is already has a definition in the u'si' system\n",
      "WARNING: Constant u'Solar radius' is already has a definition in the u'si' system [astropy.constants.constant]\n",
      "WARNING:astropy:Constant u'Solar radius' is already has a definition in the u'si' system\n",
      "WARNING: Constant u'Solar luminosity' is already has a definition in the u'si' system [astropy.constants.constant]\n",
      "WARNING:astropy:Constant u'Solar luminosity' is already has a definition in the u'si' system\n",
      "/usr/local/lib/python2.7/dist-packages/astropy/units/quantity.py:732: FutureWarning: comparison to `None` will result in an elementwise object comparison in the future.\n",
      "  return super(Quantity, self).__eq__(other)\n"
     ]
    }
   ],
   "source": [
    "import phoebe2\n",
    "from phoebe2 import u # units\n",
    "import numpy as np\n",
    "import matplotlib.pyplot as plt\n",
    "\n",
    "logger = phoebe2.logger(clevel='INFO')\n",
    "\n",
    "b = phoebe2.Bundle.default_binary()"
   ]
  },
  {
   "cell_type": "markdown",
   "metadata": {},
   "source": [
    "What are Constraints?\n",
    "----------------------------"
   ]
  },
  {
   "cell_type": "markdown",
   "metadata": {},
   "source": [
    "Constraints live in their own context of the Bundle, and many are created\n",
    "by default - either when you add a component or when you set the system hierarchy.\n",
    "\n",
    "Let's look at all the existing constraints for our binary system."
   ]
  },
  {
   "cell_type": "code",
   "execution_count": 2,
   "metadata": {
    "collapsed": false
   },
   "outputs": [
    {
     "data": {
      "text/plain": [
       "<ParameterSet: 17 parameters | methods: star, orbit>"
      ]
     },
     "execution_count": 2,
     "metadata": {},
     "output_type": "execute_result"
    }
   ],
   "source": [
    "b['constraint']"
   ]
  },
  {
   "cell_type": "markdown",
   "metadata": {},
   "source": [
    "To see what all of these constraints do, see the 'Built-in Constraints' section below.\n",
    "\n",
    "For now let's look at a single constraint."
   ]
  },
  {
   "cell_type": "code",
   "execution_count": 3,
   "metadata": {
    "collapsed": false
   },
   "outputs": [
    {
     "data": {
      "text/plain": [
       "<ConstraintParameter: {mass@primary@component} = (39.478418 * ({sma@binary@component} ** 3.000000)) / ((({period@binary@component} ** 2.000000) * (1.000000 + {q@binary@component})) * 0.000000000066740799999999990427) => 0.381666540188 solMass>"
      ]
     },
     "execution_count": 3,
     "metadata": {},
     "output_type": "execute_result"
    }
   ],
   "source": [
    "b['constraint']['primary']['mass']"
   ]
  },
  {
   "cell_type": "markdown",
   "metadata": {},
   "source": [
    "Here we see the equation used to derive the mass of the primary star\n",
    "from its orbit, as well as the current value\n",
    "\n",
    "If we access the Parameter that it is constraining we can see that it\n",
    "is automatically kept up-to-date."
   ]
  },
  {
   "cell_type": "code",
   "execution_count": 4,
   "metadata": {
    "collapsed": false
   },
   "outputs": [
    {
     "name": "stdout",
     "output_type": "stream",
     "text": [
      "0.381666540188\n"
     ]
    }
   ],
   "source": [
    "print b.get_value('mass@primary@component')"
   ]
  },
  {
   "cell_type": "markdown",
   "metadata": {},
   "source": [
    "The parameter is aware that it's being\n",
    "constrained and all the relevant linking parameters."
   ]
  },
  {
   "cell_type": "code",
   "execution_count": 5,
   "metadata": {
    "collapsed": false
   },
   "outputs": [
    {
     "name": "stdout",
     "output_type": "stream",
     "text": [
      "Qualifier: mass\n",
      "Description: Mass\n",
      "Value: 0.381666540188 solMass\n",
      "Constrained by: sma@binary@component, period@binary@component, q@binary@component\n",
      "Constrains: None\n",
      "Related to: sma@binary@component, period@binary@component, q@binary@component\n"
     ]
    }
   ],
   "source": [
    "print b['mass@primary@component']"
   ]
  },
  {
   "cell_type": "markdown",
   "metadata": {},
   "source": [
    "If you change the hierarchy, built-in cross-object constraints (like mass\n",
    "that depends on its parent orbit), will be adjusted to reflect the new hierarchy.  See the 'Changing Hierarchies' section below for more details."
   ]
  },
  {
   "cell_type": "markdown",
   "metadata": {},
   "source": [
    "Built-in Constraints\n",
    "-----------------------------\n",
    "\n",
    "There are a number of built-in constraints that will be applied to your system by default.  These are all listed below:"
   ]
  },
  {
   "cell_type": "markdown",
   "metadata": {},
   "source": [
    "### asini\n",
    "\n",
    "This constraint handles computing the projected semi-major axis along the line of sight and can be automatically inverted to solve for either 'asini', 'sma', or 'incl'."
   ]
  },
  {
   "cell_type": "code",
   "execution_count": 6,
   "metadata": {
    "collapsed": false
   },
   "outputs": [
    {
     "data": {
      "text/plain": [
       "<ConstraintParameter: {asini@binary@component} = {sma@binary@component} * (sin({incl@binary@component})) => 8.0 solRad>"
      ]
     },
     "execution_count": 6,
     "metadata": {},
     "output_type": "execute_result"
    }
   ],
   "source": [
    "b['asini@constraint']"
   ]
  },
  {
   "cell_type": "markdown",
   "metadata": {},
   "source": [
    "### esinw, ecosw\n",
    "\n",
    "These constraints handle computing the projected eccentricity which can be helpful in that they are better representations of the *geometry* of a light curve and result in symmetric posteriors for near-circular orbits.\n",
    "\n",
    "Both can be inverted to also automatically solve for 'ecc' or 'per0'."
   ]
  },
  {
   "cell_type": "code",
   "execution_count": 7,
   "metadata": {
    "collapsed": false
   },
   "outputs": [
    {
     "data": {
      "text/plain": [
       "<ConstraintParameter: {esinw@binary@component} = {ecc@binary@component} * (sin({per0@binary@component})) => 0.0>"
      ]
     },
     "execution_count": 7,
     "metadata": {},
     "output_type": "execute_result"
    }
   ],
   "source": [
    "b['esinw@constraint']"
   ]
  },
  {
   "cell_type": "code",
   "execution_count": 8,
   "metadata": {
    "collapsed": false
   },
   "outputs": [
    {
     "data": {
      "text/plain": [
       "<ConstraintParameter: {ecosw@binary@component} = {ecc@binary@component} * (cos({per0@binary@component})) => 0.0>"
      ]
     },
     "execution_count": 8,
     "metadata": {},
     "output_type": "execute_result"
    }
   ],
   "source": [
    "b['ecosw@constraint']"
   ]
  },
  {
   "cell_type": "markdown",
   "metadata": {},
   "source": [
    "### t0\n",
    "\n",
    "This constraint handles converting between different t0 conventions - namely providing a reference time at periastron passage (t0_perpass) and at superior conjunction (t0_supconj).\n",
    "\n",
    "Currently, this constraint only supports inverting to be solved for 't0_supconj' (ie you cannot *automatically* invert this constraint to constraint phshift or per0)."
   ]
  },
  {
   "cell_type": "code",
   "execution_count": 9,
   "metadata": {
    "collapsed": false
   },
   "outputs": [
    {
     "data": {
      "text/plain": [
       "<ConstraintParameter: {t0_perpass@binary@component} = {t0_supconj@binary@component} + ((({phshift@binary@component} - 0.250000) + ({per0@binary@component} / 6.283185307179586231995926937088)) * {period@binary@component}) => -0.75 d>"
      ]
     },
     "execution_count": 9,
     "metadata": {},
     "output_type": "execute_result"
    }
   ],
   "source": [
    "b['t0_perpass@constraint']"
   ]
  },
  {
   "cell_type": "markdown",
   "metadata": {},
   "source": [
    "### freq\n",
    "\n",
    "This constraint handles the simple conversion to frequency from period - whether that be rotational or orbital - and does support inversion to solve for 'period'."
   ]
  },
  {
   "cell_type": "code",
   "execution_count": 10,
   "metadata": {
    "collapsed": false
   },
   "outputs": [
    {
     "data": {
      "text/plain": [
       "<ParameterSet: 3 parameters | methods: star, orbit>"
      ]
     },
     "execution_count": 10,
     "metadata": {},
     "output_type": "execute_result"
    }
   ],
   "source": [
    "b['freq@constraint']"
   ]
  },
  {
   "cell_type": "code",
   "execution_count": 11,
   "metadata": {
    "collapsed": false,
    "scrolled": true
   },
   "outputs": [
    {
     "data": {
      "text/plain": [
       "<ConstraintParameter: {freq@binary@component} = 6.283185 / {period@binary@component} => 2.094395 rad / d>"
      ]
     },
     "execution_count": 11,
     "metadata": {},
     "output_type": "execute_result"
    }
   ],
   "source": [
    "b['freq@binary@constraint']"
   ]
  },
  {
   "cell_type": "code",
   "execution_count": 12,
   "metadata": {
    "collapsed": false
   },
   "outputs": [
    {
     "data": {
      "text/plain": [
       "<ConstraintParameter: {freq@primary@component} = 6.283185 / {period@primary@component} => 2.094395 rad / d>"
      ]
     },
     "execution_count": 12,
     "metadata": {},
     "output_type": "execute_result"
    }
   ],
   "source": [
    "b['freq@primary@constraint']"
   ]
  },
  {
   "cell_type": "markdown",
   "metadata": {},
   "source": [
    "### mass\n",
    "\n",
    "This constraint handles solving for the mass of a component by obeying Kepler's third law within the parent orbit.\n",
    "\n",
    "It can be inverted to solve for 'sma' or 'period' (in addition to 'mass'), but **not** 'q'."
   ]
  },
  {
   "cell_type": "code",
   "execution_count": 13,
   "metadata": {
    "collapsed": false
   },
   "outputs": [
    {
     "data": {
      "text/plain": [
       "<ParameterSet: 2 parameters | components: primary, secondary>"
      ]
     },
     "execution_count": 13,
     "metadata": {},
     "output_type": "execute_result"
    }
   ],
   "source": [
    "b['mass@constraint']"
   ]
  },
  {
   "cell_type": "code",
   "execution_count": 14,
   "metadata": {
    "collapsed": false
   },
   "outputs": [
    {
     "data": {
      "text/plain": [
       "<ConstraintParameter: {mass@primary@component} = (39.478418 * ({sma@binary@component} ** 3.000000)) / ((({period@binary@component} ** 2.000000) * (1.000000 + {q@binary@component})) * 0.000000000066740799999999990427) => 0.381666540188 solMass>"
      ]
     },
     "execution_count": 14,
     "metadata": {},
     "output_type": "execute_result"
    }
   ],
   "source": [
    "b['mass@primary@constraint']"
   ]
  },
  {
   "cell_type": "markdown",
   "metadata": {},
   "source": [
    "### component sma\n",
    "\n",
    "This constraint handles computing the semi-major axis of a component about the **center of mass** of its parent orbit.  Note that this is **not** the same as the semi-major axis **of** the parent orbit.\n",
    "\n",
    "This currently can be inverted to solve for 'sma' of the parent orbit, but **not** 'q'."
   ]
  },
  {
   "cell_type": "code",
   "execution_count": 15,
   "metadata": {
    "collapsed": false
   },
   "outputs": [
    {
     "data": {
      "text/plain": [
       "<ParameterSet: 2 parameters | components: primary, secondary>"
      ]
     },
     "execution_count": 15,
     "metadata": {},
     "output_type": "execute_result"
    }
   ],
   "source": [
    "b['sma@constraint']"
   ]
  },
  {
   "cell_type": "code",
   "execution_count": 16,
   "metadata": {
    "collapsed": false
   },
   "outputs": [
    {
     "data": {
      "text/plain": [
       "<ConstraintParameter: {sma@primary@component} = {sma@binary@component} / (1.000000 + (1.000000 / {q@binary@component})) => 4.0 solRad>"
      ]
     },
     "execution_count": 16,
     "metadata": {},
     "output_type": "execute_result"
    }
   ],
   "source": [
    "b['sma@primary@constraint']"
   ]
  },
  {
   "cell_type": "markdown",
   "metadata": {},
   "source": [
    "### potential\n",
    "\n",
    "This constraint handles solving for the equipotential of the roche surface from the polar radius.\n",
    "\n",
    "This currently can be inverted to solve for 'rpole' but **not** 'sma', 'syncpar', 'ecc', or 'q'."
   ]
  },
  {
   "cell_type": "code",
   "execution_count": 17,
   "metadata": {
    "collapsed": false
   },
   "outputs": [
    {
     "data": {
      "text/plain": [
       "<ParameterSet: 2 parameters | components: primary, secondary>"
      ]
     },
     "execution_count": 17,
     "metadata": {},
     "output_type": "execute_result"
    }
   ],
   "source": [
    "b['pot@constraint']"
   ]
  },
  {
   "cell_type": "code",
   "execution_count": 18,
   "metadata": {
    "collapsed": false
   },
   "outputs": [
    {
     "data": {
      "text/plain": [
       "<ConstraintParameter: {pot@primary@component} = rpole2potential({rpole@primary@component}, {q@binary@component}, {ecc@binary@component}, {syncpar@primary@component}, {sma@binary@component}, 1) => 8.99227787671>"
      ]
     },
     "execution_count": 18,
     "metadata": {},
     "output_type": "execute_result"
    }
   ],
   "source": [
    "b['pot@primary@constraint']"
   ]
  },
  {
   "cell_type": "markdown",
   "metadata": {},
   "source": [
    "### rotation period\n",
    "\n",
    "This constraint handles computing the rotation period of a star given its synchronicity parameter (syncpar).\n",
    "\n",
    "It can be inverted to solve for any of the three parameters 'period' (both rotational and orbital) and 'syncpar'."
   ]
  },
  {
   "cell_type": "code",
   "execution_count": 19,
   "metadata": {
    "collapsed": false
   },
   "outputs": [
    {
     "data": {
      "text/plain": [
       "<ParameterSet: 2 parameters | components: primary, secondary>"
      ]
     },
     "execution_count": 19,
     "metadata": {},
     "output_type": "execute_result"
    }
   ],
   "source": [
    "b['period@constraint']"
   ]
  },
  {
   "cell_type": "code",
   "execution_count": 20,
   "metadata": {
    "collapsed": false
   },
   "outputs": [
    {
     "data": {
      "text/plain": [
       "<ConstraintParameter: {period@primary@component} = {period@binary@component} / {syncpar@primary@component} => 3.0 d>"
      ]
     },
     "execution_count": 20,
     "metadata": {},
     "output_type": "execute_result"
    }
   ],
   "source": [
    "b['period@primary@constraint']"
   ]
  },
  {
   "cell_type": "markdown",
   "metadata": {},
   "source": [
    "### inclination (aligned binary)\n",
    "\n",
    "This constraint handles requiring the inclination of a star to be the same as that of the parent orbit.  With the constraint enabled, the binary is required to be \"aligned\".  Disabling this constraint (*which currently is not yet supported*) will allow for misaligned binaries.\n",
    "\n",
    "This constraint can be inverted to solve for either 'incl'."
   ]
  },
  {
   "cell_type": "code",
   "execution_count": 21,
   "metadata": {
    "collapsed": false
   },
   "outputs": [
    {
     "data": {
      "text/plain": [
       "<ParameterSet: 2 parameters | components: primary, secondary>"
      ]
     },
     "execution_count": 21,
     "metadata": {},
     "output_type": "execute_result"
    }
   ],
   "source": [
    "b['incl@constraint']"
   ]
  },
  {
   "cell_type": "code",
   "execution_count": 22,
   "metadata": {
    "collapsed": false
   },
   "outputs": [
    {
     "data": {
      "text/plain": [
       "<ConstraintParameter: {incl@primary@component} = {incl@binary@component} => 90.0 deg>"
      ]
     },
     "execution_count": 22,
     "metadata": {},
     "output_type": "execute_result"
    }
   ],
   "source": [
    "b['incl@primary@constraint']"
   ]
  },
  {
   "cell_type": "markdown",
   "metadata": {},
   "source": [
    "Re-Parameterizing\n",
    "----------------------------\n",
    "\n",
    "As we've just seen, the mass is a constrained (ie derived) parameter.  But\n",
    "let's say that you would rather provide masses for some reason (perhaps\n",
    "that was what was provided in a paper).  You can choose to provide mass\n",
    "and instead have one of its related parameters constrained"
   ]
  },
  {
   "cell_type": "code",
   "execution_count": 23,
   "metadata": {
    "collapsed": false
   },
   "outputs": [
    {
     "name": "stdout",
     "output_type": "stream",
     "text": [
      "[<Parameter: sma=8.0 solRad | keys: description, value, quantity, default_unit, limits, relevant_if, copy_for, timederiv>, <Parameter: period=3.0 d | keys: description, value, quantity, default_unit, limits, relevant_if, copy_for, timederiv>, <Parameter: q=1.0 | keys: description, value, quantity, default_unit, limits, relevant_if, copy_for, timederiv>]\n"
     ]
    }
   ],
   "source": [
    "print b['mass@primary@component'].constrained_by"
   ]
  },
  {
   "cell_type": "code",
   "execution_count": 24,
   "metadata": {
    "collapsed": false
   },
   "outputs": [
    {
     "name": "stdout",
     "output_type": "stream",
     "text": [
      "0.381666540188 0.381666540188 3.0\n"
     ]
    }
   ],
   "source": [
    "print b['value@mass@primary@component'], b['value@mass@secondary@component'], b['value@period@orbit@component']"
   ]
  },
  {
   "cell_type": "code",
   "execution_count": 25,
   "metadata": {
    "collapsed": false
   },
   "outputs": [
    {
     "data": {
      "text/plain": [
       "<ConstraintParameter: {period@binary@component} = ((39.478418 * ({sma@binary@component} ** 3.000000)) / (({mass@primary@component} * (1.000000 + {q@binary@component})) * 0.000000000066740799999999990427)) ** 0.500000 => 3.0 d>"
      ]
     },
     "execution_count": 25,
     "metadata": {},
     "output_type": "execute_result"
    }
   ],
   "source": [
    "b.flip_constraint('mass@primary', 'period')"
   ]
  },
  {
   "cell_type": "code",
   "execution_count": 26,
   "metadata": {
    "collapsed": true
   },
   "outputs": [],
   "source": [
    "b['mass@primary@component'] = 1.0"
   ]
  },
  {
   "cell_type": "code",
   "execution_count": 27,
   "metadata": {
    "collapsed": false
   },
   "outputs": [
    {
     "name": "stdout",
     "output_type": "stream",
     "text": [
      "1.0 1.0 1.8533749922\n"
     ]
    }
   ],
   "source": [
    "print b['value@mass@primary@component'], b['value@mass@secondary@component'], b['value@period@orbit@component']"
   ]
  },
  {
   "cell_type": "markdown",
   "metadata": {},
   "source": [
    "You'll see that when we set the primary mass, the secondary mass has also changed (because the masses are related through q) and the period has changed (based on resolving the Kepler's third law constraint).\n",
    "\n",
    "Note that the tags for the constraint are based on those of the *constrained* parameter, so to switch the parameterization back, we'll have to use a slightly different twig."
   ]
  },
  {
   "cell_type": "code",
   "execution_count": 28,
   "metadata": {
    "collapsed": false
   },
   "outputs": [
    {
     "name": "stdout",
     "output_type": "stream",
     "text": [
      "freq@primary@constraint: 6.283185 / {period@primary@component}\n",
      "freq@secondary@constraint: 6.283185 / {period@secondary@component}\n",
      "asini@constraint: {sma@binary@component} * (sin({incl@binary@component}))\n",
      "t0_perpass@constraint: {t0_supconj@binary@component} + ((({phshift@binary@component} - 0.250000) + ({per0@binary@component} / 6.283185307179586231995926937088)) * {period@binary@component})\n",
      "ecosw@constraint: {ecc@binary@component} * (cos({per0@binary@component}))\n",
      "esinw@constraint: {ecc@binary@component} * (sin({per0@binary@component}))\n",
      "freq@binary@constraint: 6.283185 / {period@binary@component}\n",
      "period@binary@constraint: ((39.478418 * ({sma@binary@component} ** 3.000000)) / (({mass@primary@component} * (1.000000 + {q@binary@component})) * 0.000000000066740799999999990427)) ** 0.500000\n",
      "sma@primary@constraint: {sma@binary@component} / (1.000000 + (1.000000 / {q@binary@component}))\n",
      "period@primary@constraint: {period@binary@component} / {syncpar@primary@component}\n",
      "incl@primary@constraint: {incl@binary@component}\n",
      "pot@primary@constraint: rpole2potential({rpole@primary@component}, {q@binary@component}, {ecc@binary@component}, {syncpar@primary@component}, {sma@binary@component}, 1)\n",
      "mass@constraint: (39.478418 * ({sma@binary@component} ** 3.000000)) / ((({period@binary@component} ** 2.000000) * (1.000000 + (1.000000 / {q@binary@component}))) * 0.000000000066740799999999990427)\n",
      "sma@secondary@constraint: {sma@binary@component} / (1.000000 + {q@binary@component})\n",
      "period@secondary@constraint: {period@binary@component} / {syncpar@secondary@component}\n",
      "incl@secondary@constraint: {incl@binary@component}\n",
      "pot@secondary@constraint: rpole2potential({rpole@secondary@component}, {q@binary@component}, {ecc@binary@component}, {syncpar@secondary@component}, {sma@binary@component}, 2)\n"
     ]
    }
   ],
   "source": [
    "print b['constraint']"
   ]
  },
  {
   "cell_type": "code",
   "execution_count": 29,
   "metadata": {
    "collapsed": false
   },
   "outputs": [
    {
     "data": {
      "text/plain": [
       "<ConstraintParameter: {period@binary@component} = ((39.478418 * ({sma@binary@component} ** 3.000000)) / (({mass@primary@component} * (1.000000 + {q@binary@component})) * 0.000000000066740799999999990427)) ** 0.500000 => 1.8533749922 d>"
      ]
     },
     "execution_count": 29,
     "metadata": {},
     "output_type": "execute_result"
    }
   ],
   "source": [
    "b['period@constraint@binary']"
   ]
  },
  {
   "cell_type": "code",
   "execution_count": 30,
   "metadata": {
    "collapsed": false
   },
   "outputs": [
    {
     "data": {
      "text/plain": [
       "OrderedDict([('time', None),\n",
       "             ('qualifier', 'period'),\n",
       "             ('history', None),\n",
       "             ('component', 'binary'),\n",
       "             ('dataset', None),\n",
       "             ('constraint', None),\n",
       "             ('compute', None),\n",
       "             ('model', None),\n",
       "             ('fitting', None),\n",
       "             ('feedback', None),\n",
       "             ('plugin', None),\n",
       "             ('method', 'star'),\n",
       "             ('context', 'constraint'),\n",
       "             ('twig', 'period@binary@star@constraint'),\n",
       "             ('uniquetwig', 'period@binary@constraint')])"
      ]
     },
     "execution_count": 30,
     "metadata": {},
     "output_type": "execute_result"
    }
   ],
   "source": [
    "b['period@constraint@binary'].meta"
   ]
  },
  {
   "cell_type": "markdown",
   "metadata": {},
   "source": [
    "Notice that the qualifier tag has changed from 'mass' to 'period' and the 'component' tag has changed from 'primary' to 'binary' (since sma is in the binary)."
   ]
  },
  {
   "cell_type": "code",
   "execution_count": 31,
   "metadata": {
    "collapsed": false
   },
   "outputs": [
    {
     "data": {
      "text/plain": [
       "<ConstraintParameter: {mass@primary@component} = (39.478418 * ({sma@binary@component} ** 3.000000)) / ((({period@binary@component} ** 2.000000) * (1.000000 + {q@binary@component})) * 0.000000000066740799999999990427) => 1.0 solMass>"
      ]
     },
     "execution_count": 31,
     "metadata": {},
     "output_type": "execute_result"
    }
   ],
   "source": [
    "b.flip_constraint('period@binary', 'mass')"
   ]
  },
  {
   "cell_type": "markdown",
   "metadata": {},
   "source": [
    "Changing Hierarchies\n",
    "-------------------------------------\n",
    "\n",
    "Some of the built-in constraints depend on the system hierarchy, and will automatically adjust to reflect changes to the hierarchy.\n",
    "\n",
    "For example, the masses depend on the period and semi-major axis of the parent orbit but also depend on the mass-ratio (q) which is defined as the primary mass over secondary mass.  For this reason, changing the roles of the primary and secondary components should be reflected in the masses (so long as q remains fixed).\n",
    "\n",
    "In order to show this example, let's set the mass-ratio to be non-unity."
   ]
  },
  {
   "cell_type": "code",
   "execution_count": 32,
   "metadata": {
    "collapsed": false
   },
   "outputs": [],
   "source": [
    "b.set_value('q', 0.8)"
   ]
  },
  {
   "cell_type": "markdown",
   "metadata": {},
   "source": [
    "Here the star with component tag 'primary' is actually the primary component in the hierarchy, so should have the LARGER mass (for a q < 1.0)."
   ]
  },
  {
   "cell_type": "code",
   "execution_count": 33,
   "metadata": {
    "collapsed": false
   },
   "outputs": [
    {
     "name": "stdout",
     "output_type": "stream",
     "text": [
      "M1: 1.11111111111, M2: 0.888888888889\n"
     ]
    }
   ],
   "source": [
    "print \"M1: {}, M2: {}\".format(b.get_value('mass@primary@component'),\n",
    "                              b.get_value('mass@secondary@component'))"
   ]
  },
  {
   "cell_type": "markdown",
   "metadata": {},
   "source": [
    "Now let's flip the hierarchy so that the star with the 'primary' component tag is actually the secondary component in the system (and so takes the role of numerator in q = M2/M1).\n",
    "\n",
    "For more information on the syntax for setting hierarchies, see the [Building a System Tutorial](building_a_system)."
   ]
  },
  {
   "cell_type": "code",
   "execution_count": 34,
   "metadata": {
    "collapsed": true
   },
   "outputs": [],
   "source": [
    "b.set_hierarchy('orbit:binary(star:secondary, star:primary)')"
   ]
  },
  {
   "cell_type": "code",
   "execution_count": 35,
   "metadata": {
    "collapsed": false
   },
   "outputs": [
    {
     "name": "stdout",
     "output_type": "stream",
     "text": [
      "0.8\n"
     ]
    }
   ],
   "source": [
    "print b.get_value('q')"
   ]
  },
  {
   "cell_type": "code",
   "execution_count": 36,
   "metadata": {
    "collapsed": false
   },
   "outputs": [
    {
     "name": "stdout",
     "output_type": "stream",
     "text": [
      "M1: 0.888888888889, M2: 1.11111111111\n"
     ]
    }
   ],
   "source": [
    "print \"M1: {}, M2: {}\".format(b.get_value('mass@primary@component'),\n",
    "                              b.get_value('mass@secondary@component'))"
   ]
  },
  {
   "cell_type": "markdown",
   "metadata": {},
   "source": [
    "Even though under-the-hood the constraints are being rebuilt from scratch, they will remember if you have flipped them to solve for some other parameter.\n",
    "\n",
    "To show this, let's flip the constraint for the secondary mass to solve for 'period' and then change the hierarchy back to its original value."
   ]
  },
  {
   "cell_type": "code",
   "execution_count": 37,
   "metadata": {
    "collapsed": false
   },
   "outputs": [
    {
     "name": "stdout",
     "output_type": "stream",
     "text": [
      "M1: 0.888888888889, M2: 1.11111111111, period: 1.8533749922, q: 0.8\n"
     ]
    }
   ],
   "source": [
    "print \"M1: {}, M2: {}, period: {}, q: {}\".format(b.get_value('mass@primary@component'),\n",
    "                                                 b.get_value('mass@secondary@component'),\n",
    "                                                 b.get_value('period@binary@component'),\n",
    "                                                 b.get_value('q@binary@component'))"
   ]
  },
  {
   "cell_type": "code",
   "execution_count": 38,
   "metadata": {
    "collapsed": false
   },
   "outputs": [
    {
     "data": {
      "text/plain": [
       "<ConstraintParameter: {period@binary@component} = ((39.478418 * ({sma@binary@component} ** 3.000000)) / (({mass@secondary@component} * (1.000000 + {q@binary@component})) * 0.000000000066740799999999990427)) ** 0.500000 => 1.8533749922 d>"
      ]
     },
     "execution_count": 38,
     "metadata": {},
     "output_type": "execute_result"
    }
   ],
   "source": [
    "b.flip_constraint('mass@secondary@constraint', 'period')"
   ]
  },
  {
   "cell_type": "code",
   "execution_count": 39,
   "metadata": {
    "collapsed": false
   },
   "outputs": [
    {
     "name": "stdout",
     "output_type": "stream",
     "text": [
      "M1: 0.888888888889, M2: 1.11111111111, period: 1.8533749922, q: 0.8\n"
     ]
    }
   ],
   "source": [
    "print \"M1: {}, M2: {}, period: {}, q: {}\".format(b.get_value('mass@primary@component'),\n",
    "                                                 b.get_value('mass@secondary@component'),\n",
    "                                                 b.get_value('period@binary@component'),\n",
    "                                                 b.get_value('q@binary@component'))"
   ]
  },
  {
   "cell_type": "code",
   "execution_count": 40,
   "metadata": {
    "collapsed": true
   },
   "outputs": [],
   "source": [
    "b.set_value('mass@secondary@component', 1.0)"
   ]
  },
  {
   "cell_type": "code",
   "execution_count": 41,
   "metadata": {
    "collapsed": false,
    "scrolled": true
   },
   "outputs": [
    {
     "name": "stdout",
     "output_type": "stream",
     "text": [
      "M1: 0.8, M2: 1.0, period: 1.95362877791, q: 0.8\n"
     ]
    }
   ],
   "source": [
    "print \"M1: {}, M2: {}, period: {}, q: {}\".format(b.get_value('mass@primary@component'),\n",
    "                                                 b.get_value('mass@secondary@component'),\n",
    "                                                 b.get_value('period@binary@component'),\n",
    "                                                 b.get_value('q@binary@component'))"
   ]
  },
  {
   "cell_type": "code",
   "execution_count": 42,
   "metadata": {
    "collapsed": false
   },
   "outputs": [],
   "source": [
    "# TODO [BUG]: this currently fails!  But will hopefully work at some point before release\n",
    "##b.set_hierarchy('orbit:binary(star:primary, star:secondary)')"
   ]
  },
  {
   "cell_type": "code",
   "execution_count": 43,
   "metadata": {
    "collapsed": false
   },
   "outputs": [
    {
     "name": "stdout",
     "output_type": "stream",
     "text": [
      "M1: 0.8, M2: 1.0, period: 1.95362877791, q: 0.8\n"
     ]
    }
   ],
   "source": [
    "print \"M1: {}, M2: {}, period: {}, q: {}\".format(b.get_value('mass@primary@component'),\n",
    "                                                 b.get_value('mass@secondary@component'),\n",
    "                                                 b.get_value('period@binary@component'),\n",
    "                                                 b.get_value('q@binary@component'))"
   ]
  }
 ],
 "metadata": {
  "kernelspec": {
   "display_name": "Python 2",
   "language": "python",
   "name": "python2"
  },
  "language_info": {
   "codemirror_mode": {
    "name": "ipython",
    "version": 2
   },
   "file_extension": ".py",
   "mimetype": "text/x-python",
   "name": "python",
   "nbconvert_exporter": "python",
   "pygments_lexer": "ipython2",
   "version": "2.7.9"
  }
 },
 "nbformat": 4,
 "nbformat_minor": 0
}
