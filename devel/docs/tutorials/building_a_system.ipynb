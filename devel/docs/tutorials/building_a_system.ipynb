{
 "cells": [
  {
   "cell_type": "markdown",
   "metadata": {},
   "source": [
    "[IPython Notebook](building_a_system.ipynb) |  [Python Script](building_a_system.py)"
   ]
  },
  {
   "cell_type": "markdown",
   "metadata": {},
   "source": [
    "Building a System\n",
    "============================\n",
    "\n",
    "Setup\n",
    "-----------------------------"
   ]
  },
  {
   "cell_type": "markdown",
   "metadata": {},
   "source": [
    "From now on, we'll just quickly do common setup at the beginning of each tutorial.\n",
    "For full gory details on the general concepts here, make sure to read [General Concepts](general_concepts).\n",
    "\n",
    "We'll always start by doing our basic imports, setting up a logger, and initializing\n",
    "a default bundle."
   ]
  },
  {
   "cell_type": "code",
   "execution_count": 1,
   "metadata": {
    "collapsed": false
   },
   "outputs": [
    {
     "name": "stderr",
     "output_type": "stream",
     "text": [
      "/usr/local/lib/python2.7/dist-packages/IPython/kernel/__init__.py:13: ShimWarning: The `IPython.kernel` package has been deprecated. You should import from ipykernel or jupyter_client instead.\n",
      "  \"You should import from ipykernel or jupyter_client instead.\", ShimWarning)\n",
      "WARNING: Constant u'Gravitational constant' is already has a definition in the u'si' system [astropy.constants.constant]\n",
      "WARNING:astropy:Constant u'Gravitational constant' is already has a definition in the u'si' system\n",
      "WARNING: Constant u'Solar mass' is already has a definition in the u'si' system [astropy.constants.constant]\n",
      "WARNING:astropy:Constant u'Solar mass' is already has a definition in the u'si' system\n",
      "WARNING: Constant u'Solar radius' is already has a definition in the u'si' system [astropy.constants.constant]\n",
      "WARNING:astropy:Constant u'Solar radius' is already has a definition in the u'si' system\n",
      "WARNING: Constant u'Solar luminosity' is already has a definition in the u'si' system [astropy.constants.constant]\n",
      "WARNING:astropy:Constant u'Solar luminosity' is already has a definition in the u'si' system\n"
     ]
    }
   ],
   "source": [
    "import phoebe2\n",
    "from phoebe2 import u # units\n",
    "import numpy as np\n",
    "import matplotlib.pyplot as plt\n",
    "\n",
    "logger = phoebe2.logger(clevel='INFO')\n",
    "\n",
    "b = phoebe2.Bundle()"
   ]
  },
  {
   "cell_type": "markdown",
   "metadata": {},
   "source": [
    "Default Systems\n",
    "------------------------\n",
    "\n",
    "Although the default empty binary doesn't include a system, there are available\n",
    "constructors that create default systems.  To create a simple binary with component tags\n",
    "'binary', 'primary', and 'secondary' (as above), you could call:"
   ]
  },
  {
   "cell_type": "code",
   "execution_count": 2,
   "metadata": {
    "collapsed": false
   },
   "outputs": [
    {
     "name": "stderr",
     "output_type": "stream",
     "text": [
      "/usr/local/lib/python2.7/dist-packages/astropy/units/quantity.py:732: FutureWarning: comparison to `None` will result in an elementwise object comparison in the future.\n",
      "  return super(Quantity, self).__eq__(other)\n"
     ]
    }
   ],
   "source": [
    "b = phoebe2.Bundle.default_binary()"
   ]
  },
  {
   "cell_type": "code",
   "execution_count": 3,
   "metadata": {
    "collapsed": false,
    "scrolled": true
   },
   "outputs": [
    {
     "name": "stdout",
     "output_type": "stream",
     "text": [
      "\n",
      "    orbit:binary \n",
      "    \n",
      "        star:primary \n",
      "        star:secondary\n",
      "    \n",
      "\n"
     ]
    }
   ],
   "source": [
    "print b.hierarchy"
   ]
  },
  {
   "cell_type": "markdown",
   "metadata": {},
   "source": [
    "To build the same binary but as an overcontact, you would call:"
   ]
  },
  {
   "cell_type": "code",
   "execution_count": 4,
   "metadata": {
    "collapsed": false
   },
   "outputs": [],
   "source": [
    "b = phoebe2.Bundle.default_binary(overcontact=True)"
   ]
  },
  {
   "cell_type": "code",
   "execution_count": 5,
   "metadata": {
    "collapsed": false
   },
   "outputs": [
    {
     "name": "stdout",
     "output_type": "stream",
     "text": [
      "\n",
      "    orbit:binary \n",
      "    \n",
      "        star:primary \n",
      "        star:secondary \n",
      "        envelope:common_envelope\n",
      "    \n",
      "\n"
     ]
    }
   ],
   "source": [
    "print b.hierarchy"
   ]
  },
  {
   "cell_type": "markdown",
   "metadata": {},
   "source": [
    "For more details on dealing with overcontact systems, see the [Overcontact Example Script](../examples/minimal_overcontact)"
   ]
  },
  {
   "cell_type": "markdown",
   "metadata": {},
   "source": [
    "To build a hierarchical triple system, you would call:"
   ]
  },
  {
   "cell_type": "code",
   "execution_count": 6,
   "metadata": {
    "collapsed": true
   },
   "outputs": [],
   "source": [
    "b = phoebe2.Bundle.default_triple()"
   ]
  },
  {
   "cell_type": "code",
   "execution_count": 7,
   "metadata": {
    "collapsed": false
   },
   "outputs": [
    {
     "name": "stdout",
     "output_type": "stream",
     "text": [
      "\n",
      "    orbit:outer \n",
      "    \n",
      "        orbit:inner \n",
      "        \n",
      "            star:starA \n",
      "            star:starB\n",
      "         \n",
      "        star:starC\n",
      "    \n",
      "\n"
     ]
    }
   ],
   "source": [
    "print b.hierarchy"
   ]
  },
  {
   "cell_type": "markdown",
   "metadata": {},
   "source": [
    "Note that by default this set's the inner-orbit as the primary component in the outer-orbit.  To override this behavior, call:"
   ]
  },
  {
   "cell_type": "code",
   "execution_count": 8,
   "metadata": {
    "collapsed": true
   },
   "outputs": [],
   "source": [
    "b = phoebe2.Bundle.default_triple(inner_as_primary=False)"
   ]
  },
  {
   "cell_type": "code",
   "execution_count": 28,
   "metadata": {
    "collapsed": false
   },
   "outputs": [
    {
     "name": "stdout",
     "output_type": "stream",
     "text": [
      "\n",
      "    orbit:binary \n",
      "    \n",
      "        star:primary \n",
      "        star:secondary\n",
      "    \n",
      "\n"
     ]
    }
   ],
   "source": [
    "print b.hierarchy"
   ]
  },
  {
   "cell_type": "markdown",
   "metadata": {},
   "source": [
    "You can also choose to make the inner-binary in a triple system an overcontact:"
   ]
  },
  {
   "cell_type": "code",
   "execution_count": 29,
   "metadata": {
    "collapsed": true
   },
   "outputs": [],
   "source": [
    "b = phoebe2.Bundle.default_triple(inner_as_overcontact=True)"
   ]
  },
  {
   "cell_type": "code",
   "execution_count": 30,
   "metadata": {
    "collapsed": false
   },
   "outputs": [
    {
     "name": "stdout",
     "output_type": "stream",
     "text": [
      "\n",
      "    orbit:outer \n",
      "    \n",
      "        orbit:inner \n",
      "        \n",
      "            star:starA \n",
      "            star:starB \n",
      "            envelope:common_envelope\n",
      "         \n",
      "        star:starC\n",
      "    \n",
      "\n"
     ]
    }
   ],
   "source": [
    "print b.hierarchy"
   ]
  },
  {
   "cell_type": "markdown",
   "metadata": {},
   "source": [
    "For more details on dealing with triple systems, see the [Hierarchical Triple Example Script](../examples/hierarchical_triple)"
   ]
  },
  {
   "cell_type": "markdown",
   "metadata": {},
   "source": [
    "Adding Components Manually\n",
    "--------------------\n",
    "\n",
    "By default, an empty bundle does not contain any information about our system.\n",
    "\n",
    "So, let's first start by adding a few stars.  Here we'll call the generic add_component method.  This method works for any type of component in the system - stars, orbits, planets, disks, rings, spots, etc.  The first argument needs to be a callable or the name of a callable in phoebe2.parameters.component which include the following options:\n",
    "\n",
    "* orbit\n",
    "* star\n",
    "* envelope\n",
    "\n",
    "add_component also takes a keyword argument for the 'component' tag.  Here we'll give them component tags 'primary' and 'secondary' - but note that these are merely convenience labels and do not hold any special roles.  Some tags, however, are forbidden if they clash with other tags or reserved values - so if you get error stating the component tag is forbidden, try using a different string."
   ]
  },
  {
   "cell_type": "code",
   "execution_count": 10,
   "metadata": {
    "collapsed": false,
    "scrolled": true
   },
   "outputs": [
    {
     "data": {
      "text/plain": [
       "<ParameterSet: 13 parameters | qualifiers: gravblaw, teff, abun, pot, ld_func_bol, period, ld_coeffs_bol, rpole, alb_bol, syncpar, gravb_bol, freq, incl>"
      ]
     },
     "execution_count": 10,
     "metadata": {},
     "output_type": "execute_result"
    }
   ],
   "source": [
    "b.add_component(phoebe2.component.star, component='primary')\n",
    "b.add_component('star', component='secondary')"
   ]
  },
  {
   "cell_type": "markdown",
   "metadata": {},
   "source": [
    "But there are also shortcut methods for add_star and add_orbit.  In these cases you don't need to provide the function, but only the component tag of your star/orbit.\n",
    "\n",
    "Any of these functions also accept values for any of the qualifiers of the created parameters."
   ]
  },
  {
   "cell_type": "code",
   "execution_count": 11,
   "metadata": {
    "collapsed": false
   },
   "outputs": [
    {
     "data": {
      "text/plain": [
       "<ParameterSet: 13 parameters | qualifiers: gravblaw, teff, abun, pot, ld_func_bol, period, ld_coeffs_bol, rpole, alb_bol, syncpar, gravb_bol, freq, incl>"
      ]
     },
     "execution_count": 11,
     "metadata": {},
     "output_type": "execute_result"
    }
   ],
   "source": [
    "b.add_star('extrastarforfun', teff=6000)"
   ]
  },
  {
   "cell_type": "markdown",
   "metadata": {},
   "source": [
    "Here we call the add_component method of the bundle with several arguments:\n",
    "\n",
    "* a function (or the name of a function) in phoebe2.parameters.component.  This \n",
    "  function tells the bundle what parameters need to be added.\n",
    "* component: the tag that we want to give this component for future reference.\n",
    "* any additional keyword arguments: you can also provide initial values for Parameters \n",
    "  that you know will be created.  In the last example you can see that the\n",
    "  effective temperature will already be set to 6000 (in default units which is K).\n",
    "\n",
    "and then we'll do the same to add an orbit:"
   ]
  },
  {
   "cell_type": "code",
   "execution_count": 12,
   "metadata": {
    "collapsed": false
   },
   "outputs": [
    {
     "data": {
      "text/plain": [
       "<ParameterSet: 14 parameters | qualifiers: dpdt, ecc, dperdt, per0, period, long_an, q, t0_supconj, phshift, t0_perpass, freq, incl, deccdt, sma>"
      ]
     },
     "execution_count": 12,
     "metadata": {},
     "output_type": "execute_result"
    }
   ],
   "source": [
    "b.add_orbit('binary')"
   ]
  },
  {
   "cell_type": "markdown",
   "metadata": {},
   "source": [
    "Defining the Hierarchy\n",
    "---------------------------------\n",
    "\n",
    "At this point all we've done is add a bunch of Parameters to our Bundle, but \n",
    "we still need to specify the hierarchical setup of our system.\n",
    "\n",
    "Here we want to place our two stars (with component tags 'primary' and 'secondary') in our\n",
    "orbit (with component tag 'binary').  This can be done with several different syntaxes:"
   ]
  },
  {
   "cell_type": "code",
   "execution_count": 13,
   "metadata": {
    "collapsed": false
   },
   "outputs": [],
   "source": [
    "b.set_hierarchy(phoebe2.hierarchy.binaryorbit, b['binary'], b['primary'], b['secondary'])"
   ]
  },
  {
   "cell_type": "markdown",
   "metadata": {},
   "source": [
    "or"
   ]
  },
  {
   "cell_type": "code",
   "execution_count": 14,
   "metadata": {
    "collapsed": true
   },
   "outputs": [],
   "source": [
    "b.set_hierarchy(phoebe2.hierarchy.binaryorbit(b['binary'], b['primary'], b['secondary']))"
   ]
  },
  {
   "cell_type": "markdown",
   "metadata": {},
   "source": [
    "If you access the value that this set, you'll see that it really just resulted\n",
    "in a simple string representation:"
   ]
  },
  {
   "cell_type": "code",
   "execution_count": 15,
   "metadata": {
    "collapsed": false
   },
   "outputs": [
    {
     "data": {
      "text/plain": [
       "<HierarchyParameter: orbit:binary(star:primary, star:secondary)>"
      ]
     },
     "execution_count": 15,
     "metadata": {},
     "output_type": "execute_result"
    }
   ],
   "source": [
    "b.get_hierarchy()"
   ]
  },
  {
   "cell_type": "markdown",
   "metadata": {},
   "source": [
    "We could just as easily have used this string to set the hierarchy:"
   ]
  },
  {
   "cell_type": "code",
   "execution_count": 16,
   "metadata": {
    "collapsed": true
   },
   "outputs": [],
   "source": [
    "b.set_hierarchy('orbit:binary(star:primary, star:secondary)')"
   ]
  },
  {
   "cell_type": "markdown",
   "metadata": {},
   "source": [
    "If at any point we want to flip the primary and secondary components or make\n",
    "this binary a triple, its seriously as easy as changing this hierarchy and\n",
    "everything else will adjust as needed (including cross-ParameterSet constraints, \n",
    "and datasets)"
   ]
  },
  {
   "cell_type": "markdown",
   "metadata": {},
   "source": [
    "The Hierarchy Parameter\n",
    "-----------------------------\n",
    "\n",
    "Setting the hierarchy just sets the value of a single parameter (although it may take some time because it also does a lot of paperwork and manages constraints between components in the system).  You can access that parameter as usual:"
   ]
  },
  {
   "cell_type": "code",
   "execution_count": 17,
   "metadata": {
    "collapsed": false
   },
   "outputs": [
    {
     "data": {
      "text/plain": [
       "<HierarchyParameter: orbit:binary(star:primary, star:secondary)>"
      ]
     },
     "execution_count": 17,
     "metadata": {},
     "output_type": "execute_result"
    }
   ],
   "source": [
    "b['hierarchy@system']"
   ]
  },
  {
   "cell_type": "markdown",
   "metadata": {},
   "source": [
    "or through any of these shortcuts:"
   ]
  },
  {
   "cell_type": "code",
   "execution_count": 18,
   "metadata": {
    "collapsed": false
   },
   "outputs": [
    {
     "data": {
      "text/plain": [
       "<HierarchyParameter: orbit:binary(star:primary, star:secondary)>"
      ]
     },
     "execution_count": 18,
     "metadata": {},
     "output_type": "execute_result"
    }
   ],
   "source": [
    "b.get_hierarchy()"
   ]
  },
  {
   "cell_type": "code",
   "execution_count": 19,
   "metadata": {
    "collapsed": false
   },
   "outputs": [
    {
     "data": {
      "text/plain": [
       "<HierarchyParameter: orbit:binary(star:primary, star:secondary)>"
      ]
     },
     "execution_count": 19,
     "metadata": {},
     "output_type": "execute_result"
    }
   ],
   "source": [
    "b.hierarchy"
   ]
  },
  {
   "cell_type": "markdown",
   "metadata": {},
   "source": [
    "This hierarchy parameter then has several methods unique to itself.  You can, for instance, list the component tags of all the stars or orbits in the hierarchy:"
   ]
  },
  {
   "cell_type": "code",
   "execution_count": 20,
   "metadata": {
    "collapsed": false
   },
   "outputs": [
    {
     "name": "stdout",
     "output_type": "stream",
     "text": [
      "['primary', 'secondary']\n"
     ]
    }
   ],
   "source": [
    "print b.hierarchy.get_stars()"
   ]
  },
  {
   "cell_type": "code",
   "execution_count": 21,
   "metadata": {
    "collapsed": false
   },
   "outputs": [
    {
     "name": "stdout",
     "output_type": "stream",
     "text": [
      "['binary']\n"
     ]
    }
   ],
   "source": [
    "print b.hierarchy.get_orbits()"
   ]
  },
  {
   "cell_type": "markdown",
   "metadata": {},
   "source": [
    "Or you can ask for the component tag of the top-level item in the hierarchy"
   ]
  },
  {
   "cell_type": "code",
   "execution_count": 22,
   "metadata": {
    "collapsed": false
   },
   "outputs": [
    {
     "name": "stdout",
     "output_type": "stream",
     "text": [
      "binary\n"
     ]
    }
   ],
   "source": [
    "print b.hierarchy.get_top()"
   ]
  },
  {
   "cell_type": "markdown",
   "metadata": {},
   "source": [
    "And request the parent, children, child, or sibling of any item in the hierarchy"
   ]
  },
  {
   "cell_type": "code",
   "execution_count": 23,
   "metadata": {
    "collapsed": false
   },
   "outputs": [
    {
     "name": "stdout",
     "output_type": "stream",
     "text": [
      "binary\n"
     ]
    }
   ],
   "source": [
    "print b.hierarchy.get_parent_of('primary')"
   ]
  },
  {
   "cell_type": "code",
   "execution_count": 24,
   "metadata": {
    "collapsed": false
   },
   "outputs": [
    {
     "name": "stdout",
     "output_type": "stream",
     "text": [
      "['primary', 'secondary']\n"
     ]
    }
   ],
   "source": [
    "print b.hierarchy.get_children_of('binary')"
   ]
  },
  {
   "cell_type": "code",
   "execution_count": 25,
   "metadata": {
    "collapsed": false
   },
   "outputs": [
    {
     "name": "stdout",
     "output_type": "stream",
     "text": [
      "primary\n"
     ]
    }
   ],
   "source": [
    "print b.hierarchy.get_child_of('binary', 0)  # here 0 means primary component, 1 means secondary"
   ]
  },
  {
   "cell_type": "code",
   "execution_count": 26,
   "metadata": {
    "collapsed": false
   },
   "outputs": [
    {
     "name": "stdout",
     "output_type": "stream",
     "text": [
      "secondary\n"
     ]
    }
   ],
   "source": [
    "print b.hierarchy.get_sibling_of('primary')"
   ]
  },
  {
   "cell_type": "markdown",
   "metadata": {},
   "source": [
    "We can also check whether a given component (by component tag) is the primary or secondary component in its parent orbit.  Note that here its just a coincidence (although on purpose) that the component tag is also 'secondary'."
   ]
  },
  {
   "cell_type": "code",
   "execution_count": 27,
   "metadata": {
    "collapsed": false,
    "scrolled": true
   },
   "outputs": [
    {
     "name": "stdout",
     "output_type": "stream",
     "text": [
      "secondary\n"
     ]
    }
   ],
   "source": [
    "print b.hierarchy.get_primary_or_secondary('secondary')"
   ]
  }
 ],
 "metadata": {
  "kernelspec": {
   "display_name": "Python 2",
   "language": "python",
   "name": "python2"
  },
  "language_info": {
   "codemirror_mode": {
    "name": "ipython",
    "version": 2
   },
   "file_extension": ".py",
   "mimetype": "text/x-python",
   "name": "python",
   "nbconvert_exporter": "python",
   "pygments_lexer": "ipython2",
   "version": "2.7.11+"
  }
 },
 "nbformat": 4,
 "nbformat_minor": 0
}
