{
 "cells": [
  {
   "cell_type": "markdown",
   "metadata": {},
   "source": [
    "[IPython Notebook](pot.ipynb) |  [Python Script](pot.py)"
   ]
  },
  {
   "cell_type": "markdown",
   "metadata": {},
   "source": [
    "Potentials\n",
    "============================\n",
    "\n",
    "Setup\n",
    "-----------------------------"
   ]
  },
  {
   "cell_type": "markdown",
   "metadata": {
    "collapsed": true
   },
   "source": [
    "As always, let's do imports and initialize a logger and a new Bundle.  See [Building a System](building_a_system.html) for more details."
   ]
  },
  {
   "cell_type": "code",
   "execution_count": 35,
   "metadata": {
    "collapsed": true
   },
   "outputs": [],
   "source": [
    "%matplotlib inline"
   ]
  },
  {
   "cell_type": "code",
   "execution_count": 36,
   "metadata": {
    "collapsed": false
   },
   "outputs": [],
   "source": [
    "import phoebe\n",
    "from phoebe import u # units\n",
    "import numpy as np\n",
    "import matplotlib.pyplot as plt\n",
    "\n",
    "logger = phoebe.logger(clevel='INFO')\n",
    "\n",
    "b = phoebe.Bundle.default_binary()"
   ]
  },
  {
   "cell_type": "markdown",
   "metadata": {
    "collapsed": true
   },
   "source": [
    "Now let's add a MESH dataset at a few different times so that we can see how the potentials affect the surfaces of the stars."
   ]
  },
  {
   "cell_type": "code",
   "execution_count": 37,
   "metadata": {
    "collapsed": false
   },
   "outputs": [
    {
     "data": {
      "text/plain": [
       "<ParameterSet: 1 parameters>"
      ]
     },
     "execution_count": 37,
     "metadata": {},
     "output_type": "execute_result"
    }
   ],
   "source": [
    "b.add_dataset('MESH', time=np.linspace(0,3,11), dataset='mesh01')"
   ]
  },
  {
   "cell_type": "markdown",
   "metadata": {},
   "source": [
    "Relevant Parameters\n",
    "------------------------\n",
    "\n",
    "The 'pot' parameter defines the stellar surface to be at the given Roche equipotential - and is given at periastron. By default, the 'pot' parameter is constrained (in contrast to PHOEBE legacy and Wilson-Devinney) and instead the 'rpole' parameter should be used to change the size of a star."
   ]
  },
  {
   "cell_type": "code",
   "execution_count": 38,
   "metadata": {
    "collapsed": false
   },
   "outputs": [
    {
     "name": "stdout",
     "output_type": "stream",
     "text": [
      "*pot@primary@component: 8.99227787671\n",
      "*pot@secondary@component: 8.99227787671\n"
     ]
    }
   ],
   "source": [
    "print b['pot@component']"
   ]
  },
  {
   "cell_type": "code",
   "execution_count": 39,
   "metadata": {
    "collapsed": false
   },
   "outputs": [
    {
     "name": "stdout",
     "output_type": "stream",
     "text": [
      "Qualifier: pot\n",
      "Description: Potential at periastron\n",
      "Value: 8.99227787671\n",
      "Constrained by: rpole@primary@component, q@binary@component, ecc@binary@component, syncpar@primary@component, sma@binary@component\n",
      "Constrains: None\n",
      "Related to: rpole@primary@component, q@binary@component, ecc@binary@component, syncpar@primary@component, sma@binary@component\n"
     ]
    }
   ],
   "source": [
    "print b['pot@primary@component']"
   ]
  },
  {
   "cell_type": "code",
   "execution_count": 40,
   "metadata": {
    "collapsed": false
   },
   "outputs": [
    {
     "name": "stdout",
     "output_type": "stream",
     "text": [
      "Constrains (qualifier): pot\n",
      "Expression in SI (value): rpole2potential({rpole@primary@component}, {q@binary@component}, {ecc@binary@component}, {syncpar@primary@component}, {sma@binary@component}, 1)\n",
      "Current Result (result): 8.99227787671\n"
     ]
    }
   ],
   "source": [
    "print b['pot@primary@constraint']"
   ]
  },
  {
   "cell_type": "markdown",
   "metadata": {},
   "source": [
    "The 'rpole' parameter is defined as the polar radius of the star at periastron."
   ]
  },
  {
   "cell_type": "code",
   "execution_count": 41,
   "metadata": {
    "collapsed": false
   },
   "outputs": [
    {
     "name": "stdout",
     "output_type": "stream",
     "text": [
      "rpole@primary@component: 1.0 solRad\n",
      "rpole@secondary@component: 1.0 solRad\n"
     ]
    }
   ],
   "source": [
    "print b['rpole']"
   ]
  },
  {
   "cell_type": "code",
   "execution_count": 42,
   "metadata": {
    "collapsed": false
   },
   "outputs": [
    {
     "name": "stdout",
     "output_type": "stream",
     "text": [
      "Qualifier: rpole\n",
      "Description: Polar radius at periastron\n",
      "Value: 1.0 solRad\n",
      "Constrained by: \n",
      "Constrains: pot@primary@component\n",
      "Related to: q@binary@component, ecc@binary@component, syncpar@primary@component, sma@binary@component, pot@primary@component\n"
     ]
    }
   ],
   "source": [
    "print b['rpole@primary']"
   ]
  },
  {
   "cell_type": "markdown",
   "metadata": {},
   "source": [
    "Polar Radius vs Potential\n",
    "---------------------------------\n",
    "\n",
    "**TODO**: explain the default setting for pot being constrained, how to flip the constraint, and common pitfalls (especially when importing from legacy)"
   ]
  },
  {
   "cell_type": "markdown",
   "metadata": {},
   "source": [
    "Primary vs Secondary Potentials\n",
    "------------------------------------\n",
    "\n",
    "**TODO**: explain the transformation between primary and secondary potentials and which are provided here"
   ]
  },
  {
   "cell_type": "markdown",
   "metadata": {},
   "source": [
    "Critical Potentials and System Checks\n",
    "--------------------------------------------\n",
    "\n",
    "If you set a value such that the system becomes non-computable, a logger warning will immediately be raised.  This will happen in a detached system, for example, if any of the stars are predicted to overflow at periastron.  Since the surface of the star (potential) depends on many parameters (see the constraint above), this can be triggered by changing any of:\n",
    "\n",
    "* rpole\n",
    "* pot\n",
    "* q\n",
    "* sma\n",
    "* ecc\n",
    "* syncpar"
   ]
  },
  {
   "cell_type": "code",
   "execution_count": 43,
   "metadata": {
    "collapsed": false
   },
   "outputs": [
    {
     "name": "stderr",
     "output_type": "stream",
     "text": [
      "WARNING:PARAMETERS:primary is overflowing at periastron (3.75, 3.21, 3.21)\n"
     ]
    }
   ],
   "source": [
    "b.set_value('rpole@primary@component', 3)"
   ]
  },
  {
   "cell_type": "markdown",
   "metadata": {},
   "source": [
    "At this time, if you were to call run_compute, an error would be thrown.  An error isn't immediately thrown when setting rpole, however, since the overflow can be recitified by changing any of the other relevant parameters.  For instance, let's change sma to be large enough to account for this value of rpole and you'll see that the error does not occur again."
   ]
  },
  {
   "cell_type": "code",
   "execution_count": 44,
   "metadata": {
    "collapsed": false
   },
   "outputs": [
    {
     "name": "stderr",
     "output_type": "stream",
     "text": [
      "WARNING:PARAMETERS:primary is overflowing at periastron (3.75, 3.21, 3.21)\n"
     ]
    }
   ],
   "source": [
    "b.set_value('sma@binary@component', 5)"
   ]
  },
  {
   "cell_type": "code",
   "execution_count": 45,
   "metadata": {
    "collapsed": false
   },
   "outputs": [],
   "source": [
    "b.set_value('sma@binary@component', 10)"
   ]
  },
  {
   "cell_type": "markdown",
   "metadata": {},
   "source": [
    "These logger warnings are handy when running phoebe interactively, but in a script its also handy to be able to check whether the system is currently computable /before/ running run_compute.\n",
    "\n",
    "This can be done by calling run_checks which returns a boolean (whether the system passes all checks) and a message (a string describing the first failed check)."
   ]
  },
  {
   "cell_type": "code",
   "execution_count": 46,
   "metadata": {
    "collapsed": false
   },
   "outputs": [
    {
     "name": "stdout",
     "output_type": "stream",
     "text": [
      "True \n"
     ]
    }
   ],
   "source": [
    "passed, message = b.run_checks()\n",
    "print passed, message"
   ]
  },
  {
   "cell_type": "code",
   "execution_count": 47,
   "metadata": {
    "collapsed": false
   },
   "outputs": [
    {
     "name": "stderr",
     "output_type": "stream",
     "text": [
      "WARNING:PARAMETERS:primary is overflowing at periastron (3.75, 3.21, 3.21)\n"
     ]
    }
   ],
   "source": [
    "b.set_value('sma@binary@component', 5)"
   ]
  },
  {
   "cell_type": "code",
   "execution_count": 48,
   "metadata": {
    "collapsed": false
   },
   "outputs": [
    {
     "name": "stdout",
     "output_type": "stream",
     "text": [
      "False primary is overflowing at periastron (3.75, 3.21, 3.21)\n"
     ]
    }
   ],
   "source": [
    "passed, message = b.run_checks()\n",
    "print passed, message"
   ]
  },
  {
   "cell_type": "markdown",
   "metadata": {},
   "source": [
    "Alternatively, you could also manually check with the critical potentials.  \n",
    "\n",
    "The set value (or constrained value) of the equipotential (which is defined at periastron) must be GREATER than the critical potentials at each of the lagrange points in order to not overflow."
   ]
  },
  {
   "cell_type": "code",
   "execution_count": 49,
   "metadata": {
    "collapsed": false
   },
   "outputs": [
    {
     "name": "stdout",
     "output_type": "stream",
     "text": [
      "pot: 2.52415959238\n",
      "L1_crit: 3.75\n",
      "L2_crit: 3.20679622409\n",
      "L3_crit: 3.20679622409\n"
     ]
    }
   ],
   "source": [
    "q = b.get_value('q@binary@component')\n",
    "F = b.get_value('syncpar@primary@component')\n",
    "# instantaneous distance in units of sma at periastron is 1-e\n",
    "d = 1 - b.get_value('ecc@binary@component')\n",
    "L1_crit, L2_crit, L3_crit = phoebe.distortions.roche.critical_potential(q, F, d)\n",
    "pot = b.get_value('pot@primary@component')\n",
    "print \"pot: {}\\nL1_crit: {}\\nL2_crit: {}\\nL3_crit: {}\".format(pot, L1_crit, L2_crit, L3_crit)"
   ]
  },
  {
   "cell_type": "markdown",
   "metadata": {},
   "source": [
    "Here we can see that our star is overflowing at L2.  By changing the sma to a value that passed before, we see that the potential changes to a value that is allowed."
   ]
  },
  {
   "cell_type": "code",
   "execution_count": 50,
   "metadata": {
    "collapsed": false
   },
   "outputs": [],
   "source": [
    "b.set_value('sma@binary@component', 10)"
   ]
  },
  {
   "cell_type": "code",
   "execution_count": 51,
   "metadata": {
    "collapsed": false
   },
   "outputs": [
    {
     "name": "stdout",
     "output_type": "stream",
     "text": [
      "pot: 2.52415959238\n",
      "L1_crit: 3.75\n",
      "L2_crit: 3.20679622409\n",
      "L3_crit: 3.20679622409\n"
     ]
    }
   ],
   "source": [
    "q = b.get_value('q@binary@component')\n",
    "F = b.get_value('syncpar@primary@component')\n",
    "# instantaneous distance in units of sma at periastron is 1-e\n",
    "d = 1 - b.get_value('ecc@binary@component')\n",
    "L1_crit, L2_crit, L3_crit = phoebe.distortions.roche.critical_potential(q, F, d)\n",
    "print \"pot: {}\\nL1_crit: {}\\nL2_crit: {}\\nL3_crit: {}\".format(pot, L1_crit, L2_crit, L3_crit)"
   ]
  },
  {
   "cell_type": "markdown",
   "metadata": {},
   "source": [
    "Note that when calling critical potentials for the secondary component, you must invert q."
   ]
  },
  {
   "cell_type": "code",
   "execution_count": 18,
   "metadata": {
    "collapsed": false
   },
   "outputs": [
    {
     "name": "stdout",
     "output_type": "stream",
     "text": [
      "pot: 20.9987523389\n",
      "L1_crit: 3.75\n",
      "L2_crit: 3.20679622409\n",
      "L3_crit: 3.20679622409\n"
     ]
    }
   ],
   "source": [
    "q = 1./b.get_value('q@binary@component')\n",
    "F = b.get_value('syncpar@secondary@component')\n",
    "# instantaneous distance in units of sma at periastron is 1-e\n",
    "d = 1 - b.get_value('ecc@binary@component')\n",
    "L1_crit, L2_crit, L3_crit = phoebe.distortions.roche.critical_potential(q, F, d)\n",
    "pot = b.get_value('pot@secondary@component')\n",
    "print \"pot: {}\\nL1_crit: {}\\nL2_crit: {}\\nL3_crit: {}\".format(pot, L1_crit, L2_crit, L3_crit)"
   ]
  },
  {
   "cell_type": "markdown",
   "metadata": {},
   "source": [
    "Accessing Synthetic Potentials and Polar Radiii\n",
    "-------------------------------------\n",
    "\n",
    "Potentials and Polar Radii are stored in the synthetic meshes for every time in which a mesh is computed.  For circular orbits, these should remain constant over time and be equivalent to the input parameters.  In the next section, we'll look at an eccentric case which will show how having access to these values as a function of time can be quite handy."
   ]
  },
  {
   "cell_type": "code",
   "execution_count": 19,
   "metadata": {
    "collapsed": false
   },
   "outputs": [
    {
     "name": "stderr",
     "output_type": "stream",
     "text": [
      "/home/kyle/.local/lib/python2.7/site-packages/phoebe/backend/mesh.py:1885: DeprecationWarning: PyArray_FromDims: use PyArray_SimpleNew.\n",
      "  the_grid = cmarching.discretize(delta, maxpoints, *mesh_args)[:-2]\n",
      "/home/kyle/.local/lib/python2.7/site-packages/phoebe/backend/mesh.py:1885: DeprecationWarning: PyArray_FromDimsAndDataAndDescr: use PyArray_NewFromDescr.\n",
      "  the_grid = cmarching.discretize(delta, maxpoints, *mesh_args)[:-2]\n",
      "/home/kyle/.local/lib/python2.7/site-packages/phoebe/backend/mesh.py:1885: DeprecationWarning: PyArray_FromDims: use PyArray_SimpleNew.\n",
      "  the_grid = cmarching.discretize(delta, maxpoints, *mesh_args)[:-2]\n",
      "/home/kyle/.local/lib/python2.7/site-packages/phoebe/backend/mesh.py:1885: DeprecationWarning: PyArray_FromDimsAndDataAndDescr: use PyArray_NewFromDescr.\n",
      "  the_grid = cmarching.discretize(delta, maxpoints, *mesh_args)[:-2]\n",
      "/home/kyle/.local/lib/python2.7/site-packages/phoebe/backend/eclipse.py:10: DeprecationWarning: PyArray_FromDims: use PyArray_SimpleNew.\n",
      "  hull, inside = ceclipse.graham_scan_inside_hull(front[sa], back)\n",
      "/home/kyle/.local/lib/python2.7/site-packages/phoebe/backend/eclipse.py:10: DeprecationWarning: PyArray_FromDimsAndDataAndDescr: use PyArray_NewFromDescr.\n",
      "  hull, inside = ceclipse.graham_scan_inside_hull(front[sa], back)\n",
      "/home/kyle/.local/lib/python2.7/site-packages/phoebe/backend/eclipse.py:10: DeprecationWarning: PyArray_FromDims: use PyArray_SimpleNew.\n",
      "  hull, inside = ceclipse.graham_scan_inside_hull(front[sa], back)\n",
      "/home/kyle/.local/lib/python2.7/site-packages/phoebe/backend/eclipse.py:10: DeprecationWarning: PyArray_FromDimsAndDataAndDescr: use PyArray_NewFromDescr.\n",
      "  hull, inside = ceclipse.graham_scan_inside_hull(front[sa], back)\n",
      "/home/kyle/.local/lib/python2.7/site-packages/phoebe/backend/eclipse.py:10: DeprecationWarning: PyArray_FromDims: use PyArray_SimpleNew.\n",
      "  hull, inside = ceclipse.graham_scan_inside_hull(front[sa], back)\n",
      "/home/kyle/.local/lib/python2.7/site-packages/phoebe/backend/eclipse.py:10: DeprecationWarning: PyArray_FromDimsAndDataAndDescr: use PyArray_NewFromDescr.\n",
      "  hull, inside = ceclipse.graham_scan_inside_hull(front[sa], back)\n",
      "/home/kyle/.local/lib/python2.7/site-packages/phoebe/backend/eclipse.py:10: DeprecationWarning: PyArray_FromDims: use PyArray_SimpleNew.\n",
      "  hull, inside = ceclipse.graham_scan_inside_hull(front[sa], back)\n",
      "/home/kyle/.local/lib/python2.7/site-packages/phoebe/backend/eclipse.py:10: DeprecationWarning: PyArray_FromDimsAndDataAndDescr: use PyArray_NewFromDescr.\n",
      "  hull, inside = ceclipse.graham_scan_inside_hull(front[sa], back)\n",
      "/home/kyle/.local/lib/python2.7/site-packages/phoebe/backend/eclipse.py:10: DeprecationWarning: PyArray_FromDims: use PyArray_SimpleNew.\n",
      "  hull, inside = ceclipse.graham_scan_inside_hull(front[sa], back)\n",
      "/home/kyle/.local/lib/python2.7/site-packages/phoebe/backend/eclipse.py:10: DeprecationWarning: PyArray_FromDimsAndDataAndDescr: use PyArray_NewFromDescr.\n",
      "  hull, inside = ceclipse.graham_scan_inside_hull(front[sa], back)\n",
      "/home/kyle/.local/lib/python2.7/site-packages/phoebe/backend/eclipse.py:10: DeprecationWarning: PyArray_FromDims: use PyArray_SimpleNew.\n",
      "  hull, inside = ceclipse.graham_scan_inside_hull(front[sa], back)\n",
      "/home/kyle/.local/lib/python2.7/site-packages/phoebe/backend/eclipse.py:10: DeprecationWarning: PyArray_FromDimsAndDataAndDescr: use PyArray_NewFromDescr.\n",
      "  hull, inside = ceclipse.graham_scan_inside_hull(front[sa], back)\n",
      "/home/kyle/.local/lib/python2.7/site-packages/phoebe/backend/eclipse.py:10: DeprecationWarning: PyArray_FromDims: use PyArray_SimpleNew.\n",
      "  hull, inside = ceclipse.graham_scan_inside_hull(front[sa], back)\n",
      "/home/kyle/.local/lib/python2.7/site-packages/phoebe/backend/eclipse.py:10: DeprecationWarning: PyArray_FromDimsAndDataAndDescr: use PyArray_NewFromDescr.\n",
      "  hull, inside = ceclipse.graham_scan_inside_hull(front[sa], back)\n",
      "/home/kyle/.local/lib/python2.7/site-packages/phoebe/backend/eclipse.py:10: DeprecationWarning: PyArray_FromDims: use PyArray_SimpleNew.\n",
      "  hull, inside = ceclipse.graham_scan_inside_hull(front[sa], back)\n",
      "/home/kyle/.local/lib/python2.7/site-packages/phoebe/backend/eclipse.py:10: DeprecationWarning: PyArray_FromDimsAndDataAndDescr: use PyArray_NewFromDescr.\n",
      "  hull, inside = ceclipse.graham_scan_inside_hull(front[sa], back)\n",
      "/home/kyle/.local/lib/python2.7/site-packages/phoebe/backend/eclipse.py:10: DeprecationWarning: PyArray_FromDims: use PyArray_SimpleNew.\n",
      "  hull, inside = ceclipse.graham_scan_inside_hull(front[sa], back)\n",
      "/home/kyle/.local/lib/python2.7/site-packages/phoebe/backend/eclipse.py:10: DeprecationWarning: PyArray_FromDimsAndDataAndDescr: use PyArray_NewFromDescr.\n",
      "  hull, inside = ceclipse.graham_scan_inside_hull(front[sa], back)\n",
      "/home/kyle/.local/lib/python2.7/site-packages/phoebe/backend/eclipse.py:10: DeprecationWarning: PyArray_FromDims: use PyArray_SimpleNew.\n",
      "  hull, inside = ceclipse.graham_scan_inside_hull(front[sa], back)\n",
      "/home/kyle/.local/lib/python2.7/site-packages/phoebe/backend/eclipse.py:10: DeprecationWarning: PyArray_FromDimsAndDataAndDescr: use PyArray_NewFromDescr.\n",
      "  hull, inside = ceclipse.graham_scan_inside_hull(front[sa], back)\n",
      "/home/kyle/.local/lib/python2.7/site-packages/phoebe/backend/eclipse.py:10: DeprecationWarning: PyArray_FromDims: use PyArray_SimpleNew.\n",
      "  hull, inside = ceclipse.graham_scan_inside_hull(front[sa], back)\n",
      "/home/kyle/.local/lib/python2.7/site-packages/phoebe/backend/eclipse.py:10: DeprecationWarning: PyArray_FromDimsAndDataAndDescr: use PyArray_NewFromDescr.\n",
      "  hull, inside = ceclipse.graham_scan_inside_hull(front[sa], back)\n",
      "/home/kyle/.local/lib/python2.7/site-packages/phoebe/backend/eclipse.py:10: DeprecationWarning: PyArray_FromDims: use PyArray_SimpleNew.\n",
      "  hull, inside = ceclipse.graham_scan_inside_hull(front[sa], back)\n",
      "/home/kyle/.local/lib/python2.7/site-packages/phoebe/backend/eclipse.py:10: DeprecationWarning: PyArray_FromDimsAndDataAndDescr: use PyArray_NewFromDescr.\n",
      "  hull, inside = ceclipse.graham_scan_inside_hull(front[sa], back)\n",
      "/home/kyle/.local/lib/python2.7/site-packages/phoebe/backend/eclipse.py:10: DeprecationWarning: PyArray_FromDims: use PyArray_SimpleNew.\n",
      "  hull, inside = ceclipse.graham_scan_inside_hull(front[sa], back)\n",
      "/home/kyle/.local/lib/python2.7/site-packages/phoebe/backend/eclipse.py:10: DeprecationWarning: PyArray_FromDimsAndDataAndDescr: use PyArray_NewFromDescr.\n",
      "  hull, inside = ceclipse.graham_scan_inside_hull(front[sa], back)\n",
      "/home/kyle/.local/lib/python2.7/site-packages/phoebe/backend/eclipse.py:10: DeprecationWarning: PyArray_FromDims: use PyArray_SimpleNew.\n",
      "  hull, inside = ceclipse.graham_scan_inside_hull(front[sa], back)\n",
      "/home/kyle/.local/lib/python2.7/site-packages/phoebe/backend/eclipse.py:10: DeprecationWarning: PyArray_FromDimsAndDataAndDescr: use PyArray_NewFromDescr.\n",
      "  hull, inside = ceclipse.graham_scan_inside_hull(front[sa], back)\n",
      "/home/kyle/.local/lib/python2.7/site-packages/phoebe/backend/eclipse.py:10: DeprecationWarning: PyArray_FromDims: use PyArray_SimpleNew.\n",
      "  hull, inside = ceclipse.graham_scan_inside_hull(front[sa], back)\n",
      "/home/kyle/.local/lib/python2.7/site-packages/phoebe/backend/eclipse.py:10: DeprecationWarning: PyArray_FromDimsAndDataAndDescr: use PyArray_NewFromDescr.\n",
      "  hull, inside = ceclipse.graham_scan_inside_hull(front[sa], back)\n",
      "/home/kyle/.local/lib/python2.7/site-packages/phoebe/backend/eclipse.py:10: DeprecationWarning: PyArray_FromDims: use PyArray_SimpleNew.\n",
      "  hull, inside = ceclipse.graham_scan_inside_hull(front[sa], back)\n",
      "/home/kyle/.local/lib/python2.7/site-packages/phoebe/backend/eclipse.py:10: DeprecationWarning: PyArray_FromDimsAndDataAndDescr: use PyArray_NewFromDescr.\n",
      "  hull, inside = ceclipse.graham_scan_inside_hull(front[sa], back)\n",
      "/home/kyle/.local/lib/python2.7/site-packages/phoebe/backend/eclipse.py:10: DeprecationWarning: PyArray_FromDims: use PyArray_SimpleNew.\n",
      "  hull, inside = ceclipse.graham_scan_inside_hull(front[sa], back)\n",
      "/home/kyle/.local/lib/python2.7/site-packages/phoebe/backend/eclipse.py:10: DeprecationWarning: PyArray_FromDimsAndDataAndDescr: use PyArray_NewFromDescr.\n",
      "  hull, inside = ceclipse.graham_scan_inside_hull(front[sa], back)\n",
      "/home/kyle/.local/lib/python2.7/site-packages/phoebe/backend/eclipse.py:10: DeprecationWarning: PyArray_FromDims: use PyArray_SimpleNew.\n",
      "  hull, inside = ceclipse.graham_scan_inside_hull(front[sa], back)\n",
      "/home/kyle/.local/lib/python2.7/site-packages/phoebe/backend/eclipse.py:10: DeprecationWarning: PyArray_FromDimsAndDataAndDescr: use PyArray_NewFromDescr.\n",
      "  hull, inside = ceclipse.graham_scan_inside_hull(front[sa], back)\n"
     ]
    },
    {
     "data": {
      "text/plain": [
       "<ParameterSet: 508 parameters | components: primary, secondary>"
      ]
     },
     "execution_count": 19,
     "metadata": {},
     "output_type": "execute_result"
    }
   ],
   "source": [
    "b.run_compute()"
   ]
  },
  {
   "cell_type": "code",
   "execution_count": 20,
   "metadata": {
    "collapsed": false
   },
   "outputs": [
    {
     "name": "stdout",
     "output_type": "stream",
     "text": [
      "0.0@rpole@primary@tmpmodel@model: 3.0 solRad\n",
      "0.3@rpole@primary@tmpmodel@model: 3.0 solRad\n",
      "0.6@rpole@primary@tmpmodel@model: 3.0 solRad\n",
      "0.9@rpole@primary@tmpmodel@model: 3.0 solRad\n",
      "1.2@rpole@primary@tmpmodel@model: 3.0 solRad\n",
      "1.5@rpole@primary@tmpmodel@model: 3.0 solRad\n",
      "1.8@rpole@primary@tmpmodel@model: 3.0 solRad\n",
      "2.1@rpole@primary@tmpmodel@model: 3.0 solRad\n",
      "2.4@rpole@primary@tmpmodel@model: 3.0 solRad\n",
      "2.7@rpole@primary@tmpmodel@model: 3.0 solRad\n",
      "3.0@rpole@primary@tmpmodel@model: 3.0 solRad\n"
     ]
    }
   ],
   "source": [
    "print b['rpole@primary@model']"
   ]
  },
  {
   "cell_type": "code",
   "execution_count": 21,
   "metadata": {
    "collapsed": false
   },
   "outputs": [
    {
     "name": "stdout",
     "output_type": "stream",
     "text": [
      "0.0@rpole@secondary@tmpmodel@model: 1.0 solRad\n",
      "0.3@rpole@secondary@tmpmodel@model: 1.0 solRad\n",
      "0.6@rpole@secondary@tmpmodel@model: 1.0 solRad\n",
      "0.9@rpole@secondary@tmpmodel@model: 1.0 solRad\n",
      "1.2@rpole@secondary@tmpmodel@model: 1.0 solRad\n",
      "1.5@rpole@secondary@tmpmodel@model: 1.0 solRad\n",
      "1.8@rpole@secondary@tmpmodel@model: 1.0 solRad\n",
      "2.1@rpole@secondary@tmpmodel@model: 1.0 solRad\n",
      "2.4@rpole@secondary@tmpmodel@model: 1.0 solRad\n",
      "2.7@rpole@secondary@tmpmodel@model: 1.0 solRad\n",
      "3.0@rpole@secondary@tmpmodel@model: 1.0 solRad\n"
     ]
    }
   ],
   "source": [
    "print b['rpole@secondary@model']"
   ]
  },
  {
   "cell_type": "code",
   "execution_count": 22,
   "metadata": {
    "collapsed": false
   },
   "outputs": [
    {
     "name": "stdout",
     "output_type": "stream",
     "text": [
      "0.0@pot@primary@tmpmodel@model: 7.65560301953\n",
      "0.3@pot@primary@tmpmodel@model: 7.65560301953\n",
      "0.6@pot@primary@tmpmodel@model: 7.65560301953\n",
      "0.9@pot@primary@tmpmodel@model: 7.65560301953\n",
      "1.2@pot@primary@tmpmodel@model: 7.65560301953\n",
      "1.5@pot@primary@tmpmodel@model: 7.65560301953\n",
      "1.8@pot@primary@tmpmodel@model: 7.65560301953\n",
      "2.1@pot@primary@tmpmodel@model: 7.65560301953\n",
      "2.4@pot@primary@tmpmodel@model: 7.65560301953\n",
      "2.7@pot@primary@tmpmodel@model: 7.65560301953\n",
      "3.0@pot@primary@tmpmodel@model: 7.65560301953\n"
     ]
    }
   ],
   "source": [
    "print b['pot@primary@model']"
   ]
  },
  {
   "cell_type": "code",
   "execution_count": 23,
   "metadata": {
    "collapsed": false
   },
   "outputs": [
    {
     "name": "stdout",
     "output_type": "stream",
     "text": [
      "0.0@pot@secondary@tmpmodel@model: 20.9987523389\n",
      "0.3@pot@secondary@tmpmodel@model: 20.9987523389\n",
      "0.6@pot@secondary@tmpmodel@model: 20.9987523389\n",
      "0.9@pot@secondary@tmpmodel@model: 20.9987523389\n",
      "1.2@pot@secondary@tmpmodel@model: 20.9987523389\n",
      "1.5@pot@secondary@tmpmodel@model: 20.9987523389\n",
      "1.8@pot@secondary@tmpmodel@model: 20.9987523389\n",
      "2.1@pot@secondary@tmpmodel@model: 20.9987523389\n",
      "2.4@pot@secondary@tmpmodel@model: 20.9987523389\n",
      "2.7@pot@secondary@tmpmodel@model: 20.9987523389\n",
      "3.0@pot@secondary@tmpmodel@model: 20.9987523389\n"
     ]
    }
   ],
   "source": [
    "print b['pot@secondary@model']"
   ]
  },
  {
   "cell_type": "markdown",
   "metadata": {},
   "source": [
    "Eccentricity and Potentials\n",
    "---------------------------------\n",
    "\n",
    "The parameters for 'pot' and 'rpole' are defined to be at periastron, but because of volume conservation, the actual polar radius (and potential) of a star in an eccentric orbit will change as a function of phase.\n",
    "\n",
    "Having access to the instantaneous *synthetic* values of both of the parameters as a function of time in the mesh allows us to see how the radii and potentials are changing."
   ]
  },
  {
   "cell_type": "code",
   "execution_count": 24,
   "metadata": {
    "collapsed": true
   },
   "outputs": [],
   "source": [
    "b['ecc@binary'] = 0.1"
   ]
  },
  {
   "cell_type": "code",
   "execution_count": 25,
   "metadata": {
    "collapsed": false
   },
   "outputs": [
    {
     "name": "stderr",
     "output_type": "stream",
     "text": [
      "WARNING:BUNDLE:overwriting model: tmpmodel\n",
      "/home/kyle/.local/lib/python2.7/site-packages/phoebe/backend/mesh.py:1885: DeprecationWarning: PyArray_FromDims: use PyArray_SimpleNew.\n",
      "  the_grid = cmarching.discretize(delta, maxpoints, *mesh_args)[:-2]\n",
      "/home/kyle/.local/lib/python2.7/site-packages/phoebe/backend/mesh.py:1885: DeprecationWarning: PyArray_FromDimsAndDataAndDescr: use PyArray_NewFromDescr.\n",
      "  the_grid = cmarching.discretize(delta, maxpoints, *mesh_args)[:-2]\n",
      "/home/kyle/.local/lib/python2.7/site-packages/phoebe/backend/mesh.py:1885: DeprecationWarning: PyArray_FromDims: use PyArray_SimpleNew.\n",
      "  the_grid = cmarching.discretize(delta, maxpoints, *mesh_args)[:-2]\n",
      "/home/kyle/.local/lib/python2.7/site-packages/phoebe/backend/mesh.py:1885: DeprecationWarning: PyArray_FromDimsAndDataAndDescr: use PyArray_NewFromDescr.\n",
      "  the_grid = cmarching.discretize(delta, maxpoints, *mesh_args)[:-2]\n",
      "/home/kyle/.local/lib/python2.7/site-packages/phoebe/backend/mesh.py:1168: DeprecationWarning: PyArray_FromDims: use PyArray_SimpleNew.\n",
      "  new_table = cmarching.reproject(mesh_table, *mesh_args)\n",
      "/home/kyle/.local/lib/python2.7/site-packages/phoebe/backend/mesh.py:1168: DeprecationWarning: PyArray_FromDimsAndDataAndDescr: use PyArray_NewFromDescr.\n",
      "  new_table = cmarching.reproject(mesh_table, *mesh_args)\n",
      "/home/kyle/.local/lib/python2.7/site-packages/phoebe/backend/mesh.py:1168: DeprecationWarning: PyArray_FromDims: use PyArray_SimpleNew.\n",
      "  new_table = cmarching.reproject(mesh_table, *mesh_args)\n",
      "/home/kyle/.local/lib/python2.7/site-packages/phoebe/backend/mesh.py:1168: DeprecationWarning: PyArray_FromDimsAndDataAndDescr: use PyArray_NewFromDescr.\n",
      "  new_table = cmarching.reproject(mesh_table, *mesh_args)\n",
      "/home/kyle/.local/lib/python2.7/site-packages/phoebe/backend/mesh.py:1168: DeprecationWarning: PyArray_FromDims: use PyArray_SimpleNew.\n",
      "  new_table = cmarching.reproject(mesh_table, *mesh_args)\n",
      "/home/kyle/.local/lib/python2.7/site-packages/phoebe/backend/mesh.py:1168: DeprecationWarning: PyArray_FromDimsAndDataAndDescr: use PyArray_NewFromDescr.\n",
      "  new_table = cmarching.reproject(mesh_table, *mesh_args)\n",
      "/home/kyle/.local/lib/python2.7/site-packages/phoebe/backend/mesh.py:1168: DeprecationWarning: PyArray_FromDims: use PyArray_SimpleNew.\n",
      "  new_table = cmarching.reproject(mesh_table, *mesh_args)\n",
      "/home/kyle/.local/lib/python2.7/site-packages/phoebe/backend/mesh.py:1168: DeprecationWarning: PyArray_FromDimsAndDataAndDescr: use PyArray_NewFromDescr.\n",
      "  new_table = cmarching.reproject(mesh_table, *mesh_args)\n",
      "/home/kyle/.local/lib/python2.7/site-packages/phoebe/backend/mesh.py:1168: DeprecationWarning: PyArray_FromDims: use PyArray_SimpleNew.\n",
      "  new_table = cmarching.reproject(mesh_table, *mesh_args)\n",
      "/home/kyle/.local/lib/python2.7/site-packages/phoebe/backend/mesh.py:1168: DeprecationWarning: PyArray_FromDimsAndDataAndDescr: use PyArray_NewFromDescr.\n",
      "  new_table = cmarching.reproject(mesh_table, *mesh_args)\n",
      "/home/kyle/.local/lib/python2.7/site-packages/phoebe/backend/mesh.py:1206: DeprecationWarning: PyArray_FromDims: use PyArray_SimpleNew.\n",
      "  mesh_table = cmarching.reproject(mesh_table, *mesh_args) #*self._scale\n",
      "/home/kyle/.local/lib/python2.7/site-packages/phoebe/backend/mesh.py:1206: DeprecationWarning: PyArray_FromDimsAndDataAndDescr: use PyArray_NewFromDescr.\n",
      "  mesh_table = cmarching.reproject(mesh_table, *mesh_args) #*self._scale\n",
      "/home/kyle/.local/lib/python2.7/site-packages/phoebe/backend/mesh.py:1168: DeprecationWarning: PyArray_FromDims: use PyArray_SimpleNew.\n",
      "  new_table = cmarching.reproject(mesh_table, *mesh_args)\n",
      "/home/kyle/.local/lib/python2.7/site-packages/phoebe/backend/mesh.py:1168: DeprecationWarning: PyArray_FromDimsAndDataAndDescr: use PyArray_NewFromDescr.\n",
      "  new_table = cmarching.reproject(mesh_table, *mesh_args)\n",
      "/home/kyle/.local/lib/python2.7/site-packages/phoebe/backend/mesh.py:1168: DeprecationWarning: PyArray_FromDims: use PyArray_SimpleNew.\n",
      "  new_table = cmarching.reproject(mesh_table, *mesh_args)\n",
      "/home/kyle/.local/lib/python2.7/site-packages/phoebe/backend/mesh.py:1168: DeprecationWarning: PyArray_FromDimsAndDataAndDescr: use PyArray_NewFromDescr.\n",
      "  new_table = cmarching.reproject(mesh_table, *mesh_args)\n",
      "/home/kyle/.local/lib/python2.7/site-packages/phoebe/backend/mesh.py:1168: DeprecationWarning: PyArray_FromDims: use PyArray_SimpleNew.\n",
      "  new_table = cmarching.reproject(mesh_table, *mesh_args)\n",
      "/home/kyle/.local/lib/python2.7/site-packages/phoebe/backend/mesh.py:1168: DeprecationWarning: PyArray_FromDimsAndDataAndDescr: use PyArray_NewFromDescr.\n",
      "  new_table = cmarching.reproject(mesh_table, *mesh_args)\n",
      "/home/kyle/.local/lib/python2.7/site-packages/phoebe/backend/mesh.py:1168: DeprecationWarning: PyArray_FromDims: use PyArray_SimpleNew.\n",
      "  new_table = cmarching.reproject(mesh_table, *mesh_args)\n",
      "/home/kyle/.local/lib/python2.7/site-packages/phoebe/backend/mesh.py:1168: DeprecationWarning: PyArray_FromDimsAndDataAndDescr: use PyArray_NewFromDescr.\n",
      "  new_table = cmarching.reproject(mesh_table, *mesh_args)\n",
      "/home/kyle/.local/lib/python2.7/site-packages/phoebe/backend/mesh.py:1206: DeprecationWarning: PyArray_FromDims: use PyArray_SimpleNew.\n",
      "  mesh_table = cmarching.reproject(mesh_table, *mesh_args) #*self._scale\n",
      "/home/kyle/.local/lib/python2.7/site-packages/phoebe/backend/mesh.py:1206: DeprecationWarning: PyArray_FromDimsAndDataAndDescr: use PyArray_NewFromDescr.\n",
      "  mesh_table = cmarching.reproject(mesh_table, *mesh_args) #*self._scale\n",
      "/home/kyle/.local/lib/python2.7/site-packages/phoebe/backend/eclipse.py:10: DeprecationWarning: PyArray_FromDims: use PyArray_SimpleNew.\n",
      "  hull, inside = ceclipse.graham_scan_inside_hull(front[sa], back)\n",
      "/home/kyle/.local/lib/python2.7/site-packages/phoebe/backend/eclipse.py:10: DeprecationWarning: PyArray_FromDimsAndDataAndDescr: use PyArray_NewFromDescr.\n",
      "  hull, inside = ceclipse.graham_scan_inside_hull(front[sa], back)\n",
      "/home/kyle/.local/lib/python2.7/site-packages/phoebe/backend/eclipse.py:10: DeprecationWarning: PyArray_FromDims: use PyArray_SimpleNew.\n",
      "  hull, inside = ceclipse.graham_scan_inside_hull(front[sa], back)\n",
      "/home/kyle/.local/lib/python2.7/site-packages/phoebe/backend/eclipse.py:10: DeprecationWarning: PyArray_FromDimsAndDataAndDescr: use PyArray_NewFromDescr.\n",
      "  hull, inside = ceclipse.graham_scan_inside_hull(front[sa], back)\n",
      "/home/kyle/.local/lib/python2.7/site-packages/phoebe/backend/eclipse.py:10: DeprecationWarning: PyArray_FromDims: use PyArray_SimpleNew.\n",
      "  hull, inside = ceclipse.graham_scan_inside_hull(front[sa], back)\n",
      "/home/kyle/.local/lib/python2.7/site-packages/phoebe/backend/eclipse.py:10: DeprecationWarning: PyArray_FromDimsAndDataAndDescr: use PyArray_NewFromDescr.\n",
      "  hull, inside = ceclipse.graham_scan_inside_hull(front[sa], back)\n",
      "/home/kyle/.local/lib/python2.7/site-packages/phoebe/backend/eclipse.py:10: DeprecationWarning: PyArray_FromDims: use PyArray_SimpleNew.\n",
      "  hull, inside = ceclipse.graham_scan_inside_hull(front[sa], back)\n",
      "/home/kyle/.local/lib/python2.7/site-packages/phoebe/backend/eclipse.py:10: DeprecationWarning: PyArray_FromDimsAndDataAndDescr: use PyArray_NewFromDescr.\n",
      "  hull, inside = ceclipse.graham_scan_inside_hull(front[sa], back)\n",
      "/home/kyle/.local/lib/python2.7/site-packages/phoebe/backend/eclipse.py:10: DeprecationWarning: PyArray_FromDims: use PyArray_SimpleNew.\n",
      "  hull, inside = ceclipse.graham_scan_inside_hull(front[sa], back)\n",
      "/home/kyle/.local/lib/python2.7/site-packages/phoebe/backend/eclipse.py:10: DeprecationWarning: PyArray_FromDimsAndDataAndDescr: use PyArray_NewFromDescr.\n",
      "  hull, inside = ceclipse.graham_scan_inside_hull(front[sa], back)\n",
      "/home/kyle/.local/lib/python2.7/site-packages/phoebe/backend/eclipse.py:10: DeprecationWarning: PyArray_FromDims: use PyArray_SimpleNew.\n",
      "  hull, inside = ceclipse.graham_scan_inside_hull(front[sa], back)\n",
      "/home/kyle/.local/lib/python2.7/site-packages/phoebe/backend/eclipse.py:10: DeprecationWarning: PyArray_FromDimsAndDataAndDescr: use PyArray_NewFromDescr.\n",
      "  hull, inside = ceclipse.graham_scan_inside_hull(front[sa], back)\n",
      "/home/kyle/.local/lib/python2.7/site-packages/phoebe/backend/eclipse.py:10: DeprecationWarning: PyArray_FromDims: use PyArray_SimpleNew.\n",
      "  hull, inside = ceclipse.graham_scan_inside_hull(front[sa], back)\n",
      "/home/kyle/.local/lib/python2.7/site-packages/phoebe/backend/eclipse.py:10: DeprecationWarning: PyArray_FromDimsAndDataAndDescr: use PyArray_NewFromDescr.\n",
      "  hull, inside = ceclipse.graham_scan_inside_hull(front[sa], back)\n",
      "/home/kyle/.local/lib/python2.7/site-packages/phoebe/backend/eclipse.py:10: DeprecationWarning: PyArray_FromDims: use PyArray_SimpleNew.\n",
      "  hull, inside = ceclipse.graham_scan_inside_hull(front[sa], back)\n",
      "/home/kyle/.local/lib/python2.7/site-packages/phoebe/backend/eclipse.py:10: DeprecationWarning: PyArray_FromDimsAndDataAndDescr: use PyArray_NewFromDescr.\n",
      "  hull, inside = ceclipse.graham_scan_inside_hull(front[sa], back)\n",
      "/home/kyle/.local/lib/python2.7/site-packages/phoebe/backend/mesh.py:1168: DeprecationWarning: PyArray_FromDims: use PyArray_SimpleNew.\n",
      "  new_table = cmarching.reproject(mesh_table, *mesh_args)\n",
      "/home/kyle/.local/lib/python2.7/site-packages/phoebe/backend/mesh.py:1168: DeprecationWarning: PyArray_FromDimsAndDataAndDescr: use PyArray_NewFromDescr.\n",
      "  new_table = cmarching.reproject(mesh_table, *mesh_args)\n",
      "/home/kyle/.local/lib/python2.7/site-packages/phoebe/backend/mesh.py:1168: DeprecationWarning: PyArray_FromDims: use PyArray_SimpleNew.\n",
      "  new_table = cmarching.reproject(mesh_table, *mesh_args)\n",
      "/home/kyle/.local/lib/python2.7/site-packages/phoebe/backend/mesh.py:1168: DeprecationWarning: PyArray_FromDimsAndDataAndDescr: use PyArray_NewFromDescr.\n",
      "  new_table = cmarching.reproject(mesh_table, *mesh_args)\n",
      "/home/kyle/.local/lib/python2.7/site-packages/phoebe/backend/mesh.py:1168: DeprecationWarning: PyArray_FromDims: use PyArray_SimpleNew.\n",
      "  new_table = cmarching.reproject(mesh_table, *mesh_args)\n",
      "/home/kyle/.local/lib/python2.7/site-packages/phoebe/backend/mesh.py:1168: DeprecationWarning: PyArray_FromDimsAndDataAndDescr: use PyArray_NewFromDescr.\n",
      "  new_table = cmarching.reproject(mesh_table, *mesh_args)\n",
      "/home/kyle/.local/lib/python2.7/site-packages/phoebe/backend/mesh.py:1168: DeprecationWarning: PyArray_FromDims: use PyArray_SimpleNew.\n",
      "  new_table = cmarching.reproject(mesh_table, *mesh_args)\n",
      "/home/kyle/.local/lib/python2.7/site-packages/phoebe/backend/mesh.py:1168: DeprecationWarning: PyArray_FromDimsAndDataAndDescr: use PyArray_NewFromDescr.\n",
      "  new_table = cmarching.reproject(mesh_table, *mesh_args)\n",
      "/home/kyle/.local/lib/python2.7/site-packages/phoebe/backend/mesh.py:1168: DeprecationWarning: PyArray_FromDims: use PyArray_SimpleNew.\n",
      "  new_table = cmarching.reproject(mesh_table, *mesh_args)\n",
      "/home/kyle/.local/lib/python2.7/site-packages/phoebe/backend/mesh.py:1168: DeprecationWarning: PyArray_FromDimsAndDataAndDescr: use PyArray_NewFromDescr.\n",
      "  new_table = cmarching.reproject(mesh_table, *mesh_args)\n",
      "/home/kyle/.local/lib/python2.7/site-packages/phoebe/backend/mesh.py:1206: DeprecationWarning: PyArray_FromDims: use PyArray_SimpleNew.\n",
      "  mesh_table = cmarching.reproject(mesh_table, *mesh_args) #*self._scale\n",
      "/home/kyle/.local/lib/python2.7/site-packages/phoebe/backend/mesh.py:1206: DeprecationWarning: PyArray_FromDimsAndDataAndDescr: use PyArray_NewFromDescr.\n",
      "  mesh_table = cmarching.reproject(mesh_table, *mesh_args) #*self._scale\n",
      "/home/kyle/.local/lib/python2.7/site-packages/phoebe/backend/mesh.py:1168: DeprecationWarning: PyArray_FromDims: use PyArray_SimpleNew.\n",
      "  new_table = cmarching.reproject(mesh_table, *mesh_args)\n",
      "/home/kyle/.local/lib/python2.7/site-packages/phoebe/backend/mesh.py:1168: DeprecationWarning: PyArray_FromDimsAndDataAndDescr: use PyArray_NewFromDescr.\n",
      "  new_table = cmarching.reproject(mesh_table, *mesh_args)\n",
      "/home/kyle/.local/lib/python2.7/site-packages/phoebe/backend/mesh.py:1168: DeprecationWarning: PyArray_FromDims: use PyArray_SimpleNew.\n",
      "  new_table = cmarching.reproject(mesh_table, *mesh_args)\n",
      "/home/kyle/.local/lib/python2.7/site-packages/phoebe/backend/mesh.py:1168: DeprecationWarning: PyArray_FromDimsAndDataAndDescr: use PyArray_NewFromDescr.\n",
      "  new_table = cmarching.reproject(mesh_table, *mesh_args)\n",
      "/home/kyle/.local/lib/python2.7/site-packages/phoebe/backend/mesh.py:1168: DeprecationWarning: PyArray_FromDims: use PyArray_SimpleNew.\n",
      "  new_table = cmarching.reproject(mesh_table, *mesh_args)\n",
      "/home/kyle/.local/lib/python2.7/site-packages/phoebe/backend/mesh.py:1168: DeprecationWarning: PyArray_FromDimsAndDataAndDescr: use PyArray_NewFromDescr.\n",
      "  new_table = cmarching.reproject(mesh_table, *mesh_args)\n",
      "/home/kyle/.local/lib/python2.7/site-packages/phoebe/backend/mesh.py:1168: DeprecationWarning: PyArray_FromDims: use PyArray_SimpleNew.\n",
      "  new_table = cmarching.reproject(mesh_table, *mesh_args)\n",
      "/home/kyle/.local/lib/python2.7/site-packages/phoebe/backend/mesh.py:1168: DeprecationWarning: PyArray_FromDimsAndDataAndDescr: use PyArray_NewFromDescr.\n",
      "  new_table = cmarching.reproject(mesh_table, *mesh_args)\n",
      "/home/kyle/.local/lib/python2.7/site-packages/phoebe/backend/mesh.py:1206: DeprecationWarning: PyArray_FromDims: use PyArray_SimpleNew.\n",
      "  mesh_table = cmarching.reproject(mesh_table, *mesh_args) #*self._scale\n",
      "/home/kyle/.local/lib/python2.7/site-packages/phoebe/backend/mesh.py:1206: DeprecationWarning: PyArray_FromDimsAndDataAndDescr: use PyArray_NewFromDescr.\n",
      "  mesh_table = cmarching.reproject(mesh_table, *mesh_args) #*self._scale\n",
      "/home/kyle/.local/lib/python2.7/site-packages/phoebe/backend/mesh.py:1168: DeprecationWarning: PyArray_FromDims: use PyArray_SimpleNew.\n",
      "  new_table = cmarching.reproject(mesh_table, *mesh_args)\n",
      "/home/kyle/.local/lib/python2.7/site-packages/phoebe/backend/mesh.py:1168: DeprecationWarning: PyArray_FromDimsAndDataAndDescr: use PyArray_NewFromDescr.\n",
      "  new_table = cmarching.reproject(mesh_table, *mesh_args)\n",
      "/home/kyle/.local/lib/python2.7/site-packages/phoebe/backend/mesh.py:1168: DeprecationWarning: PyArray_FromDims: use PyArray_SimpleNew.\n",
      "  new_table = cmarching.reproject(mesh_table, *mesh_args)\n",
      "/home/kyle/.local/lib/python2.7/site-packages/phoebe/backend/mesh.py:1168: DeprecationWarning: PyArray_FromDimsAndDataAndDescr: use PyArray_NewFromDescr.\n",
      "  new_table = cmarching.reproject(mesh_table, *mesh_args)\n",
      "/home/kyle/.local/lib/python2.7/site-packages/phoebe/backend/mesh.py:1168: DeprecationWarning: PyArray_FromDims: use PyArray_SimpleNew.\n",
      "  new_table = cmarching.reproject(mesh_table, *mesh_args)\n",
      "/home/kyle/.local/lib/python2.7/site-packages/phoebe/backend/mesh.py:1168: DeprecationWarning: PyArray_FromDimsAndDataAndDescr: use PyArray_NewFromDescr.\n",
      "  new_table = cmarching.reproject(mesh_table, *mesh_args)\n",
      "/home/kyle/.local/lib/python2.7/site-packages/phoebe/backend/mesh.py:1168: DeprecationWarning: PyArray_FromDims: use PyArray_SimpleNew.\n",
      "  new_table = cmarching.reproject(mesh_table, *mesh_args)\n",
      "/home/kyle/.local/lib/python2.7/site-packages/phoebe/backend/mesh.py:1168: DeprecationWarning: PyArray_FromDimsAndDataAndDescr: use PyArray_NewFromDescr.\n",
      "  new_table = cmarching.reproject(mesh_table, *mesh_args)\n",
      "/home/kyle/.local/lib/python2.7/site-packages/phoebe/backend/mesh.py:1168: DeprecationWarning: PyArray_FromDims: use PyArray_SimpleNew.\n",
      "  new_table = cmarching.reproject(mesh_table, *mesh_args)\n",
      "/home/kyle/.local/lib/python2.7/site-packages/phoebe/backend/mesh.py:1168: DeprecationWarning: PyArray_FromDimsAndDataAndDescr: use PyArray_NewFromDescr.\n",
      "  new_table = cmarching.reproject(mesh_table, *mesh_args)\n",
      "/home/kyle/.local/lib/python2.7/site-packages/phoebe/backend/mesh.py:1206: DeprecationWarning: PyArray_FromDims: use PyArray_SimpleNew.\n",
      "  mesh_table = cmarching.reproject(mesh_table, *mesh_args) #*self._scale\n",
      "/home/kyle/.local/lib/python2.7/site-packages/phoebe/backend/mesh.py:1206: DeprecationWarning: PyArray_FromDimsAndDataAndDescr: use PyArray_NewFromDescr.\n",
      "  mesh_table = cmarching.reproject(mesh_table, *mesh_args) #*self._scale\n",
      "/home/kyle/.local/lib/python2.7/site-packages/phoebe/backend/mesh.py:1168: DeprecationWarning: PyArray_FromDims: use PyArray_SimpleNew.\n",
      "  new_table = cmarching.reproject(mesh_table, *mesh_args)\n",
      "/home/kyle/.local/lib/python2.7/site-packages/phoebe/backend/mesh.py:1168: DeprecationWarning: PyArray_FromDimsAndDataAndDescr: use PyArray_NewFromDescr.\n",
      "  new_table = cmarching.reproject(mesh_table, *mesh_args)\n",
      "/home/kyle/.local/lib/python2.7/site-packages/phoebe/backend/mesh.py:1168: DeprecationWarning: PyArray_FromDims: use PyArray_SimpleNew.\n",
      "  new_table = cmarching.reproject(mesh_table, *mesh_args)\n",
      "/home/kyle/.local/lib/python2.7/site-packages/phoebe/backend/mesh.py:1168: DeprecationWarning: PyArray_FromDimsAndDataAndDescr: use PyArray_NewFromDescr.\n",
      "  new_table = cmarching.reproject(mesh_table, *mesh_args)\n",
      "/home/kyle/.local/lib/python2.7/site-packages/phoebe/backend/mesh.py:1168: DeprecationWarning: PyArray_FromDims: use PyArray_SimpleNew.\n",
      "  new_table = cmarching.reproject(mesh_table, *mesh_args)\n",
      "/home/kyle/.local/lib/python2.7/site-packages/phoebe/backend/mesh.py:1168: DeprecationWarning: PyArray_FromDimsAndDataAndDescr: use PyArray_NewFromDescr.\n",
      "  new_table = cmarching.reproject(mesh_table, *mesh_args)\n",
      "/home/kyle/.local/lib/python2.7/site-packages/phoebe/backend/mesh.py:1168: DeprecationWarning: PyArray_FromDims: use PyArray_SimpleNew.\n",
      "  new_table = cmarching.reproject(mesh_table, *mesh_args)\n",
      "/home/kyle/.local/lib/python2.7/site-packages/phoebe/backend/mesh.py:1168: DeprecationWarning: PyArray_FromDimsAndDataAndDescr: use PyArray_NewFromDescr.\n",
      "  new_table = cmarching.reproject(mesh_table, *mesh_args)\n",
      "/home/kyle/.local/lib/python2.7/site-packages/phoebe/backend/mesh.py:1206: DeprecationWarning: PyArray_FromDims: use PyArray_SimpleNew.\n",
      "  mesh_table = cmarching.reproject(mesh_table, *mesh_args) #*self._scale\n",
      "/home/kyle/.local/lib/python2.7/site-packages/phoebe/backend/mesh.py:1206: DeprecationWarning: PyArray_FromDimsAndDataAndDescr: use PyArray_NewFromDescr.\n",
      "  mesh_table = cmarching.reproject(mesh_table, *mesh_args) #*self._scale\n",
      "/home/kyle/.local/lib/python2.7/site-packages/phoebe/backend/mesh.py:1168: DeprecationWarning: PyArray_FromDims: use PyArray_SimpleNew.\n",
      "  new_table = cmarching.reproject(mesh_table, *mesh_args)\n",
      "/home/kyle/.local/lib/python2.7/site-packages/phoebe/backend/mesh.py:1168: DeprecationWarning: PyArray_FromDimsAndDataAndDescr: use PyArray_NewFromDescr.\n",
      "  new_table = cmarching.reproject(mesh_table, *mesh_args)\n",
      "/home/kyle/.local/lib/python2.7/site-packages/phoebe/backend/mesh.py:1168: DeprecationWarning: PyArray_FromDims: use PyArray_SimpleNew.\n",
      "  new_table = cmarching.reproject(mesh_table, *mesh_args)\n",
      "/home/kyle/.local/lib/python2.7/site-packages/phoebe/backend/mesh.py:1168: DeprecationWarning: PyArray_FromDimsAndDataAndDescr: use PyArray_NewFromDescr.\n",
      "  new_table = cmarching.reproject(mesh_table, *mesh_args)\n",
      "/home/kyle/.local/lib/python2.7/site-packages/phoebe/backend/mesh.py:1168: DeprecationWarning: PyArray_FromDims: use PyArray_SimpleNew.\n",
      "  new_table = cmarching.reproject(mesh_table, *mesh_args)\n",
      "/home/kyle/.local/lib/python2.7/site-packages/phoebe/backend/mesh.py:1168: DeprecationWarning: PyArray_FromDimsAndDataAndDescr: use PyArray_NewFromDescr.\n",
      "  new_table = cmarching.reproject(mesh_table, *mesh_args)\n",
      "/home/kyle/.local/lib/python2.7/site-packages/phoebe/backend/mesh.py:1168: DeprecationWarning: PyArray_FromDims: use PyArray_SimpleNew.\n",
      "  new_table = cmarching.reproject(mesh_table, *mesh_args)\n",
      "/home/kyle/.local/lib/python2.7/site-packages/phoebe/backend/mesh.py:1168: DeprecationWarning: PyArray_FromDimsAndDataAndDescr: use PyArray_NewFromDescr.\n",
      "  new_table = cmarching.reproject(mesh_table, *mesh_args)\n",
      "/home/kyle/.local/lib/python2.7/site-packages/phoebe/backend/mesh.py:1168: DeprecationWarning: PyArray_FromDims: use PyArray_SimpleNew.\n",
      "  new_table = cmarching.reproject(mesh_table, *mesh_args)\n",
      "/home/kyle/.local/lib/python2.7/site-packages/phoebe/backend/mesh.py:1168: DeprecationWarning: PyArray_FromDimsAndDataAndDescr: use PyArray_NewFromDescr.\n",
      "  new_table = cmarching.reproject(mesh_table, *mesh_args)\n",
      "/home/kyle/.local/lib/python2.7/site-packages/phoebe/backend/mesh.py:1206: DeprecationWarning: PyArray_FromDims: use PyArray_SimpleNew.\n",
      "  mesh_table = cmarching.reproject(mesh_table, *mesh_args) #*self._scale\n",
      "/home/kyle/.local/lib/python2.7/site-packages/phoebe/backend/mesh.py:1206: DeprecationWarning: PyArray_FromDimsAndDataAndDescr: use PyArray_NewFromDescr.\n",
      "  mesh_table = cmarching.reproject(mesh_table, *mesh_args) #*self._scale\n",
      "/home/kyle/.local/lib/python2.7/site-packages/phoebe/backend/mesh.py:1168: DeprecationWarning: PyArray_FromDims: use PyArray_SimpleNew.\n",
      "  new_table = cmarching.reproject(mesh_table, *mesh_args)\n",
      "/home/kyle/.local/lib/python2.7/site-packages/phoebe/backend/mesh.py:1168: DeprecationWarning: PyArray_FromDimsAndDataAndDescr: use PyArray_NewFromDescr.\n",
      "  new_table = cmarching.reproject(mesh_table, *mesh_args)\n",
      "/home/kyle/.local/lib/python2.7/site-packages/phoebe/backend/mesh.py:1168: DeprecationWarning: PyArray_FromDims: use PyArray_SimpleNew.\n",
      "  new_table = cmarching.reproject(mesh_table, *mesh_args)\n",
      "/home/kyle/.local/lib/python2.7/site-packages/phoebe/backend/mesh.py:1168: DeprecationWarning: PyArray_FromDimsAndDataAndDescr: use PyArray_NewFromDescr.\n",
      "  new_table = cmarching.reproject(mesh_table, *mesh_args)\n",
      "/home/kyle/.local/lib/python2.7/site-packages/phoebe/backend/mesh.py:1168: DeprecationWarning: PyArray_FromDims: use PyArray_SimpleNew.\n",
      "  new_table = cmarching.reproject(mesh_table, *mesh_args)\n",
      "/home/kyle/.local/lib/python2.7/site-packages/phoebe/backend/mesh.py:1168: DeprecationWarning: PyArray_FromDimsAndDataAndDescr: use PyArray_NewFromDescr.\n",
      "  new_table = cmarching.reproject(mesh_table, *mesh_args)\n",
      "/home/kyle/.local/lib/python2.7/site-packages/phoebe/backend/mesh.py:1168: DeprecationWarning: PyArray_FromDims: use PyArray_SimpleNew.\n",
      "  new_table = cmarching.reproject(mesh_table, *mesh_args)\n",
      "/home/kyle/.local/lib/python2.7/site-packages/phoebe/backend/mesh.py:1168: DeprecationWarning: PyArray_FromDimsAndDataAndDescr: use PyArray_NewFromDescr.\n",
      "  new_table = cmarching.reproject(mesh_table, *mesh_args)\n",
      "/home/kyle/.local/lib/python2.7/site-packages/phoebe/backend/mesh.py:1206: DeprecationWarning: PyArray_FromDims: use PyArray_SimpleNew.\n",
      "  mesh_table = cmarching.reproject(mesh_table, *mesh_args) #*self._scale\n",
      "/home/kyle/.local/lib/python2.7/site-packages/phoebe/backend/mesh.py:1206: DeprecationWarning: PyArray_FromDimsAndDataAndDescr: use PyArray_NewFromDescr.\n",
      "  mesh_table = cmarching.reproject(mesh_table, *mesh_args) #*self._scale\n",
      "/home/kyle/.local/lib/python2.7/site-packages/phoebe/backend/mesh.py:1168: DeprecationWarning: PyArray_FromDims: use PyArray_SimpleNew.\n",
      "  new_table = cmarching.reproject(mesh_table, *mesh_args)\n",
      "/home/kyle/.local/lib/python2.7/site-packages/phoebe/backend/mesh.py:1168: DeprecationWarning: PyArray_FromDimsAndDataAndDescr: use PyArray_NewFromDescr.\n",
      "  new_table = cmarching.reproject(mesh_table, *mesh_args)\n",
      "/home/kyle/.local/lib/python2.7/site-packages/phoebe/backend/mesh.py:1168: DeprecationWarning: PyArray_FromDims: use PyArray_SimpleNew.\n",
      "  new_table = cmarching.reproject(mesh_table, *mesh_args)\n",
      "/home/kyle/.local/lib/python2.7/site-packages/phoebe/backend/mesh.py:1168: DeprecationWarning: PyArray_FromDimsAndDataAndDescr: use PyArray_NewFromDescr.\n",
      "  new_table = cmarching.reproject(mesh_table, *mesh_args)\n",
      "/home/kyle/.local/lib/python2.7/site-packages/phoebe/backend/mesh.py:1168: DeprecationWarning: PyArray_FromDims: use PyArray_SimpleNew.\n",
      "  new_table = cmarching.reproject(mesh_table, *mesh_args)\n",
      "/home/kyle/.local/lib/python2.7/site-packages/phoebe/backend/mesh.py:1168: DeprecationWarning: PyArray_FromDimsAndDataAndDescr: use PyArray_NewFromDescr.\n",
      "  new_table = cmarching.reproject(mesh_table, *mesh_args)\n",
      "/home/kyle/.local/lib/python2.7/site-packages/phoebe/backend/mesh.py:1168: DeprecationWarning: PyArray_FromDims: use PyArray_SimpleNew.\n",
      "  new_table = cmarching.reproject(mesh_table, *mesh_args)\n",
      "/home/kyle/.local/lib/python2.7/site-packages/phoebe/backend/mesh.py:1168: DeprecationWarning: PyArray_FromDimsAndDataAndDescr: use PyArray_NewFromDescr.\n",
      "  new_table = cmarching.reproject(mesh_table, *mesh_args)\n",
      "/home/kyle/.local/lib/python2.7/site-packages/phoebe/backend/mesh.py:1168: DeprecationWarning: PyArray_FromDims: use PyArray_SimpleNew.\n",
      "  new_table = cmarching.reproject(mesh_table, *mesh_args)\n",
      "/home/kyle/.local/lib/python2.7/site-packages/phoebe/backend/mesh.py:1168: DeprecationWarning: PyArray_FromDimsAndDataAndDescr: use PyArray_NewFromDescr.\n",
      "  new_table = cmarching.reproject(mesh_table, *mesh_args)\n",
      "/home/kyle/.local/lib/python2.7/site-packages/phoebe/backend/mesh.py:1206: DeprecationWarning: PyArray_FromDims: use PyArray_SimpleNew.\n",
      "  mesh_table = cmarching.reproject(mesh_table, *mesh_args) #*self._scale\n",
      "/home/kyle/.local/lib/python2.7/site-packages/phoebe/backend/mesh.py:1206: DeprecationWarning: PyArray_FromDimsAndDataAndDescr: use PyArray_NewFromDescr.\n",
      "  mesh_table = cmarching.reproject(mesh_table, *mesh_args) #*self._scale\n",
      "/home/kyle/.local/lib/python2.7/site-packages/phoebe/backend/mesh.py:1168: DeprecationWarning: PyArray_FromDims: use PyArray_SimpleNew.\n",
      "  new_table = cmarching.reproject(mesh_table, *mesh_args)\n",
      "/home/kyle/.local/lib/python2.7/site-packages/phoebe/backend/mesh.py:1168: DeprecationWarning: PyArray_FromDimsAndDataAndDescr: use PyArray_NewFromDescr.\n",
      "  new_table = cmarching.reproject(mesh_table, *mesh_args)\n",
      "/home/kyle/.local/lib/python2.7/site-packages/phoebe/backend/mesh.py:1168: DeprecationWarning: PyArray_FromDims: use PyArray_SimpleNew.\n",
      "  new_table = cmarching.reproject(mesh_table, *mesh_args)\n",
      "/home/kyle/.local/lib/python2.7/site-packages/phoebe/backend/mesh.py:1168: DeprecationWarning: PyArray_FromDimsAndDataAndDescr: use PyArray_NewFromDescr.\n",
      "  new_table = cmarching.reproject(mesh_table, *mesh_args)\n",
      "/home/kyle/.local/lib/python2.7/site-packages/phoebe/backend/mesh.py:1168: DeprecationWarning: PyArray_FromDims: use PyArray_SimpleNew.\n",
      "  new_table = cmarching.reproject(mesh_table, *mesh_args)\n",
      "/home/kyle/.local/lib/python2.7/site-packages/phoebe/backend/mesh.py:1168: DeprecationWarning: PyArray_FromDimsAndDataAndDescr: use PyArray_NewFromDescr.\n",
      "  new_table = cmarching.reproject(mesh_table, *mesh_args)\n",
      "/home/kyle/.local/lib/python2.7/site-packages/phoebe/backend/mesh.py:1168: DeprecationWarning: PyArray_FromDims: use PyArray_SimpleNew.\n",
      "  new_table = cmarching.reproject(mesh_table, *mesh_args)\n",
      "/home/kyle/.local/lib/python2.7/site-packages/phoebe/backend/mesh.py:1168: DeprecationWarning: PyArray_FromDimsAndDataAndDescr: use PyArray_NewFromDescr.\n",
      "  new_table = cmarching.reproject(mesh_table, *mesh_args)\n",
      "/home/kyle/.local/lib/python2.7/site-packages/phoebe/backend/mesh.py:1206: DeprecationWarning: PyArray_FromDims: use PyArray_SimpleNew.\n",
      "  mesh_table = cmarching.reproject(mesh_table, *mesh_args) #*self._scale\n",
      "/home/kyle/.local/lib/python2.7/site-packages/phoebe/backend/mesh.py:1206: DeprecationWarning: PyArray_FromDimsAndDataAndDescr: use PyArray_NewFromDescr.\n",
      "  mesh_table = cmarching.reproject(mesh_table, *mesh_args) #*self._scale\n",
      "/home/kyle/.local/lib/python2.7/site-packages/phoebe/backend/mesh.py:1168: DeprecationWarning: PyArray_FromDims: use PyArray_SimpleNew.\n",
      "  new_table = cmarching.reproject(mesh_table, *mesh_args)\n",
      "/home/kyle/.local/lib/python2.7/site-packages/phoebe/backend/mesh.py:1168: DeprecationWarning: PyArray_FromDimsAndDataAndDescr: use PyArray_NewFromDescr.\n",
      "  new_table = cmarching.reproject(mesh_table, *mesh_args)\n",
      "/home/kyle/.local/lib/python2.7/site-packages/phoebe/backend/mesh.py:1168: DeprecationWarning: PyArray_FromDims: use PyArray_SimpleNew.\n",
      "  new_table = cmarching.reproject(mesh_table, *mesh_args)\n",
      "/home/kyle/.local/lib/python2.7/site-packages/phoebe/backend/mesh.py:1168: DeprecationWarning: PyArray_FromDimsAndDataAndDescr: use PyArray_NewFromDescr.\n",
      "  new_table = cmarching.reproject(mesh_table, *mesh_args)\n",
      "/home/kyle/.local/lib/python2.7/site-packages/phoebe/backend/mesh.py:1168: DeprecationWarning: PyArray_FromDims: use PyArray_SimpleNew.\n",
      "  new_table = cmarching.reproject(mesh_table, *mesh_args)\n",
      "/home/kyle/.local/lib/python2.7/site-packages/phoebe/backend/mesh.py:1168: DeprecationWarning: PyArray_FromDimsAndDataAndDescr: use PyArray_NewFromDescr.\n",
      "  new_table = cmarching.reproject(mesh_table, *mesh_args)\n",
      "/home/kyle/.local/lib/python2.7/site-packages/phoebe/backend/mesh.py:1168: DeprecationWarning: PyArray_FromDims: use PyArray_SimpleNew.\n",
      "  new_table = cmarching.reproject(mesh_table, *mesh_args)\n",
      "/home/kyle/.local/lib/python2.7/site-packages/phoebe/backend/mesh.py:1168: DeprecationWarning: PyArray_FromDimsAndDataAndDescr: use PyArray_NewFromDescr.\n",
      "  new_table = cmarching.reproject(mesh_table, *mesh_args)\n",
      "/home/kyle/.local/lib/python2.7/site-packages/phoebe/backend/mesh.py:1168: DeprecationWarning: PyArray_FromDims: use PyArray_SimpleNew.\n",
      "  new_table = cmarching.reproject(mesh_table, *mesh_args)\n",
      "/home/kyle/.local/lib/python2.7/site-packages/phoebe/backend/mesh.py:1168: DeprecationWarning: PyArray_FromDimsAndDataAndDescr: use PyArray_NewFromDescr.\n",
      "  new_table = cmarching.reproject(mesh_table, *mesh_args)\n",
      "/home/kyle/.local/lib/python2.7/site-packages/phoebe/backend/mesh.py:1206: DeprecationWarning: PyArray_FromDims: use PyArray_SimpleNew.\n",
      "  mesh_table = cmarching.reproject(mesh_table, *mesh_args) #*self._scale\n",
      "/home/kyle/.local/lib/python2.7/site-packages/phoebe/backend/mesh.py:1206: DeprecationWarning: PyArray_FromDimsAndDataAndDescr: use PyArray_NewFromDescr.\n",
      "  mesh_table = cmarching.reproject(mesh_table, *mesh_args) #*self._scale\n",
      "/home/kyle/.local/lib/python2.7/site-packages/phoebe/backend/mesh.py:1168: DeprecationWarning: PyArray_FromDims: use PyArray_SimpleNew.\n",
      "  new_table = cmarching.reproject(mesh_table, *mesh_args)\n",
      "/home/kyle/.local/lib/python2.7/site-packages/phoebe/backend/mesh.py:1168: DeprecationWarning: PyArray_FromDimsAndDataAndDescr: use PyArray_NewFromDescr.\n",
      "  new_table = cmarching.reproject(mesh_table, *mesh_args)\n",
      "/home/kyle/.local/lib/python2.7/site-packages/phoebe/backend/mesh.py:1168: DeprecationWarning: PyArray_FromDims: use PyArray_SimpleNew.\n",
      "  new_table = cmarching.reproject(mesh_table, *mesh_args)\n",
      "/home/kyle/.local/lib/python2.7/site-packages/phoebe/backend/mesh.py:1168: DeprecationWarning: PyArray_FromDimsAndDataAndDescr: use PyArray_NewFromDescr.\n",
      "  new_table = cmarching.reproject(mesh_table, *mesh_args)\n",
      "/home/kyle/.local/lib/python2.7/site-packages/phoebe/backend/mesh.py:1168: DeprecationWarning: PyArray_FromDims: use PyArray_SimpleNew.\n",
      "  new_table = cmarching.reproject(mesh_table, *mesh_args)\n",
      "/home/kyle/.local/lib/python2.7/site-packages/phoebe/backend/mesh.py:1168: DeprecationWarning: PyArray_FromDimsAndDataAndDescr: use PyArray_NewFromDescr.\n",
      "  new_table = cmarching.reproject(mesh_table, *mesh_args)\n",
      "/home/kyle/.local/lib/python2.7/site-packages/phoebe/backend/mesh.py:1168: DeprecationWarning: PyArray_FromDims: use PyArray_SimpleNew.\n",
      "  new_table = cmarching.reproject(mesh_table, *mesh_args)\n",
      "/home/kyle/.local/lib/python2.7/site-packages/phoebe/backend/mesh.py:1168: DeprecationWarning: PyArray_FromDimsAndDataAndDescr: use PyArray_NewFromDescr.\n",
      "  new_table = cmarching.reproject(mesh_table, *mesh_args)\n",
      "/home/kyle/.local/lib/python2.7/site-packages/phoebe/backend/mesh.py:1206: DeprecationWarning: PyArray_FromDims: use PyArray_SimpleNew.\n",
      "  mesh_table = cmarching.reproject(mesh_table, *mesh_args) #*self._scale\n",
      "/home/kyle/.local/lib/python2.7/site-packages/phoebe/backend/mesh.py:1206: DeprecationWarning: PyArray_FromDimsAndDataAndDescr: use PyArray_NewFromDescr.\n",
      "  mesh_table = cmarching.reproject(mesh_table, *mesh_args) #*self._scale\n",
      "/home/kyle/.local/lib/python2.7/site-packages/phoebe/backend/eclipse.py:10: DeprecationWarning: PyArray_FromDims: use PyArray_SimpleNew.\n",
      "  hull, inside = ceclipse.graham_scan_inside_hull(front[sa], back)\n",
      "/home/kyle/.local/lib/python2.7/site-packages/phoebe/backend/eclipse.py:10: DeprecationWarning: PyArray_FromDimsAndDataAndDescr: use PyArray_NewFromDescr.\n",
      "  hull, inside = ceclipse.graham_scan_inside_hull(front[sa], back)\n",
      "/home/kyle/.local/lib/python2.7/site-packages/phoebe/backend/eclipse.py:10: DeprecationWarning: PyArray_FromDims: use PyArray_SimpleNew.\n",
      "  hull, inside = ceclipse.graham_scan_inside_hull(front[sa], back)\n",
      "/home/kyle/.local/lib/python2.7/site-packages/phoebe/backend/eclipse.py:10: DeprecationWarning: PyArray_FromDimsAndDataAndDescr: use PyArray_NewFromDescr.\n",
      "  hull, inside = ceclipse.graham_scan_inside_hull(front[sa], back)\n",
      "/home/kyle/.local/lib/python2.7/site-packages/phoebe/backend/eclipse.py:10: DeprecationWarning: PyArray_FromDims: use PyArray_SimpleNew.\n",
      "  hull, inside = ceclipse.graham_scan_inside_hull(front[sa], back)\n",
      "/home/kyle/.local/lib/python2.7/site-packages/phoebe/backend/eclipse.py:10: DeprecationWarning: PyArray_FromDimsAndDataAndDescr: use PyArray_NewFromDescr.\n",
      "  hull, inside = ceclipse.graham_scan_inside_hull(front[sa], back)\n",
      "/home/kyle/.local/lib/python2.7/site-packages/phoebe/backend/eclipse.py:10: DeprecationWarning: PyArray_FromDims: use PyArray_SimpleNew.\n",
      "  hull, inside = ceclipse.graham_scan_inside_hull(front[sa], back)\n",
      "/home/kyle/.local/lib/python2.7/site-packages/phoebe/backend/eclipse.py:10: DeprecationWarning: PyArray_FromDimsAndDataAndDescr: use PyArray_NewFromDescr.\n",
      "  hull, inside = ceclipse.graham_scan_inside_hull(front[sa], back)\n",
      "/home/kyle/.local/lib/python2.7/site-packages/phoebe/backend/eclipse.py:10: DeprecationWarning: PyArray_FromDims: use PyArray_SimpleNew.\n",
      "  hull, inside = ceclipse.graham_scan_inside_hull(front[sa], back)\n",
      "/home/kyle/.local/lib/python2.7/site-packages/phoebe/backend/eclipse.py:10: DeprecationWarning: PyArray_FromDimsAndDataAndDescr: use PyArray_NewFromDescr.\n",
      "  hull, inside = ceclipse.graham_scan_inside_hull(front[sa], back)\n",
      "/home/kyle/.local/lib/python2.7/site-packages/phoebe/backend/eclipse.py:10: DeprecationWarning: PyArray_FromDims: use PyArray_SimpleNew.\n",
      "  hull, inside = ceclipse.graham_scan_inside_hull(front[sa], back)\n",
      "/home/kyle/.local/lib/python2.7/site-packages/phoebe/backend/eclipse.py:10: DeprecationWarning: PyArray_FromDimsAndDataAndDescr: use PyArray_NewFromDescr.\n",
      "  hull, inside = ceclipse.graham_scan_inside_hull(front[sa], back)\n",
      "/home/kyle/.local/lib/python2.7/site-packages/phoebe/backend/eclipse.py:10: DeprecationWarning: PyArray_FromDims: use PyArray_SimpleNew.\n",
      "  hull, inside = ceclipse.graham_scan_inside_hull(front[sa], back)\n",
      "/home/kyle/.local/lib/python2.7/site-packages/phoebe/backend/eclipse.py:10: DeprecationWarning: PyArray_FromDimsAndDataAndDescr: use PyArray_NewFromDescr.\n",
      "  hull, inside = ceclipse.graham_scan_inside_hull(front[sa], back)\n",
      "/home/kyle/.local/lib/python2.7/site-packages/phoebe/backend/eclipse.py:10: DeprecationWarning: PyArray_FromDims: use PyArray_SimpleNew.\n",
      "  hull, inside = ceclipse.graham_scan_inside_hull(front[sa], back)\n",
      "/home/kyle/.local/lib/python2.7/site-packages/phoebe/backend/eclipse.py:10: DeprecationWarning: PyArray_FromDimsAndDataAndDescr: use PyArray_NewFromDescr.\n",
      "  hull, inside = ceclipse.graham_scan_inside_hull(front[sa], back)\n",
      "/home/kyle/.local/lib/python2.7/site-packages/phoebe/backend/mesh.py:1168: DeprecationWarning: PyArray_FromDims: use PyArray_SimpleNew.\n",
      "  new_table = cmarching.reproject(mesh_table, *mesh_args)\n",
      "/home/kyle/.local/lib/python2.7/site-packages/phoebe/backend/mesh.py:1168: DeprecationWarning: PyArray_FromDimsAndDataAndDescr: use PyArray_NewFromDescr.\n",
      "  new_table = cmarching.reproject(mesh_table, *mesh_args)\n",
      "/home/kyle/.local/lib/python2.7/site-packages/phoebe/backend/mesh.py:1168: DeprecationWarning: PyArray_FromDims: use PyArray_SimpleNew.\n",
      "  new_table = cmarching.reproject(mesh_table, *mesh_args)\n",
      "/home/kyle/.local/lib/python2.7/site-packages/phoebe/backend/mesh.py:1168: DeprecationWarning: PyArray_FromDimsAndDataAndDescr: use PyArray_NewFromDescr.\n",
      "  new_table = cmarching.reproject(mesh_table, *mesh_args)\n",
      "/home/kyle/.local/lib/python2.7/site-packages/phoebe/backend/mesh.py:1168: DeprecationWarning: PyArray_FromDims: use PyArray_SimpleNew.\n",
      "  new_table = cmarching.reproject(mesh_table, *mesh_args)\n",
      "/home/kyle/.local/lib/python2.7/site-packages/phoebe/backend/mesh.py:1168: DeprecationWarning: PyArray_FromDimsAndDataAndDescr: use PyArray_NewFromDescr.\n",
      "  new_table = cmarching.reproject(mesh_table, *mesh_args)\n",
      "/home/kyle/.local/lib/python2.7/site-packages/phoebe/backend/mesh.py:1168: DeprecationWarning: PyArray_FromDims: use PyArray_SimpleNew.\n",
      "  new_table = cmarching.reproject(mesh_table, *mesh_args)\n",
      "/home/kyle/.local/lib/python2.7/site-packages/phoebe/backend/mesh.py:1168: DeprecationWarning: PyArray_FromDimsAndDataAndDescr: use PyArray_NewFromDescr.\n",
      "  new_table = cmarching.reproject(mesh_table, *mesh_args)\n",
      "/home/kyle/.local/lib/python2.7/site-packages/phoebe/backend/mesh.py:1206: DeprecationWarning: PyArray_FromDims: use PyArray_SimpleNew.\n",
      "  mesh_table = cmarching.reproject(mesh_table, *mesh_args) #*self._scale\n",
      "/home/kyle/.local/lib/python2.7/site-packages/phoebe/backend/mesh.py:1206: DeprecationWarning: PyArray_FromDimsAndDataAndDescr: use PyArray_NewFromDescr.\n",
      "  mesh_table = cmarching.reproject(mesh_table, *mesh_args) #*self._scale\n",
      "/home/kyle/.local/lib/python2.7/site-packages/phoebe/backend/mesh.py:1168: DeprecationWarning: PyArray_FromDims: use PyArray_SimpleNew.\n",
      "  new_table = cmarching.reproject(mesh_table, *mesh_args)\n",
      "/home/kyle/.local/lib/python2.7/site-packages/phoebe/backend/mesh.py:1168: DeprecationWarning: PyArray_FromDimsAndDataAndDescr: use PyArray_NewFromDescr.\n",
      "  new_table = cmarching.reproject(mesh_table, *mesh_args)\n",
      "/home/kyle/.local/lib/python2.7/site-packages/phoebe/backend/mesh.py:1168: DeprecationWarning: PyArray_FromDims: use PyArray_SimpleNew.\n",
      "  new_table = cmarching.reproject(mesh_table, *mesh_args)\n",
      "/home/kyle/.local/lib/python2.7/site-packages/phoebe/backend/mesh.py:1168: DeprecationWarning: PyArray_FromDimsAndDataAndDescr: use PyArray_NewFromDescr.\n",
      "  new_table = cmarching.reproject(mesh_table, *mesh_args)\n",
      "/home/kyle/.local/lib/python2.7/site-packages/phoebe/backend/mesh.py:1168: DeprecationWarning: PyArray_FromDims: use PyArray_SimpleNew.\n",
      "  new_table = cmarching.reproject(mesh_table, *mesh_args)\n",
      "/home/kyle/.local/lib/python2.7/site-packages/phoebe/backend/mesh.py:1168: DeprecationWarning: PyArray_FromDimsAndDataAndDescr: use PyArray_NewFromDescr.\n",
      "  new_table = cmarching.reproject(mesh_table, *mesh_args)\n",
      "/home/kyle/.local/lib/python2.7/site-packages/phoebe/backend/mesh.py:1168: DeprecationWarning: PyArray_FromDims: use PyArray_SimpleNew.\n",
      "  new_table = cmarching.reproject(mesh_table, *mesh_args)\n",
      "/home/kyle/.local/lib/python2.7/site-packages/phoebe/backend/mesh.py:1168: DeprecationWarning: PyArray_FromDimsAndDataAndDescr: use PyArray_NewFromDescr.\n",
      "  new_table = cmarching.reproject(mesh_table, *mesh_args)\n",
      "/home/kyle/.local/lib/python2.7/site-packages/phoebe/backend/mesh.py:1206: DeprecationWarning: PyArray_FromDims: use PyArray_SimpleNew.\n",
      "  mesh_table = cmarching.reproject(mesh_table, *mesh_args) #*self._scale\n",
      "/home/kyle/.local/lib/python2.7/site-packages/phoebe/backend/mesh.py:1206: DeprecationWarning: PyArray_FromDimsAndDataAndDescr: use PyArray_NewFromDescr.\n",
      "  mesh_table = cmarching.reproject(mesh_table, *mesh_args) #*self._scale\n",
      "/home/kyle/.local/lib/python2.7/site-packages/phoebe/backend/mesh.py:1168: DeprecationWarning: PyArray_FromDims: use PyArray_SimpleNew.\n",
      "  new_table = cmarching.reproject(mesh_table, *mesh_args)\n",
      "/home/kyle/.local/lib/python2.7/site-packages/phoebe/backend/mesh.py:1168: DeprecationWarning: PyArray_FromDimsAndDataAndDescr: use PyArray_NewFromDescr.\n",
      "  new_table = cmarching.reproject(mesh_table, *mesh_args)\n",
      "/home/kyle/.local/lib/python2.7/site-packages/phoebe/backend/mesh.py:1168: DeprecationWarning: PyArray_FromDims: use PyArray_SimpleNew.\n",
      "  new_table = cmarching.reproject(mesh_table, *mesh_args)\n",
      "/home/kyle/.local/lib/python2.7/site-packages/phoebe/backend/mesh.py:1168: DeprecationWarning: PyArray_FromDimsAndDataAndDescr: use PyArray_NewFromDescr.\n",
      "  new_table = cmarching.reproject(mesh_table, *mesh_args)\n",
      "/home/kyle/.local/lib/python2.7/site-packages/phoebe/backend/mesh.py:1168: DeprecationWarning: PyArray_FromDims: use PyArray_SimpleNew.\n",
      "  new_table = cmarching.reproject(mesh_table, *mesh_args)\n",
      "/home/kyle/.local/lib/python2.7/site-packages/phoebe/backend/mesh.py:1168: DeprecationWarning: PyArray_FromDimsAndDataAndDescr: use PyArray_NewFromDescr.\n",
      "  new_table = cmarching.reproject(mesh_table, *mesh_args)\n",
      "/home/kyle/.local/lib/python2.7/site-packages/phoebe/backend/mesh.py:1206: DeprecationWarning: PyArray_FromDims: use PyArray_SimpleNew.\n",
      "  mesh_table = cmarching.reproject(mesh_table, *mesh_args) #*self._scale\n",
      "/home/kyle/.local/lib/python2.7/site-packages/phoebe/backend/mesh.py:1206: DeprecationWarning: PyArray_FromDimsAndDataAndDescr: use PyArray_NewFromDescr.\n",
      "  mesh_table = cmarching.reproject(mesh_table, *mesh_args) #*self._scale\n",
      "/home/kyle/.local/lib/python2.7/site-packages/phoebe/backend/mesh.py:1168: DeprecationWarning: PyArray_FromDims: use PyArray_SimpleNew.\n",
      "  new_table = cmarching.reproject(mesh_table, *mesh_args)\n",
      "/home/kyle/.local/lib/python2.7/site-packages/phoebe/backend/mesh.py:1168: DeprecationWarning: PyArray_FromDimsAndDataAndDescr: use PyArray_NewFromDescr.\n",
      "  new_table = cmarching.reproject(mesh_table, *mesh_args)\n",
      "/home/kyle/.local/lib/python2.7/site-packages/phoebe/backend/mesh.py:1168: DeprecationWarning: PyArray_FromDims: use PyArray_SimpleNew.\n",
      "  new_table = cmarching.reproject(mesh_table, *mesh_args)\n",
      "/home/kyle/.local/lib/python2.7/site-packages/phoebe/backend/mesh.py:1168: DeprecationWarning: PyArray_FromDimsAndDataAndDescr: use PyArray_NewFromDescr.\n",
      "  new_table = cmarching.reproject(mesh_table, *mesh_args)\n",
      "/home/kyle/.local/lib/python2.7/site-packages/phoebe/backend/mesh.py:1168: DeprecationWarning: PyArray_FromDims: use PyArray_SimpleNew.\n",
      "  new_table = cmarching.reproject(mesh_table, *mesh_args)\n",
      "/home/kyle/.local/lib/python2.7/site-packages/phoebe/backend/mesh.py:1168: DeprecationWarning: PyArray_FromDimsAndDataAndDescr: use PyArray_NewFromDescr.\n",
      "  new_table = cmarching.reproject(mesh_table, *mesh_args)\n",
      "/home/kyle/.local/lib/python2.7/site-packages/phoebe/backend/mesh.py:1206: DeprecationWarning: PyArray_FromDims: use PyArray_SimpleNew.\n",
      "  mesh_table = cmarching.reproject(mesh_table, *mesh_args) #*self._scale\n",
      "/home/kyle/.local/lib/python2.7/site-packages/phoebe/backend/mesh.py:1206: DeprecationWarning: PyArray_FromDimsAndDataAndDescr: use PyArray_NewFromDescr.\n",
      "  mesh_table = cmarching.reproject(mesh_table, *mesh_args) #*self._scale\n",
      "/home/kyle/.local/lib/python2.7/site-packages/phoebe/backend/mesh.py:1168: DeprecationWarning: PyArray_FromDims: use PyArray_SimpleNew.\n",
      "  new_table = cmarching.reproject(mesh_table, *mesh_args)\n",
      "/home/kyle/.local/lib/python2.7/site-packages/phoebe/backend/mesh.py:1168: DeprecationWarning: PyArray_FromDimsAndDataAndDescr: use PyArray_NewFromDescr.\n",
      "  new_table = cmarching.reproject(mesh_table, *mesh_args)\n",
      "/home/kyle/.local/lib/python2.7/site-packages/phoebe/backend/mesh.py:1168: DeprecationWarning: PyArray_FromDims: use PyArray_SimpleNew.\n",
      "  new_table = cmarching.reproject(mesh_table, *mesh_args)\n",
      "/home/kyle/.local/lib/python2.7/site-packages/phoebe/backend/mesh.py:1168: DeprecationWarning: PyArray_FromDimsAndDataAndDescr: use PyArray_NewFromDescr.\n",
      "  new_table = cmarching.reproject(mesh_table, *mesh_args)\n",
      "/home/kyle/.local/lib/python2.7/site-packages/phoebe/backend/mesh.py:1168: DeprecationWarning: PyArray_FromDims: use PyArray_SimpleNew.\n",
      "  new_table = cmarching.reproject(mesh_table, *mesh_args)\n",
      "/home/kyle/.local/lib/python2.7/site-packages/phoebe/backend/mesh.py:1168: DeprecationWarning: PyArray_FromDimsAndDataAndDescr: use PyArray_NewFromDescr.\n",
      "  new_table = cmarching.reproject(mesh_table, *mesh_args)\n",
      "/home/kyle/.local/lib/python2.7/site-packages/phoebe/backend/mesh.py:1206: DeprecationWarning: PyArray_FromDims: use PyArray_SimpleNew.\n",
      "  mesh_table = cmarching.reproject(mesh_table, *mesh_args) #*self._scale\n",
      "/home/kyle/.local/lib/python2.7/site-packages/phoebe/backend/mesh.py:1206: DeprecationWarning: PyArray_FromDimsAndDataAndDescr: use PyArray_NewFromDescr.\n",
      "  mesh_table = cmarching.reproject(mesh_table, *mesh_args) #*self._scale\n",
      "/home/kyle/.local/lib/python2.7/site-packages/phoebe/backend/mesh.py:1168: DeprecationWarning: PyArray_FromDims: use PyArray_SimpleNew.\n",
      "  new_table = cmarching.reproject(mesh_table, *mesh_args)\n",
      "/home/kyle/.local/lib/python2.7/site-packages/phoebe/backend/mesh.py:1168: DeprecationWarning: PyArray_FromDimsAndDataAndDescr: use PyArray_NewFromDescr.\n",
      "  new_table = cmarching.reproject(mesh_table, *mesh_args)\n",
      "/home/kyle/.local/lib/python2.7/site-packages/phoebe/backend/mesh.py:1168: DeprecationWarning: PyArray_FromDims: use PyArray_SimpleNew.\n",
      "  new_table = cmarching.reproject(mesh_table, *mesh_args)\n",
      "/home/kyle/.local/lib/python2.7/site-packages/phoebe/backend/mesh.py:1168: DeprecationWarning: PyArray_FromDimsAndDataAndDescr: use PyArray_NewFromDescr.\n",
      "  new_table = cmarching.reproject(mesh_table, *mesh_args)\n",
      "/home/kyle/.local/lib/python2.7/site-packages/phoebe/backend/mesh.py:1168: DeprecationWarning: PyArray_FromDims: use PyArray_SimpleNew.\n",
      "  new_table = cmarching.reproject(mesh_table, *mesh_args)\n",
      "/home/kyle/.local/lib/python2.7/site-packages/phoebe/backend/mesh.py:1168: DeprecationWarning: PyArray_FromDimsAndDataAndDescr: use PyArray_NewFromDescr.\n",
      "  new_table = cmarching.reproject(mesh_table, *mesh_args)\n",
      "/home/kyle/.local/lib/python2.7/site-packages/phoebe/backend/mesh.py:1206: DeprecationWarning: PyArray_FromDims: use PyArray_SimpleNew.\n",
      "  mesh_table = cmarching.reproject(mesh_table, *mesh_args) #*self._scale\n",
      "/home/kyle/.local/lib/python2.7/site-packages/phoebe/backend/mesh.py:1206: DeprecationWarning: PyArray_FromDimsAndDataAndDescr: use PyArray_NewFromDescr.\n",
      "  mesh_table = cmarching.reproject(mesh_table, *mesh_args) #*self._scale\n",
      "/home/kyle/.local/lib/python2.7/site-packages/phoebe/backend/mesh.py:1168: DeprecationWarning: PyArray_FromDims: use PyArray_SimpleNew.\n",
      "  new_table = cmarching.reproject(mesh_table, *mesh_args)\n",
      "/home/kyle/.local/lib/python2.7/site-packages/phoebe/backend/mesh.py:1168: DeprecationWarning: PyArray_FromDimsAndDataAndDescr: use PyArray_NewFromDescr.\n",
      "  new_table = cmarching.reproject(mesh_table, *mesh_args)\n",
      "/home/kyle/.local/lib/python2.7/site-packages/phoebe/backend/mesh.py:1168: DeprecationWarning: PyArray_FromDims: use PyArray_SimpleNew.\n",
      "  new_table = cmarching.reproject(mesh_table, *mesh_args)\n",
      "/home/kyle/.local/lib/python2.7/site-packages/phoebe/backend/mesh.py:1168: DeprecationWarning: PyArray_FromDimsAndDataAndDescr: use PyArray_NewFromDescr.\n",
      "  new_table = cmarching.reproject(mesh_table, *mesh_args)\n",
      "/home/kyle/.local/lib/python2.7/site-packages/phoebe/backend/mesh.py:1168: DeprecationWarning: PyArray_FromDims: use PyArray_SimpleNew.\n",
      "  new_table = cmarching.reproject(mesh_table, *mesh_args)\n",
      "/home/kyle/.local/lib/python2.7/site-packages/phoebe/backend/mesh.py:1168: DeprecationWarning: PyArray_FromDimsAndDataAndDescr: use PyArray_NewFromDescr.\n",
      "  new_table = cmarching.reproject(mesh_table, *mesh_args)\n",
      "/home/kyle/.local/lib/python2.7/site-packages/phoebe/backend/mesh.py:1168: DeprecationWarning: PyArray_FromDims: use PyArray_SimpleNew.\n",
      "  new_table = cmarching.reproject(mesh_table, *mesh_args)\n",
      "/home/kyle/.local/lib/python2.7/site-packages/phoebe/backend/mesh.py:1168: DeprecationWarning: PyArray_FromDimsAndDataAndDescr: use PyArray_NewFromDescr.\n",
      "  new_table = cmarching.reproject(mesh_table, *mesh_args)\n",
      "/home/kyle/.local/lib/python2.7/site-packages/phoebe/backend/mesh.py:1206: DeprecationWarning: PyArray_FromDims: use PyArray_SimpleNew.\n",
      "  mesh_table = cmarching.reproject(mesh_table, *mesh_args) #*self._scale\n",
      "/home/kyle/.local/lib/python2.7/site-packages/phoebe/backend/mesh.py:1206: DeprecationWarning: PyArray_FromDimsAndDataAndDescr: use PyArray_NewFromDescr.\n",
      "  mesh_table = cmarching.reproject(mesh_table, *mesh_args) #*self._scale\n",
      "/home/kyle/.local/lib/python2.7/site-packages/phoebe/backend/mesh.py:1168: DeprecationWarning: PyArray_FromDims: use PyArray_SimpleNew.\n",
      "  new_table = cmarching.reproject(mesh_table, *mesh_args)\n",
      "/home/kyle/.local/lib/python2.7/site-packages/phoebe/backend/mesh.py:1168: DeprecationWarning: PyArray_FromDimsAndDataAndDescr: use PyArray_NewFromDescr.\n",
      "  new_table = cmarching.reproject(mesh_table, *mesh_args)\n",
      "/home/kyle/.local/lib/python2.7/site-packages/phoebe/backend/mesh.py:1168: DeprecationWarning: PyArray_FromDims: use PyArray_SimpleNew.\n",
      "  new_table = cmarching.reproject(mesh_table, *mesh_args)\n",
      "/home/kyle/.local/lib/python2.7/site-packages/phoebe/backend/mesh.py:1168: DeprecationWarning: PyArray_FromDimsAndDataAndDescr: use PyArray_NewFromDescr.\n",
      "  new_table = cmarching.reproject(mesh_table, *mesh_args)\n",
      "/home/kyle/.local/lib/python2.7/site-packages/phoebe/backend/mesh.py:1168: DeprecationWarning: PyArray_FromDims: use PyArray_SimpleNew.\n",
      "  new_table = cmarching.reproject(mesh_table, *mesh_args)\n",
      "/home/kyle/.local/lib/python2.7/site-packages/phoebe/backend/mesh.py:1168: DeprecationWarning: PyArray_FromDimsAndDataAndDescr: use PyArray_NewFromDescr.\n",
      "  new_table = cmarching.reproject(mesh_table, *mesh_args)\n",
      "/home/kyle/.local/lib/python2.7/site-packages/phoebe/backend/mesh.py:1168: DeprecationWarning: PyArray_FromDims: use PyArray_SimpleNew.\n",
      "  new_table = cmarching.reproject(mesh_table, *mesh_args)\n",
      "/home/kyle/.local/lib/python2.7/site-packages/phoebe/backend/mesh.py:1168: DeprecationWarning: PyArray_FromDimsAndDataAndDescr: use PyArray_NewFromDescr.\n",
      "  new_table = cmarching.reproject(mesh_table, *mesh_args)\n",
      "/home/kyle/.local/lib/python2.7/site-packages/phoebe/backend/mesh.py:1206: DeprecationWarning: PyArray_FromDims: use PyArray_SimpleNew.\n",
      "  mesh_table = cmarching.reproject(mesh_table, *mesh_args) #*self._scale\n",
      "/home/kyle/.local/lib/python2.7/site-packages/phoebe/backend/mesh.py:1206: DeprecationWarning: PyArray_FromDimsAndDataAndDescr: use PyArray_NewFromDescr.\n",
      "  mesh_table = cmarching.reproject(mesh_table, *mesh_args) #*self._scale\n",
      "/home/kyle/.local/lib/python2.7/site-packages/phoebe/backend/mesh.py:1168: DeprecationWarning: PyArray_FromDims: use PyArray_SimpleNew.\n",
      "  new_table = cmarching.reproject(mesh_table, *mesh_args)\n",
      "/home/kyle/.local/lib/python2.7/site-packages/phoebe/backend/mesh.py:1168: DeprecationWarning: PyArray_FromDimsAndDataAndDescr: use PyArray_NewFromDescr.\n",
      "  new_table = cmarching.reproject(mesh_table, *mesh_args)\n",
      "/home/kyle/.local/lib/python2.7/site-packages/phoebe/backend/mesh.py:1168: DeprecationWarning: PyArray_FromDims: use PyArray_SimpleNew.\n",
      "  new_table = cmarching.reproject(mesh_table, *mesh_args)\n",
      "/home/kyle/.local/lib/python2.7/site-packages/phoebe/backend/mesh.py:1168: DeprecationWarning: PyArray_FromDimsAndDataAndDescr: use PyArray_NewFromDescr.\n",
      "  new_table = cmarching.reproject(mesh_table, *mesh_args)\n",
      "/home/kyle/.local/lib/python2.7/site-packages/phoebe/backend/mesh.py:1168: DeprecationWarning: PyArray_FromDims: use PyArray_SimpleNew.\n",
      "  new_table = cmarching.reproject(mesh_table, *mesh_args)\n",
      "/home/kyle/.local/lib/python2.7/site-packages/phoebe/backend/mesh.py:1168: DeprecationWarning: PyArray_FromDimsAndDataAndDescr: use PyArray_NewFromDescr.\n",
      "  new_table = cmarching.reproject(mesh_table, *mesh_args)\n",
      "/home/kyle/.local/lib/python2.7/site-packages/phoebe/backend/mesh.py:1168: DeprecationWarning: PyArray_FromDims: use PyArray_SimpleNew.\n",
      "  new_table = cmarching.reproject(mesh_table, *mesh_args)\n",
      "/home/kyle/.local/lib/python2.7/site-packages/phoebe/backend/mesh.py:1168: DeprecationWarning: PyArray_FromDimsAndDataAndDescr: use PyArray_NewFromDescr.\n",
      "  new_table = cmarching.reproject(mesh_table, *mesh_args)\n",
      "/home/kyle/.local/lib/python2.7/site-packages/phoebe/backend/mesh.py:1168: DeprecationWarning: PyArray_FromDims: use PyArray_SimpleNew.\n",
      "  new_table = cmarching.reproject(mesh_table, *mesh_args)\n",
      "/home/kyle/.local/lib/python2.7/site-packages/phoebe/backend/mesh.py:1168: DeprecationWarning: PyArray_FromDimsAndDataAndDescr: use PyArray_NewFromDescr.\n",
      "  new_table = cmarching.reproject(mesh_table, *mesh_args)\n",
      "/home/kyle/.local/lib/python2.7/site-packages/phoebe/backend/mesh.py:1206: DeprecationWarning: PyArray_FromDims: use PyArray_SimpleNew.\n",
      "  mesh_table = cmarching.reproject(mesh_table, *mesh_args) #*self._scale\n",
      "/home/kyle/.local/lib/python2.7/site-packages/phoebe/backend/mesh.py:1206: DeprecationWarning: PyArray_FromDimsAndDataAndDescr: use PyArray_NewFromDescr.\n",
      "  mesh_table = cmarching.reproject(mesh_table, *mesh_args) #*self._scale\n",
      "/home/kyle/.local/lib/python2.7/site-packages/phoebe/backend/mesh.py:1168: DeprecationWarning: PyArray_FromDims: use PyArray_SimpleNew.\n",
      "  new_table = cmarching.reproject(mesh_table, *mesh_args)\n",
      "/home/kyle/.local/lib/python2.7/site-packages/phoebe/backend/mesh.py:1168: DeprecationWarning: PyArray_FromDimsAndDataAndDescr: use PyArray_NewFromDescr.\n",
      "  new_table = cmarching.reproject(mesh_table, *mesh_args)\n",
      "/home/kyle/.local/lib/python2.7/site-packages/phoebe/backend/mesh.py:1168: DeprecationWarning: PyArray_FromDims: use PyArray_SimpleNew.\n",
      "  new_table = cmarching.reproject(mesh_table, *mesh_args)\n",
      "/home/kyle/.local/lib/python2.7/site-packages/phoebe/backend/mesh.py:1168: DeprecationWarning: PyArray_FromDimsAndDataAndDescr: use PyArray_NewFromDescr.\n",
      "  new_table = cmarching.reproject(mesh_table, *mesh_args)\n",
      "/home/kyle/.local/lib/python2.7/site-packages/phoebe/backend/mesh.py:1168: DeprecationWarning: PyArray_FromDims: use PyArray_SimpleNew.\n",
      "  new_table = cmarching.reproject(mesh_table, *mesh_args)\n",
      "/home/kyle/.local/lib/python2.7/site-packages/phoebe/backend/mesh.py:1168: DeprecationWarning: PyArray_FromDimsAndDataAndDescr: use PyArray_NewFromDescr.\n",
      "  new_table = cmarching.reproject(mesh_table, *mesh_args)\n",
      "/home/kyle/.local/lib/python2.7/site-packages/phoebe/backend/mesh.py:1168: DeprecationWarning: PyArray_FromDims: use PyArray_SimpleNew.\n",
      "  new_table = cmarching.reproject(mesh_table, *mesh_args)\n",
      "/home/kyle/.local/lib/python2.7/site-packages/phoebe/backend/mesh.py:1168: DeprecationWarning: PyArray_FromDimsAndDataAndDescr: use PyArray_NewFromDescr.\n",
      "  new_table = cmarching.reproject(mesh_table, *mesh_args)\n",
      "/home/kyle/.local/lib/python2.7/site-packages/phoebe/backend/mesh.py:1206: DeprecationWarning: PyArray_FromDims: use PyArray_SimpleNew.\n",
      "  mesh_table = cmarching.reproject(mesh_table, *mesh_args) #*self._scale\n",
      "/home/kyle/.local/lib/python2.7/site-packages/phoebe/backend/mesh.py:1206: DeprecationWarning: PyArray_FromDimsAndDataAndDescr: use PyArray_NewFromDescr.\n",
      "  mesh_table = cmarching.reproject(mesh_table, *mesh_args) #*self._scale\n",
      "/home/kyle/.local/lib/python2.7/site-packages/phoebe/backend/eclipse.py:10: DeprecationWarning: PyArray_FromDims: use PyArray_SimpleNew.\n",
      "  hull, inside = ceclipse.graham_scan_inside_hull(front[sa], back)\n",
      "/home/kyle/.local/lib/python2.7/site-packages/phoebe/backend/eclipse.py:10: DeprecationWarning: PyArray_FromDimsAndDataAndDescr: use PyArray_NewFromDescr.\n",
      "  hull, inside = ceclipse.graham_scan_inside_hull(front[sa], back)\n",
      "/home/kyle/.local/lib/python2.7/site-packages/phoebe/backend/eclipse.py:10: DeprecationWarning: PyArray_FromDims: use PyArray_SimpleNew.\n",
      "  hull, inside = ceclipse.graham_scan_inside_hull(front[sa], back)\n",
      "/home/kyle/.local/lib/python2.7/site-packages/phoebe/backend/eclipse.py:10: DeprecationWarning: PyArray_FromDimsAndDataAndDescr: use PyArray_NewFromDescr.\n",
      "  hull, inside = ceclipse.graham_scan_inside_hull(front[sa], back)\n",
      "/home/kyle/.local/lib/python2.7/site-packages/phoebe/backend/eclipse.py:10: DeprecationWarning: PyArray_FromDims: use PyArray_SimpleNew.\n",
      "  hull, inside = ceclipse.graham_scan_inside_hull(front[sa], back)\n",
      "/home/kyle/.local/lib/python2.7/site-packages/phoebe/backend/eclipse.py:10: DeprecationWarning: PyArray_FromDimsAndDataAndDescr: use PyArray_NewFromDescr.\n",
      "  hull, inside = ceclipse.graham_scan_inside_hull(front[sa], back)\n",
      "/home/kyle/.local/lib/python2.7/site-packages/phoebe/backend/eclipse.py:10: DeprecationWarning: PyArray_FromDims: use PyArray_SimpleNew.\n",
      "  hull, inside = ceclipse.graham_scan_inside_hull(front[sa], back)\n",
      "/home/kyle/.local/lib/python2.7/site-packages/phoebe/backend/eclipse.py:10: DeprecationWarning: PyArray_FromDimsAndDataAndDescr: use PyArray_NewFromDescr.\n",
      "  hull, inside = ceclipse.graham_scan_inside_hull(front[sa], back)\n",
      "/home/kyle/.local/lib/python2.7/site-packages/phoebe/backend/eclipse.py:10: DeprecationWarning: PyArray_FromDims: use PyArray_SimpleNew.\n",
      "  hull, inside = ceclipse.graham_scan_inside_hull(front[sa], back)\n",
      "/home/kyle/.local/lib/python2.7/site-packages/phoebe/backend/eclipse.py:10: DeprecationWarning: PyArray_FromDimsAndDataAndDescr: use PyArray_NewFromDescr.\n",
      "  hull, inside = ceclipse.graham_scan_inside_hull(front[sa], back)\n",
      "/home/kyle/.local/lib/python2.7/site-packages/phoebe/backend/eclipse.py:10: DeprecationWarning: PyArray_FromDims: use PyArray_SimpleNew.\n",
      "  hull, inside = ceclipse.graham_scan_inside_hull(front[sa], back)\n",
      "/home/kyle/.local/lib/python2.7/site-packages/phoebe/backend/eclipse.py:10: DeprecationWarning: PyArray_FromDimsAndDataAndDescr: use PyArray_NewFromDescr.\n",
      "  hull, inside = ceclipse.graham_scan_inside_hull(front[sa], back)\n",
      "/home/kyle/.local/lib/python2.7/site-packages/phoebe/backend/eclipse.py:10: DeprecationWarning: PyArray_FromDims: use PyArray_SimpleNew.\n",
      "  hull, inside = ceclipse.graham_scan_inside_hull(front[sa], back)\n",
      "/home/kyle/.local/lib/python2.7/site-packages/phoebe/backend/eclipse.py:10: DeprecationWarning: PyArray_FromDimsAndDataAndDescr: use PyArray_NewFromDescr.\n",
      "  hull, inside = ceclipse.graham_scan_inside_hull(front[sa], back)\n",
      "/home/kyle/.local/lib/python2.7/site-packages/phoebe/backend/eclipse.py:10: DeprecationWarning: PyArray_FromDims: use PyArray_SimpleNew.\n",
      "  hull, inside = ceclipse.graham_scan_inside_hull(front[sa], back)\n",
      "/home/kyle/.local/lib/python2.7/site-packages/phoebe/backend/eclipse.py:10: DeprecationWarning: PyArray_FromDimsAndDataAndDescr: use PyArray_NewFromDescr.\n",
      "  hull, inside = ceclipse.graham_scan_inside_hull(front[sa], back)\n"
     ]
    },
    {
     "data": {
      "text/plain": [
       "<ParameterSet: 508 parameters | components: primary, secondary>"
      ]
     },
     "execution_count": 25,
     "metadata": {},
     "output_type": "execute_result"
    }
   ],
   "source": [
    "b.run_compute()"
   ]
  },
  {
   "cell_type": "code",
   "execution_count": 26,
   "metadata": {
    "collapsed": false
   },
   "outputs": [
    {
     "name": "stdout",
     "output_type": "stream",
     "text": [
      "3.0 solRad\n"
     ]
    }
   ],
   "source": [
    "print b.get_quantity('rpole@primary@component')"
   ]
  },
  {
   "cell_type": "code",
   "execution_count": 27,
   "metadata": {
    "collapsed": false
   },
   "outputs": [
    {
     "name": "stdout",
     "output_type": "stream",
     "text": [
      "0.0@rpole@primary@tmpmodel@model: 3.05521187669 solRad\n",
      "0.3@rpole@primary@tmpmodel@model: 3.07909327575 solRad\n",
      "0.6@rpole@primary@tmpmodel@model: 3.09175258533 solRad\n",
      "0.9@rpole@primary@tmpmodel@model: 3.09175258533 solRad\n",
      "1.2@rpole@primary@tmpmodel@model: 3.07909327575 solRad\n",
      "1.5@rpole@primary@tmpmodel@model: 3.05521187669 solRad\n",
      "1.8@rpole@primary@tmpmodel@model: 3.02561603394 solRad\n",
      "2.1@rpole@primary@tmpmodel@model: 3.00330514843 solRad\n",
      "2.4@rpole@primary@tmpmodel@model: 3.00330514843 solRad\n",
      "2.7@rpole@primary@tmpmodel@model: 3.02561603394 solRad\n",
      "3.0@rpole@primary@tmpmodel@model: 3.05521187669 solRad\n"
     ]
    }
   ],
   "source": [
    "print b['rpole@primary@model']"
   ]
  },
  {
   "cell_type": "code",
   "execution_count": 28,
   "metadata": {
    "collapsed": false
   },
   "outputs": [
    {
     "data": {
      "image/png": "[encoded data removed]",
      "text/plain": [
       "<matplotlib.figure.Figure at 0x7f7fd29514d0>"
      ]
     },
     "metadata": {},
     "output_type": "display_data"
    }
   ],
   "source": [
    "axs, artists = b.plot('primary@MESH@model', x='time', y='rpole')"
   ]
  },
  {
   "cell_type": "markdown",
   "metadata": {},
   "source": [
    "These polar radii are changing as a function of time (phase) in order to keep the volume of the stellar surface conserved.  We can confirm that this is the case by accessing the volume as a function of time as well."
   ]
  },
  {
   "cell_type": "code",
   "execution_count": 29,
   "metadata": {
    "collapsed": false
   },
   "outputs": [
    {
     "name": "stdout",
     "output_type": "stream",
     "text": [
      "0.0@volume@primary@tmpmodel@model: 114.454108478 solRad3\n",
      "0.3@volume@primary@tmpmodel@model: 114.454984404 solRad3\n",
      "0.6@volume@primary@tmpmodel@model: 114.455293172 solRad3\n",
      "0.9@volume@primary@tmpmodel@model: 114.455293172 solRad3\n",
      "1.2@volume@primary@tmpmodel@model: 114.454984404 solRad3\n",
      "1.5@volume@primary@tmpmodel@model: 114.454442301 solRad3\n",
      "1.8@volume@primary@tmpmodel@model: 114.453835274 solRad3\n",
      "2.1@volume@primary@tmpmodel@model: 114.453417629 solRad3\n",
      "2.4@volume@primary@tmpmodel@model: 114.453417629 solRad3\n",
      "2.7@volume@primary@tmpmodel@model: 114.453835274 solRad3\n",
      "3.0@volume@primary@tmpmodel@model: 114.454108478 solRad3\n"
     ]
    }
   ],
   "source": [
    "print b['volume@primary@model']"
   ]
  },
  {
   "cell_type": "markdown",
   "metadata": {},
   "source": [
    "(make sure to note the scale on the y-axis for the volume vs time)"
   ]
  },
  {
   "cell_type": "code",
   "execution_count": 30,
   "metadata": {
    "collapsed": false
   },
   "outputs": [
    {
     "data": {
      "image/png": "[encoded data removed]",
      "text/plain": [
       "<matplotlib.figure.Figure at 0x7f7fd295b510>"
      ]
     },
     "metadata": {},
     "output_type": "display_data"
    }
   ],
   "source": [
    "axs, artists = b.plot('primary@MESH@model', x='time', y='volume')"
   ]
  },
  {
   "cell_type": "code",
   "execution_count": 31,
   "metadata": {
    "collapsed": false
   },
   "outputs": [
    {
     "name": "stdout",
     "output_type": "stream",
     "text": [
      "7.76265991537\n"
     ]
    }
   ],
   "source": [
    "print b.get_quantity('pot@primary@component')"
   ]
  },
  {
   "cell_type": "code",
   "execution_count": 32,
   "metadata": {
    "collapsed": false
   },
   "outputs": [
    {
     "name": "stdout",
     "output_type": "stream",
     "text": [
      "0.0@pot@primary@tmpmodel@model: 7.64163433392\n",
      "0.3@pot@primary@tmpmodel@model: 7.59062154387\n",
      "0.6@pot@primary@tmpmodel@model: 7.56389752749\n",
      "0.9@pot@primary@tmpmodel@model: 7.56389752749\n",
      "1.2@pot@primary@tmpmodel@model: 7.59062154387\n",
      "1.5@pot@primary@tmpmodel@model: 7.64163433392\n",
      "1.8@pot@primary@tmpmodel@model: 7.70596342097\n",
      "2.1@pot@primary@tmpmodel@model: 7.7552905731\n",
      "2.4@pot@primary@tmpmodel@model: 7.7552905731\n",
      "2.7@pot@primary@tmpmodel@model: 7.70596342097\n",
      "3.0@pot@primary@tmpmodel@model: 7.64163433392\n"
     ]
    }
   ],
   "source": [
    "print b['pot@primary@model']"
   ]
  },
  {
   "cell_type": "code",
   "execution_count": 33,
   "metadata": {
    "collapsed": false
   },
   "outputs": [
    {
     "data": {
      "image/png": "[encoded data removed]",
      "text/plain": [
       "<matplotlib.figure.Figure at 0x7f7fd2697c50>"
      ]
     },
     "metadata": {},
     "output_type": "display_data"
    }
   ],
   "source": [
    "axs, artists = b.plot('primary@MESH@model', x='time', y='pot')"
   ]
  },
  {
   "cell_type": "markdown",
   "metadata": {},
   "source": [
    "We can even see how the polar radius changes as a function of potential throughout the orbit"
   ]
  },
  {
   "cell_type": "code",
   "execution_count": 34,
   "metadata": {
    "collapsed": false
   },
   "outputs": [
    {
     "data": {
      "image/png": "[encoded data removed]",
      "text/plain": [
       "<matplotlib.figure.Figure at 0x7f7fd29a7a50>"
      ]
     },
     "metadata": {},
     "output_type": "display_data"
    }
   ],
   "source": [
    "axs, artists = b.plot('primary@MESH@model', x='pot', y='rpole')"
   ]
  }
 ],
 "metadata": {
  "kernelspec": {
   "display_name": "Python 2",
   "language": "python",
   "name": "python2"
  },
  "language_info": {
   "codemirror_mode": {
    "name": "ipython",
    "version": 2
   },
   "file_extension": ".py",
   "mimetype": "text/x-python",
   "name": "python",
   "nbconvert_exporter": "python",
   "pygments_lexer": "ipython2",
   "version": "2.7.11+"
  }
 },
 "nbformat": 4,
 "nbformat_minor": 0
}
