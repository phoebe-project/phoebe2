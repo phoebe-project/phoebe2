{
 "cells": [
  {
   "cell_type": "markdown",
   "metadata": {},
   "source": [
    "[IPython Notebook](ETV.ipynb) |  [Python Script](ETV.py)"
   ]
  },
  {
   "cell_type": "markdown",
   "metadata": {},
   "source": [
    "ETV Datasets and Options\n",
    "============================\n",
    "\n",
    "Setup\n",
    "-----------------------------"
   ]
  },
  {
   "cell_type": "markdown",
   "metadata": {
    "collapsed": true
   },
   "source": [
    "As always, let's do imports and initialize a logger and a new Bundle.  See [Building a System](building_a_system.html) for more details."
   ]
  },
  {
   "cell_type": "code",
   "execution_count": 1,
   "metadata": {
    "collapsed": true
   },
   "outputs": [],
   "source": [
    "%matplotlib inline"
   ]
  },
  {
   "cell_type": "code",
   "execution_count": 2,
   "metadata": {
    "collapsed": false
   },
   "outputs": [
    {
     "name": "stderr",
     "output_type": "stream",
     "text": [
      "/usr/local/lib/python2.7/dist-packages/IPython/kernel/__init__.py:13: ShimWarning: The `IPython.kernel` package has been deprecated. You should import from ipykernel or jupyter_client instead.\n",
      "  \"You should import from ipykernel or jupyter_client instead.\", ShimWarning)\n",
      "WARNING: Constant u'Gravitational constant' is already has a definition in the u'si' system [astropy.constants.constant]\n",
      "WARNING:astropy:Constant u'Gravitational constant' is already has a definition in the u'si' system\n",
      "WARNING: Constant u'Solar mass' is already has a definition in the u'si' system [astropy.constants.constant]\n",
      "WARNING:astropy:Constant u'Solar mass' is already has a definition in the u'si' system\n",
      "WARNING: Constant u'Solar radius' is already has a definition in the u'si' system [astropy.constants.constant]\n",
      "WARNING:astropy:Constant u'Solar radius' is already has a definition in the u'si' system\n",
      "WARNING: Constant u'Solar luminosity' is already has a definition in the u'si' system [astropy.constants.constant]\n",
      "WARNING:astropy:Constant u'Solar luminosity' is already has a definition in the u'si' system\n",
      "/usr/local/lib/python2.7/dist-packages/astropy/units/quantity.py:732: FutureWarning: comparison to `None` will result in an elementwise object comparison in the future.\n",
      "  return super(Quantity, self).__eq__(other)\n"
     ]
    }
   ],
   "source": [
    "import phoebe\n",
    "from phoebe import u # units\n",
    "import numpy as np\n",
    "import matplotlib.pyplot as plt\n",
    "\n",
    "logger = phoebe.logger(clevel='INFO')\n",
    "\n",
    "b = phoebe.Bundle.default_binary()"
   ]
  },
  {
   "cell_type": "markdown",
   "metadata": {
    "collapsed": true
   },
   "source": [
    "Dataset Parameters\n",
    "--------------------------\n",
    "\n",
    "Let's create the ParameterSet which would be added to the Bundle when calling add_dataset. Later we'll call add_dataset, which will create and attach this ParameterSet for us."
   ]
  },
  {
   "cell_type": "code",
   "execution_count": 3,
   "metadata": {
    "collapsed": false
   },
   "outputs": [
    {
     "name": "stdout",
     "output_type": "stream",
     "text": [
      "N@_default: []\n",
      "time_ecl@_default: [] d\n",
      "time_ephem@_default: [] d\n",
      "etv@_default: [] d\n",
      "sigma: [] d\n"
     ]
    }
   ],
   "source": [
    "ps, constraints = phoebe.dataset.etv()\n",
    "print ps"
   ]
  },
  {
   "cell_type": "markdown",
   "metadata": {},
   "source": [
    "Currently, none of the available etv methods actually compute fluxes.  But if one is added that computes a light-curve and actually finds the time of mid-eclipse, then the passband-dependend parameters will be added here.\n",
    "\n",
    "For information on these passband-dependent parameters, see the section on the [LC Dataset](LC)"
   ]
  },
  {
   "cell_type": "markdown",
   "metadata": {},
   "source": [
    "### N"
   ]
  },
  {
   "cell_type": "code",
   "execution_count": 4,
   "metadata": {
    "collapsed": false
   },
   "outputs": [
    {
     "name": "stdout",
     "output_type": "stream",
     "text": [
      "Qualifier: N\n",
      "Description: Epoch since t0\n",
      "Value: []\n",
      "Constrained by: \n",
      "Constrains: None\n",
      "Related to: None\n"
     ]
    }
   ],
   "source": [
    "print ps['N']"
   ]
  },
  {
   "cell_type": "markdown",
   "metadata": {},
   "source": [
    "### time_ephem\n",
    "\n",
    "NOTE: this parameter will be constrained when added through add_dataset"
   ]
  },
  {
   "cell_type": "code",
   "execution_count": 5,
   "metadata": {
    "collapsed": false
   },
   "outputs": [
    {
     "name": "stdout",
     "output_type": "stream",
     "text": [
      "Qualifier: time_ephem\n",
      "Description: Expected time of eclipse from the current ephemeris\n",
      "Value: [] d\n",
      "Constrained by: \n",
      "Constrains: None\n",
      "Related to: None\n"
     ]
    }
   ],
   "source": [
    "print ps['time_ephem']"
   ]
  },
  {
   "cell_type": "markdown",
   "metadata": {},
   "source": [
    "### time_ecl"
   ]
  },
  {
   "cell_type": "code",
   "execution_count": 6,
   "metadata": {
    "collapsed": false
   },
   "outputs": [
    {
     "name": "stdout",
     "output_type": "stream",
     "text": [
      "Qualifier: time_ecl\n",
      "Description: Time of eclipse\n",
      "Value: [] d\n",
      "Constrained by: \n",
      "Constrains: None\n",
      "Related to: None\n"
     ]
    }
   ],
   "source": [
    "print ps['time_ecl']"
   ]
  },
  {
   "cell_type": "markdown",
   "metadata": {},
   "source": [
    "### etv\n",
    "\n",
    "NOTE: this parameter will be constrained when added through add_dataset"
   ]
  },
  {
   "cell_type": "code",
   "execution_count": 7,
   "metadata": {
    "collapsed": false
   },
   "outputs": [
    {
     "name": "stdout",
     "output_type": "stream",
     "text": [
      "Qualifier: etv\n",
      "Description: Eclipse timing variation (time_obs - time_ephem)\n",
      "Value: [] d\n",
      "Constrained by: \n",
      "Constrains: None\n",
      "Related to: None\n"
     ]
    }
   ],
   "source": [
    "print ps['etv']"
   ]
  },
  {
   "cell_type": "markdown",
   "metadata": {},
   "source": [
    "### sigma"
   ]
  },
  {
   "cell_type": "code",
   "execution_count": 8,
   "metadata": {
    "collapsed": false
   },
   "outputs": [
    {
     "name": "stdout",
     "output_type": "stream",
     "text": [
      "Qualifier: sigma\n",
      "Description: Observed uncertainty on time_obs\n",
      "Value: [] d\n",
      "Constrained by: \n",
      "Constrains: None\n",
      "Related to: None\n"
     ]
    }
   ],
   "source": [
    "print ps['sigma']"
   ]
  },
  {
   "cell_type": "markdown",
   "metadata": {},
   "source": [
    "### enabled"
   ]
  },
  {
   "cell_type": "code",
   "execution_count": 9,
   "metadata": {
    "collapsed": false
   },
   "outputs": [
    {
     "name": "stdout",
     "output_type": "stream",
     "text": [
      "NO PARAMETERS\n"
     ]
    }
   ],
   "source": [
    "print ps['enabled']"
   ]
  },
  {
   "cell_type": "markdown",
   "metadata": {},
   "source": [
    "Compute Options\n",
    "------------------\n",
    "\n",
    "Let's look at the compute options (for the default PHOEBE 2 backend) that relate to the ETV dataset.\n",
    "\n",
    "Other compute options are covered elsewhere:\n",
    "* parameters related to dynamics are explained in the section on the [ORB dataset](ORB)"
   ]
  },
  {
   "cell_type": "code",
   "execution_count": 10,
   "metadata": {
    "collapsed": false
   },
   "outputs": [
    {
     "name": "stdout",
     "output_type": "stream",
     "text": [
      "enabled@_default: True\n",
      "dynamics_method: keplerian\n",
      "ltte: False\n",
      "stepsize: 0.01\n",
      "orbiterror: 1e-20\n",
      "store_mesh: False\n",
      "mesh_method@_default: marching\n",
      "delta@_default: 0.1\n",
      "maxpoints@_default: 100000\n",
      "distortion_method@_default: roche\n",
      "gridsize@_default: 40\n",
      "eclipse_alg: visible_ratio\n",
      "atm@_default: blackbody\n",
      "lc_method@_default@_default: numerical\n",
      "rv_method@_default@_default: flux-weighted\n",
      "rv_grav@_default@_default: False\n",
      "etv_method@_default@_default: crossing\n",
      "etv_tol@_default@_default: 0.0001 d\n"
     ]
    }
   ],
   "source": [
    "ps_compute = phoebe.compute.phoebe()\n",
    "print ps_compute"
   ]
  },
  {
   "cell_type": "markdown",
   "metadata": {},
   "source": [
    "### etv_method"
   ]
  },
  {
   "cell_type": "code",
   "execution_count": 11,
   "metadata": {
    "collapsed": false
   },
   "outputs": [
    {
     "name": "stdout",
     "output_type": "stream",
     "text": [
      "Qualifier: etv_method\n",
      "Description: Method to use for computing ETVs\n",
      "Value: crossing\n",
      "Choices: crossing\n"
     ]
    }
   ],
   "source": [
    "print ps_compute['etv_method']"
   ]
  },
  {
   "cell_type": "markdown",
   "metadata": {},
   "source": [
    "### etv_tol"
   ]
  },
  {
   "cell_type": "code",
   "execution_count": 12,
   "metadata": {
    "collapsed": false
   },
   "outputs": [
    {
     "name": "stdout",
     "output_type": "stream",
     "text": [
      "Qualifier: etv_tol\n",
      "Description: Precision with which to determine eclipse timings\n",
      "Value: 0.0001 d\n",
      "Constrained by: \n",
      "Constrains: None\n",
      "Related to: None\n",
      "Only relevant if: etv_method:crossing\n"
     ]
    }
   ],
   "source": [
    "print ps_compute['etv_tol']"
   ]
  },
  {
   "cell_type": "markdown",
   "metadata": {},
   "source": [
    "Synthetics\n",
    "------------------"
   ]
  },
  {
   "cell_type": "code",
   "execution_count": 13,
   "metadata": {
    "collapsed": false
   },
   "outputs": [
    {
     "data": {
      "text/plain": [
       "<ParameterSet: 19 parameters | contexts: dataset, constraint>"
      ]
     },
     "execution_count": 13,
     "metadata": {},
     "output_type": "execute_result"
    }
   ],
   "source": [
    "b.add_dataset('ETV', N=np.linspace(0,10,11), dataset='etv01')"
   ]
  },
  {
   "cell_type": "code",
   "execution_count": 14,
   "metadata": {
    "collapsed": false
   },
   "outputs": [
    {
     "data": {
      "text/plain": [
       "<ParameterSet: 18 parameters | qualifiers: dynamics_method, gridsize, stepsize, lc_method, atm, enabled, ltte, rv_grav, orbiterror, rv_method, etv_method, maxpoints, delta, etv_tol, store_mesh, distortion_method, eclipse_alg, mesh_method>"
      ]
     },
     "execution_count": 14,
     "metadata": {},
     "output_type": "execute_result"
    }
   ],
   "source": [
    "b.add_compute()"
   ]
  },
  {
   "cell_type": "code",
   "execution_count": 15,
   "metadata": {
    "collapsed": false
   },
   "outputs": [
    {
     "data": {
      "text/plain": [
       "<ParameterSet: 8 parameters | components: primary, secondary>"
      ]
     },
     "execution_count": 15,
     "metadata": {},
     "output_type": "execute_result"
    }
   ],
   "source": [
    "b.run_compute()"
   ]
  },
  {
   "cell_type": "code",
   "execution_count": 16,
   "metadata": {
    "collapsed": false
   },
   "outputs": [
    {
     "data": {
      "text/plain": [
       "['N@primary@etv01@phoebe01@tmpmodel@ETV@model',\n",
       " 'time_ecl@primary@etv01@phoebe01@tmpmodel@ETV@model',\n",
       " 'time_ephem@primary@etv01@phoebe01@tmpmodel@ETV@model',\n",
       " 'etv@primary@etv01@phoebe01@tmpmodel@ETV@model',\n",
       " 'N@secondary@etv01@phoebe01@tmpmodel@ETV@model',\n",
       " 'time_ecl@secondary@etv01@phoebe01@tmpmodel@ETV@model',\n",
       " 'time_ephem@secondary@etv01@phoebe01@tmpmodel@ETV@model',\n",
       " 'etv@secondary@etv01@phoebe01@tmpmodel@ETV@model']"
      ]
     },
     "execution_count": 16,
     "metadata": {},
     "output_type": "execute_result"
    }
   ],
   "source": [
    "b['ETV@model'].twigs"
   ]
  },
  {
   "cell_type": "code",
   "execution_count": 17,
   "metadata": {
    "collapsed": false
   },
   "outputs": [
    {
     "name": "stdout",
     "output_type": "stream",
     "text": [
      "Qualifier: time_ephem\n",
      "Description: Expected time of eclipse from the current ephemeris\n",
      "Value: [  0.   3.   6.   9.  12.  15.  18.  21.  24.  27.  30.] d\n",
      "Constrained by: \n",
      "Constrains: None\n",
      "Related to: None\n"
     ]
    }
   ],
   "source": [
    "print b['time_ephem@primary@ETV@model']"
   ]
  },
  {
   "cell_type": "code",
   "execution_count": 18,
   "metadata": {
    "collapsed": false
   },
   "outputs": [
    {
     "name": "stdout",
     "output_type": "stream",
     "text": [
      "Qualifier: time_ecl\n",
      "Description: Time of eclipse\n",
      "Value: [ -4.27380296e-29   3.00000000e+00   6.00000000e+00   9.00000000e+00\n",
      "   1.20000000e+01   1.50000000e+01   1.80000000e+01   2.10000000e+01\n",
      "   2.40000000e+01   2.70000000e+01   3.00000000e+01] d\n",
      "Constrained by: \n",
      "Constrains: None\n",
      "Related to: None\n"
     ]
    }
   ],
   "source": [
    "print b['time_ecl@primary@ETV@model']"
   ]
  },
  {
   "cell_type": "code",
   "execution_count": 19,
   "metadata": {
    "collapsed": false
   },
   "outputs": [
    {
     "name": "stdout",
     "output_type": "stream",
     "text": [
      "Qualifier: etv\n",
      "Description: Eclipse timing variation (time_obs - time_ephem)\n",
      "Value: [ -4.27380296e-29   0.00000000e+00   0.00000000e+00   0.00000000e+00\n",
      "   0.00000000e+00   0.00000000e+00   0.00000000e+00   0.00000000e+00\n",
      "   0.00000000e+00   0.00000000e+00   0.00000000e+00] d\n",
      "Constrained by: \n",
      "Constrains: None\n",
      "Related to: None\n"
     ]
    }
   ],
   "source": [
    "print b['etv@primary@ETV@model']"
   ]
  },
  {
   "cell_type": "markdown",
   "metadata": {},
   "source": [
    "Plotting\n",
    "---------------\n",
    "\n",
    "By default, ETV datasets plot as etv vs time_ephem.  Of course, a simple binary with no companion or apsidal motion won't show much of a signal (this is essentially flat with some noise).  To see more ETV examples see:\n",
    "\n",
    "* [Apsidal Motion](../examples/apsidal_motion)\n",
    "* [Minimial Hierarchical Triple](../examples/hierarchical_triple)\n",
    "* [LTTE ETVs in a Hierarchical Triple](../examples/hierarchical_triple_etvs)"
   ]
  },
  {
   "cell_type": "code",
   "execution_count": 20,
   "metadata": {
    "collapsed": false
   },
   "outputs": [
    {
     "data": {
      "image/png": "[encoded data removed]",
      "text/plain": [
       "<matplotlib.figure.Figure at 0x7f7704739cd0>"
      ]
     },
     "metadata": {},
     "output_type": "display_data"
    }
   ],
   "source": [
    "axs, artists = b['ETV@model'].plot()"
   ]
  },
  {
   "cell_type": "markdown",
   "metadata": {
    "collapsed": true
   },
   "source": [
    "Alternatively, especially when overplotting with a light curve, its sometimes handy to just plot ticks at each of the eclipse times.  This can easily be done by passing a single value for 'y'.\n",
    "\n",
    "For other examples with light curves as well see:\n",
    "* [Apsidal Motion](../examples/apsidal_motion)\n",
    "* [LTTE ETVs in a Hierarchical Triple](../examples/hierarchical_triple_etvs)\n",
    "\n"
   ]
  },
  {
   "cell_type": "code",
   "execution_count": 21,
   "metadata": {
    "collapsed": false
   },
   "outputs": [
    {
     "data": {
      "image/png": "[encoded data removed]",
      "text/plain": [
       "<matplotlib.figure.Figure at 0x7f770458ba90>"
      ]
     },
     "metadata": {},
     "output_type": "display_data"
    }
   ],
   "source": [
    "axs, artists = b['ETV@model'].plot(x='time_ecl', y=2)"
   ]
  }
 ],
 "metadata": {
  "kernelspec": {
   "display_name": "Python 2",
   "language": "python",
   "name": "python2"
  },
  "language_info": {
   "codemirror_mode": {
    "name": "ipython",
    "version": 2
   },
   "file_extension": ".py",
   "mimetype": "text/x-python",
   "name": "python",
   "nbconvert_exporter": "python",
   "pygments_lexer": "ipython2",
   "version": "2.7.11+"
  }
 },
 "nbformat": 4,
 "nbformat_minor": 0
}
