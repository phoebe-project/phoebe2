{
 "cells": [
  {
   "cell_type": "markdown",
   "metadata": {},
   "source": [
    "[IPython Notebook](beaming_boosting.ipynb) |  [Python Script](beaming_boosting.py)"
   ]
  },
  {
   "cell_type": "markdown",
   "metadata": {},
   "source": [
    "Beaming and Boosting (not yet implemented)\n",
    "============================\n",
    "\n",
    "Setup\n",
    "-----------------------------"
   ]
  },
  {
   "cell_type": "markdown",
   "metadata": {
    "collapsed": true
   },
   "source": [
    "As always, let's do imports and initialize a logger and a new bundle.  See [Building a System](building_a_system.html) for more details."
   ]
  },
  {
   "cell_type": "code",
   "execution_count": 1,
   "metadata": {
    "collapsed": true
   },
   "outputs": [],
   "source": [
    "%matplotlib inline"
   ]
  },
  {
   "cell_type": "code",
   "execution_count": 2,
   "metadata": {
    "collapsed": false
   },
   "outputs": [
    {
     "name": "stderr",
     "output_type": "stream",
     "text": [
      "/usr/local/lib/python2.7/dist-packages/astropy/units/quantity.py:732: FutureWarning: comparison to `None` will result in an elementwise object comparison in the future.\n",
      "  return super(Quantity, self).__eq__(other)\n"
     ]
    }
   ],
   "source": [
    "import phoebe\n",
    "from phoebe import u # units\n",
    "import numpy as np\n",
    "import matplotlib.pyplot as plt\n",
    "\n",
    "logger = phoebe.logger(clevel='INFO')\n",
    "\n",
    "b = phoebe.Bundle.default_binary()"
   ]
  },
  {
   "cell_type": "markdown",
   "metadata": {
    "collapsed": true
   },
   "source": [
    "\n",
    "We'll add LC, RV, and MESH datasets so that we can see how they're each affected by beaming and boosting."
   ]
  },
  {
   "cell_type": "code",
   "execution_count": 3,
   "metadata": {
    "collapsed": true
   },
   "outputs": [],
   "source": [
    "times = np.linspace(0,3,101)"
   ]
  },
  {
   "cell_type": "code",
   "execution_count": 4,
   "metadata": {
    "collapsed": false
   },
   "outputs": [
    {
     "data": {
      "text/plain": [
       "<ParameterSet: 18 parameters | methods: LC, LC_dep>"
      ]
     },
     "execution_count": 4,
     "metadata": {},
     "output_type": "execute_result"
    }
   ],
   "source": [
    "b.add_dataset('LC', time=times, dataset='lc01')"
   ]
  },
  {
   "cell_type": "code",
   "execution_count": 5,
   "metadata": {
    "collapsed": false
   },
   "outputs": [
    {
     "data": {
      "text/plain": [
       "<ParameterSet: 24 parameters | methods: RV, RV_dep>"
      ]
     },
     "execution_count": 5,
     "metadata": {},
     "output_type": "execute_result"
    }
   ],
   "source": [
    "b.add_dataset('RV', time=times, dataset='rv01')"
   ]
  },
  {
   "cell_type": "code",
   "execution_count": 6,
   "metadata": {
    "collapsed": false
   },
   "outputs": [
    {
     "data": {
      "text/plain": [
       "<ParameterSet: 1 parameters>"
      ]
     },
     "execution_count": 6,
     "metadata": {},
     "output_type": "execute_result"
    }
   ],
   "source": [
    "b.add_dataset('MESH', time=times[::10], dataset='mesh01')"
   ]
  },
  {
   "cell_type": "markdown",
   "metadata": {},
   "source": [
    "Relevant Parameters\n",
    "---------------------------------"
   ]
  },
  {
   "cell_type": "code",
   "execution_count": 7,
   "metadata": {
    "collapsed": false
   },
   "outputs": [
    {
     "data": {
      "text/plain": [
       "<ParameterSet: 19 parameters | qualifiers: dynamics_method, eclipse_alg, gridsize, stepsize, lc_method, atm, enabled, ltte, rv_grav, orbiterror, rv_method, etv_method, maxpoints, delta, etv_tol, store_mesh, distortion_method, subdiv_num, mesh_method>"
      ]
     },
     "execution_count": 7,
     "metadata": {},
     "output_type": "execute_result"
    }
   ],
   "source": [
    "b.add_compute(compute='mycompute')"
   ]
  },
  {
   "cell_type": "code",
   "execution_count": 8,
   "metadata": {
    "collapsed": false
   },
   "outputs": [],
   "source": [
    "#print b['boosting_alg']\n",
    "# not yet implemented"
   ]
  },
  {
   "cell_type": "code",
   "execution_count": 9,
   "metadata": {
    "collapsed": false
   },
   "outputs": [],
   "source": [
    "#print b['boosting_alg'].choices\n",
    "# not yet implemented"
   ]
  },
  {
   "cell_type": "markdown",
   "metadata": {},
   "source": [
    "Influence on Light Curves (fluxes)\n",
    "----------------------------"
   ]
  },
  {
   "cell_type": "code",
   "execution_count": 10,
   "metadata": {
    "collapsed": false
   },
   "outputs": [
    {
     "name": "stderr",
     "output_type": "stream",
     "text": [
      "/home/kyle/.local/lib/python2.7/site-packages/phoebe/backend/mesh.py:1862: DeprecationWarning: PyArray_FromDims: use PyArray_SimpleNew.\n",
      "  the_grid = cmarching.discretize(delta, maxpoints, *mesh_args)[:-2]\n",
      "/home/kyle/.local/lib/python2.7/site-packages/phoebe/backend/mesh.py:1862: DeprecationWarning: PyArray_FromDimsAndDataAndDescr: use PyArray_NewFromDescr.\n",
      "  the_grid = cmarching.discretize(delta, maxpoints, *mesh_args)[:-2]\n",
      "/home/kyle/.local/lib/python2.7/site-packages/phoebe/backend/mesh.py:1862: DeprecationWarning: PyArray_FromDims: use PyArray_SimpleNew.\n",
      "  the_grid = cmarching.discretize(delta, maxpoints, *mesh_args)[:-2]\n",
      "/home/kyle/.local/lib/python2.7/site-packages/phoebe/backend/mesh.py:1862: DeprecationWarning: PyArray_FromDimsAndDataAndDescr: use PyArray_NewFromDescr.\n",
      "  the_grid = cmarching.discretize(delta, maxpoints, *mesh_args)[:-2]\n",
      "/home/kyle/.local/lib/python2.7/site-packages/phoebe/backend/eclipse.py:10: DeprecationWarning: PyArray_FromDims: use PyArray_SimpleNew.\n",
      "  hull, inside = ceclipse.graham_scan_inside_hull(front[sa], back)\n",
      "/home/kyle/.local/lib/python2.7/site-packages/phoebe/backend/eclipse.py:10: DeprecationWarning: PyArray_FromDimsAndDataAndDescr: use PyArray_NewFromDescr.\n",
      "  hull, inside = ceclipse.graham_scan_inside_hull(front[sa], back)\n",
      "/home/kyle/.local/lib/python2.7/site-packages/phoebe/backend/eclipse.py:10: DeprecationWarning: PyArray_FromDims: use PyArray_SimpleNew.\n",
      "  hull, inside = ceclipse.graham_scan_inside_hull(front[sa], back)\n",
      "/home/kyle/.local/lib/python2.7/site-packages/phoebe/backend/eclipse.py:10: DeprecationWarning: PyArray_FromDimsAndDataAndDescr: use PyArray_NewFromDescr.\n",
      "  hull, inside = ceclipse.graham_scan_inside_hull(front[sa], back)\n",
      "/home/kyle/.local/lib/python2.7/site-packages/phoebe/backend/eclipse.py:10: DeprecationWarning: PyArray_FromDims: use PyArray_SimpleNew.\n",
      "  hull, inside = ceclipse.graham_scan_inside_hull(front[sa], back)\n",
      "/home/kyle/.local/lib/python2.7/site-packages/phoebe/backend/eclipse.py:10: DeprecationWarning: PyArray_FromDimsAndDataAndDescr: use PyArray_NewFromDescr.\n",
      "  hull, inside = ceclipse.graham_scan_inside_hull(front[sa], back)\n",
      "/home/kyle/.local/lib/python2.7/site-packages/phoebe/backend/eclipse.py:10: DeprecationWarning: PyArray_FromDims: use PyArray_SimpleNew.\n",
      "  hull, inside = ceclipse.graham_scan_inside_hull(front[sa], back)\n",
      "/home/kyle/.local/lib/python2.7/site-packages/phoebe/backend/eclipse.py:10: DeprecationWarning: PyArray_FromDimsAndDataAndDescr: use PyArray_NewFromDescr.\n",
      "  hull, inside = ceclipse.graham_scan_inside_hull(front[sa], back)\n",
      "/home/kyle/.local/lib/python2.7/site-packages/phoebe/backend/eclipse.py:10: DeprecationWarning: PyArray_FromDims: use PyArray_SimpleNew.\n",
      "  hull, inside = ceclipse.graham_scan_inside_hull(front[sa], back)\n",
      "/home/kyle/.local/lib/python2.7/site-packages/phoebe/backend/eclipse.py:10: DeprecationWarning: PyArray_FromDimsAndDataAndDescr: use PyArray_NewFromDescr.\n",
      "  hull, inside = ceclipse.graham_scan_inside_hull(front[sa], back)\n",
      "/home/kyle/.local/lib/python2.7/site-packages/phoebe/backend/eclipse.py:10: DeprecationWarning: PyArray_FromDims: use PyArray_SimpleNew.\n",
      "  hull, inside = ceclipse.graham_scan_inside_hull(front[sa], back)\n",
      "/home/kyle/.local/lib/python2.7/site-packages/phoebe/backend/eclipse.py:10: DeprecationWarning: PyArray_FromDimsAndDataAndDescr: use PyArray_NewFromDescr.\n",
      "  hull, inside = ceclipse.graham_scan_inside_hull(front[sa], back)\n",
      "/home/kyle/.local/lib/python2.7/site-packages/phoebe/backend/eclipse.py:10: DeprecationWarning: PyArray_FromDims: use PyArray_SimpleNew.\n",
      "  hull, inside = ceclipse.graham_scan_inside_hull(front[sa], back)\n",
      "/home/kyle/.local/lib/python2.7/site-packages/phoebe/backend/eclipse.py:10: DeprecationWarning: PyArray_FromDimsAndDataAndDescr: use PyArray_NewFromDescr.\n",
      "  hull, inside = ceclipse.graham_scan_inside_hull(front[sa], back)\n",
      "/home/kyle/.local/lib/python2.7/site-packages/phoebe/backend/eclipse.py:10: DeprecationWarning: PyArray_FromDims: use PyArray_SimpleNew.\n",
      "  hull, inside = ceclipse.graham_scan_inside_hull(front[sa], back)\n",
      "/home/kyle/.local/lib/python2.7/site-packages/phoebe/backend/eclipse.py:10: DeprecationWarning: PyArray_FromDimsAndDataAndDescr: use PyArray_NewFromDescr.\n",
      "  hull, inside = ceclipse.graham_scan_inside_hull(front[sa], back)\n",
      "/home/kyle/.local/lib/python2.7/site-packages/phoebe/backend/eclipse.py:10: DeprecationWarning: PyArray_FromDims: use PyArray_SimpleNew.\n",
      "  hull, inside = ceclipse.graham_scan_inside_hull(front[sa], back)\n",
      "/home/kyle/.local/lib/python2.7/site-packages/phoebe/backend/eclipse.py:10: DeprecationWarning: PyArray_FromDimsAndDataAndDescr: use PyArray_NewFromDescr.\n",
      "  hull, inside = ceclipse.graham_scan_inside_hull(front[sa], back)\n",
      "/home/kyle/.local/lib/python2.7/site-packages/phoebe/backend/eclipse.py:10: DeprecationWarning: PyArray_FromDims: use PyArray_SimpleNew.\n",
      "  hull, inside = ceclipse.graham_scan_inside_hull(front[sa], back)\n",
      "/home/kyle/.local/lib/python2.7/site-packages/phoebe/backend/eclipse.py:10: DeprecationWarning: PyArray_FromDimsAndDataAndDescr: use PyArray_NewFromDescr.\n",
      "  hull, inside = ceclipse.graham_scan_inside_hull(front[sa], back)\n",
      "/home/kyle/.local/lib/python2.7/site-packages/phoebe/backend/eclipse.py:10: DeprecationWarning: PyArray_FromDims: use PyArray_SimpleNew.\n",
      "  hull, inside = ceclipse.graham_scan_inside_hull(front[sa], back)\n",
      "/home/kyle/.local/lib/python2.7/site-packages/phoebe/backend/eclipse.py:10: DeprecationWarning: PyArray_FromDimsAndDataAndDescr: use PyArray_NewFromDescr.\n",
      "  hull, inside = ceclipse.graham_scan_inside_hull(front[sa], back)\n",
      "/home/kyle/.local/lib/python2.7/site-packages/phoebe/backend/eclipse.py:10: DeprecationWarning: PyArray_FromDims: use PyArray_SimpleNew.\n",
      "  hull, inside = ceclipse.graham_scan_inside_hull(front[sa], back)\n",
      "/home/kyle/.local/lib/python2.7/site-packages/phoebe/backend/eclipse.py:10: DeprecationWarning: PyArray_FromDimsAndDataAndDescr: use PyArray_NewFromDescr.\n",
      "  hull, inside = ceclipse.graham_scan_inside_hull(front[sa], back)\n",
      "/home/kyle/.local/lib/python2.7/site-packages/phoebe/backend/eclipse.py:10: DeprecationWarning: PyArray_FromDims: use PyArray_SimpleNew.\n",
      "  hull, inside = ceclipse.graham_scan_inside_hull(front[sa], back)\n",
      "/home/kyle/.local/lib/python2.7/site-packages/phoebe/backend/eclipse.py:10: DeprecationWarning: PyArray_FromDimsAndDataAndDescr: use PyArray_NewFromDescr.\n",
      "  hull, inside = ceclipse.graham_scan_inside_hull(front[sa], back)\n",
      "/home/kyle/.local/lib/python2.7/site-packages/phoebe/backend/eclipse.py:10: DeprecationWarning: PyArray_FromDims: use PyArray_SimpleNew.\n",
      "  hull, inside = ceclipse.graham_scan_inside_hull(front[sa], back)\n",
      "/home/kyle/.local/lib/python2.7/site-packages/phoebe/backend/eclipse.py:10: DeprecationWarning: PyArray_FromDimsAndDataAndDescr: use PyArray_NewFromDescr.\n",
      "  hull, inside = ceclipse.graham_scan_inside_hull(front[sa], back)\n",
      "/home/kyle/.local/lib/python2.7/site-packages/phoebe/backend/eclipse.py:10: DeprecationWarning: PyArray_FromDims: use PyArray_SimpleNew.\n",
      "  hull, inside = ceclipse.graham_scan_inside_hull(front[sa], back)\n",
      "/home/kyle/.local/lib/python2.7/site-packages/phoebe/backend/eclipse.py:10: DeprecationWarning: PyArray_FromDimsAndDataAndDescr: use PyArray_NewFromDescr.\n",
      "  hull, inside = ceclipse.graham_scan_inside_hull(front[sa], back)\n",
      "/home/kyle/.local/lib/python2.7/site-packages/phoebe/backend/eclipse.py:10: DeprecationWarning: PyArray_FromDims: use PyArray_SimpleNew.\n",
      "  hull, inside = ceclipse.graham_scan_inside_hull(front[sa], back)\n",
      "/home/kyle/.local/lib/python2.7/site-packages/phoebe/backend/eclipse.py:10: DeprecationWarning: PyArray_FromDimsAndDataAndDescr: use PyArray_NewFromDescr.\n",
      "  hull, inside = ceclipse.graham_scan_inside_hull(front[sa], back)\n",
      "/home/kyle/.local/lib/python2.7/site-packages/phoebe/backend/eclipse.py:10: DeprecationWarning: PyArray_FromDims: use PyArray_SimpleNew.\n",
      "  hull, inside = ceclipse.graham_scan_inside_hull(front[sa], back)\n",
      "/home/kyle/.local/lib/python2.7/site-packages/phoebe/backend/eclipse.py:10: DeprecationWarning: PyArray_FromDimsAndDataAndDescr: use PyArray_NewFromDescr.\n",
      "  hull, inside = ceclipse.graham_scan_inside_hull(front[sa], back)\n",
      "/home/kyle/.local/lib/python2.7/site-packages/phoebe/backend/eclipse.py:10: DeprecationWarning: PyArray_FromDims: use PyArray_SimpleNew.\n",
      "  hull, inside = ceclipse.graham_scan_inside_hull(front[sa], back)\n",
      "/home/kyle/.local/lib/python2.7/site-packages/phoebe/backend/eclipse.py:10: DeprecationWarning: PyArray_FromDimsAndDataAndDescr: use PyArray_NewFromDescr.\n",
      "  hull, inside = ceclipse.graham_scan_inside_hull(front[sa], back)\n",
      "/home/kyle/.local/lib/python2.7/site-packages/phoebe/backend/eclipse.py:10: DeprecationWarning: PyArray_FromDims: use PyArray_SimpleNew.\n",
      "  hull, inside = ceclipse.graham_scan_inside_hull(front[sa], back)\n",
      "/home/kyle/.local/lib/python2.7/site-packages/phoebe/backend/eclipse.py:10: DeprecationWarning: PyArray_FromDimsAndDataAndDescr: use PyArray_NewFromDescr.\n",
      "  hull, inside = ceclipse.graham_scan_inside_hull(front[sa], back)\n",
      "/home/kyle/.local/lib/python2.7/site-packages/phoebe/backend/eclipse.py:10: DeprecationWarning: PyArray_FromDims: use PyArray_SimpleNew.\n",
      "  hull, inside = ceclipse.graham_scan_inside_hull(front[sa], back)\n",
      "/home/kyle/.local/lib/python2.7/site-packages/phoebe/backend/eclipse.py:10: DeprecationWarning: PyArray_FromDimsAndDataAndDescr: use PyArray_NewFromDescr.\n",
      "  hull, inside = ceclipse.graham_scan_inside_hull(front[sa], back)\n",
      "/home/kyle/.local/lib/python2.7/site-packages/phoebe/backend/eclipse.py:10: DeprecationWarning: PyArray_FromDims: use PyArray_SimpleNew.\n",
      "  hull, inside = ceclipse.graham_scan_inside_hull(front[sa], back)\n",
      "/home/kyle/.local/lib/python2.7/site-packages/phoebe/backend/eclipse.py:10: DeprecationWarning: PyArray_FromDimsAndDataAndDescr: use PyArray_NewFromDescr.\n",
      "  hull, inside = ceclipse.graham_scan_inside_hull(front[sa], back)\n",
      "/home/kyle/.local/lib/python2.7/site-packages/phoebe/backend/eclipse.py:10: DeprecationWarning: PyArray_FromDims: use PyArray_SimpleNew.\n",
      "  hull, inside = ceclipse.graham_scan_inside_hull(front[sa], back)\n",
      "/home/kyle/.local/lib/python2.7/site-packages/phoebe/backend/eclipse.py:10: DeprecationWarning: PyArray_FromDimsAndDataAndDescr: use PyArray_NewFromDescr.\n",
      "  hull, inside = ceclipse.graham_scan_inside_hull(front[sa], back)\n",
      "/home/kyle/.local/lib/python2.7/site-packages/phoebe/backend/eclipse.py:10: DeprecationWarning: PyArray_FromDims: use PyArray_SimpleNew.\n",
      "  hull, inside = ceclipse.graham_scan_inside_hull(front[sa], back)\n",
      "/home/kyle/.local/lib/python2.7/site-packages/phoebe/backend/eclipse.py:10: DeprecationWarning: PyArray_FromDimsAndDataAndDescr: use PyArray_NewFromDescr.\n",
      "  hull, inside = ceclipse.graham_scan_inside_hull(front[sa], back)\n",
      "/home/kyle/.local/lib/python2.7/site-packages/phoebe/backend/eclipse.py:10: DeprecationWarning: PyArray_FromDims: use PyArray_SimpleNew.\n",
      "  hull, inside = ceclipse.graham_scan_inside_hull(front[sa], back)\n",
      "/home/kyle/.local/lib/python2.7/site-packages/phoebe/backend/eclipse.py:10: DeprecationWarning: PyArray_FromDimsAndDataAndDescr: use PyArray_NewFromDescr.\n",
      "  hull, inside = ceclipse.graham_scan_inside_hull(front[sa], back)\n",
      "/home/kyle/.local/lib/python2.7/site-packages/phoebe/backend/eclipse.py:10: DeprecationWarning: PyArray_FromDims: use PyArray_SimpleNew.\n",
      "  hull, inside = ceclipse.graham_scan_inside_hull(front[sa], back)\n",
      "/home/kyle/.local/lib/python2.7/site-packages/phoebe/backend/eclipse.py:10: DeprecationWarning: PyArray_FromDimsAndDataAndDescr: use PyArray_NewFromDescr.\n",
      "  hull, inside = ceclipse.graham_scan_inside_hull(front[sa], back)\n",
      "/home/kyle/.local/lib/python2.7/site-packages/phoebe/backend/eclipse.py:10: DeprecationWarning: PyArray_FromDims: use PyArray_SimpleNew.\n",
      "  hull, inside = ceclipse.graham_scan_inside_hull(front[sa], back)\n",
      "/home/kyle/.local/lib/python2.7/site-packages/phoebe/backend/eclipse.py:10: DeprecationWarning: PyArray_FromDimsAndDataAndDescr: use PyArray_NewFromDescr.\n",
      "  hull, inside = ceclipse.graham_scan_inside_hull(front[sa], back)\n",
      "/home/kyle/.local/lib/python2.7/site-packages/phoebe/backend/eclipse.py:10: DeprecationWarning: PyArray_FromDims: use PyArray_SimpleNew.\n",
      "  hull, inside = ceclipse.graham_scan_inside_hull(front[sa], back)\n",
      "/home/kyle/.local/lib/python2.7/site-packages/phoebe/backend/eclipse.py:10: DeprecationWarning: PyArray_FromDimsAndDataAndDescr: use PyArray_NewFromDescr.\n",
      "  hull, inside = ceclipse.graham_scan_inside_hull(front[sa], back)\n",
      "/home/kyle/.local/lib/python2.7/site-packages/phoebe/backend/eclipse.py:10: DeprecationWarning: PyArray_FromDims: use PyArray_SimpleNew.\n",
      "  hull, inside = ceclipse.graham_scan_inside_hull(front[sa], back)\n",
      "/home/kyle/.local/lib/python2.7/site-packages/phoebe/backend/eclipse.py:10: DeprecationWarning: PyArray_FromDimsAndDataAndDescr: use PyArray_NewFromDescr.\n",
      "  hull, inside = ceclipse.graham_scan_inside_hull(front[sa], back)\n",
      "/home/kyle/.local/lib/python2.7/site-packages/phoebe/backend/eclipse.py:10: DeprecationWarning: PyArray_FromDims: use PyArray_SimpleNew.\n",
      "  hull, inside = ceclipse.graham_scan_inside_hull(front[sa], back)\n",
      "/home/kyle/.local/lib/python2.7/site-packages/phoebe/backend/eclipse.py:10: DeprecationWarning: PyArray_FromDimsAndDataAndDescr: use PyArray_NewFromDescr.\n",
      "  hull, inside = ceclipse.graham_scan_inside_hull(front[sa], back)\n",
      "/home/kyle/.local/lib/python2.7/site-packages/phoebe/backend/eclipse.py:10: DeprecationWarning: PyArray_FromDims: use PyArray_SimpleNew.\n",
      "  hull, inside = ceclipse.graham_scan_inside_hull(front[sa], back)\n",
      "/home/kyle/.local/lib/python2.7/site-packages/phoebe/backend/eclipse.py:10: DeprecationWarning: PyArray_FromDimsAndDataAndDescr: use PyArray_NewFromDescr.\n",
      "  hull, inside = ceclipse.graham_scan_inside_hull(front[sa], back)\n",
      "/home/kyle/.local/lib/python2.7/site-packages/phoebe/backend/eclipse.py:10: DeprecationWarning: PyArray_FromDims: use PyArray_SimpleNew.\n",
      "  hull, inside = ceclipse.graham_scan_inside_hull(front[sa], back)\n",
      "/home/kyle/.local/lib/python2.7/site-packages/phoebe/backend/eclipse.py:10: DeprecationWarning: PyArray_FromDimsAndDataAndDescr: use PyArray_NewFromDescr.\n",
      "  hull, inside = ceclipse.graham_scan_inside_hull(front[sa], back)\n",
      "/home/kyle/.local/lib/python2.7/site-packages/phoebe/backend/eclipse.py:10: DeprecationWarning: PyArray_FromDims: use PyArray_SimpleNew.\n",
      "  hull, inside = ceclipse.graham_scan_inside_hull(front[sa], back)\n",
      "/home/kyle/.local/lib/python2.7/site-packages/phoebe/backend/eclipse.py:10: DeprecationWarning: PyArray_FromDimsAndDataAndDescr: use PyArray_NewFromDescr.\n",
      "  hull, inside = ceclipse.graham_scan_inside_hull(front[sa], back)\n",
      "/home/kyle/.local/lib/python2.7/site-packages/phoebe/backend/eclipse.py:10: DeprecationWarning: PyArray_FromDims: use PyArray_SimpleNew.\n",
      "  hull, inside = ceclipse.graham_scan_inside_hull(front[sa], back)\n",
      "/home/kyle/.local/lib/python2.7/site-packages/phoebe/backend/eclipse.py:10: DeprecationWarning: PyArray_FromDimsAndDataAndDescr: use PyArray_NewFromDescr.\n",
      "  hull, inside = ceclipse.graham_scan_inside_hull(front[sa], back)\n",
      "/home/kyle/.local/lib/python2.7/site-packages/phoebe/backend/eclipse.py:10: DeprecationWarning: PyArray_FromDims: use PyArray_SimpleNew.\n",
      "  hull, inside = ceclipse.graham_scan_inside_hull(front[sa], back)\n",
      "/home/kyle/.local/lib/python2.7/site-packages/phoebe/backend/eclipse.py:10: DeprecationWarning: PyArray_FromDimsAndDataAndDescr: use PyArray_NewFromDescr.\n",
      "  hull, inside = ceclipse.graham_scan_inside_hull(front[sa], back)\n",
      "/home/kyle/.local/lib/python2.7/site-packages/phoebe/backend/eclipse.py:10: DeprecationWarning: PyArray_FromDims: use PyArray_SimpleNew.\n",
      "  hull, inside = ceclipse.graham_scan_inside_hull(front[sa], back)\n",
      "/home/kyle/.local/lib/python2.7/site-packages/phoebe/backend/eclipse.py:10: DeprecationWarning: PyArray_FromDimsAndDataAndDescr: use PyArray_NewFromDescr.\n",
      "  hull, inside = ceclipse.graham_scan_inside_hull(front[sa], back)\n",
      "/home/kyle/.local/lib/python2.7/site-packages/phoebe/backend/eclipse.py:10: DeprecationWarning: PyArray_FromDims: use PyArray_SimpleNew.\n",
      "  hull, inside = ceclipse.graham_scan_inside_hull(front[sa], back)\n",
      "/home/kyle/.local/lib/python2.7/site-packages/phoebe/backend/eclipse.py:10: DeprecationWarning: PyArray_FromDimsAndDataAndDescr: use PyArray_NewFromDescr.\n",
      "  hull, inside = ceclipse.graham_scan_inside_hull(front[sa], back)\n",
      "/home/kyle/.local/lib/python2.7/site-packages/phoebe/backend/eclipse.py:10: DeprecationWarning: PyArray_FromDims: use PyArray_SimpleNew.\n",
      "  hull, inside = ceclipse.graham_scan_inside_hull(front[sa], back)\n",
      "/home/kyle/.local/lib/python2.7/site-packages/phoebe/backend/eclipse.py:10: DeprecationWarning: PyArray_FromDimsAndDataAndDescr: use PyArray_NewFromDescr.\n",
      "  hull, inside = ceclipse.graham_scan_inside_hull(front[sa], back)\n",
      "/home/kyle/.local/lib/python2.7/site-packages/phoebe/backend/eclipse.py:10: DeprecationWarning: PyArray_FromDims: use PyArray_SimpleNew.\n",
      "  hull, inside = ceclipse.graham_scan_inside_hull(front[sa], back)\n",
      "/home/kyle/.local/lib/python2.7/site-packages/phoebe/backend/eclipse.py:10: DeprecationWarning: PyArray_FromDimsAndDataAndDescr: use PyArray_NewFromDescr.\n",
      "  hull, inside = ceclipse.graham_scan_inside_hull(front[sa], back)\n",
      "/home/kyle/.local/lib/python2.7/site-packages/phoebe/backend/eclipse.py:10: DeprecationWarning: PyArray_FromDims: use PyArray_SimpleNew.\n",
      "  hull, inside = ceclipse.graham_scan_inside_hull(front[sa], back)\n",
      "/home/kyle/.local/lib/python2.7/site-packages/phoebe/backend/eclipse.py:10: DeprecationWarning: PyArray_FromDimsAndDataAndDescr: use PyArray_NewFromDescr.\n",
      "  hull, inside = ceclipse.graham_scan_inside_hull(front[sa], back)\n",
      "/home/kyle/.local/lib/python2.7/site-packages/phoebe/backend/eclipse.py:10: DeprecationWarning: PyArray_FromDims: use PyArray_SimpleNew.\n",
      "  hull, inside = ceclipse.graham_scan_inside_hull(front[sa], back)\n",
      "/home/kyle/.local/lib/python2.7/site-packages/phoebe/backend/eclipse.py:10: DeprecationWarning: PyArray_FromDimsAndDataAndDescr: use PyArray_NewFromDescr.\n",
      "  hull, inside = ceclipse.graham_scan_inside_hull(front[sa], back)\n",
      "/home/kyle/.local/lib/python2.7/site-packages/phoebe/backend/eclipse.py:10: DeprecationWarning: PyArray_FromDims: use PyArray_SimpleNew.\n",
      "  hull, inside = ceclipse.graham_scan_inside_hull(front[sa], back)\n",
      "/home/kyle/.local/lib/python2.7/site-packages/phoebe/backend/eclipse.py:10: DeprecationWarning: PyArray_FromDimsAndDataAndDescr: use PyArray_NewFromDescr.\n",
      "  hull, inside = ceclipse.graham_scan_inside_hull(front[sa], back)\n",
      "/home/kyle/.local/lib/python2.7/site-packages/phoebe/backend/eclipse.py:10: DeprecationWarning: PyArray_FromDims: use PyArray_SimpleNew.\n",
      "  hull, inside = ceclipse.graham_scan_inside_hull(front[sa], back)\n",
      "/home/kyle/.local/lib/python2.7/site-packages/phoebe/backend/eclipse.py:10: DeprecationWarning: PyArray_FromDimsAndDataAndDescr: use PyArray_NewFromDescr.\n",
      "  hull, inside = ceclipse.graham_scan_inside_hull(front[sa], back)\n",
      "/home/kyle/.local/lib/python2.7/site-packages/phoebe/backend/eclipse.py:10: DeprecationWarning: PyArray_FromDims: use PyArray_SimpleNew.\n",
      "  hull, inside = ceclipse.graham_scan_inside_hull(front[sa], back)\n",
      "/home/kyle/.local/lib/python2.7/site-packages/phoebe/backend/eclipse.py:10: DeprecationWarning: PyArray_FromDimsAndDataAndDescr: use PyArray_NewFromDescr.\n",
      "  hull, inside = ceclipse.graham_scan_inside_hull(front[sa], back)\n",
      "/home/kyle/.local/lib/python2.7/site-packages/phoebe/backend/eclipse.py:10: DeprecationWarning: PyArray_FromDims: use PyArray_SimpleNew.\n",
      "  hull, inside = ceclipse.graham_scan_inside_hull(front[sa], back)\n",
      "/home/kyle/.local/lib/python2.7/site-packages/phoebe/backend/eclipse.py:10: DeprecationWarning: PyArray_FromDimsAndDataAndDescr: use PyArray_NewFromDescr.\n",
      "  hull, inside = ceclipse.graham_scan_inside_hull(front[sa], back)\n",
      "/home/kyle/.local/lib/python2.7/site-packages/phoebe/backend/eclipse.py:10: DeprecationWarning: PyArray_FromDims: use PyArray_SimpleNew.\n",
      "  hull, inside = ceclipse.graham_scan_inside_hull(front[sa], back)\n",
      "/home/kyle/.local/lib/python2.7/site-packages/phoebe/backend/eclipse.py:10: DeprecationWarning: PyArray_FromDimsAndDataAndDescr: use PyArray_NewFromDescr.\n",
      "  hull, inside = ceclipse.graham_scan_inside_hull(front[sa], back)\n",
      "/home/kyle/.local/lib/python2.7/site-packages/phoebe/backend/eclipse.py:10: DeprecationWarning: PyArray_FromDims: use PyArray_SimpleNew.\n",
      "  hull, inside = ceclipse.graham_scan_inside_hull(front[sa], back)\n",
      "/home/kyle/.local/lib/python2.7/site-packages/phoebe/backend/eclipse.py:10: DeprecationWarning: PyArray_FromDimsAndDataAndDescr: use PyArray_NewFromDescr.\n",
      "  hull, inside = ceclipse.graham_scan_inside_hull(front[sa], back)\n",
      "/home/kyle/.local/lib/python2.7/site-packages/phoebe/backend/eclipse.py:10: DeprecationWarning: PyArray_FromDims: use PyArray_SimpleNew.\n",
      "  hull, inside = ceclipse.graham_scan_inside_hull(front[sa], back)\n",
      "/home/kyle/.local/lib/python2.7/site-packages/phoebe/backend/eclipse.py:10: DeprecationWarning: PyArray_FromDimsAndDataAndDescr: use PyArray_NewFromDescr.\n",
      "  hull, inside = ceclipse.graham_scan_inside_hull(front[sa], back)\n",
      "/home/kyle/.local/lib/python2.7/site-packages/phoebe/backend/eclipse.py:10: DeprecationWarning: PyArray_FromDims: use PyArray_SimpleNew.\n",
      "  hull, inside = ceclipse.graham_scan_inside_hull(front[sa], back)\n",
      "/home/kyle/.local/lib/python2.7/site-packages/phoebe/backend/eclipse.py:10: DeprecationWarning: PyArray_FromDimsAndDataAndDescr: use PyArray_NewFromDescr.\n",
      "  hull, inside = ceclipse.graham_scan_inside_hull(front[sa], back)\n",
      "/home/kyle/.local/lib/python2.7/site-packages/phoebe/backend/eclipse.py:10: DeprecationWarning: PyArray_FromDims: use PyArray_SimpleNew.\n",
      "  hull, inside = ceclipse.graham_scan_inside_hull(front[sa], back)\n",
      "/home/kyle/.local/lib/python2.7/site-packages/phoebe/backend/eclipse.py:10: DeprecationWarning: PyArray_FromDimsAndDataAndDescr: use PyArray_NewFromDescr.\n",
      "  hull, inside = ceclipse.graham_scan_inside_hull(front[sa], back)\n",
      "/home/kyle/.local/lib/python2.7/site-packages/phoebe/backend/eclipse.py:10: DeprecationWarning: PyArray_FromDims: use PyArray_SimpleNew.\n",
      "  hull, inside = ceclipse.graham_scan_inside_hull(front[sa], back)\n",
      "/home/kyle/.local/lib/python2.7/site-packages/phoebe/backend/eclipse.py:10: DeprecationWarning: PyArray_FromDimsAndDataAndDescr: use PyArray_NewFromDescr.\n",
      "  hull, inside = ceclipse.graham_scan_inside_hull(front[sa], back)\n",
      "/home/kyle/.local/lib/python2.7/site-packages/phoebe/backend/eclipse.py:10: DeprecationWarning: PyArray_FromDims: use PyArray_SimpleNew.\n",
      "  hull, inside = ceclipse.graham_scan_inside_hull(front[sa], back)\n",
      "/home/kyle/.local/lib/python2.7/site-packages/phoebe/backend/eclipse.py:10: DeprecationWarning: PyArray_FromDimsAndDataAndDescr: use PyArray_NewFromDescr.\n",
      "  hull, inside = ceclipse.graham_scan_inside_hull(front[sa], back)\n",
      "/home/kyle/.local/lib/python2.7/site-packages/phoebe/backend/eclipse.py:10: DeprecationWarning: PyArray_FromDims: use PyArray_SimpleNew.\n",
      "  hull, inside = ceclipse.graham_scan_inside_hull(front[sa], back)\n",
      "/home/kyle/.local/lib/python2.7/site-packages/phoebe/backend/eclipse.py:10: DeprecationWarning: PyArray_FromDimsAndDataAndDescr: use PyArray_NewFromDescr.\n",
      "  hull, inside = ceclipse.graham_scan_inside_hull(front[sa], back)\n",
      "/home/kyle/.local/lib/python2.7/site-packages/phoebe/backend/eclipse.py:10: DeprecationWarning: PyArray_FromDims: use PyArray_SimpleNew.\n",
      "  hull, inside = ceclipse.graham_scan_inside_hull(front[sa], back)\n",
      "/home/kyle/.local/lib/python2.7/site-packages/phoebe/backend/eclipse.py:10: DeprecationWarning: PyArray_FromDimsAndDataAndDescr: use PyArray_NewFromDescr.\n",
      "  hull, inside = ceclipse.graham_scan_inside_hull(front[sa], back)\n",
      "/home/kyle/.local/lib/python2.7/site-packages/phoebe/backend/eclipse.py:10: DeprecationWarning: PyArray_FromDims: use PyArray_SimpleNew.\n",
      "  hull, inside = ceclipse.graham_scan_inside_hull(front[sa], back)\n",
      "/home/kyle/.local/lib/python2.7/site-packages/phoebe/backend/eclipse.py:10: DeprecationWarning: PyArray_FromDimsAndDataAndDescr: use PyArray_NewFromDescr.\n",
      "  hull, inside = ceclipse.graham_scan_inside_hull(front[sa], back)\n",
      "/home/kyle/.local/lib/python2.7/site-packages/phoebe/backend/eclipse.py:10: DeprecationWarning: PyArray_FromDims: use PyArray_SimpleNew.\n",
      "  hull, inside = ceclipse.graham_scan_inside_hull(front[sa], back)\n",
      "/home/kyle/.local/lib/python2.7/site-packages/phoebe/backend/eclipse.py:10: DeprecationWarning: PyArray_FromDimsAndDataAndDescr: use PyArray_NewFromDescr.\n",
      "  hull, inside = ceclipse.graham_scan_inside_hull(front[sa], back)\n",
      "/home/kyle/.local/lib/python2.7/site-packages/phoebe/backend/eclipse.py:10: DeprecationWarning: PyArray_FromDims: use PyArray_SimpleNew.\n",
      "  hull, inside = ceclipse.graham_scan_inside_hull(front[sa], back)\n",
      "/home/kyle/.local/lib/python2.7/site-packages/phoebe/backend/eclipse.py:10: DeprecationWarning: PyArray_FromDimsAndDataAndDescr: use PyArray_NewFromDescr.\n",
      "  hull, inside = ceclipse.graham_scan_inside_hull(front[sa], back)\n",
      "/home/kyle/.local/lib/python2.7/site-packages/phoebe/backend/eclipse.py:10: DeprecationWarning: PyArray_FromDims: use PyArray_SimpleNew.\n",
      "  hull, inside = ceclipse.graham_scan_inside_hull(front[sa], back)\n",
      "/home/kyle/.local/lib/python2.7/site-packages/phoebe/backend/eclipse.py:10: DeprecationWarning: PyArray_FromDimsAndDataAndDescr: use PyArray_NewFromDescr.\n",
      "  hull, inside = ceclipse.graham_scan_inside_hull(front[sa], back)\n",
      "/home/kyle/.local/lib/python2.7/site-packages/phoebe/backend/eclipse.py:10: DeprecationWarning: PyArray_FromDims: use PyArray_SimpleNew.\n",
      "  hull, inside = ceclipse.graham_scan_inside_hull(front[sa], back)\n",
      "/home/kyle/.local/lib/python2.7/site-packages/phoebe/backend/eclipse.py:10: DeprecationWarning: PyArray_FromDimsAndDataAndDescr: use PyArray_NewFromDescr.\n",
      "  hull, inside = ceclipse.graham_scan_inside_hull(front[sa], back)\n",
      "/home/kyle/.local/lib/python2.7/site-packages/phoebe/backend/eclipse.py:10: DeprecationWarning: PyArray_FromDims: use PyArray_SimpleNew.\n",
      "  hull, inside = ceclipse.graham_scan_inside_hull(front[sa], back)\n",
      "/home/kyle/.local/lib/python2.7/site-packages/phoebe/backend/eclipse.py:10: DeprecationWarning: PyArray_FromDimsAndDataAndDescr: use PyArray_NewFromDescr.\n",
      "  hull, inside = ceclipse.graham_scan_inside_hull(front[sa], back)\n",
      "/home/kyle/.local/lib/python2.7/site-packages/phoebe/backend/eclipse.py:10: DeprecationWarning: PyArray_FromDims: use PyArray_SimpleNew.\n",
      "  hull, inside = ceclipse.graham_scan_inside_hull(front[sa], back)\n",
      "/home/kyle/.local/lib/python2.7/site-packages/phoebe/backend/eclipse.py:10: DeprecationWarning: PyArray_FromDimsAndDataAndDescr: use PyArray_NewFromDescr.\n",
      "  hull, inside = ceclipse.graham_scan_inside_hull(front[sa], back)\n",
      "/home/kyle/.local/lib/python2.7/site-packages/phoebe/backend/eclipse.py:10: DeprecationWarning: PyArray_FromDims: use PyArray_SimpleNew.\n",
      "  hull, inside = ceclipse.graham_scan_inside_hull(front[sa], back)\n",
      "/home/kyle/.local/lib/python2.7/site-packages/phoebe/backend/eclipse.py:10: DeprecationWarning: PyArray_FromDimsAndDataAndDescr: use PyArray_NewFromDescr.\n",
      "  hull, inside = ceclipse.graham_scan_inside_hull(front[sa], back)\n",
      "/home/kyle/.local/lib/python2.7/site-packages/phoebe/backend/eclipse.py:10: DeprecationWarning: PyArray_FromDims: use PyArray_SimpleNew.\n",
      "  hull, inside = ceclipse.graham_scan_inside_hull(front[sa], back)\n",
      "/home/kyle/.local/lib/python2.7/site-packages/phoebe/backend/eclipse.py:10: DeprecationWarning: PyArray_FromDimsAndDataAndDescr: use PyArray_NewFromDescr.\n",
      "  hull, inside = ceclipse.graham_scan_inside_hull(front[sa], back)\n",
      "/home/kyle/.local/lib/python2.7/site-packages/phoebe/backend/eclipse.py:10: DeprecationWarning: PyArray_FromDims: use PyArray_SimpleNew.\n",
      "  hull, inside = ceclipse.graham_scan_inside_hull(front[sa], back)\n",
      "/home/kyle/.local/lib/python2.7/site-packages/phoebe/backend/eclipse.py:10: DeprecationWarning: PyArray_FromDimsAndDataAndDescr: use PyArray_NewFromDescr.\n",
      "  hull, inside = ceclipse.graham_scan_inside_hull(front[sa], back)\n",
      "/home/kyle/.local/lib/python2.7/site-packages/phoebe/backend/eclipse.py:10: DeprecationWarning: PyArray_FromDims: use PyArray_SimpleNew.\n",
      "  hull, inside = ceclipse.graham_scan_inside_hull(front[sa], back)\n",
      "/home/kyle/.local/lib/python2.7/site-packages/phoebe/backend/eclipse.py:10: DeprecationWarning: PyArray_FromDimsAndDataAndDescr: use PyArray_NewFromDescr.\n",
      "  hull, inside = ceclipse.graham_scan_inside_hull(front[sa], back)\n",
      "/home/kyle/.local/lib/python2.7/site-packages/phoebe/backend/eclipse.py:10: DeprecationWarning: PyArray_FromDims: use PyArray_SimpleNew.\n",
      "  hull, inside = ceclipse.graham_scan_inside_hull(front[sa], back)\n",
      "/home/kyle/.local/lib/python2.7/site-packages/phoebe/backend/eclipse.py:10: DeprecationWarning: PyArray_FromDimsAndDataAndDescr: use PyArray_NewFromDescr.\n",
      "  hull, inside = ceclipse.graham_scan_inside_hull(front[sa], back)\n",
      "/home/kyle/.local/lib/python2.7/site-packages/phoebe/backend/eclipse.py:10: DeprecationWarning: PyArray_FromDims: use PyArray_SimpleNew.\n",
      "  hull, inside = ceclipse.graham_scan_inside_hull(front[sa], back)\n",
      "/home/kyle/.local/lib/python2.7/site-packages/phoebe/backend/eclipse.py:10: DeprecationWarning: PyArray_FromDimsAndDataAndDescr: use PyArray_NewFromDescr.\n",
      "  hull, inside = ceclipse.graham_scan_inside_hull(front[sa], back)\n",
      "/home/kyle/.local/lib/python2.7/site-packages/phoebe/backend/eclipse.py:10: DeprecationWarning: PyArray_FromDims: use PyArray_SimpleNew.\n",
      "  hull, inside = ceclipse.graham_scan_inside_hull(front[sa], back)\n",
      "/home/kyle/.local/lib/python2.7/site-packages/phoebe/backend/eclipse.py:10: DeprecationWarning: PyArray_FromDimsAndDataAndDescr: use PyArray_NewFromDescr.\n",
      "  hull, inside = ceclipse.graham_scan_inside_hull(front[sa], back)\n",
      "/home/kyle/.local/lib/python2.7/site-packages/phoebe/backend/eclipse.py:10: DeprecationWarning: PyArray_FromDims: use PyArray_SimpleNew.\n",
      "  hull, inside = ceclipse.graham_scan_inside_hull(front[sa], back)\n",
      "/home/kyle/.local/lib/python2.7/site-packages/phoebe/backend/eclipse.py:10: DeprecationWarning: PyArray_FromDimsAndDataAndDescr: use PyArray_NewFromDescr.\n",
      "  hull, inside = ceclipse.graham_scan_inside_hull(front[sa], back)\n",
      "/home/kyle/.local/lib/python2.7/site-packages/phoebe/backend/eclipse.py:10: DeprecationWarning: PyArray_FromDims: use PyArray_SimpleNew.\n",
      "  hull, inside = ceclipse.graham_scan_inside_hull(front[sa], back)\n",
      "/home/kyle/.local/lib/python2.7/site-packages/phoebe/backend/eclipse.py:10: DeprecationWarning: PyArray_FromDimsAndDataAndDescr: use PyArray_NewFromDescr.\n",
      "  hull, inside = ceclipse.graham_scan_inside_hull(front[sa], back)\n",
      "/home/kyle/.local/lib/python2.7/site-packages/phoebe/backend/eclipse.py:10: DeprecationWarning: PyArray_FromDims: use PyArray_SimpleNew.\n",
      "  hull, inside = ceclipse.graham_scan_inside_hull(front[sa], back)\n",
      "/home/kyle/.local/lib/python2.7/site-packages/phoebe/backend/eclipse.py:10: DeprecationWarning: PyArray_FromDimsAndDataAndDescr: use PyArray_NewFromDescr.\n",
      "  hull, inside = ceclipse.graham_scan_inside_hull(front[sa], back)\n",
      "/home/kyle/.local/lib/python2.7/site-packages/phoebe/backend/eclipse.py:10: DeprecationWarning: PyArray_FromDims: use PyArray_SimpleNew.\n",
      "  hull, inside = ceclipse.graham_scan_inside_hull(front[sa], back)\n",
      "/home/kyle/.local/lib/python2.7/site-packages/phoebe/backend/eclipse.py:10: DeprecationWarning: PyArray_FromDimsAndDataAndDescr: use PyArray_NewFromDescr.\n",
      "  hull, inside = ceclipse.graham_scan_inside_hull(front[sa], back)\n",
      "/home/kyle/.local/lib/python2.7/site-packages/phoebe/backend/eclipse.py:10: DeprecationWarning: PyArray_FromDims: use PyArray_SimpleNew.\n",
      "  hull, inside = ceclipse.graham_scan_inside_hull(front[sa], back)\n",
      "/home/kyle/.local/lib/python2.7/site-packages/phoebe/backend/eclipse.py:10: DeprecationWarning: PyArray_FromDimsAndDataAndDescr: use PyArray_NewFromDescr.\n",
      "  hull, inside = ceclipse.graham_scan_inside_hull(front[sa], back)\n",
      "/home/kyle/.local/lib/python2.7/site-packages/phoebe/backend/eclipse.py:10: DeprecationWarning: PyArray_FromDims: use PyArray_SimpleNew.\n",
      "  hull, inside = ceclipse.graham_scan_inside_hull(front[sa], back)\n",
      "/home/kyle/.local/lib/python2.7/site-packages/phoebe/backend/eclipse.py:10: DeprecationWarning: PyArray_FromDimsAndDataAndDescr: use PyArray_NewFromDescr.\n",
      "  hull, inside = ceclipse.graham_scan_inside_hull(front[sa], back)\n",
      "/home/kyle/.local/lib/python2.7/site-packages/phoebe/backend/eclipse.py:10: DeprecationWarning: PyArray_FromDims: use PyArray_SimpleNew.\n",
      "  hull, inside = ceclipse.graham_scan_inside_hull(front[sa], back)\n",
      "/home/kyle/.local/lib/python2.7/site-packages/phoebe/backend/eclipse.py:10: DeprecationWarning: PyArray_FromDimsAndDataAndDescr: use PyArray_NewFromDescr.\n",
      "  hull, inside = ceclipse.graham_scan_inside_hull(front[sa], back)\n",
      "/home/kyle/.local/lib/python2.7/site-packages/phoebe/backend/eclipse.py:10: DeprecationWarning: PyArray_FromDims: use PyArray_SimpleNew.\n",
      "  hull, inside = ceclipse.graham_scan_inside_hull(front[sa], back)\n",
      "/home/kyle/.local/lib/python2.7/site-packages/phoebe/backend/eclipse.py:10: DeprecationWarning: PyArray_FromDimsAndDataAndDescr: use PyArray_NewFromDescr.\n",
      "  hull, inside = ceclipse.graham_scan_inside_hull(front[sa], back)\n",
      "/home/kyle/.local/lib/python2.7/site-packages/phoebe/backend/eclipse.py:10: DeprecationWarning: PyArray_FromDims: use PyArray_SimpleNew.\n",
      "  hull, inside = ceclipse.graham_scan_inside_hull(front[sa], back)\n",
      "/home/kyle/.local/lib/python2.7/site-packages/phoebe/backend/eclipse.py:10: DeprecationWarning: PyArray_FromDimsAndDataAndDescr: use PyArray_NewFromDescr.\n",
      "  hull, inside = ceclipse.graham_scan_inside_hull(front[sa], back)\n",
      "/home/kyle/.local/lib/python2.7/site-packages/phoebe/backend/eclipse.py:10: DeprecationWarning: PyArray_FromDims: use PyArray_SimpleNew.\n",
      "  hull, inside = ceclipse.graham_scan_inside_hull(front[sa], back)\n",
      "/home/kyle/.local/lib/python2.7/site-packages/phoebe/backend/eclipse.py:10: DeprecationWarning: PyArray_FromDimsAndDataAndDescr: use PyArray_NewFromDescr.\n",
      "  hull, inside = ceclipse.graham_scan_inside_hull(front[sa], back)\n",
      "/home/kyle/.local/lib/python2.7/site-packages/phoebe/backend/eclipse.py:10: DeprecationWarning: PyArray_FromDims: use PyArray_SimpleNew.\n",
      "  hull, inside = ceclipse.graham_scan_inside_hull(front[sa], back)\n",
      "/home/kyle/.local/lib/python2.7/site-packages/phoebe/backend/eclipse.py:10: DeprecationWarning: PyArray_FromDimsAndDataAndDescr: use PyArray_NewFromDescr.\n",
      "  hull, inside = ceclipse.graham_scan_inside_hull(front[sa], back)\n",
      "/home/kyle/.local/lib/python2.7/site-packages/phoebe/backend/eclipse.py:10: DeprecationWarning: PyArray_FromDims: use PyArray_SimpleNew.\n",
      "  hull, inside = ceclipse.graham_scan_inside_hull(front[sa], back)\n",
      "/home/kyle/.local/lib/python2.7/site-packages/phoebe/backend/eclipse.py:10: DeprecationWarning: PyArray_FromDimsAndDataAndDescr: use PyArray_NewFromDescr.\n",
      "  hull, inside = ceclipse.graham_scan_inside_hull(front[sa], back)\n",
      "/home/kyle/.local/lib/python2.7/site-packages/phoebe/backend/eclipse.py:10: DeprecationWarning: PyArray_FromDims: use PyArray_SimpleNew.\n",
      "  hull, inside = ceclipse.graham_scan_inside_hull(front[sa], back)\n",
      "/home/kyle/.local/lib/python2.7/site-packages/phoebe/backend/eclipse.py:10: DeprecationWarning: PyArray_FromDimsAndDataAndDescr: use PyArray_NewFromDescr.\n",
      "  hull, inside = ceclipse.graham_scan_inside_hull(front[sa], back)\n",
      "/home/kyle/.local/lib/python2.7/site-packages/phoebe/backend/eclipse.py:10: DeprecationWarning: PyArray_FromDims: use PyArray_SimpleNew.\n",
      "  hull, inside = ceclipse.graham_scan_inside_hull(front[sa], back)\n",
      "/home/kyle/.local/lib/python2.7/site-packages/phoebe/backend/eclipse.py:10: DeprecationWarning: PyArray_FromDimsAndDataAndDescr: use PyArray_NewFromDescr.\n",
      "  hull, inside = ceclipse.graham_scan_inside_hull(front[sa], back)\n",
      "/home/kyle/.local/lib/python2.7/site-packages/phoebe/backend/eclipse.py:10: DeprecationWarning: PyArray_FromDims: use PyArray_SimpleNew.\n",
      "  hull, inside = ceclipse.graham_scan_inside_hull(front[sa], back)\n",
      "/home/kyle/.local/lib/python2.7/site-packages/phoebe/backend/eclipse.py:10: DeprecationWarning: PyArray_FromDimsAndDataAndDescr: use PyArray_NewFromDescr.\n",
      "  hull, inside = ceclipse.graham_scan_inside_hull(front[sa], back)\n",
      "/home/kyle/.local/lib/python2.7/site-packages/phoebe/backend/eclipse.py:10: DeprecationWarning: PyArray_FromDims: use PyArray_SimpleNew.\n",
      "  hull, inside = ceclipse.graham_scan_inside_hull(front[sa], back)\n",
      "/home/kyle/.local/lib/python2.7/site-packages/phoebe/backend/eclipse.py:10: DeprecationWarning: PyArray_FromDimsAndDataAndDescr: use PyArray_NewFromDescr.\n",
      "  hull, inside = ceclipse.graham_scan_inside_hull(front[sa], back)\n",
      "/home/kyle/.local/lib/python2.7/site-packages/phoebe/backend/eclipse.py:10: DeprecationWarning: PyArray_FromDims: use PyArray_SimpleNew.\n",
      "  hull, inside = ceclipse.graham_scan_inside_hull(front[sa], back)\n",
      "/home/kyle/.local/lib/python2.7/site-packages/phoebe/backend/eclipse.py:10: DeprecationWarning: PyArray_FromDimsAndDataAndDescr: use PyArray_NewFromDescr.\n",
      "  hull, inside = ceclipse.graham_scan_inside_hull(front[sa], back)\n",
      "/home/kyle/.local/lib/python2.7/site-packages/phoebe/backend/eclipse.py:10: DeprecationWarning: PyArray_FromDims: use PyArray_SimpleNew.\n",
      "  hull, inside = ceclipse.graham_scan_inside_hull(front[sa], back)\n",
      "/home/kyle/.local/lib/python2.7/site-packages/phoebe/backend/eclipse.py:10: DeprecationWarning: PyArray_FromDimsAndDataAndDescr: use PyArray_NewFromDescr.\n",
      "  hull, inside = ceclipse.graham_scan_inside_hull(front[sa], back)\n",
      "/home/kyle/.local/lib/python2.7/site-packages/phoebe/backend/eclipse.py:10: DeprecationWarning: PyArray_FromDims: use PyArray_SimpleNew.\n",
      "  hull, inside = ceclipse.graham_scan_inside_hull(front[sa], back)\n",
      "/home/kyle/.local/lib/python2.7/site-packages/phoebe/backend/eclipse.py:10: DeprecationWarning: PyArray_FromDimsAndDataAndDescr: use PyArray_NewFromDescr.\n",
      "  hull, inside = ceclipse.graham_scan_inside_hull(front[sa], back)\n",
      "/home/kyle/.local/lib/python2.7/site-packages/phoebe/backend/eclipse.py:10: DeprecationWarning: PyArray_FromDims: use PyArray_SimpleNew.\n",
      "  hull, inside = ceclipse.graham_scan_inside_hull(front[sa], back)\n",
      "/home/kyle/.local/lib/python2.7/site-packages/phoebe/backend/eclipse.py:10: DeprecationWarning: PyArray_FromDimsAndDataAndDescr: use PyArray_NewFromDescr.\n",
      "  hull, inside = ceclipse.graham_scan_inside_hull(front[sa], back)\n",
      "/home/kyle/.local/lib/python2.7/site-packages/phoebe/backend/eclipse.py:10: DeprecationWarning: PyArray_FromDims: use PyArray_SimpleNew.\n",
      "  hull, inside = ceclipse.graham_scan_inside_hull(front[sa], back)\n",
      "/home/kyle/.local/lib/python2.7/site-packages/phoebe/backend/eclipse.py:10: DeprecationWarning: PyArray_FromDimsAndDataAndDescr: use PyArray_NewFromDescr.\n",
      "  hull, inside = ceclipse.graham_scan_inside_hull(front[sa], back)\n",
      "/home/kyle/.local/lib/python2.7/site-packages/phoebe/backend/eclipse.py:10: DeprecationWarning: PyArray_FromDims: use PyArray_SimpleNew.\n",
      "  hull, inside = ceclipse.graham_scan_inside_hull(front[sa], back)\n",
      "/home/kyle/.local/lib/python2.7/site-packages/phoebe/backend/eclipse.py:10: DeprecationWarning: PyArray_FromDimsAndDataAndDescr: use PyArray_NewFromDescr.\n",
      "  hull, inside = ceclipse.graham_scan_inside_hull(front[sa], back)\n",
      "/home/kyle/.local/lib/python2.7/site-packages/phoebe/backend/eclipse.py:10: DeprecationWarning: PyArray_FromDims: use PyArray_SimpleNew.\n",
      "  hull, inside = ceclipse.graham_scan_inside_hull(front[sa], back)\n",
      "/home/kyle/.local/lib/python2.7/site-packages/phoebe/backend/eclipse.py:10: DeprecationWarning: PyArray_FromDimsAndDataAndDescr: use PyArray_NewFromDescr.\n",
      "  hull, inside = ceclipse.graham_scan_inside_hull(front[sa], back)\n",
      "/home/kyle/.local/lib/python2.7/site-packages/phoebe/backend/eclipse.py:10: DeprecationWarning: PyArray_FromDims: use PyArray_SimpleNew.\n",
      "  hull, inside = ceclipse.graham_scan_inside_hull(front[sa], back)\n",
      "/home/kyle/.local/lib/python2.7/site-packages/phoebe/backend/eclipse.py:10: DeprecationWarning: PyArray_FromDimsAndDataAndDescr: use PyArray_NewFromDescr.\n",
      "  hull, inside = ceclipse.graham_scan_inside_hull(front[sa], back)\n",
      "/home/kyle/.local/lib/python2.7/site-packages/phoebe/backend/eclipse.py:10: DeprecationWarning: PyArray_FromDims: use PyArray_SimpleNew.\n",
      "  hull, inside = ceclipse.graham_scan_inside_hull(front[sa], back)\n",
      "/home/kyle/.local/lib/python2.7/site-packages/phoebe/backend/eclipse.py:10: DeprecationWarning: PyArray_FromDimsAndDataAndDescr: use PyArray_NewFromDescr.\n",
      "  hull, inside = ceclipse.graham_scan_inside_hull(front[sa], back)\n",
      "/home/kyle/.local/lib/python2.7/site-packages/phoebe/backend/eclipse.py:10: DeprecationWarning: PyArray_FromDims: use PyArray_SimpleNew.\n",
      "  hull, inside = ceclipse.graham_scan_inside_hull(front[sa], back)\n",
      "/home/kyle/.local/lib/python2.7/site-packages/phoebe/backend/eclipse.py:10: DeprecationWarning: PyArray_FromDimsAndDataAndDescr: use PyArray_NewFromDescr.\n",
      "  hull, inside = ceclipse.graham_scan_inside_hull(front[sa], back)\n",
      "/home/kyle/.local/lib/python2.7/site-packages/phoebe/backend/eclipse.py:10: DeprecationWarning: PyArray_FromDims: use PyArray_SimpleNew.\n",
      "  hull, inside = ceclipse.graham_scan_inside_hull(front[sa], back)\n",
      "/home/kyle/.local/lib/python2.7/site-packages/phoebe/backend/eclipse.py:10: DeprecationWarning: PyArray_FromDimsAndDataAndDescr: use PyArray_NewFromDescr.\n",
      "  hull, inside = ceclipse.graham_scan_inside_hull(front[sa], back)\n",
      "/home/kyle/.local/lib/python2.7/site-packages/phoebe/backend/eclipse.py:10: DeprecationWarning: PyArray_FromDims: use PyArray_SimpleNew.\n",
      "  hull, inside = ceclipse.graham_scan_inside_hull(front[sa], back)\n",
      "/home/kyle/.local/lib/python2.7/site-packages/phoebe/backend/eclipse.py:10: DeprecationWarning: PyArray_FromDimsAndDataAndDescr: use PyArray_NewFromDescr.\n",
      "  hull, inside = ceclipse.graham_scan_inside_hull(front[sa], back)\n",
      "/home/kyle/.local/lib/python2.7/site-packages/phoebe/backend/eclipse.py:10: DeprecationWarning: PyArray_FromDims: use PyArray_SimpleNew.\n",
      "  hull, inside = ceclipse.graham_scan_inside_hull(front[sa], back)\n",
      "/home/kyle/.local/lib/python2.7/site-packages/phoebe/backend/eclipse.py:10: DeprecationWarning: PyArray_FromDimsAndDataAndDescr: use PyArray_NewFromDescr.\n",
      "  hull, inside = ceclipse.graham_scan_inside_hull(front[sa], back)\n",
      "/home/kyle/.local/lib/python2.7/site-packages/phoebe/backend/eclipse.py:10: DeprecationWarning: PyArray_FromDims: use PyArray_SimpleNew.\n",
      "  hull, inside = ceclipse.graham_scan_inside_hull(front[sa], back)\n",
      "/home/kyle/.local/lib/python2.7/site-packages/phoebe/backend/eclipse.py:10: DeprecationWarning: PyArray_FromDimsAndDataAndDescr: use PyArray_NewFromDescr.\n",
      "  hull, inside = ceclipse.graham_scan_inside_hull(front[sa], back)\n",
      "/home/kyle/.local/lib/python2.7/site-packages/phoebe/backend/eclipse.py:10: DeprecationWarning: PyArray_FromDims: use PyArray_SimpleNew.\n",
      "  hull, inside = ceclipse.graham_scan_inside_hull(front[sa], back)\n",
      "/home/kyle/.local/lib/python2.7/site-packages/phoebe/backend/eclipse.py:10: DeprecationWarning: PyArray_FromDimsAndDataAndDescr: use PyArray_NewFromDescr.\n",
      "  hull, inside = ceclipse.graham_scan_inside_hull(front[sa], back)\n",
      "/home/kyle/.local/lib/python2.7/site-packages/phoebe/backend/eclipse.py:10: DeprecationWarning: PyArray_FromDims: use PyArray_SimpleNew.\n",
      "  hull, inside = ceclipse.graham_scan_inside_hull(front[sa], back)\n",
      "/home/kyle/.local/lib/python2.7/site-packages/phoebe/backend/eclipse.py:10: DeprecationWarning: PyArray_FromDimsAndDataAndDescr: use PyArray_NewFromDescr.\n",
      "  hull, inside = ceclipse.graham_scan_inside_hull(front[sa], back)\n",
      "/home/kyle/.local/lib/python2.7/site-packages/phoebe/backend/eclipse.py:10: DeprecationWarning: PyArray_FromDims: use PyArray_SimpleNew.\n",
      "  hull, inside = ceclipse.graham_scan_inside_hull(front[sa], back)\n",
      "/home/kyle/.local/lib/python2.7/site-packages/phoebe/backend/eclipse.py:10: DeprecationWarning: PyArray_FromDimsAndDataAndDescr: use PyArray_NewFromDescr.\n",
      "  hull, inside = ceclipse.graham_scan_inside_hull(front[sa], back)\n",
      "/home/kyle/.local/lib/python2.7/site-packages/phoebe/backend/eclipse.py:10: DeprecationWarning: PyArray_FromDims: use PyArray_SimpleNew.\n",
      "  hull, inside = ceclipse.graham_scan_inside_hull(front[sa], back)\n",
      "/home/kyle/.local/lib/python2.7/site-packages/phoebe/backend/eclipse.py:10: DeprecationWarning: PyArray_FromDimsAndDataAndDescr: use PyArray_NewFromDescr.\n",
      "  hull, inside = ceclipse.graham_scan_inside_hull(front[sa], back)\n",
      "/home/kyle/.local/lib/python2.7/site-packages/phoebe/backend/eclipse.py:10: DeprecationWarning: PyArray_FromDims: use PyArray_SimpleNew.\n",
      "  hull, inside = ceclipse.graham_scan_inside_hull(front[sa], back)\n",
      "/home/kyle/.local/lib/python2.7/site-packages/phoebe/backend/eclipse.py:10: DeprecationWarning: PyArray_FromDimsAndDataAndDescr: use PyArray_NewFromDescr.\n",
      "  hull, inside = ceclipse.graham_scan_inside_hull(front[sa], back)\n",
      "/home/kyle/.local/lib/python2.7/site-packages/phoebe/backend/eclipse.py:10: DeprecationWarning: PyArray_FromDims: use PyArray_SimpleNew.\n",
      "  hull, inside = ceclipse.graham_scan_inside_hull(front[sa], back)\n",
      "/home/kyle/.local/lib/python2.7/site-packages/phoebe/backend/eclipse.py:10: DeprecationWarning: PyArray_FromDimsAndDataAndDescr: use PyArray_NewFromDescr.\n",
      "  hull, inside = ceclipse.graham_scan_inside_hull(front[sa], back)\n",
      "/home/kyle/.local/lib/python2.7/site-packages/phoebe/backend/eclipse.py:10: DeprecationWarning: PyArray_FromDims: use PyArray_SimpleNew.\n",
      "  hull, inside = ceclipse.graham_scan_inside_hull(front[sa], back)\n",
      "/home/kyle/.local/lib/python2.7/site-packages/phoebe/backend/eclipse.py:10: DeprecationWarning: PyArray_FromDimsAndDataAndDescr: use PyArray_NewFromDescr.\n",
      "  hull, inside = ceclipse.graham_scan_inside_hull(front[sa], back)\n",
      "/home/kyle/.local/lib/python2.7/site-packages/phoebe/backend/eclipse.py:10: DeprecationWarning: PyArray_FromDims: use PyArray_SimpleNew.\n",
      "  hull, inside = ceclipse.graham_scan_inside_hull(front[sa], back)\n",
      "/home/kyle/.local/lib/python2.7/site-packages/phoebe/backend/eclipse.py:10: DeprecationWarning: PyArray_FromDimsAndDataAndDescr: use PyArray_NewFromDescr.\n",
      "  hull, inside = ceclipse.graham_scan_inside_hull(front[sa], back)\n",
      "/home/kyle/.local/lib/python2.7/site-packages/phoebe/backend/eclipse.py:10: DeprecationWarning: PyArray_FromDims: use PyArray_SimpleNew.\n",
      "  hull, inside = ceclipse.graham_scan_inside_hull(front[sa], back)\n",
      "/home/kyle/.local/lib/python2.7/site-packages/phoebe/backend/eclipse.py:10: DeprecationWarning: PyArray_FromDimsAndDataAndDescr: use PyArray_NewFromDescr.\n",
      "  hull, inside = ceclipse.graham_scan_inside_hull(front[sa], back)\n",
      "/home/kyle/.local/lib/python2.7/site-packages/phoebe/backend/eclipse.py:10: DeprecationWarning: PyArray_FromDims: use PyArray_SimpleNew.\n",
      "  hull, inside = ceclipse.graham_scan_inside_hull(front[sa], back)\n",
      "/home/kyle/.local/lib/python2.7/site-packages/phoebe/backend/eclipse.py:10: DeprecationWarning: PyArray_FromDimsAndDataAndDescr: use PyArray_NewFromDescr.\n",
      "  hull, inside = ceclipse.graham_scan_inside_hull(front[sa], back)\n",
      "/home/kyle/.local/lib/python2.7/site-packages/phoebe/backend/eclipse.py:10: DeprecationWarning: PyArray_FromDims: use PyArray_SimpleNew.\n",
      "  hull, inside = ceclipse.graham_scan_inside_hull(front[sa], back)\n",
      "/home/kyle/.local/lib/python2.7/site-packages/phoebe/backend/eclipse.py:10: DeprecationWarning: PyArray_FromDimsAndDataAndDescr: use PyArray_NewFromDescr.\n",
      "  hull, inside = ceclipse.graham_scan_inside_hull(front[sa], back)\n",
      "/home/kyle/.local/lib/python2.7/site-packages/phoebe/backend/eclipse.py:10: DeprecationWarning: PyArray_FromDims: use PyArray_SimpleNew.\n",
      "  hull, inside = ceclipse.graham_scan_inside_hull(front[sa], back)\n",
      "/home/kyle/.local/lib/python2.7/site-packages/phoebe/backend/eclipse.py:10: DeprecationWarning: PyArray_FromDimsAndDataAndDescr: use PyArray_NewFromDescr.\n",
      "  hull, inside = ceclipse.graham_scan_inside_hull(front[sa], back)\n",
      "/home/kyle/.local/lib/python2.7/site-packages/phoebe/backend/eclipse.py:10: DeprecationWarning: PyArray_FromDims: use PyArray_SimpleNew.\n",
      "  hull, inside = ceclipse.graham_scan_inside_hull(front[sa], back)\n",
      "/home/kyle/.local/lib/python2.7/site-packages/phoebe/backend/eclipse.py:10: DeprecationWarning: PyArray_FromDimsAndDataAndDescr: use PyArray_NewFromDescr.\n",
      "  hull, inside = ceclipse.graham_scan_inside_hull(front[sa], back)\n",
      "/home/kyle/.local/lib/python2.7/site-packages/phoebe/backend/eclipse.py:10: DeprecationWarning: PyArray_FromDims: use PyArray_SimpleNew.\n",
      "  hull, inside = ceclipse.graham_scan_inside_hull(front[sa], back)\n",
      "/home/kyle/.local/lib/python2.7/site-packages/phoebe/backend/eclipse.py:10: DeprecationWarning: PyArray_FromDimsAndDataAndDescr: use PyArray_NewFromDescr.\n",
      "  hull, inside = ceclipse.graham_scan_inside_hull(front[sa], back)\n",
      "/home/kyle/.local/lib/python2.7/site-packages/phoebe/backend/eclipse.py:10: DeprecationWarning: PyArray_FromDims: use PyArray_SimpleNew.\n",
      "  hull, inside = ceclipse.graham_scan_inside_hull(front[sa], back)\n",
      "/home/kyle/.local/lib/python2.7/site-packages/phoebe/backend/eclipse.py:10: DeprecationWarning: PyArray_FromDimsAndDataAndDescr: use PyArray_NewFromDescr.\n",
      "  hull, inside = ceclipse.graham_scan_inside_hull(front[sa], back)\n",
      "/home/kyle/.local/lib/python2.7/site-packages/phoebe/backend/eclipse.py:10: DeprecationWarning: PyArray_FromDims: use PyArray_SimpleNew.\n",
      "  hull, inside = ceclipse.graham_scan_inside_hull(front[sa], back)\n",
      "/home/kyle/.local/lib/python2.7/site-packages/phoebe/backend/eclipse.py:10: DeprecationWarning: PyArray_FromDimsAndDataAndDescr: use PyArray_NewFromDescr.\n",
      "  hull, inside = ceclipse.graham_scan_inside_hull(front[sa], back)\n",
      "/home/kyle/.local/lib/python2.7/site-packages/phoebe/backend/eclipse.py:10: DeprecationWarning: PyArray_FromDims: use PyArray_SimpleNew.\n",
      "  hull, inside = ceclipse.graham_scan_inside_hull(front[sa], back)\n",
      "/home/kyle/.local/lib/python2.7/site-packages/phoebe/backend/eclipse.py:10: DeprecationWarning: PyArray_FromDimsAndDataAndDescr: use PyArray_NewFromDescr.\n",
      "  hull, inside = ceclipse.graham_scan_inside_hull(front[sa], back)\n",
      "/home/kyle/.local/lib/python2.7/site-packages/phoebe/backend/eclipse.py:10: DeprecationWarning: PyArray_FromDims: use PyArray_SimpleNew.\n",
      "  hull, inside = ceclipse.graham_scan_inside_hull(front[sa], back)\n",
      "/home/kyle/.local/lib/python2.7/site-packages/phoebe/backend/eclipse.py:10: DeprecationWarning: PyArray_FromDimsAndDataAndDescr: use PyArray_NewFromDescr.\n",
      "  hull, inside = ceclipse.graham_scan_inside_hull(front[sa], back)\n",
      "/home/kyle/.local/lib/python2.7/site-packages/phoebe/backend/eclipse.py:10: DeprecationWarning: PyArray_FromDims: use PyArray_SimpleNew.\n",
      "  hull, inside = ceclipse.graham_scan_inside_hull(front[sa], back)\n",
      "/home/kyle/.local/lib/python2.7/site-packages/phoebe/backend/eclipse.py:10: DeprecationWarning: PyArray_FromDimsAndDataAndDescr: use PyArray_NewFromDescr.\n",
      "  hull, inside = ceclipse.graham_scan_inside_hull(front[sa], back)\n",
      "/home/kyle/.local/lib/python2.7/site-packages/phoebe/backend/eclipse.py:10: DeprecationWarning: PyArray_FromDims: use PyArray_SimpleNew.\n",
      "  hull, inside = ceclipse.graham_scan_inside_hull(front[sa], back)\n",
      "/home/kyle/.local/lib/python2.7/site-packages/phoebe/backend/eclipse.py:10: DeprecationWarning: PyArray_FromDimsAndDataAndDescr: use PyArray_NewFromDescr.\n",
      "  hull, inside = ceclipse.graham_scan_inside_hull(front[sa], back)\n",
      "/home/kyle/.local/lib/python2.7/site-packages/phoebe/backend/eclipse.py:10: DeprecationWarning: PyArray_FromDims: use PyArray_SimpleNew.\n",
      "  hull, inside = ceclipse.graham_scan_inside_hull(front[sa], back)\n",
      "/home/kyle/.local/lib/python2.7/site-packages/phoebe/backend/eclipse.py:10: DeprecationWarning: PyArray_FromDimsAndDataAndDescr: use PyArray_NewFromDescr.\n",
      "  hull, inside = ceclipse.graham_scan_inside_hull(front[sa], back)\n",
      "/home/kyle/.local/lib/python2.7/site-packages/phoebe/backend/eclipse.py:10: DeprecationWarning: PyArray_FromDims: use PyArray_SimpleNew.\n",
      "  hull, inside = ceclipse.graham_scan_inside_hull(front[sa], back)\n",
      "/home/kyle/.local/lib/python2.7/site-packages/phoebe/backend/eclipse.py:10: DeprecationWarning: PyArray_FromDimsAndDataAndDescr: use PyArray_NewFromDescr.\n",
      "  hull, inside = ceclipse.graham_scan_inside_hull(front[sa], back)\n",
      "/home/kyle/.local/lib/python2.7/site-packages/phoebe/backend/eclipse.py:10: DeprecationWarning: PyArray_FromDims: use PyArray_SimpleNew.\n",
      "  hull, inside = ceclipse.graham_scan_inside_hull(front[sa], back)\n",
      "/home/kyle/.local/lib/python2.7/site-packages/phoebe/backend/eclipse.py:10: DeprecationWarning: PyArray_FromDimsAndDataAndDescr: use PyArray_NewFromDescr.\n",
      "  hull, inside = ceclipse.graham_scan_inside_hull(front[sa], back)\n",
      "/home/kyle/.local/lib/python2.7/site-packages/phoebe/backend/eclipse.py:10: DeprecationWarning: PyArray_FromDims: use PyArray_SimpleNew.\n",
      "  hull, inside = ceclipse.graham_scan_inside_hull(front[sa], back)\n",
      "/home/kyle/.local/lib/python2.7/site-packages/phoebe/backend/eclipse.py:10: DeprecationWarning: PyArray_FromDimsAndDataAndDescr: use PyArray_NewFromDescr.\n",
      "  hull, inside = ceclipse.graham_scan_inside_hull(front[sa], back)\n",
      "/home/kyle/.local/lib/python2.7/site-packages/phoebe/backend/eclipse.py:10: DeprecationWarning: PyArray_FromDims: use PyArray_SimpleNew.\n",
      "  hull, inside = ceclipse.graham_scan_inside_hull(front[sa], back)\n",
      "/home/kyle/.local/lib/python2.7/site-packages/phoebe/backend/eclipse.py:10: DeprecationWarning: PyArray_FromDimsAndDataAndDescr: use PyArray_NewFromDescr.\n",
      "  hull, inside = ceclipse.graham_scan_inside_hull(front[sa], back)\n",
      "/home/kyle/.local/lib/python2.7/site-packages/phoebe/backend/eclipse.py:10: DeprecationWarning: PyArray_FromDims: use PyArray_SimpleNew.\n",
      "  hull, inside = ceclipse.graham_scan_inside_hull(front[sa], back)\n",
      "/home/kyle/.local/lib/python2.7/site-packages/phoebe/backend/eclipse.py:10: DeprecationWarning: PyArray_FromDimsAndDataAndDescr: use PyArray_NewFromDescr.\n",
      "  hull, inside = ceclipse.graham_scan_inside_hull(front[sa], back)\n",
      "/home/kyle/.local/lib/python2.7/site-packages/phoebe/backend/eclipse.py:10: DeprecationWarning: PyArray_FromDims: use PyArray_SimpleNew.\n",
      "  hull, inside = ceclipse.graham_scan_inside_hull(front[sa], back)\n",
      "/home/kyle/.local/lib/python2.7/site-packages/phoebe/backend/eclipse.py:10: DeprecationWarning: PyArray_FromDimsAndDataAndDescr: use PyArray_NewFromDescr.\n",
      "  hull, inside = ceclipse.graham_scan_inside_hull(front[sa], back)\n",
      "/home/kyle/.local/lib/python2.7/site-packages/phoebe/backend/eclipse.py:10: DeprecationWarning: PyArray_FromDims: use PyArray_SimpleNew.\n",
      "  hull, inside = ceclipse.graham_scan_inside_hull(front[sa], back)\n",
      "/home/kyle/.local/lib/python2.7/site-packages/phoebe/backend/eclipse.py:10: DeprecationWarning: PyArray_FromDimsAndDataAndDescr: use PyArray_NewFromDescr.\n",
      "  hull, inside = ceclipse.graham_scan_inside_hull(front[sa], back)\n",
      "/home/kyle/.local/lib/python2.7/site-packages/phoebe/backend/eclipse.py:10: DeprecationWarning: PyArray_FromDims: use PyArray_SimpleNew.\n",
      "  hull, inside = ceclipse.graham_scan_inside_hull(front[sa], back)\n",
      "/home/kyle/.local/lib/python2.7/site-packages/phoebe/backend/eclipse.py:10: DeprecationWarning: PyArray_FromDimsAndDataAndDescr: use PyArray_NewFromDescr.\n",
      "  hull, inside = ceclipse.graham_scan_inside_hull(front[sa], back)\n",
      "/home/kyle/.local/lib/python2.7/site-packages/phoebe/backend/eclipse.py:10: DeprecationWarning: PyArray_FromDims: use PyArray_SimpleNew.\n",
      "  hull, inside = ceclipse.graham_scan_inside_hull(front[sa], back)\n",
      "/home/kyle/.local/lib/python2.7/site-packages/phoebe/backend/eclipse.py:10: DeprecationWarning: PyArray_FromDimsAndDataAndDescr: use PyArray_NewFromDescr.\n",
      "  hull, inside = ceclipse.graham_scan_inside_hull(front[sa], back)\n",
      "/home/kyle/.local/lib/python2.7/site-packages/phoebe/backend/eclipse.py:10: DeprecationWarning: PyArray_FromDims: use PyArray_SimpleNew.\n",
      "  hull, inside = ceclipse.graham_scan_inside_hull(front[sa], back)\n",
      "/home/kyle/.local/lib/python2.7/site-packages/phoebe/backend/eclipse.py:10: DeprecationWarning: PyArray_FromDimsAndDataAndDescr: use PyArray_NewFromDescr.\n",
      "  hull, inside = ceclipse.graham_scan_inside_hull(front[sa], back)\n",
      "/home/kyle/.local/lib/python2.7/site-packages/phoebe/backend/eclipse.py:10: DeprecationWarning: PyArray_FromDims: use PyArray_SimpleNew.\n",
      "  hull, inside = ceclipse.graham_scan_inside_hull(front[sa], back)\n",
      "/home/kyle/.local/lib/python2.7/site-packages/phoebe/backend/eclipse.py:10: DeprecationWarning: PyArray_FromDimsAndDataAndDescr: use PyArray_NewFromDescr.\n",
      "  hull, inside = ceclipse.graham_scan_inside_hull(front[sa], back)\n",
      "/home/kyle/.local/lib/python2.7/site-packages/phoebe/backend/eclipse.py:10: DeprecationWarning: PyArray_FromDims: use PyArray_SimpleNew.\n",
      "  hull, inside = ceclipse.graham_scan_inside_hull(front[sa], back)\n",
      "/home/kyle/.local/lib/python2.7/site-packages/phoebe/backend/eclipse.py:10: DeprecationWarning: PyArray_FromDimsAndDataAndDescr: use PyArray_NewFromDescr.\n",
      "  hull, inside = ceclipse.graham_scan_inside_hull(front[sa], back)\n",
      "/home/kyle/.local/lib/python2.7/site-packages/phoebe/backend/eclipse.py:10: DeprecationWarning: PyArray_FromDims: use PyArray_SimpleNew.\n",
      "  hull, inside = ceclipse.graham_scan_inside_hull(front[sa], back)\n",
      "/home/kyle/.local/lib/python2.7/site-packages/phoebe/backend/eclipse.py:10: DeprecationWarning: PyArray_FromDimsAndDataAndDescr: use PyArray_NewFromDescr.\n",
      "  hull, inside = ceclipse.graham_scan_inside_hull(front[sa], back)\n",
      "/home/kyle/.local/lib/python2.7/site-packages/phoebe/backend/eclipse.py:10: DeprecationWarning: PyArray_FromDims: use PyArray_SimpleNew.\n",
      "  hull, inside = ceclipse.graham_scan_inside_hull(front[sa], back)\n",
      "/home/kyle/.local/lib/python2.7/site-packages/phoebe/backend/eclipse.py:10: DeprecationWarning: PyArray_FromDimsAndDataAndDescr: use PyArray_NewFromDescr.\n",
      "  hull, inside = ceclipse.graham_scan_inside_hull(front[sa], back)\n",
      "/home/kyle/.local/lib/python2.7/site-packages/phoebe/backend/eclipse.py:10: DeprecationWarning: PyArray_FromDims: use PyArray_SimpleNew.\n",
      "  hull, inside = ceclipse.graham_scan_inside_hull(front[sa], back)\n",
      "/home/kyle/.local/lib/python2.7/site-packages/phoebe/backend/eclipse.py:10: DeprecationWarning: PyArray_FromDimsAndDataAndDescr: use PyArray_NewFromDescr.\n",
      "  hull, inside = ceclipse.graham_scan_inside_hull(front[sa], back)\n",
      "/home/kyle/.local/lib/python2.7/site-packages/phoebe/backend/eclipse.py:10: DeprecationWarning: PyArray_FromDims: use PyArray_SimpleNew.\n",
      "  hull, inside = ceclipse.graham_scan_inside_hull(front[sa], back)\n",
      "/home/kyle/.local/lib/python2.7/site-packages/phoebe/backend/eclipse.py:10: DeprecationWarning: PyArray_FromDimsAndDataAndDescr: use PyArray_NewFromDescr.\n",
      "  hull, inside = ceclipse.graham_scan_inside_hull(front[sa], back)\n",
      "/home/kyle/.local/lib/python2.7/site-packages/phoebe/backend/eclipse.py:10: DeprecationWarning: PyArray_FromDims: use PyArray_SimpleNew.\n",
      "  hull, inside = ceclipse.graham_scan_inside_hull(front[sa], back)\n",
      "/home/kyle/.local/lib/python2.7/site-packages/phoebe/backend/eclipse.py:10: DeprecationWarning: PyArray_FromDimsAndDataAndDescr: use PyArray_NewFromDescr.\n",
      "  hull, inside = ceclipse.graham_scan_inside_hull(front[sa], back)\n",
      "/home/kyle/.local/lib/python2.7/site-packages/phoebe/backend/eclipse.py:10: DeprecationWarning: PyArray_FromDims: use PyArray_SimpleNew.\n",
      "  hull, inside = ceclipse.graham_scan_inside_hull(front[sa], back)\n",
      "/home/kyle/.local/lib/python2.7/site-packages/phoebe/backend/eclipse.py:10: DeprecationWarning: PyArray_FromDimsAndDataAndDescr: use PyArray_NewFromDescr.\n",
      "  hull, inside = ceclipse.graham_scan_inside_hull(front[sa], back)\n",
      "/home/kyle/.local/lib/python2.7/site-packages/phoebe/backend/eclipse.py:10: DeprecationWarning: PyArray_FromDims: use PyArray_SimpleNew.\n",
      "  hull, inside = ceclipse.graham_scan_inside_hull(front[sa], back)\n",
      "/home/kyle/.local/lib/python2.7/site-packages/phoebe/backend/eclipse.py:10: DeprecationWarning: PyArray_FromDimsAndDataAndDescr: use PyArray_NewFromDescr.\n",
      "  hull, inside = ceclipse.graham_scan_inside_hull(front[sa], back)\n",
      "/home/kyle/.local/lib/python2.7/site-packages/phoebe/backend/eclipse.py:10: DeprecationWarning: PyArray_FromDims: use PyArray_SimpleNew.\n",
      "  hull, inside = ceclipse.graham_scan_inside_hull(front[sa], back)\n",
      "/home/kyle/.local/lib/python2.7/site-packages/phoebe/backend/eclipse.py:10: DeprecationWarning: PyArray_FromDimsAndDataAndDescr: use PyArray_NewFromDescr.\n",
      "  hull, inside = ceclipse.graham_scan_inside_hull(front[sa], back)\n",
      "/home/kyle/.local/lib/python2.7/site-packages/phoebe/backend/eclipse.py:10: DeprecationWarning: PyArray_FromDims: use PyArray_SimpleNew.\n",
      "  hull, inside = ceclipse.graham_scan_inside_hull(front[sa], back)\n",
      "/home/kyle/.local/lib/python2.7/site-packages/phoebe/backend/eclipse.py:10: DeprecationWarning: PyArray_FromDimsAndDataAndDescr: use PyArray_NewFromDescr.\n",
      "  hull, inside = ceclipse.graham_scan_inside_hull(front[sa], back)\n",
      "/home/kyle/.local/lib/python2.7/site-packages/phoebe/backend/eclipse.py:10: DeprecationWarning: PyArray_FromDims: use PyArray_SimpleNew.\n",
      "  hull, inside = ceclipse.graham_scan_inside_hull(front[sa], back)\n",
      "/home/kyle/.local/lib/python2.7/site-packages/phoebe/backend/eclipse.py:10: DeprecationWarning: PyArray_FromDimsAndDataAndDescr: use PyArray_NewFromDescr.\n",
      "  hull, inside = ceclipse.graham_scan_inside_hull(front[sa], back)\n",
      "/home/kyle/.local/lib/python2.7/site-packages/phoebe/backend/eclipse.py:10: DeprecationWarning: PyArray_FromDims: use PyArray_SimpleNew.\n",
      "  hull, inside = ceclipse.graham_scan_inside_hull(front[sa], back)\n",
      "/home/kyle/.local/lib/python2.7/site-packages/phoebe/backend/eclipse.py:10: DeprecationWarning: PyArray_FromDimsAndDataAndDescr: use PyArray_NewFromDescr.\n",
      "  hull, inside = ceclipse.graham_scan_inside_hull(front[sa], back)\n",
      "/home/kyle/.local/lib/python2.7/site-packages/phoebe/backend/eclipse.py:10: DeprecationWarning: PyArray_FromDims: use PyArray_SimpleNew.\n",
      "  hull, inside = ceclipse.graham_scan_inside_hull(front[sa], back)\n",
      "/home/kyle/.local/lib/python2.7/site-packages/phoebe/backend/eclipse.py:10: DeprecationWarning: PyArray_FromDimsAndDataAndDescr: use PyArray_NewFromDescr.\n",
      "  hull, inside = ceclipse.graham_scan_inside_hull(front[sa], back)\n",
      "/home/kyle/.local/lib/python2.7/site-packages/phoebe/backend/eclipse.py:10: DeprecationWarning: PyArray_FromDims: use PyArray_SimpleNew.\n",
      "  hull, inside = ceclipse.graham_scan_inside_hull(front[sa], back)\n",
      "/home/kyle/.local/lib/python2.7/site-packages/phoebe/backend/eclipse.py:10: DeprecationWarning: PyArray_FromDimsAndDataAndDescr: use PyArray_NewFromDescr.\n",
      "  hull, inside = ceclipse.graham_scan_inside_hull(front[sa], back)\n",
      "/home/kyle/.local/lib/python2.7/site-packages/phoebe/backend/eclipse.py:10: DeprecationWarning: PyArray_FromDims: use PyArray_SimpleNew.\n",
      "  hull, inside = ceclipse.graham_scan_inside_hull(front[sa], back)\n",
      "/home/kyle/.local/lib/python2.7/site-packages/phoebe/backend/eclipse.py:10: DeprecationWarning: PyArray_FromDimsAndDataAndDescr: use PyArray_NewFromDescr.\n",
      "  hull, inside = ceclipse.graham_scan_inside_hull(front[sa], back)\n",
      "/home/kyle/.local/lib/python2.7/site-packages/phoebe/backend/eclipse.py:10: DeprecationWarning: PyArray_FromDims: use PyArray_SimpleNew.\n",
      "  hull, inside = ceclipse.graham_scan_inside_hull(front[sa], back)\n",
      "/home/kyle/.local/lib/python2.7/site-packages/phoebe/backend/eclipse.py:10: DeprecationWarning: PyArray_FromDimsAndDataAndDescr: use PyArray_NewFromDescr.\n",
      "  hull, inside = ceclipse.graham_scan_inside_hull(front[sa], back)\n",
      "/home/kyle/.local/lib/python2.7/site-packages/phoebe/backend/eclipse.py:10: DeprecationWarning: PyArray_FromDims: use PyArray_SimpleNew.\n",
      "  hull, inside = ceclipse.graham_scan_inside_hull(front[sa], back)\n",
      "/home/kyle/.local/lib/python2.7/site-packages/phoebe/backend/eclipse.py:10: DeprecationWarning: PyArray_FromDimsAndDataAndDescr: use PyArray_NewFromDescr.\n",
      "  hull, inside = ceclipse.graham_scan_inside_hull(front[sa], back)\n",
      "/home/kyle/.local/lib/python2.7/site-packages/phoebe/backend/eclipse.py:10: DeprecationWarning: PyArray_FromDims: use PyArray_SimpleNew.\n",
      "  hull, inside = ceclipse.graham_scan_inside_hull(front[sa], back)\n",
      "/home/kyle/.local/lib/python2.7/site-packages/phoebe/backend/eclipse.py:10: DeprecationWarning: PyArray_FromDimsAndDataAndDescr: use PyArray_NewFromDescr.\n",
      "  hull, inside = ceclipse.graham_scan_inside_hull(front[sa], back)\n",
      "/home/kyle/.local/lib/python2.7/site-packages/phoebe/backend/eclipse.py:10: DeprecationWarning: PyArray_FromDims: use PyArray_SimpleNew.\n",
      "  hull, inside = ceclipse.graham_scan_inside_hull(front[sa], back)\n",
      "/home/kyle/.local/lib/python2.7/site-packages/phoebe/backend/eclipse.py:10: DeprecationWarning: PyArray_FromDimsAndDataAndDescr: use PyArray_NewFromDescr.\n",
      "  hull, inside = ceclipse.graham_scan_inside_hull(front[sa], back)\n",
      "/home/kyle/.local/lib/python2.7/site-packages/phoebe/backend/eclipse.py:10: DeprecationWarning: PyArray_FromDims: use PyArray_SimpleNew.\n",
      "  hull, inside = ceclipse.graham_scan_inside_hull(front[sa], back)\n",
      "/home/kyle/.local/lib/python2.7/site-packages/phoebe/backend/eclipse.py:10: DeprecationWarning: PyArray_FromDimsAndDataAndDescr: use PyArray_NewFromDescr.\n",
      "  hull, inside = ceclipse.graham_scan_inside_hull(front[sa], back)\n",
      "/home/kyle/.local/lib/python2.7/site-packages/phoebe/backend/eclipse.py:10: DeprecationWarning: PyArray_FromDims: use PyArray_SimpleNew.\n",
      "  hull, inside = ceclipse.graham_scan_inside_hull(front[sa], back)\n",
      "/home/kyle/.local/lib/python2.7/site-packages/phoebe/backend/eclipse.py:10: DeprecationWarning: PyArray_FromDimsAndDataAndDescr: use PyArray_NewFromDescr.\n",
      "  hull, inside = ceclipse.graham_scan_inside_hull(front[sa], back)\n",
      "/home/kyle/.local/lib/python2.7/site-packages/phoebe/backend/eclipse.py:10: DeprecationWarning: PyArray_FromDims: use PyArray_SimpleNew.\n",
      "  hull, inside = ceclipse.graham_scan_inside_hull(front[sa], back)\n",
      "/home/kyle/.local/lib/python2.7/site-packages/phoebe/backend/eclipse.py:10: DeprecationWarning: PyArray_FromDimsAndDataAndDescr: use PyArray_NewFromDescr.\n",
      "  hull, inside = ceclipse.graham_scan_inside_hull(front[sa], back)\n",
      "/home/kyle/.local/lib/python2.7/site-packages/phoebe/backend/eclipse.py:10: DeprecationWarning: PyArray_FromDims: use PyArray_SimpleNew.\n",
      "  hull, inside = ceclipse.graham_scan_inside_hull(front[sa], back)\n",
      "/home/kyle/.local/lib/python2.7/site-packages/phoebe/backend/eclipse.py:10: DeprecationWarning: PyArray_FromDimsAndDataAndDescr: use PyArray_NewFromDescr.\n",
      "  hull, inside = ceclipse.graham_scan_inside_hull(front[sa], back)\n"
     ]
    },
    {
     "data": {
      "text/plain": [
       "<ParameterSet: 844 parameters | methods: RV, MESH, LC>"
      ]
     },
     "execution_count": 10,
     "metadata": {},
     "output_type": "execute_result"
    }
   ],
   "source": [
    "b.run_compute(compute='mycompute', model='boosting_none')"
   ]
  },
  {
   "cell_type": "code",
   "execution_count": 11,
   "metadata": {
    "collapsed": true
   },
   "outputs": [],
   "source": [
    "# TODO: run other models once boosting is fully-supported"
   ]
  },
  {
   "cell_type": "code",
   "execution_count": 12,
   "metadata": {
    "collapsed": false
   },
   "outputs": [
    {
     "data": {
      "image/png": "[encoded data removed]",
      "text/plain": [
       "<matplotlib.figure.Figure at 0x7f0e33c00c50>"
      ]
     },
     "metadata": {},
     "output_type": "display_data"
    }
   ],
   "source": [
    "axs, artists = b['lc01@boosting_none'].plot()"
   ]
  },
  {
   "cell_type": "markdown",
   "metadata": {},
   "source": [
    "Influence on Radial Velocities\n",
    "---------------------"
   ]
  },
  {
   "cell_type": "code",
   "execution_count": 13,
   "metadata": {
    "collapsed": false
   },
   "outputs": [
    {
     "data": {
      "image/png": "[encoded data removed]",
      "text/plain": [
       "<matplotlib.figure.Figure at 0x7f0e33c83dd0>"
      ]
     },
     "metadata": {},
     "output_type": "display_data"
    }
   ],
   "source": [
    "fig = plt.figure(figsize=(10,6))\n",
    "ax1, ax2 = fig.add_subplot(121), fig.add_subplot(122)\n",
    "\n",
    "axs, artists = b['rv01@boosting_none'].plot(ax=ax1)"
   ]
  },
  {
   "cell_type": "markdown",
   "metadata": {},
   "source": [
    "Influence on Meshes\n",
    "-------------------------"
   ]
  },
  {
   "cell_type": "code",
   "execution_count": 14,
   "metadata": {
    "collapsed": false
   },
   "outputs": [
    {
     "name": "stderr",
     "output_type": "stream",
     "text": [
      "/home/kyle/.local/lib/python2.7/site-packages/phoebe/frontend/plotting.py:240: FutureWarning: elementwise comparison failed; returning scalar instead, but in the future will perform elementwise comparison\n",
      "  if pckwargs['edgecolors'] in ['none', 'None', None] and pckwargs['facecolors'] not in ['none', 'None', None]:\n",
      "/home/kyle/.local/lib/python2.7/site-packages/phoebe/frontend/plotting.py:240: FutureWarning: comparison to `None` will result in an elementwise object comparison in the future.\n",
      "  if pckwargs['edgecolors'] in ['none', 'None', None] and pckwargs['facecolors'] not in ['none', 'None', None]:\n",
      "/usr/local/lib/python2.7/dist-packages/matplotlib/collections.py:590: FutureWarning: elementwise comparison failed; returning scalar instead, but in the future will perform elementwise comparison\n",
      "  if self._edgecolors == str('face'):\n"
     ]
    },
    {
     "data": {
      "image/png": "[encoded data removed]",
      "text/plain": [
       "<matplotlib.figure.Figure at 0x7f0e33c44d90>"
      ]
     },
     "metadata": {},
     "output_type": "display_data"
    }
   ],
   "source": [
    "fig = plt.figure(figsize=(10,6))\n",
    "ax1, ax2 = fig.add_subplot(121), fig.add_subplot(122)\n",
    "\n",
    "axs, artists = b['MESH@boosting_none'].plot(time=0.6, facecolor='ampl_boost@lc01', edgecolor=None, ax=ax1)"
   ]
  }
 ],
 "metadata": {
  "kernelspec": {
   "display_name": "Python 2",
   "language": "python",
   "name": "python2"
  },
  "language_info": {
   "codemirror_mode": {
    "name": "ipython",
    "version": 2
   },
   "file_extension": ".py",
   "mimetype": "text/x-python",
   "name": "python",
   "nbconvert_exporter": "python",
   "pygments_lexer": "ipython2",
   "version": "2.7.11+"
  }
 },
 "nbformat": 4,
 "nbformat_minor": 0
}
